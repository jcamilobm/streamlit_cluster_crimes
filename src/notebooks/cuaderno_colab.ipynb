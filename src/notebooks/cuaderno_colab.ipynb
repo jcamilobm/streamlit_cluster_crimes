{
  "cells": [
    {
      "cell_type": "markdown",
      "metadata": {
        "id": "_slKLrvVGmZ2"
      },
      "source": [
        "# Librerías"
      ]
    },
    {
      "cell_type": "code",
      "execution_count": 733,
      "metadata": {
        "id": "HVXQnr0dM3db"
      },
      "outputs": [],
      "source": [
        "import warnings\n",
        "\n",
        "\n",
        "# 📌 Operaciones matemáticas y matrices eficientes\n",
        "import numpy as np\n",
        "\n",
        "# 📌 Manejo y análisis de datos tabulares\n",
        "import pandas as pd\n",
        "# Ignorar las advertencias de tipo DtypeWarning\n",
        "warnings.filterwarnings(\"ignore\", category=pd.errors.DtypeWarning)\n",
        "\n",
        "# 📌 Crear gráficos y visualizaciones personalizadas\n",
        "import matplotlib.pyplot as plt\n",
        "\n",
        "# 📌 Gráficos estadísticos con mejor estilo\n",
        "import seaborn as sns\n",
        "\n",
        "# 📌 Escalar datos entre 0 y 1 (Normalización)\n",
        "from sklearn.preprocessing import MinMaxScaler\n",
        "\n",
        "# 📌 Estandarizar datos con media 0, varianza 1\n",
        "from sklearn.preprocessing import StandardScaler\n",
        "\n",
        "from sklearn.preprocessing import RobustScaler\n",
        "\n",
        "# 📌 Algoritmo de clustering no supervisado\n",
        "from sklearn.cluster import KMeans\n",
        "\n",
        "# 📌 Manejo de datos espaciales con Pandas\n",
        "import geopandas as gpd\n",
        "\n",
        "# 📌 Crear mapas interactivos con Leaflet.js\n",
        "import folium\n",
        "\n",
        "# 📌 Agregar botón de pantalla completa en mapas\n",
        "from folium.plugins import Fullscreen\n",
        "\n",
        "# 📌 Mostrar elementos interactivos en Jupyter/Colab\n",
        "from IPython.display import display\n",
        "\n",
        "# 📌 Personalizar tamaño y estructura del mapa\n",
        "from branca.element import Figure\n"
      ]
    },
    {
      "cell_type": "markdown",
      "metadata": {
        "id": "8YYV2YlrV3Tl"
      },
      "source": [
        "# Funciones auxiliares"
      ]
    },
    {
      "cell_type": "code",
      "execution_count": 734,
      "metadata": {
        "id": "eaXALMooV6zO"
      },
      "outputs": [],
      "source": [
        "def plot_inertia( data , i = 10):\n",
        "   # 1. Write a loop to fit K-Means Clustering models with 2 to i clusters\n",
        "\n",
        "    # create an empty list to hold many inertia values\n",
        "    inertia_values = []\n",
        "\n",
        "    # create 2 - i clusters, and add the intertia scores to the list\n",
        "    for k in range(2, i):\n",
        "        kmeans = KMeans(n_clusters=k, n_init=20, random_state=42)\n",
        "        kmeans.fit(data)\n",
        "        inertia_values.append(kmeans.inertia_)\n",
        "\n",
        "    # 2. Create a plot with the number of clusters on the x-axis and the inertia on the y-axis\n",
        "\n",
        "    # turn the list into a series for plotting\n",
        "    inertia_series = pd.Series(inertia_values, index=range(2, i))\n",
        "\n",
        "    # plot the data\n",
        "    inertia_series.plot(marker='o')\n",
        "    plt.xlabel(\"Number of Clusters (k)\")\n",
        "    plt.ylabel(\"Inertia\")\n",
        "    plt.title(\"Number of Clusters vs. Inertia\");"
      ]
    },
    {
      "cell_type": "code",
      "execution_count": 735,
      "metadata": {
        "id": "xSjW9zthWBeu"
      },
      "outputs": [],
      "source": [
        "def plot_heatmap_clusters_kmeans(  data , model_kmeans):\n",
        "  # Graficar un mapa de calor para interpretar los centros de los clusters del algortimo KMEANS\n",
        "  centroids_df = pd.DataFrame(model_kmeans.cluster_centers_, columns = data.columns)\n",
        "  plt.figure(figsize=(10, 2))\n",
        "  sns.heatmap(centroids_df , cmap='RdBu', annot=True , fmt=\".2f\", linewidths=.5);"
      ]
    },
    {
      "cell_type": "code",
      "execution_count": 736,
      "metadata": {
        "id": "Ce-Ns-uzWDz3"
      },
      "outputs": [],
      "source": [
        "def tabla_frecuencias_labels(labels):\n",
        "\n",
        "  # Dado los labels del algortimo de clustering devuelve una tabla con frecuencias y % de cada cluster\n",
        "\n",
        "  cluster_sizes = pd.Series(labels).value_counts()\n",
        "  cluster_percentages = pd.Series(labels).value_counts(normalize=True) * 100\n",
        "\n",
        "  # Crear una tabla de frecuencias y pesos porcentuales\n",
        "  cluster_summary = pd.DataFrame({\n",
        "      'Tamaño del Clúster': cluster_sizes,\n",
        "      'Peso (%)': cluster_percentages\n",
        "  })\n",
        "\n",
        "  return cluster_summary"
      ]
    },
    {
      "cell_type": "code",
      "execution_count": 737,
      "metadata": {
        "id": "ICp9KU5GWFhY"
      },
      "outputs": [],
      "source": [
        "def plot_dendograma(model_df_scaled, valor_corte ):\n",
        "  # Crear la matriz de enlace utilizando el método 'ward'\n",
        "  linkage_matrix = linkage(model_df_scaled, method='ward')\n",
        "\n",
        "  # Crear el dendrograma con color_threshold especificado\n",
        "  color_threshold_value = valor_corte\n",
        "  dendrogram_info = dendrogram(linkage_matrix, color_threshold=color_threshold_value)\n",
        "\n",
        "  # Añadir una línea horizontal para indicar el color_threshold\n",
        "  plt.axhline(y=color_threshold_value, color='b', linestyle='--')\n",
        "\n",
        "  # Ajustar el título y las etiquetas\n",
        "  plt.title(\"Hierarchical Clustering Dendrogram\")\n",
        "  plt.xlabel(\"Data Points\")\n",
        "  plt.ylabel(\"Euclidean Distance\")\n",
        "  plt.show()"
      ]
    },
    {
      "cell_type": "code",
      "execution_count": 738,
      "metadata": {
        "id": "hJeN-YWrWHRf"
      },
      "outputs": [],
      "source": [
        "def print_metrics(model, data):\n",
        "    print(model)\n",
        "    print(Counter(model.labels_))\n",
        "    print(\"silhouette_score: \" , silhouette_score(data, model.labels_))"
      ]
    },
    {
      "cell_type": "code",
      "execution_count": 739,
      "metadata": {},
      "outputs": [],
      "source": [
        "import pandas as pd\n",
        "\n",
        "def calcular_RME(df, \n",
        "                 columnas_eventos=['Crimen Organizado', 'Delitos Sexuales', 'Delitos Violentos', 'Robos y Hurtos', 'Violencia Familiar'], \n",
        "                 columna_poblacion='personas', \n",
        "                 solo_rme=True):\n",
        "    \"\"\"\n",
        "    Calcula la Razón de Morbilidad Estandarizada (RME) para cada columna de eventos.\n",
        "\n",
        "    Parámetros:\n",
        "      - df: DataFrame que contiene los datos.\n",
        "      - columnas_eventos: Lista de nombres de columnas que representan los eventos. \n",
        "                          Por defecto: ['Crimen Organizado', 'Delitos Sexuales', 'Delitos Violentos', 'Robos y Hurtos', 'Violencia Familiar'].\n",
        "      - columna_poblacion: Nombre de la columna que contiene la población. Por defecto: 'personas'.\n",
        "      - solo_rme: Booleano que, si es True (por defecto), retorna únicamente las columnas que comienzan con \"RME_\". \n",
        "                  Si es False, retorna el DataFrame completo con las columnas adicionales.\n",
        "    \n",
        "    Proceso:\n",
        "      1. Calcula la tasa global para cada evento (total del evento en todas las comunas / población total).\n",
        "      2. Calcula los casos esperados en cada comuna (población de la comuna * tasa global).\n",
        "      3. Calcula la RME: Observados / Esperados.\n",
        "    \"\"\"\n",
        "    # Calcular la población total (una sola vez)\n",
        "    total_population = df[columna_poblacion].sum()\n",
        "    \n",
        "    # Iterar sobre cada columna de evento para calcular la RME\n",
        "    for col in columnas_eventos:\n",
        "        # a) Calcular la tasa global para el evento\n",
        "        total_event = df[col].sum()  # Total del evento en todas las comunas\n",
        "        global_rate = total_event / total_population  # Casos por persona en el conjunto\n",
        "        \n",
        "        # b) Calcular los casos esperados en cada comuna para el evento\n",
        "        df[f'expected_{col}'] = df[columna_poblacion] * global_rate\n",
        "        \n",
        "        # c) Calcular la RME: Observados / Esperados\n",
        "        df[f'RME_{col}'] = df[col] / df[f'expected_{col}']\n",
        "    \n",
        "    # Retornar solo las columnas RME si solo_rme es True\n",
        "    if solo_rme:\n",
        "        rme_cols = [col for col in df.columns if col.startswith('RME_')]\n",
        "        return df[rme_cols]\n",
        "    \n",
        "    # Si solo_rme es False, retornar el DataFrame completo\n",
        "    return df\n"
      ]
    },
    {
      "cell_type": "markdown",
      "metadata": {
        "id": "PZxvgKCrV8Jm"
      },
      "source": [
        "---\n"
      ]
    },
    {
      "cell_type": "markdown",
      "metadata": {
        "id": "As2nnriptsOs"
      },
      "source": [
        "# **Cargar datos**"
      ]
    },
    {
      "cell_type": "markdown",
      "metadata": {
        "id": "PtSY60HgNV-o"
      },
      "source": [
        "**Datos de crimenes**"
      ]
    },
    {
      "cell_type": "code",
      "execution_count": 740,
      "metadata": {
        "id": "nnPwohrhSKo-"
      },
      "outputs": [],
      "source": [
        "# DEFINO EL TIPO DE DATO ASI STE MAL APRA ACELEAR LA CARGA DEL DATAFRAME"
      ]
    },
    {
      "cell_type": "code",
      "execution_count": 741,
      "metadata": {
        "id": "G216A9NZPV7z"
      },
      "outputs": [],
      "source": [
        "# Definir los tipos de datos para las columnas\n",
        "dtype = {\n",
        "    'descripcion_conducta': 'object',\n",
        "    'armas_medios': 'object',\n",
        "    'barrios_hecho': 'object',\n",
        "    'fecha_hecho': 'object',\n",
        "    'hora_hecho': 'object',\n",
        "    'edad': 'int64' ,\n",
        "    'sexo': 'object',\n",
        "    'movil_victima': 'object',\n",
        "    'movil_agresor': 'object',\n",
        "    'clase_sitio': 'object',\n",
        "    'articulo': 'object',\n",
        "    'delito_solo': 'object',\n",
        "    'curso_vida': 'object',\n",
        "    'curso_vida_orden': 'int64',\n",
        "    'year_num': 'int64',\n",
        "    'mes_num': 'int64',\n",
        "    'dia_num': 'int64',\n",
        "    'rango_horario': 'object',\n",
        "    'tipologia': 'object',\n",
        "    'rango_horario_orden': 'int64',\n",
        "    'dia_nombre': 'object',\n",
        "    'dia_nombre_orden': 'int64',\n",
        "    'localidad': 'object',\n",
        "    'num_com': 'int64',\n",
        "    'nom_com': 'object',\n",
        "    'cantidad_unica': 'int64'\n",
        "}"
      ]
    },
    {
      "cell_type": "code",
      "execution_count": 742,
      "metadata": {
        "colab": {
          "base_uri": "https://localhost:8080/",
          "height": 266
        },
        "id": "AOuo4KRbgEvW",
        "outputId": "da11210f-1d2a-49bc-d48e-b9ceb6a8facb"
      },
      "outputs": [
        {
          "data": {
            "text/html": [
              "<div>\n",
              "<style scoped>\n",
              "    .dataframe tbody tr th:only-of-type {\n",
              "        vertical-align: middle;\n",
              "    }\n",
              "\n",
              "    .dataframe tbody tr th {\n",
              "        vertical-align: top;\n",
              "    }\n",
              "\n",
              "    .dataframe thead th {\n",
              "        text-align: right;\n",
              "    }\n",
              "</style>\n",
              "<table border=\"1\" class=\"dataframe\">\n",
              "  <thead>\n",
              "    <tr style=\"text-align: right;\">\n",
              "      <th></th>\n",
              "      <th>descripcion_conducta</th>\n",
              "      <th>armas_medios</th>\n",
              "      <th>barrios_hecho</th>\n",
              "      <th>fecha_hecho</th>\n",
              "      <th>hora_hecho</th>\n",
              "      <th>edad</th>\n",
              "      <th>sexo</th>\n",
              "      <th>movil_victima</th>\n",
              "      <th>movil_agresor</th>\n",
              "      <th>clase_sitio</th>\n",
              "      <th>...</th>\n",
              "      <th>dia_num</th>\n",
              "      <th>rango_horario</th>\n",
              "      <th>tipologia</th>\n",
              "      <th>rango_horario_orden</th>\n",
              "      <th>dia_nombre</th>\n",
              "      <th>dia_nombre_orden</th>\n",
              "      <th>localidad</th>\n",
              "      <th>num_com</th>\n",
              "      <th>nom_com</th>\n",
              "      <th>cantidad_unica</th>\n",
              "    </tr>\n",
              "  </thead>\n",
              "  <tbody>\n",
              "    <tr>\n",
              "      <th>0</th>\n",
              "      <td>ARTÍCULO 239. HURTO PERSONAS</td>\n",
              "      <td>ARMA BLANCA / CORTOPUNZANTE</td>\n",
              "      <td>MALPASO</td>\n",
              "      <td>2019-06-17</td>\n",
              "      <td>20:30:00</td>\n",
              "      <td>21</td>\n",
              "      <td>MASCULINO</td>\n",
              "      <td>A PIE</td>\n",
              "      <td>A PIE</td>\n",
              "      <td>VIAS PUBLICAS</td>\n",
              "      <td>...</td>\n",
              "      <td>17</td>\n",
              "      <td>20:00-20:59</td>\n",
              "      <td>DELITOS CONTRA EL PATRIMONIO ECONOMICO</td>\n",
              "      <td>20</td>\n",
              "      <td>lunes</td>\n",
              "      <td>1</td>\n",
              "      <td>11. SUR</td>\n",
              "      <td>11</td>\n",
              "      <td>SUR</td>\n",
              "      <td>1</td>\n",
              "    </tr>\n",
              "    <tr>\n",
              "      <th>1</th>\n",
              "      <td>ARTÍCULO 239. HURTO PERSONAS</td>\n",
              "      <td>ARMA BLANCA / CORTOPUNZANTE</td>\n",
              "      <td>GRANJAS DE PROVENZA</td>\n",
              "      <td>2019-09-12</td>\n",
              "      <td>01:30:00</td>\n",
              "      <td>21</td>\n",
              "      <td>MASCULINO</td>\n",
              "      <td>A PIE</td>\n",
              "      <td>A PIE</td>\n",
              "      <td>VIAS PUBLICAS</td>\n",
              "      <td>...</td>\n",
              "      <td>12</td>\n",
              "      <td>1:00-1:59</td>\n",
              "      <td>DELITOS CONTRA EL PATRIMONIO ECONOMICO</td>\n",
              "      <td>1</td>\n",
              "      <td>jueves</td>\n",
              "      <td>4</td>\n",
              "      <td>10. PROVENZA</td>\n",
              "      <td>10</td>\n",
              "      <td>PROVENZA</td>\n",
              "      <td>1</td>\n",
              "    </tr>\n",
              "  </tbody>\n",
              "</table>\n",
              "<p>2 rows × 26 columns</p>\n",
              "</div>"
            ],
            "text/plain": [
              "           descripcion_conducta                 armas_medios  \\\n",
              "0  ARTÍCULO 239. HURTO PERSONAS  ARMA BLANCA / CORTOPUNZANTE   \n",
              "1  ARTÍCULO 239. HURTO PERSONAS  ARMA BLANCA / CORTOPUNZANTE   \n",
              "\n",
              "         barrios_hecho fecha_hecho hora_hecho edad       sexo movil_victima  \\\n",
              "0              MALPASO  2019-06-17   20:30:00   21  MASCULINO         A PIE   \n",
              "1  GRANJAS DE PROVENZA  2019-09-12   01:30:00   21  MASCULINO         A PIE   \n",
              "\n",
              "  movil_agresor    clase_sitio  ... dia_num rango_horario  \\\n",
              "0         A PIE  VIAS PUBLICAS  ...      17   20:00-20:59   \n",
              "1         A PIE  VIAS PUBLICAS  ...      12     1:00-1:59   \n",
              "\n",
              "                                tipologia  rango_horario_orden  dia_nombre  \\\n",
              "0  DELITOS CONTRA EL PATRIMONIO ECONOMICO                   20       lunes   \n",
              "1  DELITOS CONTRA EL PATRIMONIO ECONOMICO                    1      jueves   \n",
              "\n",
              "   dia_nombre_orden     localidad num_com   nom_com  cantidad_unica  \n",
              "0                 1       11. SUR      11       SUR               1  \n",
              "1                 4  10. PROVENZA      10  PROVENZA               1  \n",
              "\n",
              "[2 rows x 26 columns]"
            ]
          },
          "execution_count": 742,
          "metadata": {},
          "output_type": "execute_result"
        }
      ],
      "source": [
        "# Read data from URL\n",
        "url = \"https://raw.githubusercontent.com/jcamilobm/streamlit_cluster_crimes/refs/heads/main/data/raw/delitos_bucaramanga_2016_2023.csv\"\n",
        "df = pd.read_csv(url , dtype = dtype)\n",
        "\n",
        "# Convertir los nombres de las columnas a minúsculas\n",
        "df = df.rename(columns=str.lower)\n",
        "# por si la letra ñ despues genera problemas:\n",
        "df = df.rename(columns={ 'año_num': 'year_num',\n",
        "                         'tipología':'tipologia'})\n",
        "\n",
        "df.head(2)"
      ]
    },
    {
      "cell_type": "code",
      "execution_count": 743,
      "metadata": {
        "colab": {
          "base_uri": "https://localhost:8080/"
        },
        "id": "T_R1P7BjQCgg",
        "outputId": "79005370-69e4-4c0e-e7a4-e9bfad6f4051"
      },
      "outputs": [
        {
          "name": "stdout",
          "output_type": "stream",
          "text": [
            "<class 'pandas.core.frame.DataFrame'>\n",
            "RangeIndex: 100993 entries, 0 to 100992\n",
            "Data columns (total 26 columns):\n",
            " #   Column                Non-Null Count   Dtype \n",
            "---  ------                --------------   ----- \n",
            " 0   descripcion_conducta  100993 non-null  object\n",
            " 1   armas_medios          100993 non-null  object\n",
            " 2   barrios_hecho         100993 non-null  object\n",
            " 3   fecha_hecho           100993 non-null  object\n",
            " 4   hora_hecho            100993 non-null  object\n",
            " 5   edad                  100360 non-null  object\n",
            " 6   sexo                  100993 non-null  object\n",
            " 7   movil_victima         100993 non-null  object\n",
            " 8   movil_agresor         100993 non-null  object\n",
            " 9   clase_sitio           100993 non-null  object\n",
            " 10  articulo              100993 non-null  object\n",
            " 11  delito_solo           100993 non-null  object\n",
            " 12  curso_vida            100993 non-null  object\n",
            " 13  curso_vida_orden      100993 non-null  int64 \n",
            " 14  year_num              100993 non-null  int64 \n",
            " 15  mes_num               100993 non-null  int64 \n",
            " 16  dia_num               100993 non-null  int64 \n",
            " 17  rango_horario         100993 non-null  object\n",
            " 18  tipologia             100992 non-null  object\n",
            " 19  rango_horario_orden   100993 non-null  int64 \n",
            " 20  dia_nombre            100993 non-null  object\n",
            " 21  dia_nombre_orden      100993 non-null  int64 \n",
            " 22  localidad             100993 non-null  object\n",
            " 23  num_com               100993 non-null  int64 \n",
            " 24  nom_com               100993 non-null  object\n",
            " 25  cantidad_unica        100993 non-null  int64 \n",
            "dtypes: int64(8), object(18)\n",
            "memory usage: 20.0+ MB\n"
          ]
        }
      ],
      "source": [
        "df.info()"
      ]
    },
    {
      "cell_type": "code",
      "execution_count": 744,
      "metadata": {
        "colab": {
          "base_uri": "https://localhost:8080/"
        },
        "id": "1wRK3ZIa-Fyl",
        "outputId": "f57dc3d7-e3e8-4e2f-d62e-b43cd72d7a80"
      },
      "outputs": [
        {
          "data": {
            "text/plain": [
              "(100993, 26)"
            ]
          },
          "execution_count": 744,
          "metadata": {},
          "output_type": "execute_result"
        }
      ],
      "source": [
        "df.shape"
      ]
    },
    {
      "cell_type": "code",
      "execution_count": 745,
      "metadata": {
        "colab": {
          "base_uri": "https://localhost:8080/"
        },
        "id": "qdZQS7sZ24ZT",
        "outputId": "b438cb0c-bc19-4651-b8a5-59b9e050cc48"
      },
      "outputs": [
        {
          "name": "stdout",
          "output_type": "stream",
          "text": [
            "<class 'pandas.core.frame.DataFrame'>\n",
            "RangeIndex: 100993 entries, 0 to 100992\n",
            "Data columns (total 26 columns):\n",
            " #   Column                Non-Null Count   Dtype \n",
            "---  ------                --------------   ----- \n",
            " 0   descripcion_conducta  100993 non-null  object\n",
            " 1   armas_medios          100993 non-null  object\n",
            " 2   barrios_hecho         100993 non-null  object\n",
            " 3   fecha_hecho           100993 non-null  object\n",
            " 4   hora_hecho            100993 non-null  object\n",
            " 5   edad                  100360 non-null  object\n",
            " 6   sexo                  100993 non-null  object\n",
            " 7   movil_victima         100993 non-null  object\n",
            " 8   movil_agresor         100993 non-null  object\n",
            " 9   clase_sitio           100993 non-null  object\n",
            " 10  articulo              100993 non-null  object\n",
            " 11  delito_solo           100993 non-null  object\n",
            " 12  curso_vida            100993 non-null  object\n",
            " 13  curso_vida_orden      100993 non-null  int64 \n",
            " 14  year_num              100993 non-null  int64 \n",
            " 15  mes_num               100993 non-null  int64 \n",
            " 16  dia_num               100993 non-null  int64 \n",
            " 17  rango_horario         100993 non-null  object\n",
            " 18  tipologia             100992 non-null  object\n",
            " 19  rango_horario_orden   100993 non-null  int64 \n",
            " 20  dia_nombre            100993 non-null  object\n",
            " 21  dia_nombre_orden      100993 non-null  int64 \n",
            " 22  localidad             100993 non-null  object\n",
            " 23  num_com               100993 non-null  int64 \n",
            " 24  nom_com               100993 non-null  object\n",
            " 25  cantidad_unica        100993 non-null  int64 \n",
            "dtypes: int64(8), object(18)\n",
            "memory usage: 20.0+ MB\n"
          ]
        }
      ],
      "source": [
        "df.info()"
      ]
    },
    {
      "cell_type": "markdown",
      "metadata": {
        "id": "OR3hybPSNeIi"
      },
      "source": [
        "**Datos mapa Bucaramanga por comunas**"
      ]
    },
    {
      "cell_type": "code",
      "execution_count": 746,
      "metadata": {
        "id": "ofcAT3QYNcqa"
      },
      "outputs": [],
      "source": [
        "url_2 = \"https://raw.githubusercontent.com/jcamilobm/streamlit_cluster_crimes/refs/heads/main/data/raw/comunas_bucaramanga.geojson\"\n",
        "\n",
        "# Read data from URL\n",
        "# Cargar el archivo GeoJSON\n",
        "gdf = gpd.read_file(url_2)"
      ]
    },
    {
      "cell_type": "code",
      "execution_count": 747,
      "metadata": {
        "colab": {
          "base_uri": "https://localhost:8080/"
        },
        "id": "VKUdUhhQOMOu",
        "outputId": "2e2bd278-92a7-4df9-ebfa-8a44c01dc07f"
      },
      "outputs": [
        {
          "name": "stdout",
          "output_type": "stream",
          "text": [
            "<class 'geopandas.geodataframe.GeoDataFrame'>\n",
            "RangeIndex: 17 entries, 0 to 16\n",
            "Data columns (total 20 columns):\n",
            " #   Column                        Non-Null Count  Dtype   \n",
            "---  ------                        --------------  -----   \n",
            " 0   area                          17 non-null     float64 \n",
            " 1   organicos__kg_semana_         17 non-null     float64 \n",
            " 2   personas_s                    17 non-null     int32   \n",
            " 3   nombre_cod                    17 non-null     object  \n",
            " 4   habitantes                    17 non-null     int32   \n",
            " 5   aprovechables__kg_semana_     17 non-null     float64 \n",
            " 6   no_aprovechables__kg_semana_  17 non-null     float64 \n",
            " 7   rcd__kg_semana_               17 non-null     float64 \n",
            " 8   generacion__kg_semana_        17 non-null     float64 \n",
            " 9   nombre_com                    17 non-null     object  \n",
            " 10  posconsumo__kg_semana_        17 non-null     float64 \n",
            " 11  objectid_1                    17 non-null     int32   \n",
            " 12  cod_munici                    17 non-null     object  \n",
            " 13  ppc__kg_hab_d_a_              17 non-null     float64 \n",
            " 14  shape_leng                    17 non-null     float64 \n",
            " 15  perimeter                     17 non-null     float64 \n",
            " 16  cod_comuna                    17 non-null     object  \n",
            " 17  cod_depart                    17 non-null     object  \n",
            " 18  objectid                      17 non-null     int32   \n",
            " 19  geometry                      17 non-null     geometry\n",
            "dtypes: float64(10), geometry(1), int32(4), object(5)\n",
            "memory usage: 2.5+ KB\n"
          ]
        }
      ],
      "source": [
        "gdf.info()"
      ]
    },
    {
      "cell_type": "code",
      "execution_count": 748,
      "metadata": {
        "colab": {
          "base_uri": "https://localhost:8080/",
          "height": 254
        },
        "id": "j8I3x2hXTHE0",
        "outputId": "77113b1d-a5d9-43e2-d166-e752096a912f"
      },
      "outputs": [
        {
          "data": {
            "text/html": [
              "<div>\n",
              "<style scoped>\n",
              "    .dataframe tbody tr th:only-of-type {\n",
              "        vertical-align: middle;\n",
              "    }\n",
              "\n",
              "    .dataframe tbody tr th {\n",
              "        vertical-align: top;\n",
              "    }\n",
              "\n",
              "    .dataframe thead th {\n",
              "        text-align: right;\n",
              "    }\n",
              "</style>\n",
              "<table border=\"1\" class=\"dataframe\">\n",
              "  <thead>\n",
              "    <tr style=\"text-align: right;\">\n",
              "      <th></th>\n",
              "      <th>area</th>\n",
              "      <th>organicos__kg_semana_</th>\n",
              "      <th>personas_s</th>\n",
              "      <th>nombre_cod</th>\n",
              "      <th>habitantes</th>\n",
              "      <th>aprovechables__kg_semana_</th>\n",
              "      <th>no_aprovechables__kg_semana_</th>\n",
              "      <th>rcd__kg_semana_</th>\n",
              "      <th>generacion__kg_semana_</th>\n",
              "      <th>nombre_com</th>\n",
              "      <th>posconsumo__kg_semana_</th>\n",
              "      <th>objectid_1</th>\n",
              "      <th>cod_munici</th>\n",
              "      <th>ppc__kg_hab_d_a_</th>\n",
              "      <th>shape_leng</th>\n",
              "      <th>perimeter</th>\n",
              "      <th>cod_comuna</th>\n",
              "      <th>cod_depart</th>\n",
              "      <th>objectid</th>\n",
              "      <th>geometry</th>\n",
              "    </tr>\n",
              "  </thead>\n",
              "  <tbody>\n",
              "    <tr>\n",
              "      <th>0</th>\n",
              "      <td>4326768.342</td>\n",
              "      <td>135.415</td>\n",
              "      <td>66710</td>\n",
              "      <td>Comuna 1</td>\n",
              "      <td>54</td>\n",
              "      <td>50.417</td>\n",
              "      <td>52.019</td>\n",
              "      <td>0.6</td>\n",
              "      <td>245.536</td>\n",
              "      <td>Comuna Norte</td>\n",
              "      <td>0.045</td>\n",
              "      <td>1</td>\n",
              "      <td>001</td>\n",
              "      <td>0.649566</td>\n",
              "      <td>17379.411648</td>\n",
              "      <td>17395.825</td>\n",
              "      <td>1</td>\n",
              "      <td>68</td>\n",
              "      <td>1</td>\n",
              "      <td>MULTIPOLYGON (((-73.14179 7.1784, -73.14148 7....</td>\n",
              "    </tr>\n",
              "    <tr>\n",
              "      <th>1</th>\n",
              "      <td>1371355.042</td>\n",
              "      <td>58.016</td>\n",
              "      <td>27515</td>\n",
              "      <td>Comuna 2</td>\n",
              "      <td>35</td>\n",
              "      <td>25.633</td>\n",
              "      <td>32.164</td>\n",
              "      <td>0.0</td>\n",
              "      <td>107.624</td>\n",
              "      <td>Comuna Nororiental</td>\n",
              "      <td>0.225</td>\n",
              "      <td>2</td>\n",
              "      <td>001</td>\n",
              "      <td>0.439282</td>\n",
              "      <td>8368.026972</td>\n",
              "      <td>8375.934</td>\n",
              "      <td>2</td>\n",
              "      <td>68</td>\n",
              "      <td>2</td>\n",
              "      <td>POLYGON ((-73.12877 7.1553, -73.12886 7.15535,...</td>\n",
              "    </tr>\n",
              "  </tbody>\n",
              "</table>\n",
              "</div>"
            ],
            "text/plain": [
              "          area  organicos__kg_semana_  personas_s nombre_cod  habitantes  \\\n",
              "0  4326768.342                135.415       66710   Comuna 1          54   \n",
              "1  1371355.042                 58.016       27515   Comuna 2          35   \n",
              "\n",
              "   aprovechables__kg_semana_  no_aprovechables__kg_semana_  rcd__kg_semana_  \\\n",
              "0                     50.417                        52.019              0.6   \n",
              "1                     25.633                        32.164              0.0   \n",
              "\n",
              "   generacion__kg_semana_          nombre_com  posconsumo__kg_semana_  \\\n",
              "0                 245.536        Comuna Norte                   0.045   \n",
              "1                 107.624  Comuna Nororiental                   0.225   \n",
              "\n",
              "   objectid_1 cod_munici  ppc__kg_hab_d_a_    shape_leng  perimeter  \\\n",
              "0           1        001          0.649566  17379.411648  17395.825   \n",
              "1           2        001          0.439282   8368.026972   8375.934   \n",
              "\n",
              "  cod_comuna cod_depart  objectid  \\\n",
              "0          1         68         1   \n",
              "1          2         68         2   \n",
              "\n",
              "                                            geometry  \n",
              "0  MULTIPOLYGON (((-73.14179 7.1784, -73.14148 7....  \n",
              "1  POLYGON ((-73.12877 7.1553, -73.12886 7.15535,...  "
            ]
          },
          "execution_count": 748,
          "metadata": {},
          "output_type": "execute_result"
        }
      ],
      "source": [
        "gdf.head(2)"
      ]
    },
    {
      "cell_type": "markdown",
      "metadata": {
        "id": "EgRfKJYiOSgP"
      },
      "source": [
        "------"
      ]
    },
    {
      "cell_type": "code",
      "execution_count": 749,
      "metadata": {
        "id": "-kb7V74h6FFR"
      },
      "outputs": [],
      "source": [
        "url_3 = \"https://raw.githubusercontent.com/jcamilobm/streamlit_cluster_crimes/refs/heads/main/data/raw/proyeccion_poblacion_Bucaramanga_2021_comunas.csv\"\n",
        "\n",
        "# Read data from URL\n",
        "# Cargar el archivo GeoJSON\n",
        "df_poblacion = pd.read_csv(url_3)"
      ]
    },
    {
      "cell_type": "code",
      "execution_count": 750,
      "metadata": {
        "colab": {
          "base_uri": "https://localhost:8080/",
          "height": 164
        },
        "id": "TNr37iYl7ZJV",
        "outputId": "02578ff4-adee-417d-f779-c43bad4ede2e"
      },
      "outputs": [
        {
          "data": {
            "text/html": [
              "<div>\n",
              "<style scoped>\n",
              "    .dataframe tbody tr th:only-of-type {\n",
              "        vertical-align: middle;\n",
              "    }\n",
              "\n",
              "    .dataframe tbody tr th {\n",
              "        vertical-align: top;\n",
              "    }\n",
              "\n",
              "    .dataframe thead th {\n",
              "        text-align: right;\n",
              "    }\n",
              "</style>\n",
              "<table border=\"1\" class=\"dataframe\">\n",
              "  <thead>\n",
              "    <tr style=\"text-align: right;\">\n",
              "      <th></th>\n",
              "      <th>ORDEN</th>\n",
              "      <th>AÑO</th>\n",
              "      <th>Barrio_poligono</th>\n",
              "      <th>categoria</th>\n",
              "      <th>Comunas_poligonos</th>\n",
              "      <th>manzanas</th>\n",
              "      <th>personas</th>\n",
              "      <th>hombres</th>\n",
              "      <th>mujeres</th>\n",
              "      <th>Edad de 0 a 9</th>\n",
              "      <th>Edad de 10 a 19</th>\n",
              "      <th>Edad de 20 a 29</th>\n",
              "      <th>Edad de 30 a 39</th>\n",
              "      <th>Edad de 40 a 49</th>\n",
              "      <th>Edad de 50 a 59</th>\n",
              "      <th>Edad de 60 a 69</th>\n",
              "      <th>Edad de 70 a 79</th>\n",
              "      <th>Edad de 80 a 89</th>\n",
              "    </tr>\n",
              "  </thead>\n",
              "  <tbody>\n",
              "    <tr>\n",
              "      <th>0</th>\n",
              "      <td>1</td>\n",
              "      <td>2021</td>\n",
              "      <td>13 DE JUNIO</td>\n",
              "      <td>BARRIO</td>\n",
              "      <td>02. NORORIENTAL</td>\n",
              "      <td>5</td>\n",
              "      <td>410</td>\n",
              "      <td>200</td>\n",
              "      <td>209</td>\n",
              "      <td>65</td>\n",
              "      <td>51</td>\n",
              "      <td>78</td>\n",
              "      <td>62</td>\n",
              "      <td>60</td>\n",
              "      <td>47</td>\n",
              "      <td>34</td>\n",
              "      <td>8</td>\n",
              "      <td>4</td>\n",
              "    </tr>\n",
              "    <tr>\n",
              "      <th>1</th>\n",
              "      <td>2</td>\n",
              "      <td>2021</td>\n",
              "      <td>ALTOS DEL KENNEDY</td>\n",
              "      <td>BARRIO</td>\n",
              "      <td>01. NORTE</td>\n",
              "      <td>6</td>\n",
              "      <td>529</td>\n",
              "      <td>249</td>\n",
              "      <td>279</td>\n",
              "      <td>76</td>\n",
              "      <td>85</td>\n",
              "      <td>106</td>\n",
              "      <td>71</td>\n",
              "      <td>60</td>\n",
              "      <td>71</td>\n",
              "      <td>34</td>\n",
              "      <td>19</td>\n",
              "      <td>4</td>\n",
              "    </tr>\n",
              "  </tbody>\n",
              "</table>\n",
              "</div>"
            ],
            "text/plain": [
              "   ORDEN   AÑO    Barrio_poligono categoria Comunas_poligonos  manzanas  \\\n",
              "0      1  2021        13 DE JUNIO    BARRIO   02. NORORIENTAL         5   \n",
              "1      2  2021  ALTOS DEL KENNEDY    BARRIO         01. NORTE         6   \n",
              "\n",
              "  personas hombres mujeres Edad de 0 a 9 Edad de 10 a 19 Edad de 20 a 29  \\\n",
              "0      410     200     209            65              51              78   \n",
              "1      529     249     279            76              85             106   \n",
              "\n",
              "  Edad de 30 a 39 Edad de 40 a 49 Edad de 50 a 59 Edad de 60 a 69  \\\n",
              "0              62              60              47              34   \n",
              "1              71              60              71              34   \n",
              "\n",
              "  Edad de 70 a 79 Edad de 80 a 89  \n",
              "0               8               4  \n",
              "1              19               4  "
            ]
          },
          "execution_count": 750,
          "metadata": {},
          "output_type": "execute_result"
        }
      ],
      "source": [
        "df_poblacion.head(2)"
      ]
    },
    {
      "cell_type": "code",
      "execution_count": 751,
      "metadata": {
        "colab": {
          "base_uri": "https://localhost:8080/"
        },
        "id": "jdJ4HPIR7m5B",
        "outputId": "a596c4c8-e039-4c4d-9897-fa4a4f0d67b0"
      },
      "outputs": [
        {
          "name": "stdout",
          "output_type": "stream",
          "text": [
            "<class 'pandas.core.frame.DataFrame'>\n",
            "RangeIndex: 263 entries, 0 to 262\n",
            "Data columns (total 18 columns):\n",
            " #   Column             Non-Null Count  Dtype \n",
            "---  ------             --------------  ----- \n",
            " 0   ORDEN              263 non-null    int64 \n",
            " 1   AÑO                263 non-null    int64 \n",
            " 2   Barrio_poligono    263 non-null    object\n",
            " 3   categoria          263 non-null    object\n",
            " 4   Comunas_poligonos  263 non-null    object\n",
            " 5   manzanas           263 non-null    int64 \n",
            " 6   personas           263 non-null    object\n",
            " 7   hombres            263 non-null    object\n",
            " 8   mujeres            263 non-null    object\n",
            " 9   Edad de 0 a 9      263 non-null    object\n",
            " 10  Edad de 10 a 19    263 non-null    object\n",
            " 11  Edad de 20 a 29    263 non-null    object\n",
            " 12  Edad de 30 a 39    263 non-null    object\n",
            " 13  Edad de 40 a 49    263 non-null    object\n",
            " 14  Edad de 50 a 59    263 non-null    object\n",
            " 15  Edad de 60 a 69    263 non-null    object\n",
            " 16  Edad de 70 a 79    263 non-null    object\n",
            " 17  Edad de 80 a 89    263 non-null    object\n",
            "dtypes: int64(3), object(15)\n",
            "memory usage: 37.1+ KB\n"
          ]
        }
      ],
      "source": [
        "df_poblacion.info()"
      ]
    },
    {
      "cell_type": "markdown",
      "metadata": {
        "id": "n3lQPrA_txK7"
      },
      "source": [
        "# **Limpieza de datos**\n",
        "\n",
        "Se  manipula y transforma los datos para generar resultados precisos y confiables al dejarlos en un fromato adecuado.\n",
        "\n",
        "* Corregir tipos de datos\n",
        "* Imputar datos faltantes\n",
        "* Tratar inconsistencias\n",
        "* Reformatear datos"
      ]
    },
    {
      "cell_type": "markdown",
      "metadata": {
        "id": "1Vv4c2IbRjNA"
      },
      "source": [
        "### **Corregir tipos de datos**"
      ]
    },
    {
      "cell_type": "code",
      "execution_count": 752,
      "metadata": {
        "id": "9JRmHciS-qu7"
      },
      "outputs": [],
      "source": [
        "# convertir fecha(datetime64[ns]) y edad(float)\n",
        "\n",
        "df['fecha_hecho'] = pd.to_datetime(df['fecha_hecho'])"
      ]
    },
    {
      "cell_type": "code",
      "execution_count": 753,
      "metadata": {
        "id": "KfMiep9w97Nf"
      },
      "outputs": [],
      "source": [
        "# Convertir la columna 'hora_hecho' a tipo datetime\n",
        "df['hora_hecho'] = pd.to_datetime(df['hora_hecho'], format='%H:%M:%S').dt.time"
      ]
    },
    {
      "cell_type": "code",
      "execution_count": 754,
      "metadata": {
        "colab": {
          "base_uri": "https://localhost:8080/",
          "height": 147
        },
        "id": "oHF4jBST8YbR",
        "outputId": "9e5b89a8-e1da-46a7-cad7-bd23b0e9d931"
      },
      "outputs": [
        {
          "data": {
            "text/plain": [
              "0    20:30:00\n",
              "1    01:30:00\n",
              "Name: hora_hecho, dtype: object"
            ]
          },
          "execution_count": 754,
          "metadata": {},
          "output_type": "execute_result"
        }
      ],
      "source": [
        "df['hora_hecho'].head(2)"
      ]
    },
    {
      "cell_type": "code",
      "execution_count": 755,
      "metadata": {
        "id": "iboctS4OMsWu"
      },
      "outputs": [],
      "source": [
        "df['edad']  = pd.to_numeric( df['edad'] , errors ='coerce')"
      ]
    },
    {
      "cell_type": "code",
      "execution_count": 756,
      "metadata": {
        "id": "w-QxT_10146H"
      },
      "outputs": [],
      "source": [
        "# Es necesario convertir las partes de fecha a un numero para que en las graficas se tome el orden correcto.\n",
        "# como los años no tienen valores nulos se puede utilizar astype(int) en vez de pd.to_numeric\n",
        "df['year_num']  = df['year_num'].astype(int)\n",
        "\n",
        "\n",
        "# otras conversiones a numero:\n",
        "df['mes_num']  = df['mes_num'].astype(int)\n",
        "\n",
        "df['dia_num']  = df['dia_num'].astype(int)\n",
        "\n",
        "df['num_com']  = df['num_com'].astype(int)"
      ]
    },
    {
      "cell_type": "code",
      "execution_count": 757,
      "metadata": {
        "id": "b8FDX-rS_ikD"
      },
      "outputs": [],
      "source": [
        "# convertir a a entero el id  del geojson para no tener problemas en el JOIN despues."
      ]
    },
    {
      "cell_type": "markdown",
      "metadata": {
        "id": "9RngAQbDftuH"
      },
      "source": [
        "#### **Tipos de datos geojson**"
      ]
    },
    {
      "cell_type": "code",
      "execution_count": 758,
      "metadata": {
        "id": "4uIa445s9xrg"
      },
      "outputs": [],
      "source": [
        "gdf['cod_comuna']  = gdf['cod_comuna'].astype(int)"
      ]
    },
    {
      "cell_type": "markdown",
      "metadata": {
        "id": "LlcbJAAW8L3j"
      },
      "source": [
        "#### **Tipos de df poblacion**"
      ]
    },
    {
      "cell_type": "code",
      "execution_count": 759,
      "metadata": {
        "id": "Zb7zuSAz8LGD"
      },
      "outputs": [],
      "source": [
        "# Se quita primero comas de los numeros\n",
        "# Lista de columnas a modificar\n",
        "# Seleccionar columnas desde la posición 5 (índice 4) hasta el final\n",
        "columnas_a_modificar = df_poblacion.columns[6:] # desde personas\n",
        "\n",
        "# Reemplazar comas por nada y convertir a numero\n",
        "for col in columnas_a_modificar:\n",
        "    df_poblacion[col] = df_poblacion[col].str.replace(',', '', regex=True)\n",
        "    df_poblacion[col] = pd.to_numeric(df_poblacion[col] , errors=\"coerce\")"
      ]
    },
    {
      "cell_type": "code",
      "execution_count": 760,
      "metadata": {
        "colab": {
          "base_uri": "https://localhost:8080/"
        },
        "id": "9vAt3pwx9l8x",
        "outputId": "e49a1f26-14a2-4879-c944-19129f25c86b"
      },
      "outputs": [
        {
          "name": "stdout",
          "output_type": "stream",
          "text": [
            "<class 'pandas.core.frame.DataFrame'>\n",
            "RangeIndex: 263 entries, 0 to 262\n",
            "Data columns (total 18 columns):\n",
            " #   Column             Non-Null Count  Dtype \n",
            "---  ------             --------------  ----- \n",
            " 0   ORDEN              263 non-null    int64 \n",
            " 1   AÑO                263 non-null    int64 \n",
            " 2   Barrio_poligono    263 non-null    object\n",
            " 3   categoria          263 non-null    object\n",
            " 4   Comunas_poligonos  263 non-null    object\n",
            " 5   manzanas           263 non-null    int64 \n",
            " 6   personas           263 non-null    int64 \n",
            " 7   hombres            263 non-null    int64 \n",
            " 8   mujeres            263 non-null    int64 \n",
            " 9   Edad de 0 a 9      263 non-null    int64 \n",
            " 10  Edad de 10 a 19    263 non-null    int64 \n",
            " 11  Edad de 20 a 29    263 non-null    int64 \n",
            " 12  Edad de 30 a 39    263 non-null    int64 \n",
            " 13  Edad de 40 a 49    263 non-null    int64 \n",
            " 14  Edad de 50 a 59    263 non-null    int64 \n",
            " 15  Edad de 60 a 69    263 non-null    int64 \n",
            " 16  Edad de 70 a 79    263 non-null    int64 \n",
            " 17  Edad de 80 a 89    263 non-null    int64 \n",
            "dtypes: int64(15), object(3)\n",
            "memory usage: 37.1+ KB\n"
          ]
        }
      ],
      "source": [
        "df_poblacion.info()"
      ]
    },
    {
      "cell_type": "markdown",
      "metadata": {
        "id": "4mcm-cduRohA"
      },
      "source": [
        "###  **Problemas  de datos**\n",
        "\n",
        "*   Valores faltantes\n",
        "*   Duplicados\n",
        "*   Valores atipicos\n",
        "*   Cadenas inconsistentes\n",
        "\n"
      ]
    },
    {
      "cell_type": "markdown",
      "metadata": {
        "id": "-OrlALG3TSSD"
      },
      "source": [
        "#### **Valores faltantes**\n"
      ]
    },
    {
      "cell_type": "code",
      "execution_count": 761,
      "metadata": {
        "colab": {
          "base_uri": "https://localhost:8080/"
        },
        "id": "inio40unRbo2",
        "outputId": "4ea7ee2a-9226-4052-ab77-9bb200f16358"
      },
      "outputs": [
        {
          "name": "stdout",
          "output_type": "stream",
          "text": [
            "<class 'pandas.core.frame.DataFrame'>\n",
            "RangeIndex: 100993 entries, 0 to 100992\n",
            "Data columns (total 26 columns):\n",
            " #   Column                Non-Null Count   Dtype         \n",
            "---  ------                --------------   -----         \n",
            " 0   descripcion_conducta  100993 non-null  object        \n",
            " 1   armas_medios          100993 non-null  object        \n",
            " 2   barrios_hecho         100993 non-null  object        \n",
            " 3   fecha_hecho           100993 non-null  datetime64[ns]\n",
            " 4   hora_hecho            100993 non-null  object        \n",
            " 5   edad                  91524 non-null   float64       \n",
            " 6   sexo                  100993 non-null  object        \n",
            " 7   movil_victima         100993 non-null  object        \n",
            " 8   movil_agresor         100993 non-null  object        \n",
            " 9   clase_sitio           100993 non-null  object        \n",
            " 10  articulo              100993 non-null  object        \n",
            " 11  delito_solo           100993 non-null  object        \n",
            " 12  curso_vida            100993 non-null  object        \n",
            " 13  curso_vida_orden      100993 non-null  int64         \n",
            " 14  year_num              100993 non-null  int64         \n",
            " 15  mes_num               100993 non-null  int64         \n",
            " 16  dia_num               100993 non-null  int64         \n",
            " 17  rango_horario         100993 non-null  object        \n",
            " 18  tipologia             100992 non-null  object        \n",
            " 19  rango_horario_orden   100993 non-null  int64         \n",
            " 20  dia_nombre            100993 non-null  object        \n",
            " 21  dia_nombre_orden      100993 non-null  int64         \n",
            " 22  localidad             100993 non-null  object        \n",
            " 23  num_com               100993 non-null  int64         \n",
            " 24  nom_com               100993 non-null  object        \n",
            " 25  cantidad_unica        100993 non-null  int64         \n",
            "dtypes: datetime64[ns](1), float64(1), int64(8), object(16)\n",
            "memory usage: 20.0+ MB\n"
          ]
        }
      ],
      "source": [
        "df.info()"
      ]
    },
    {
      "cell_type": "code",
      "execution_count": 762,
      "metadata": {
        "id": "yzM26UOzVewo"
      },
      "outputs": [],
      "source": [
        "# imputar la edad con la mediana ya que es mas robusta a valores atipicos que la media.\n",
        "df['edad'] = df['edad'].fillna( df['edad'].median() )"
      ]
    },
    {
      "cell_type": "code",
      "execution_count": 763,
      "metadata": {
        "colab": {
          "base_uri": "https://localhost:8080/",
          "height": 147
        },
        "id": "qxBND4PuWpg9",
        "outputId": "5ad9f977-2dc6-4cf3-da01-3bc472b6c199"
      },
      "outputs": [
        {
          "data": {
            "text/html": [
              "<div>\n",
              "<style scoped>\n",
              "    .dataframe tbody tr th:only-of-type {\n",
              "        vertical-align: middle;\n",
              "    }\n",
              "\n",
              "    .dataframe tbody tr th {\n",
              "        vertical-align: top;\n",
              "    }\n",
              "\n",
              "    .dataframe thead th {\n",
              "        text-align: right;\n",
              "    }\n",
              "</style>\n",
              "<table border=\"1\" class=\"dataframe\">\n",
              "  <thead>\n",
              "    <tr style=\"text-align: right;\">\n",
              "      <th></th>\n",
              "      <th>descripcion_conducta</th>\n",
              "      <th>armas_medios</th>\n",
              "      <th>barrios_hecho</th>\n",
              "      <th>fecha_hecho</th>\n",
              "      <th>hora_hecho</th>\n",
              "      <th>edad</th>\n",
              "      <th>sexo</th>\n",
              "      <th>movil_victima</th>\n",
              "      <th>movil_agresor</th>\n",
              "      <th>clase_sitio</th>\n",
              "      <th>...</th>\n",
              "      <th>dia_num</th>\n",
              "      <th>rango_horario</th>\n",
              "      <th>tipologia</th>\n",
              "      <th>rango_horario_orden</th>\n",
              "      <th>dia_nombre</th>\n",
              "      <th>dia_nombre_orden</th>\n",
              "      <th>localidad</th>\n",
              "      <th>num_com</th>\n",
              "      <th>nom_com</th>\n",
              "      <th>cantidad_unica</th>\n",
              "    </tr>\n",
              "  </thead>\n",
              "  <tbody>\n",
              "    <tr>\n",
              "      <th>84548</th>\n",
              "      <td>ARTÍCULO 243. HURTO ABIGEATO</td>\n",
              "      <td>SIN EMPLEO DE ARMAS</td>\n",
              "      <td>CUCHILLA ALTA</td>\n",
              "      <td>2022-04-08</td>\n",
              "      <td>13:51:00</td>\n",
              "      <td>35.0</td>\n",
              "      <td>FEMENINO</td>\n",
              "      <td>A PIE</td>\n",
              "      <td>A PIE</td>\n",
              "      <td>FINCAS Y SIMILARES</td>\n",
              "      <td>...</td>\n",
              "      <td>8</td>\n",
              "      <td>13:00-13:59</td>\n",
              "      <td>NaN</td>\n",
              "      <td>13</td>\n",
              "      <td>viernes</td>\n",
              "      <td>5</td>\n",
              "      <td>CORREGIMIENTO 2</td>\n",
              "      <td>19</td>\n",
              "      <td>CORREGIMIENTO 2</td>\n",
              "      <td>1</td>\n",
              "    </tr>\n",
              "  </tbody>\n",
              "</table>\n",
              "<p>1 rows × 26 columns</p>\n",
              "</div>"
            ],
            "text/plain": [
              "               descripcion_conducta         armas_medios  barrios_hecho  \\\n",
              "84548  ARTÍCULO 243. HURTO ABIGEATO  SIN EMPLEO DE ARMAS  CUCHILLA ALTA   \n",
              "\n",
              "      fecha_hecho hora_hecho  edad      sexo movil_victima movil_agresor  \\\n",
              "84548  2022-04-08   13:51:00  35.0  FEMENINO         A PIE         A PIE   \n",
              "\n",
              "              clase_sitio  ... dia_num rango_horario tipologia  \\\n",
              "84548  FINCAS Y SIMILARES  ...       8   13:00-13:59       NaN   \n",
              "\n",
              "       rango_horario_orden  dia_nombre  dia_nombre_orden        localidad  \\\n",
              "84548                   13     viernes                 5  CORREGIMIENTO 2   \n",
              "\n",
              "      num_com          nom_com  cantidad_unica  \n",
              "84548      19  CORREGIMIENTO 2               1  \n",
              "\n",
              "[1 rows x 26 columns]"
            ]
          },
          "execution_count": 763,
          "metadata": {},
          "output_type": "execute_result"
        }
      ],
      "source": [
        "# Comprobar valores faltantes\n",
        "df[df.isna().any(axis=1)]"
      ]
    },
    {
      "cell_type": "code",
      "execution_count": 764,
      "metadata": {
        "id": "xrQHBPzeWxgE"
      },
      "outputs": [],
      "source": [
        "# Como no se consideran datos de corregimientos y es una  sola fila solo se elimina.\n",
        "df.dropna(inplace=True)"
      ]
    },
    {
      "cell_type": "code",
      "execution_count": 765,
      "metadata": {
        "colab": {
          "base_uri": "https://localhost:8080/"
        },
        "id": "YTDsT9gTXkiJ",
        "outputId": "3fb3f032-7547-4074-f5a8-b1f885d11b1a"
      },
      "outputs": [
        {
          "name": "stdout",
          "output_type": "stream",
          "text": [
            "<class 'pandas.core.frame.DataFrame'>\n",
            "Index: 100992 entries, 0 to 100992\n",
            "Data columns (total 26 columns):\n",
            " #   Column                Non-Null Count   Dtype         \n",
            "---  ------                --------------   -----         \n",
            " 0   descripcion_conducta  100992 non-null  object        \n",
            " 1   armas_medios          100992 non-null  object        \n",
            " 2   barrios_hecho         100992 non-null  object        \n",
            " 3   fecha_hecho           100992 non-null  datetime64[ns]\n",
            " 4   hora_hecho            100992 non-null  object        \n",
            " 5   edad                  100992 non-null  float64       \n",
            " 6   sexo                  100992 non-null  object        \n",
            " 7   movil_victima         100992 non-null  object        \n",
            " 8   movil_agresor         100992 non-null  object        \n",
            " 9   clase_sitio           100992 non-null  object        \n",
            " 10  articulo              100992 non-null  object        \n",
            " 11  delito_solo           100992 non-null  object        \n",
            " 12  curso_vida            100992 non-null  object        \n",
            " 13  curso_vida_orden      100992 non-null  int64         \n",
            " 14  year_num              100992 non-null  int64         \n",
            " 15  mes_num               100992 non-null  int64         \n",
            " 16  dia_num               100992 non-null  int64         \n",
            " 17  rango_horario         100992 non-null  object        \n",
            " 18  tipologia             100992 non-null  object        \n",
            " 19  rango_horario_orden   100992 non-null  int64         \n",
            " 20  dia_nombre            100992 non-null  object        \n",
            " 21  dia_nombre_orden      100992 non-null  int64         \n",
            " 22  localidad             100992 non-null  object        \n",
            " 23  num_com               100992 non-null  int64         \n",
            " 24  nom_com               100992 non-null  object        \n",
            " 25  cantidad_unica        100992 non-null  int64         \n",
            "dtypes: datetime64[ns](1), float64(1), int64(8), object(16)\n",
            "memory usage: 20.8+ MB\n"
          ]
        }
      ],
      "source": [
        "df.info()"
      ]
    },
    {
      "cell_type": "code",
      "execution_count": 766,
      "metadata": {
        "id": "TUy3HGOpXqRX"
      },
      "outputs": [],
      "source": [
        "# Se imputaron los datos faltantes de la edad con la mediana y\n",
        "# se elimino un registro sin la tipologia del crimen."
      ]
    },
    {
      "cell_type": "markdown",
      "metadata": {
        "id": "_MwgVhKeX5Gf"
      },
      "source": [
        "#### **Inconsistencias en texto**"
      ]
    },
    {
      "cell_type": "code",
      "execution_count": 767,
      "metadata": {
        "colab": {
          "base_uri": "https://localhost:8080/",
          "height": 1000
        },
        "id": "J0XA5LL6XNO6",
        "outputId": "aed7b834-f5ed-41bc-dc71-ea02d262de60"
      },
      "outputs": [
        {
          "data": {
            "text/plain": [
              "armas_medios\n",
              "SIN EMPLEO DE ARMAS                   46958\n",
              "ARMA BLANCA / CORTOPUNZANTE           20905\n",
              "CONTUNDENTES                          19160\n",
              "ARMA DE FUEGO                          7485\n",
              "LLAVE MAESTRA                          1850\n",
              "PALANCAS                               1449\n",
              "VEHICULO                               1149\n",
              "MOTO                                    655\n",
              "ESCOPOLAMINA                            500\n",
              "NO DISPONIBLE                           255\n",
              "LLAMADA TELEFONICA                      248\n",
              "REDES SOCIALES                           86\n",
              "DIRECTA                                  63\n",
              "PERRO                                    49\n",
              "ARMA TRAUMATICA                          42\n",
              "NO REPORTADO                             17\n",
              "ARTEFACTO INCENDIARIO                    13\n",
              "ACIDO                                    13\n",
              "MEDICAMENTOS                             12\n",
              "CARTA EXTORSIVA                          12\n",
              "MIXTA                                    10\n",
              "AGUA CALIENTE                            10\n",
              "ARTEFACTO EXPLOSIVO/CARGA DINAMITA        9\n",
              "CORTANTES                                 7\n",
              "QUIMICOS                                  5\n",
              "BICICLETA                                 4\n",
              "COMBUSTIBLE                               4\n",
              "JERINGA                                   3\n",
              "CORTOPUNZANTES                            3\n",
              "GASES                                     3\n",
              "PAPA EXPLOSIVA                            2\n",
              "SUSTANCIAS TOXICAS                        2\n",
              "BOLSA PLASTICA                            2\n",
              "PUNZANTES                                 1\n",
              "VENENO                                    1\n",
              "CUERDA/SOGA/CADENA                        1\n",
              "PRENDAS DE VESTIR                         1\n",
              "LICOR ADULTERADO                          1\n",
              "GRANADA DE MANO                           1\n",
              "PAQUETE BOMBA                             1\n",
              "Name: count, dtype: int64"
            ]
          },
          "execution_count": 767,
          "metadata": {},
          "output_type": "execute_result"
        }
      ],
      "source": [
        "# ---------------------------------------------------\n",
        "# 'armas_medios': No se considerara para el filtro de  la app en Streamlit.\n",
        "df['armas_medios'].value_counts()"
      ]
    },
    {
      "cell_type": "markdown",
      "metadata": {
        "id": "oM9N66p8JvAn"
      },
      "source": [
        "Son muchas columnas de armas_medios, en otra seccion se creara una nueva columna que las agrupe ya que se utiliza como filtro en la App de streamlit."
      ]
    },
    {
      "cell_type": "code",
      "execution_count": 768,
      "metadata": {
        "colab": {
          "base_uri": "https://localhost:8080/",
          "height": 1000
        },
        "id": "e0YmorVSXXzy",
        "outputId": "a410159f-e711-4eb5-c316-e3e7d39a7cb2"
      },
      "outputs": [
        {
          "data": {
            "text/plain": [
              "descripcion_conducta\n",
              "ARTÍCULO 239. HURTO PERSONAS                                                                                           45944\n",
              "ARTÍCULO 111. LESIONES PERSONALES                                                                                      14665\n",
              "ARTÍCULO 229. VIOLENCIA INTRAFAMILIAR                                                                                  13898\n",
              "ARTÍCULO 239. HURTO ENTIDADES COMERCIALES                                                                               7792\n",
              "ARTÍCULO 347. AMENAZAS                                                                                                  4209\n",
              "ARTÍCULO 239. HURTO MOTOCICLETAS                                                                                        3859\n",
              "ARTÍCULO 239. HURTO RESIDENCIAS                                                                                         3743\n",
              "ARTÍCULO 120. LESIONES CULPOSAS ( EN ACCIDENTE DE TRANSITO )                                                            1662\n",
              "ARTÍCULO 209. ACTOS SEXUALES CON MENOR DE 14 AÑOS                                                                       1412\n",
              "ARTÍCULO 103. HOMICIDIO                                                                                                  834\n",
              "ARTÍCULO 208. ACCESO CARNAL ABUSIVO CON MENOR DE 14 AÑOS                                                                 607\n",
              "ARTÍCULO 244. EXTORSIÓN                                                                                                  507\n",
              "ARTÍCULO 205. ACCESO CARNAL VIOLENTO                                                                                     391\n",
              "ARTÍCULO 206. ACTO SEXUAL VIOLENTO                                                                                       247\n",
              "ARTÍCULO 210. ACCESO CARNAL O ACTO SEXUAL ABUSIVO CON INCAPAZ DE RESISTIR                                                215\n",
              "ARTÍCULO 109. HOMICIDIO CULPOSO ( EN ACCIDENTE DE TRÁNSITO)                                                              195\n",
              "ARTÍCULO 210 A. ACOSO SEXUAL                                                                                             188\n",
              "ARTÍCULO 239. HURTO AUTOMOTORES                                                                                          143\n",
              "ARTÍCULO 218. PORNOGRAFÍA CON MENORES                                                                                    109\n",
              "ARTÍCULO 219 A. UTILIZACIÓN O FACILITACIÓN DE MEDIOS DE COMUNICACIÓN PARA OFRECER SERVICIOS SEXUALES DE MENORES           95\n",
              "ARTÍCULO 207. ACCESO CARNAL O ACTO SEXUAL EN PERSONA PUESTA EN INCAPACIDAD DE RESISTIR                                    86\n",
              "ARTÍCULO 120. LESIONES CULPOSAS                                                                                           50\n",
              "ARTÍCULO 213. INDUCCIÓN A LA PROSTITUCIÓN                                                                                 40\n",
              "ARTÍCULO 104A. FEMINICIDIO                                                                                                26\n",
              "ARTÍCULO 217 A. DEMANDA DE EXPLOTACION SEXUAL COMERCIAL DE PERSONA MENOR DE 18 AÑOS DE EDAD                               21\n",
              "ARTÍCULO 211. ACCESO CARNAL O ACTO SEXUAL EN PERSONA PUESTA EN INCAPACIDAD DE RESISTIR  (CIRCUNSTANCIAS AGRAVACIÓN)       10\n",
              "ARTÍCULO 217. ESTÍMULO A LA PROSTITUCIÓN DE MENORES                                                                       10\n",
              "ARTÍCULO 213 A. PROXENETISMO CON MENOR DE EDAD                                                                             6\n",
              "ARTÍCULO 214. CONSTREÑIMIENTO A LA PROSTITUCIÓN                                                                            5\n",
              "ARTÍCULO 211. ACCESO CARNAL ABUSIVO CON MENOR DE 14 AÑOS (CIRCUNSTANCIAS AGRAVACIÓN)                                       5\n",
              "ARTÍCULO 343. TERRORISMO                                                                                                   4\n",
              "ARTÍCULO 211. ACTOS SEXUALES CON MENOR DE 14 AÑOS (CIRCUNSTANCIAS DE AGRAVACIÓN)                                           3\n",
              "ARTÍCULO 125. LESIONES AL FETO                                                                                             3\n",
              "ARTÍCULO 211. ACCESO CARNAL VIOLENTO (CIRCUNSTANCIAS AGRAVACIÓN)                                                           2\n",
              "ARTÍCULO 429. VIOLENCIA CONTRA SERVIDOR PÚBLICO                                                                            1\n",
              "ARTÍCULO 265. DAÑO EN BIEN AJENO                                                                                           1\n",
              "ARTÍCULO 350.  INCENDIO                                                                                                    1\n",
              "ARTÍCULO 243. ABIGEATO                                                                                                     1\n",
              "ARTÍCULO 211. ACTO SEXUAL VIOLENTO (CIRCUNSTANCIAS DE AGRAVACIÓN)                                                          1\n",
              "ARTÍCULO 211. ACCESO CARNAL O ACTO SEXUAL ABUSIVO CON INCAPAZ DE RESISTIR (CIRCUNSTANCIAS AGRAVACIÓN)                      1\n",
              "Name: count, dtype: int64"
            ]
          },
          "execution_count": 768,
          "metadata": {},
          "output_type": "execute_result"
        }
      ],
      "source": [
        "# ---------------------------------------------------\n",
        "# descripcion_conducta:  No se considerara para el filtro de  la app en Streamlit.\n",
        "df['descripcion_conducta'].value_counts()"
      ]
    },
    {
      "cell_type": "code",
      "execution_count": 769,
      "metadata": {
        "id": "lx_8WfbJrhbB"
      },
      "outputs": [],
      "source": [
        "# Zonas que no se consideraran:\n",
        "categorias_a_eliminar = [\n",
        "    'NO DISPONIBLE',\n",
        "    'CORREGIMIENTO 1',\n",
        "    'CORREGIMIENTO 2',\n",
        "    'CORREGIMIENTO 3'\n",
        "]\n",
        "\n",
        "# Eliminar filas con esas categorías\n",
        "df = df[~df['localidad'].isin(categorias_a_eliminar)]"
      ]
    },
    {
      "cell_type": "code",
      "execution_count": 770,
      "metadata": {
        "colab": {
          "base_uri": "https://localhost:8080/",
          "height": 648
        },
        "id": "9xJv3Ye-YJjn",
        "outputId": "48195efe-5da5-418d-b2cf-966cf45779d4"
      },
      "outputs": [
        {
          "data": {
            "text/plain": [
              "localidad\n",
              "13. ORIENTAL              11898\n",
              "03. SAN FRANCISCO         11678\n",
              "15. CENTRO                10800\n",
              "12. CABECERA DEL LLANO    10094\n",
              "01. NORTE                  9316\n",
              "06. LA CONCORDIA           6830\n",
              "04. OCCIDENTAL             6669\n",
              "05. GARCIA ROVIRA          5429\n",
              "10. PROVENZA               5136\n",
              "02. NORORIENTAL            4081\n",
              "11. SUR                    3240\n",
              "17. MUTIS                  2748\n",
              "07. LA CIUDADELA           2485\n",
              "16. LAGOS DEL CACIQUE      2410\n",
              "14. MORRORICO              2407\n",
              "08. SUROCCIDENTE           1944\n",
              "09. LA PEDREGOSA           1928\n",
              "Name: count, dtype: int64"
            ]
          },
          "execution_count": 770,
          "metadata": {},
          "output_type": "execute_result"
        }
      ],
      "source": [
        " df.localidad.value_counts()"
      ]
    },
    {
      "cell_type": "code",
      "execution_count": 771,
      "metadata": {
        "colab": {
          "base_uri": "https://localhost:8080/",
          "height": 209
        },
        "id": "VbWgSrox67Ob",
        "outputId": "8efd706f-cd58-44ef-d8f4-c982fb26a706"
      },
      "outputs": [
        {
          "data": {
            "text/plain": [
              "sexo\n",
              "FEMENINO         45880\n",
              "MASCULINO        44190\n",
              "NO DISPONIBLE     9023\n",
              "Name: count, dtype: int64"
            ]
          },
          "execution_count": 771,
          "metadata": {},
          "output_type": "execute_result"
        }
      ],
      "source": [
        " # Aunque hay 9k valores de genero desconicido, se conservan ya que la avriable central es  la zona y los tipos de crimenes.\n",
        " # Las otras variables seran filtros en una aplicacion web.\n",
        "df.sexo.value_counts()"
      ]
    },
    {
      "cell_type": "code",
      "execution_count": 772,
      "metadata": {
        "colab": {
          "base_uri": "https://localhost:8080/",
          "height": 1000
        },
        "id": "NSFS90Y77cRQ",
        "outputId": "3ab69cd9-147b-4f79-b8e9-cb59ba898779"
      },
      "outputs": [
        {
          "data": {
            "text/plain": [
              "clase_sitio\n",
              "VIAS PUBLICAS                         48173\n",
              "CASAS DE HABITACION                   14194\n",
              "ALMACENES                              3252\n",
              "FRENTE A RESIDENCIAS - VIA PUBLICA     2208\n",
              "CARRETERA                              1919\n",
              "APARTAMENTO                            1913\n",
              "LOCAL COMERCIAL                        1889\n",
              "CALLEJÓN                                892\n",
              "INTERIOR VEHICULO SERVICIO PUBLICO      868\n",
              "PARQUES                                 858\n",
              "CENTRO COMERCIAL                        858\n",
              "PARQUEADERO                             822\n",
              "ESTABLECIMIENTO DE COMERCIO             742\n",
              "EDIFICIO                                661\n",
              "OFICINAS                                653\n",
              "EMPRESA                                 629\n",
              "INTERIOR VEHICULO PARTICULAR            621\n",
              "DENTRO DE LA VIVIENDA                   610\n",
              "TIENDA                                  549\n",
              "RESTAURANTES                            535\n",
              "CARCELES                                528\n",
              "BUS METROLINEA                          503\n",
              "SUPERMERCADOS                           499\n",
              "BARES, CANTINAS Y SIMILARES             483\n",
              "FRENTE A EDIFICIO - VIA PUBLICA         481\n",
              "HOTELES, RESIDENCIAS, Y SIMILARES.      472\n",
              "SOBRE ANDEN - VIA PUBLICA               467\n",
              "APARTAMENTO EN CONJUNTO CERRADO         454\n",
              "CANCHA DE FUTBOL                        443\n",
              "FRENTE A ALMACEN - VIA PUBLICA          406\n",
              "Name: count, dtype: int64"
            ]
          },
          "execution_count": 772,
          "metadata": {},
          "output_type": "execute_result"
        }
      ],
      "source": [
        " # Para variables categoricas con muchas  categorias, se  debe  organizar\n",
        "df.clase_sitio.value_counts().head(30)"
      ]
    },
    {
      "cell_type": "code",
      "execution_count": 773,
      "metadata": {
        "colab": {
          "base_uri": "https://localhost:8080/",
          "height": 554
        },
        "id": "kdorwMUacWyb",
        "outputId": "ae2a436a-e00e-41c2-b721-9bf7c367d3e6"
      },
      "outputs": [
        {
          "data": {
            "text/plain": [
              "movil_victima\n",
              "A PIE                    85748\n",
              "CONDUCTOR MOTOCICLETA     4823\n",
              "CONDUCTOR VEHICULO        3323\n",
              "PASAJERO BUS              1953\n",
              "PASAJERO MOTOCICLETA       728\n",
              "CONDUCTOR TAXI             594\n",
              "BICICLETA                  560\n",
              "PASAJERO TAXI              531\n",
              "PASAJERO VEHICULO          493\n",
              "CONDUCTOR BUS              204\n",
              "PASAJERO METRO             120\n",
              "NO DISPONIBLE               12\n",
              "PASAJERO AERONAVE            3\n",
              "PASAJERO BARCO               1\n",
              "Name: count, dtype: int64"
            ]
          },
          "execution_count": 773,
          "metadata": {},
          "output_type": "execute_result"
        }
      ],
      "source": [
        " # movil del crimen\n",
        "df['movil_victima'].value_counts()"
      ]
    },
    {
      "cell_type": "code",
      "execution_count": 774,
      "metadata": {
        "id": "aOuRY1D9djo_"
      },
      "outputs": [],
      "source": [
        "categoria_dict = {\n",
        "    \"A PIE\": \"A pie\",\n",
        "    \"CONDUCTOR MOTOCICLETA\": \"Motocicleta\",\n",
        "    \"PASAJERO MOTOCICLETA\": \"Motocicleta\",\n",
        "    \"CONDUCTOR VEHICULO\": \"Vehículo Privado\",\n",
        "    \"PASAJERO VEHICULO\": \"Vehículo Privado\",\n",
        "    \"CONDUCTOR TAXI\": \"Taxi\",\n",
        "    \"PASAJERO TAXI\": \"Taxi\",\n",
        "    \"CONDUCTOR BUS\": \"Bus\",\n",
        "    \"PASAJERO BUS\": \"Bus\",\n",
        "    \"PASAJERO METRO\": \"Metro\",\n",
        "    \"BICICLETA\": \"Bicicleta\",\n",
        "    \"PASAJERO AERONAVE\": \"Transporte Aéreo\",\n",
        "    \"PASAJERO BARCO\": \"Transporte Marítimo\",\n",
        "    \"NO DISPONIBLE\": \"No Disponible\"\n",
        "}\n",
        "\n",
        "df['movil_victima'] = df['movil_victima'].map(categoria_dict)"
      ]
    },
    {
      "cell_type": "code",
      "execution_count": 775,
      "metadata": {
        "colab": {
          "base_uri": "https://localhost:8080/",
          "height": 429
        },
        "id": "RljpBG1heZ77",
        "outputId": "2b817772-3d5b-45cf-c549-08899b0c0d6a"
      },
      "outputs": [
        {
          "data": {
            "text/plain": [
              "movil_victima\n",
              "A pie                  85748\n",
              "Motocicleta             5551\n",
              "Vehículo Privado        3816\n",
              "Bus                     2157\n",
              "Taxi                    1125\n",
              "Bicicleta                560\n",
              "Metro                    120\n",
              "No Disponible             12\n",
              "Transporte Aéreo           3\n",
              "Transporte Marítimo        1\n",
              "Name: count, dtype: int64"
            ]
          },
          "execution_count": 775,
          "metadata": {},
          "output_type": "execute_result"
        }
      ],
      "source": [
        "df['movil_victima'].value_counts()"
      ]
    },
    {
      "cell_type": "code",
      "execution_count": 776,
      "metadata": {
        "colab": {
          "base_uri": "https://localhost:8080/",
          "height": 586
        },
        "id": "QCctR9obQESS",
        "outputId": "a9625519-10fe-4a2c-afd2-158e322a8cda"
      },
      "outputs": [
        {
          "data": {
            "text/plain": [
              "movil_agresor\n",
              "A PIE                    75914\n",
              "CONDUCTOR MOTOCICLETA     9572\n",
              "PASAJERO MOTOCICLETA      8561\n",
              "CONDUCTOR VEHICULO        1739\n",
              "PASAJERO BUS              1677\n",
              "CONDUCTOR TAXI             515\n",
              "PASAJERO TAXI              452\n",
              "BICICLETA                  267\n",
              "PASAJERO VEHICULO          263\n",
              "PASAJERO METRO              96\n",
              "CONDUCTOR BUS               29\n",
              "NO DISPONIBLE                5\n",
              "PASAJERO BARCO               1\n",
              "PASAJERO AERONAVE            1\n",
              "TRIPULANTE AERONAVE          1\n",
              "Name: count, dtype: int64"
            ]
          },
          "execution_count": 776,
          "metadata": {},
          "output_type": "execute_result"
        }
      ],
      "source": [
        "# movil agresor\n",
        "df['movil_agresor'].value_counts()"
      ]
    },
    {
      "cell_type": "code",
      "execution_count": 777,
      "metadata": {
        "id": "4tJusXPdSk0d"
      },
      "outputs": [],
      "source": [
        "categoria_dict = {\n",
        "    \"A PIE\": \"A pie\",\n",
        "    \"CONDUCTOR MOTOCICLETA\": \"Motocicleta\",\n",
        "    \"PASAJERO MOTOCICLETA\": \"Motocicleta\",\n",
        "    \"CONDUCTOR VEHICULO\": \"Vehículo Privado\",\n",
        "    \"PASAJERO VEHICULO\": \"Vehículo Privado\",\n",
        "    \"CONDUCTOR TAXI\": \"Taxi\",\n",
        "    \"PASAJERO TAXI\": \"Taxi\",\n",
        "    \"CONDUCTOR BUS\": \"Bus\",\n",
        "    \"PASAJERO BUS\": \"Bus\",\n",
        "    \"PASAJERO METRO\": \"Metro\",\n",
        "    \"BICICLETA\": \"Bicicleta\",\n",
        "    \"PASAJERO AERONAVE\": \"Transporte Aéreo\",\n",
        "    \"PASAJERO BARCO\": \"Transporte Marítimo\",\n",
        "    \"NO DISPONIBLE\": \"No Disponible\"\n",
        "}\n",
        "\n",
        "df['movil_agresor'] = df['movil_agresor'].map(categoria_dict)"
      ]
    },
    {
      "cell_type": "code",
      "execution_count": 778,
      "metadata": {
        "colab": {
          "base_uri": "https://localhost:8080/",
          "height": 429
        },
        "id": "7VGtB_0GSpKr",
        "outputId": "5127a68a-8762-4ba4-dc98-adcb57640a4e"
      },
      "outputs": [
        {
          "data": {
            "text/plain": [
              "movil_agresor\n",
              "A pie                  75914\n",
              "Motocicleta            18133\n",
              "Vehículo Privado        2002\n",
              "Bus                     1706\n",
              "Taxi                     967\n",
              "Bicicleta                267\n",
              "Metro                     96\n",
              "No Disponible              5\n",
              "Transporte Marítimo        1\n",
              "Transporte Aéreo           1\n",
              "Name: count, dtype: int64"
            ]
          },
          "execution_count": 778,
          "metadata": {},
          "output_type": "execute_result"
        }
      ],
      "source": [
        "df['movil_agresor'].value_counts()"
      ]
    },
    {
      "cell_type": "code",
      "execution_count": 779,
      "metadata": {
        "colab": {
          "base_uri": "https://localhost:8080/",
          "height": 1000
        },
        "id": "HUgTh6GbQG5d",
        "outputId": "09b97046-dbcf-456e-8e91-1ce56e549bc2"
      },
      "outputs": [
        {
          "data": {
            "text/plain": [
              "articulo\n",
              "ARTÍCULO 239      60783\n",
              "ARTÍCULO 111      14377\n",
              "ARTÍCULO 229      13430\n",
              "ARTÍCULO 347       3922\n",
              "ARTÍCULO 120       1687\n",
              "ARTÍCULO 209       1358\n",
              "ARTÍCULO 103        815\n",
              "ARTÍCULO 208        587\n",
              "ARTÍCULO 244        497\n",
              "ARTÍCULO 205        383\n",
              "ARTÍCULO 206        243\n",
              "ARTÍCULO 210        212\n",
              "ARTÍCULO 109        188\n",
              "ARTÍCULO 210 A      183\n",
              "ARTÍCULO 218        108\n",
              "ARTÍCULO 219 A       94\n",
              "ARTÍCULO 207         86\n",
              "ARTÍCULO 213         40\n",
              "ARTÍCULO 104A        26\n",
              "ARTÍCULO 211         22\n",
              "ARTÍCULO 217 A       21\n",
              "ARTÍCULO 217          9\n",
              "ARTÍCULO 213 A        6\n",
              "ARTÍCULO 214          5\n",
              "ARTÍCULO 343          4\n",
              "ARTÍCULO 125          3\n",
              "ARTÍCULO 265          1\n",
              "ARTÍCULO 429          1\n",
              "ARTÍCULO 350          1\n",
              "ARTÍCULO 243          1\n",
              "Name: count, dtype: int64"
            ]
          },
          "execution_count": 779,
          "metadata": {},
          "output_type": "execute_result"
        }
      ],
      "source": [
        "#------------------------------------------------------------------------------------------\n",
        "# articulo\n",
        "df['articulo'].value_counts()"
      ]
    },
    {
      "cell_type": "code",
      "execution_count": 780,
      "metadata": {
        "id": "V2qUIAbSQhIu"
      },
      "outputs": [],
      "source": [
        "# esta  columna no tiene utilidad para el analisis, despues se borra."
      ]
    },
    {
      "cell_type": "code",
      "execution_count": 781,
      "metadata": {
        "colab": {
          "base_uri": "https://localhost:8080/",
          "height": 272
        },
        "id": "5CrtNXH7dvfT",
        "outputId": "067faaad-8cee-4285-f451-a60eecd16495"
      },
      "outputs": [
        {
          "data": {
            "text/plain": [
              "tipologia\n",
              "DELITOS CONTRA EL PATRIMONIO ECONOMICO                         61282\n",
              "DELITOS CONTRA LA VIDA Y LA INTEGRIDAD PERSONAL                17097\n",
              "DELITOS CONTRA LA FAMILIA                                      13430\n",
              "DELITOS CONTRA LA SEGURIDAD PUBLICA                             3927\n",
              "DELITOS CONTRA LA LIBERTAD, INTEGRIDAD Y FORMACION SEXUALES     3357\n",
              "Name: count, dtype: int64"
            ]
          },
          "execution_count": 781,
          "metadata": {},
          "output_type": "execute_result"
        }
      ],
      "source": [
        "#------------------------------------------------------------------------------------------\n",
        "#  tipologia\n",
        "\n",
        "df.tipologia.value_counts()"
      ]
    },
    {
      "cell_type": "code",
      "execution_count": 782,
      "metadata": {
        "colab": {
          "base_uri": "https://localhost:8080/",
          "height": 1000
        },
        "id": "rpdo2KQiTQpE",
        "outputId": "745f3ef3-c1d3-4242-fb4a-77e13dee92bb"
      },
      "outputs": [
        {
          "data": {
            "text/html": [
              "<div>\n",
              "<style scoped>\n",
              "    .dataframe tbody tr th:only-of-type {\n",
              "        vertical-align: middle;\n",
              "    }\n",
              "\n",
              "    .dataframe tbody tr th {\n",
              "        vertical-align: top;\n",
              "    }\n",
              "\n",
              "    .dataframe thead th {\n",
              "        text-align: right;\n",
              "    }\n",
              "</style>\n",
              "<table border=\"1\" class=\"dataframe\">\n",
              "  <thead>\n",
              "    <tr style=\"text-align: right;\">\n",
              "      <th></th>\n",
              "      <th>tipologia</th>\n",
              "      <th>delito_solo</th>\n",
              "      <th>Recuento</th>\n",
              "    </tr>\n",
              "  </thead>\n",
              "  <tbody>\n",
              "    <tr>\n",
              "      <th>0</th>\n",
              "      <td>DELITOS CONTRA EL PATRIMONIO ECONOMICO</td>\n",
              "      <td>ABIGEATO</td>\n",
              "      <td>1</td>\n",
              "    </tr>\n",
              "    <tr>\n",
              "      <th>1</th>\n",
              "      <td>DELITOS CONTRA EL PATRIMONIO ECONOMICO</td>\n",
              "      <td>DAÑO EN BIEN AJENO</td>\n",
              "      <td>1</td>\n",
              "    </tr>\n",
              "    <tr>\n",
              "      <th>2</th>\n",
              "      <td>DELITOS CONTRA EL PATRIMONIO ECONOMICO</td>\n",
              "      <td>EXTORSIÓN</td>\n",
              "      <td>497</td>\n",
              "    </tr>\n",
              "    <tr>\n",
              "      <th>3</th>\n",
              "      <td>DELITOS CONTRA EL PATRIMONIO ECONOMICO</td>\n",
              "      <td>HURTO AUTOMOTORES</td>\n",
              "      <td>138</td>\n",
              "    </tr>\n",
              "    <tr>\n",
              "      <th>4</th>\n",
              "      <td>DELITOS CONTRA EL PATRIMONIO ECONOMICO</td>\n",
              "      <td>HURTO ENTIDADES COMERCIALES</td>\n",
              "      <td>7742</td>\n",
              "    </tr>\n",
              "    <tr>\n",
              "      <th>5</th>\n",
              "      <td>DELITOS CONTRA EL PATRIMONIO ECONOMICO</td>\n",
              "      <td>HURTO MOTOCICLETAS</td>\n",
              "      <td>3786</td>\n",
              "    </tr>\n",
              "    <tr>\n",
              "      <th>6</th>\n",
              "      <td>DELITOS CONTRA EL PATRIMONIO ECONOMICO</td>\n",
              "      <td>HURTO PERSONAS</td>\n",
              "      <td>45496</td>\n",
              "    </tr>\n",
              "    <tr>\n",
              "      <th>7</th>\n",
              "      <td>DELITOS CONTRA EL PATRIMONIO ECONOMICO</td>\n",
              "      <td>HURTO RESIDENCIAS</td>\n",
              "      <td>3621</td>\n",
              "    </tr>\n",
              "    <tr>\n",
              "      <th>8</th>\n",
              "      <td>DELITOS CONTRA LA FAMILIA</td>\n",
              "      <td>VIOLENCIA INTRAFAMILIAR</td>\n",
              "      <td>13430</td>\n",
              "    </tr>\n",
              "    <tr>\n",
              "      <th>9</th>\n",
              "      <td>DELITOS CONTRA LA LIBERTAD, INTEGRIDAD Y FORMA...</td>\n",
              "      <td>ACCESO CARNAL ABUSIVO CON MENOR DE 14 AÑOS</td>\n",
              "      <td>587</td>\n",
              "    </tr>\n",
              "    <tr>\n",
              "      <th>10</th>\n",
              "      <td>DELITOS CONTRA LA LIBERTAD, INTEGRIDAD Y FORMA...</td>\n",
              "      <td>ACCESO CARNAL ABUSIVO CON MENOR DE 14 AÑOS (CI...</td>\n",
              "      <td>5</td>\n",
              "    </tr>\n",
              "    <tr>\n",
              "      <th>11</th>\n",
              "      <td>DELITOS CONTRA LA LIBERTAD, INTEGRIDAD Y FORMA...</td>\n",
              "      <td>ACCESO CARNAL O ACTO SEXUAL ABUSIVO CON INCAPA...</td>\n",
              "      <td>212</td>\n",
              "    </tr>\n",
              "    <tr>\n",
              "      <th>12</th>\n",
              "      <td>DELITOS CONTRA LA LIBERTAD, INTEGRIDAD Y FORMA...</td>\n",
              "      <td>ACCESO CARNAL O ACTO SEXUAL ABUSIVO CON INCAPA...</td>\n",
              "      <td>1</td>\n",
              "    </tr>\n",
              "    <tr>\n",
              "      <th>13</th>\n",
              "      <td>DELITOS CONTRA LA LIBERTAD, INTEGRIDAD Y FORMA...</td>\n",
              "      <td>ACCESO CARNAL O ACTO SEXUAL EN PERSONA PUESTA ...</td>\n",
              "      <td>86</td>\n",
              "    </tr>\n",
              "    <tr>\n",
              "      <th>14</th>\n",
              "      <td>DELITOS CONTRA LA LIBERTAD, INTEGRIDAD Y FORMA...</td>\n",
              "      <td>ACCESO CARNAL O ACTO SEXUAL EN PERSONA PUESTA ...</td>\n",
              "      <td>10</td>\n",
              "    </tr>\n",
              "    <tr>\n",
              "      <th>15</th>\n",
              "      <td>DELITOS CONTRA LA LIBERTAD, INTEGRIDAD Y FORMA...</td>\n",
              "      <td>ACCESO CARNAL VIOLENTO</td>\n",
              "      <td>383</td>\n",
              "    </tr>\n",
              "    <tr>\n",
              "      <th>16</th>\n",
              "      <td>DELITOS CONTRA LA LIBERTAD, INTEGRIDAD Y FORMA...</td>\n",
              "      <td>ACCESO CARNAL VIOLENTO (CIRCUNSTANCIAS AGRAVAC...</td>\n",
              "      <td>2</td>\n",
              "    </tr>\n",
              "    <tr>\n",
              "      <th>17</th>\n",
              "      <td>DELITOS CONTRA LA LIBERTAD, INTEGRIDAD Y FORMA...</td>\n",
              "      <td>ACOSO SEXUAL</td>\n",
              "      <td>183</td>\n",
              "    </tr>\n",
              "    <tr>\n",
              "      <th>18</th>\n",
              "      <td>DELITOS CONTRA LA LIBERTAD, INTEGRIDAD Y FORMA...</td>\n",
              "      <td>ACTO SEXUAL VIOLENTO</td>\n",
              "      <td>243</td>\n",
              "    </tr>\n",
              "    <tr>\n",
              "      <th>19</th>\n",
              "      <td>DELITOS CONTRA LA LIBERTAD, INTEGRIDAD Y FORMA...</td>\n",
              "      <td>ACTO SEXUAL VIOLENTO (CIRCUNSTANCIAS DE AGRAVA...</td>\n",
              "      <td>1</td>\n",
              "    </tr>\n",
              "    <tr>\n",
              "      <th>20</th>\n",
              "      <td>DELITOS CONTRA LA LIBERTAD, INTEGRIDAD Y FORMA...</td>\n",
              "      <td>ACTOS SEXUALES CON MENOR DE 14 AÑOS</td>\n",
              "      <td>1358</td>\n",
              "    </tr>\n",
              "    <tr>\n",
              "      <th>21</th>\n",
              "      <td>DELITOS CONTRA LA LIBERTAD, INTEGRIDAD Y FORMA...</td>\n",
              "      <td>ACTOS SEXUALES CON MENOR DE 14 AÑOS (CIRCUNSTA...</td>\n",
              "      <td>3</td>\n",
              "    </tr>\n",
              "    <tr>\n",
              "      <th>22</th>\n",
              "      <td>DELITOS CONTRA LA LIBERTAD, INTEGRIDAD Y FORMA...</td>\n",
              "      <td>CONSTREÑIMIENTO A LA PROSTITUCIÓN</td>\n",
              "      <td>5</td>\n",
              "    </tr>\n",
              "    <tr>\n",
              "      <th>23</th>\n",
              "      <td>DELITOS CONTRA LA LIBERTAD, INTEGRIDAD Y FORMA...</td>\n",
              "      <td>DEMANDA DE EXPLOTACION SEXUAL COMERCIAL DE PER...</td>\n",
              "      <td>21</td>\n",
              "    </tr>\n",
              "    <tr>\n",
              "      <th>24</th>\n",
              "      <td>DELITOS CONTRA LA LIBERTAD, INTEGRIDAD Y FORMA...</td>\n",
              "      <td>ESTÍMULO A LA PROSTITUCIÓN DE MENORES</td>\n",
              "      <td>9</td>\n",
              "    </tr>\n",
              "    <tr>\n",
              "      <th>25</th>\n",
              "      <td>DELITOS CONTRA LA LIBERTAD, INTEGRIDAD Y FORMA...</td>\n",
              "      <td>INDUCCIÓN A LA PROSTITUCIÓN</td>\n",
              "      <td>40</td>\n",
              "    </tr>\n",
              "    <tr>\n",
              "      <th>26</th>\n",
              "      <td>DELITOS CONTRA LA LIBERTAD, INTEGRIDAD Y FORMA...</td>\n",
              "      <td>PORNOGRAFÍA CON MENORES</td>\n",
              "      <td>108</td>\n",
              "    </tr>\n",
              "    <tr>\n",
              "      <th>27</th>\n",
              "      <td>DELITOS CONTRA LA LIBERTAD, INTEGRIDAD Y FORMA...</td>\n",
              "      <td>PROXENETISMO CON MENOR DE EDAD</td>\n",
              "      <td>6</td>\n",
              "    </tr>\n",
              "    <tr>\n",
              "      <th>28</th>\n",
              "      <td>DELITOS CONTRA LA LIBERTAD, INTEGRIDAD Y FORMA...</td>\n",
              "      <td>UTILIZACIÓN O FACILITACIÓN DE MEDIOS DE COMUNI...</td>\n",
              "      <td>94</td>\n",
              "    </tr>\n",
              "    <tr>\n",
              "      <th>29</th>\n",
              "      <td>DELITOS CONTRA LA SEGURIDAD PUBLICA</td>\n",
              "      <td>AMENAZAS</td>\n",
              "      <td>3922</td>\n",
              "    </tr>\n",
              "    <tr>\n",
              "      <th>30</th>\n",
              "      <td>DELITOS CONTRA LA SEGURIDAD PUBLICA</td>\n",
              "      <td>INCENDIO</td>\n",
              "      <td>1</td>\n",
              "    </tr>\n",
              "    <tr>\n",
              "      <th>31</th>\n",
              "      <td>DELITOS CONTRA LA SEGURIDAD PUBLICA</td>\n",
              "      <td>TERRORISMO</td>\n",
              "      <td>4</td>\n",
              "    </tr>\n",
              "    <tr>\n",
              "      <th>32</th>\n",
              "      <td>DELITOS CONTRA LA VIDA Y LA INTEGRIDAD PERSONAL</td>\n",
              "      <td>FEMINICIDIO</td>\n",
              "      <td>26</td>\n",
              "    </tr>\n",
              "    <tr>\n",
              "      <th>33</th>\n",
              "      <td>DELITOS CONTRA LA VIDA Y LA INTEGRIDAD PERSONAL</td>\n",
              "      <td>HOMICIDIO</td>\n",
              "      <td>815</td>\n",
              "    </tr>\n",
              "    <tr>\n",
              "      <th>34</th>\n",
              "      <td>DELITOS CONTRA LA VIDA Y LA INTEGRIDAD PERSONAL</td>\n",
              "      <td>HOMICIDIO CULPOSO ( EN ACCIDENTE DE TRÁNSITO)</td>\n",
              "      <td>188</td>\n",
              "    </tr>\n",
              "    <tr>\n",
              "      <th>35</th>\n",
              "      <td>DELITOS CONTRA LA VIDA Y LA INTEGRIDAD PERSONAL</td>\n",
              "      <td>LESIONES AL FETO</td>\n",
              "      <td>3</td>\n",
              "    </tr>\n",
              "    <tr>\n",
              "      <th>36</th>\n",
              "      <td>DELITOS CONTRA LA VIDA Y LA INTEGRIDAD PERSONAL</td>\n",
              "      <td>LESIONES CULPOSAS</td>\n",
              "      <td>50</td>\n",
              "    </tr>\n",
              "    <tr>\n",
              "      <th>37</th>\n",
              "      <td>DELITOS CONTRA LA VIDA Y LA INTEGRIDAD PERSONAL</td>\n",
              "      <td>LESIONES CULPOSAS ( EN ACCIDENTE DE TRANSITO )</td>\n",
              "      <td>1637</td>\n",
              "    </tr>\n",
              "    <tr>\n",
              "      <th>38</th>\n",
              "      <td>DELITOS CONTRA LA VIDA Y LA INTEGRIDAD PERSONAL</td>\n",
              "      <td>LESIONES PERSONALES</td>\n",
              "      <td>14377</td>\n",
              "    </tr>\n",
              "    <tr>\n",
              "      <th>39</th>\n",
              "      <td>DELITOS CONTRA LA VIDA Y LA INTEGRIDAD PERSONAL</td>\n",
              "      <td>VIOLENCIA CONTRA SERVIDOR PÚBLICO</td>\n",
              "      <td>1</td>\n",
              "    </tr>\n",
              "  </tbody>\n",
              "</table>\n",
              "</div>"
            ],
            "text/plain": [
              "                                            tipologia  \\\n",
              "0              DELITOS CONTRA EL PATRIMONIO ECONOMICO   \n",
              "1              DELITOS CONTRA EL PATRIMONIO ECONOMICO   \n",
              "2              DELITOS CONTRA EL PATRIMONIO ECONOMICO   \n",
              "3              DELITOS CONTRA EL PATRIMONIO ECONOMICO   \n",
              "4              DELITOS CONTRA EL PATRIMONIO ECONOMICO   \n",
              "5              DELITOS CONTRA EL PATRIMONIO ECONOMICO   \n",
              "6              DELITOS CONTRA EL PATRIMONIO ECONOMICO   \n",
              "7              DELITOS CONTRA EL PATRIMONIO ECONOMICO   \n",
              "8                           DELITOS CONTRA LA FAMILIA   \n",
              "9   DELITOS CONTRA LA LIBERTAD, INTEGRIDAD Y FORMA...   \n",
              "10  DELITOS CONTRA LA LIBERTAD, INTEGRIDAD Y FORMA...   \n",
              "11  DELITOS CONTRA LA LIBERTAD, INTEGRIDAD Y FORMA...   \n",
              "12  DELITOS CONTRA LA LIBERTAD, INTEGRIDAD Y FORMA...   \n",
              "13  DELITOS CONTRA LA LIBERTAD, INTEGRIDAD Y FORMA...   \n",
              "14  DELITOS CONTRA LA LIBERTAD, INTEGRIDAD Y FORMA...   \n",
              "15  DELITOS CONTRA LA LIBERTAD, INTEGRIDAD Y FORMA...   \n",
              "16  DELITOS CONTRA LA LIBERTAD, INTEGRIDAD Y FORMA...   \n",
              "17  DELITOS CONTRA LA LIBERTAD, INTEGRIDAD Y FORMA...   \n",
              "18  DELITOS CONTRA LA LIBERTAD, INTEGRIDAD Y FORMA...   \n",
              "19  DELITOS CONTRA LA LIBERTAD, INTEGRIDAD Y FORMA...   \n",
              "20  DELITOS CONTRA LA LIBERTAD, INTEGRIDAD Y FORMA...   \n",
              "21  DELITOS CONTRA LA LIBERTAD, INTEGRIDAD Y FORMA...   \n",
              "22  DELITOS CONTRA LA LIBERTAD, INTEGRIDAD Y FORMA...   \n",
              "23  DELITOS CONTRA LA LIBERTAD, INTEGRIDAD Y FORMA...   \n",
              "24  DELITOS CONTRA LA LIBERTAD, INTEGRIDAD Y FORMA...   \n",
              "25  DELITOS CONTRA LA LIBERTAD, INTEGRIDAD Y FORMA...   \n",
              "26  DELITOS CONTRA LA LIBERTAD, INTEGRIDAD Y FORMA...   \n",
              "27  DELITOS CONTRA LA LIBERTAD, INTEGRIDAD Y FORMA...   \n",
              "28  DELITOS CONTRA LA LIBERTAD, INTEGRIDAD Y FORMA...   \n",
              "29                DELITOS CONTRA LA SEGURIDAD PUBLICA   \n",
              "30                DELITOS CONTRA LA SEGURIDAD PUBLICA   \n",
              "31                DELITOS CONTRA LA SEGURIDAD PUBLICA   \n",
              "32    DELITOS CONTRA LA VIDA Y LA INTEGRIDAD PERSONAL   \n",
              "33    DELITOS CONTRA LA VIDA Y LA INTEGRIDAD PERSONAL   \n",
              "34    DELITOS CONTRA LA VIDA Y LA INTEGRIDAD PERSONAL   \n",
              "35    DELITOS CONTRA LA VIDA Y LA INTEGRIDAD PERSONAL   \n",
              "36    DELITOS CONTRA LA VIDA Y LA INTEGRIDAD PERSONAL   \n",
              "37    DELITOS CONTRA LA VIDA Y LA INTEGRIDAD PERSONAL   \n",
              "38    DELITOS CONTRA LA VIDA Y LA INTEGRIDAD PERSONAL   \n",
              "39    DELITOS CONTRA LA VIDA Y LA INTEGRIDAD PERSONAL   \n",
              "\n",
              "                                          delito_solo  Recuento  \n",
              "0                                            ABIGEATO         1  \n",
              "1                                  DAÑO EN BIEN AJENO         1  \n",
              "2                                           EXTORSIÓN       497  \n",
              "3                                   HURTO AUTOMOTORES       138  \n",
              "4                         HURTO ENTIDADES COMERCIALES      7742  \n",
              "5                                  HURTO MOTOCICLETAS      3786  \n",
              "6                                      HURTO PERSONAS     45496  \n",
              "7                                   HURTO RESIDENCIAS      3621  \n",
              "8                             VIOLENCIA INTRAFAMILIAR     13430  \n",
              "9          ACCESO CARNAL ABUSIVO CON MENOR DE 14 AÑOS       587  \n",
              "10  ACCESO CARNAL ABUSIVO CON MENOR DE 14 AÑOS (CI...         5  \n",
              "11  ACCESO CARNAL O ACTO SEXUAL ABUSIVO CON INCAPA...       212  \n",
              "12  ACCESO CARNAL O ACTO SEXUAL ABUSIVO CON INCAPA...         1  \n",
              "13  ACCESO CARNAL O ACTO SEXUAL EN PERSONA PUESTA ...        86  \n",
              "14  ACCESO CARNAL O ACTO SEXUAL EN PERSONA PUESTA ...        10  \n",
              "15                             ACCESO CARNAL VIOLENTO       383  \n",
              "16  ACCESO CARNAL VIOLENTO (CIRCUNSTANCIAS AGRAVAC...         2  \n",
              "17                                       ACOSO SEXUAL       183  \n",
              "18                               ACTO SEXUAL VIOLENTO       243  \n",
              "19  ACTO SEXUAL VIOLENTO (CIRCUNSTANCIAS DE AGRAVA...         1  \n",
              "20                ACTOS SEXUALES CON MENOR DE 14 AÑOS      1358  \n",
              "21  ACTOS SEXUALES CON MENOR DE 14 AÑOS (CIRCUNSTA...         3  \n",
              "22                  CONSTREÑIMIENTO A LA PROSTITUCIÓN         5  \n",
              "23  DEMANDA DE EXPLOTACION SEXUAL COMERCIAL DE PER...        21  \n",
              "24              ESTÍMULO A LA PROSTITUCIÓN DE MENORES         9  \n",
              "25                        INDUCCIÓN A LA PROSTITUCIÓN        40  \n",
              "26                            PORNOGRAFÍA CON MENORES       108  \n",
              "27                     PROXENETISMO CON MENOR DE EDAD         6  \n",
              "28  UTILIZACIÓN O FACILITACIÓN DE MEDIOS DE COMUNI...        94  \n",
              "29                                           AMENAZAS      3922  \n",
              "30                                           INCENDIO         1  \n",
              "31                                         TERRORISMO         4  \n",
              "32                                        FEMINICIDIO        26  \n",
              "33                                          HOMICIDIO       815  \n",
              "34      HOMICIDIO CULPOSO ( EN ACCIDENTE DE TRÁNSITO)       188  \n",
              "35                                   LESIONES AL FETO         3  \n",
              "36                                  LESIONES CULPOSAS        50  \n",
              "37     LESIONES CULPOSAS ( EN ACCIDENTE DE TRANSITO )      1637  \n",
              "38                                LESIONES PERSONALES     14377  \n",
              "39                  VIOLENCIA CONTRA SERVIDOR PÚBLICO         1  "
            ]
          },
          "execution_count": 782,
          "metadata": {},
          "output_type": "execute_result"
        }
      ],
      "source": [
        "# Agrupar por 'Categoria' y 'Subcategoria' y calcular la suma de 'Valor'\n",
        "#resultado = df.groupby(['tipologia', 'delito_solo']).reset_index(name='Recuento')\n",
        "\n",
        "conteo = df.groupby(['tipologia', 'delito_solo']).size().reset_index(name='Recuento')\n",
        "conteo"
      ]
    },
    {
      "cell_type": "code",
      "execution_count": 783,
      "metadata": {
        "colab": {
          "base_uri": "https://localhost:8080/",
          "height": 1000
        },
        "id": "xi69sG17Q6yX",
        "outputId": "782a135e-3c62-444c-9b1f-34ef8cbafdda"
      },
      "outputs": [
        {
          "data": {
            "text/plain": [
              "delito_solo\n",
              "HURTO PERSONAS                                                                                     45496\n",
              "LESIONES PERSONALES                                                                                14377\n",
              "VIOLENCIA INTRAFAMILIAR                                                                            13430\n",
              "HURTO ENTIDADES COMERCIALES                                                                         7742\n",
              "AMENAZAS                                                                                            3922\n",
              "HURTO MOTOCICLETAS                                                                                  3786\n",
              "HURTO RESIDENCIAS                                                                                   3621\n",
              "LESIONES CULPOSAS ( EN ACCIDENTE DE TRANSITO )                                                      1637\n",
              "ACTOS SEXUALES CON MENOR DE 14 AÑOS                                                                 1358\n",
              "HOMICIDIO                                                                                            815\n",
              "ACCESO CARNAL ABUSIVO CON MENOR DE 14 AÑOS                                                           587\n",
              "EXTORSIÓN                                                                                            497\n",
              "ACCESO CARNAL VIOLENTO                                                                               383\n",
              "ACTO SEXUAL VIOLENTO                                                                                 243\n",
              "ACCESO CARNAL O ACTO SEXUAL ABUSIVO CON INCAPAZ DE RESISTIR                                          212\n",
              "HOMICIDIO CULPOSO ( EN ACCIDENTE DE TRÁNSITO)                                                        188\n",
              "ACOSO SEXUAL                                                                                         183\n",
              "HURTO AUTOMOTORES                                                                                    138\n",
              "PORNOGRAFÍA CON MENORES                                                                              108\n",
              "UTILIZACIÓN O FACILITACIÓN DE MEDIOS DE COMUNICACIÓN PARA OFRECER SERVICIOS SEXUALES DE MENORES       94\n",
              "ACCESO CARNAL O ACTO SEXUAL EN PERSONA PUESTA EN INCAPACIDAD DE RESISTIR                              86\n",
              "LESIONES CULPOSAS                                                                                     50\n",
              "INDUCCIÓN A LA PROSTITUCIÓN                                                                           40\n",
              "FEMINICIDIO                                                                                           26\n",
              "DEMANDA DE EXPLOTACION SEXUAL COMERCIAL DE PERSONA MENOR DE 18 AÑOS DE EDAD                           21\n",
              "ACCESO CARNAL O ACTO SEXUAL EN PERSONA PUESTA EN INCAPACIDAD DE RESISTIR  (CIRCUNSTANC                10\n",
              "ESTÍMULO A LA PROSTITUCIÓN DE MENORES                                                                  9\n",
              "PROXENETISMO CON MENOR DE EDAD                                                                         6\n",
              "CONSTREÑIMIENTO A LA PROSTITUCIÓN                                                                      5\n",
              "ACCESO CARNAL ABUSIVO CON MENOR DE 14 AÑOS (CIRCUNSTANCIAS AGRAVACIÓN)                                 5\n",
              "TERRORISMO                                                                                             4\n",
              "ACTOS SEXUALES CON MENOR DE 14 AÑOS (CIRCUNSTANCIAS DE AGRAVACIÓN)                                     3\n",
              "LESIONES AL FETO                                                                                       3\n",
              "ACCESO CARNAL VIOLENTO (CIRCUNSTANCIAS AGRAVACIÓN)                                                     2\n",
              "VIOLENCIA CONTRA SERVIDOR PÚBLICO                                                                      1\n",
              "DAÑO EN BIEN AJENO                                                                                     1\n",
              "INCENDIO                                                                                               1\n",
              "ABIGEATO                                                                                               1\n",
              "ACTO SEXUAL VIOLENTO (CIRCUNSTANCIAS DE AGRAVACIÓN)                                                    1\n",
              "ACCESO CARNAL O ACTO SEXUAL ABUSIVO CON INCAPAZ DE RESISTIR (CIRCUNSTANCIAS AGRAVACIÓN)                1\n",
              "Name: count, dtype: int64"
            ]
          },
          "execution_count": 783,
          "metadata": {},
          "output_type": "execute_result"
        }
      ],
      "source": [
        "#------------------------------------------------------------------------------------------\n",
        "# delito_solo\n",
        "df['delito_solo'].value_counts()"
      ]
    },
    {
      "cell_type": "code",
      "execution_count": 784,
      "metadata": {
        "colab": {
          "base_uri": "https://localhost:8080/"
        },
        "id": "mhO_yHqFxvt4",
        "outputId": "e0205728-9c6b-456c-dc34-ba5ce552cc9e"
      },
      "outputs": [
        {
          "data": {
            "text/plain": [
              "array(['HURTO PERSONAS', 'HURTO RESIDENCIAS', 'HURTO MOTOCICLETAS',\n",
              "       'HURTO AUTOMOTORES', 'HURTO ENTIDADES COMERCIALES',\n",
              "       'ACTOS SEXUALES CON MENOR DE 14 AÑOS',\n",
              "       'ACCESO CARNAL ABUSIVO CON MENOR DE 14 AÑOS',\n",
              "       'VIOLENCIA INTRAFAMILIAR', 'LESIONES CULPOSAS',\n",
              "       'ACTO SEXUAL VIOLENTO',\n",
              "       'UTILIZACIÓN O FACILITACIÓN DE MEDIOS DE COMUNICACIÓN PARA OFRECER SERVICIOS SEXUALES DE MENORES',\n",
              "       'ACCESO CARNAL VIOLENTO',\n",
              "       'ACCESO CARNAL O ACTO SEXUAL EN PERSONA PUESTA EN INCAPACIDAD DE RESISTIR  (CIRCUNSTANC',\n",
              "       'ACCESO CARNAL O ACTO SEXUAL EN PERSONA PUESTA EN INCAPACIDAD DE RESISTIR',\n",
              "       'INDUCCIÓN A LA PROSTITUCIÓN', 'ACOSO SEXUAL',\n",
              "       'DEMANDA DE EXPLOTACION SEXUAL COMERCIAL DE PERSONA MENOR DE 18 AÑOS DE EDAD',\n",
              "       'ESTÍMULO A LA PROSTITUCIÓN DE MENORES',\n",
              "       'CONSTREÑIMIENTO A LA PROSTITUCIÓN',\n",
              "       'ACTOS SEXUALES CON MENOR DE 14 AÑOS (CIRCUNSTANCIAS DE AGRAVACIÓN)',\n",
              "       'ACCESO CARNAL ABUSIVO CON MENOR DE 14 AÑOS (CIRCUNSTANCIAS AGRAVACIÓN)',\n",
              "       'ACCESO CARNAL O ACTO SEXUAL ABUSIVO CON INCAPAZ DE RESISTIR',\n",
              "       'LESIONES PERSONALES', 'EXTORSIÓN', 'PORNOGRAFÍA CON MENORES',\n",
              "       'PROXENETISMO CON MENOR DE EDAD',\n",
              "       'ACCESO CARNAL VIOLENTO (CIRCUNSTANCIAS AGRAVACIÓN)', 'HOMICIDIO',\n",
              "       'FEMINICIDIO', 'LESIONES AL FETO', 'AMENAZAS', 'TERRORISMO',\n",
              "       'DAÑO EN BIEN AJENO', 'VIOLENCIA CONTRA SERVIDOR PÚBLICO',\n",
              "       'INCENDIO', 'LESIONES CULPOSAS ( EN ACCIDENTE DE TRANSITO )',\n",
              "       'ABIGEATO', 'HOMICIDIO CULPOSO ( EN ACCIDENTE DE TRÁNSITO)',\n",
              "       'ACTO SEXUAL VIOLENTO (CIRCUNSTANCIAS DE AGRAVACIÓN)',\n",
              "       'ACCESO CARNAL O ACTO SEXUAL ABUSIVO CON INCAPAZ DE RESISTIR (CIRCUNSTANCIAS AGRAVACIÓN)'],\n",
              "      dtype=object)"
            ]
          },
          "execution_count": 784,
          "metadata": {},
          "output_type": "execute_result"
        }
      ],
      "source": [
        "df['delito_solo'].unique()"
      ]
    },
    {
      "cell_type": "code",
      "execution_count": 785,
      "metadata": {
        "colab": {
          "base_uri": "https://localhost:8080/",
          "height": 711
        },
        "id": "oZcrbcPKRPRt",
        "outputId": "ff9b9f12-daab-43bd-ffbc-29fef778bfea"
      },
      "outputs": [
        {
          "data": {
            "text/plain": [
              "curso_vida\n",
              "25-29            14214\n",
              "20-24            13611\n",
              "30-34            12469\n",
              "35-39            10123\n",
              "NO DISPONIBLE     9171\n",
              "40-44             8405\n",
              "15-19             6426\n",
              "45-49             6386\n",
              "50-54             5060\n",
              "55-59             3678\n",
              "60-64             2409\n",
              "10-14             2255\n",
              "65-69             1489\n",
              "5-9               1007\n",
              "70-74              893\n",
              "0-4                554\n",
              "75-79              509\n",
              "80-84              260\n",
              "85 o más           174\n",
              "Name: count, dtype: int64"
            ]
          },
          "execution_count": 785,
          "metadata": {},
          "output_type": "execute_result"
        }
      ],
      "source": [
        "#------------------------------------------------------------------------------------------\n",
        "# curso_vida\n",
        "df['curso_vida'].value_counts()"
      ]
    },
    {
      "cell_type": "code",
      "execution_count": 786,
      "metadata": {
        "id": "352e3AmKRweL"
      },
      "outputs": [],
      "source": [
        "# Hay muchas categorias de rango de edad, se reduce el numero de grupos"
      ]
    },
    {
      "cell_type": "code",
      "execution_count": 787,
      "metadata": {
        "id": "b0oIZOshR1cC"
      },
      "outputs": [],
      "source": [
        "# Diccionario para mapear edades a los grupos personalizados\n",
        "# Fuente: https://www.minsalud.gov.co/proteccionsocial/Paginas/ciclovida.aspx\n",
        "mapa_edades = {\n",
        "    '0-4': 'Primera Infancia (0-5 años)',\n",
        "    '5-9': 'Primera Infancia (0-5 años)',\n",
        "    '10-14': 'Infancia (6-11 años)',\n",
        "    '15-19': 'Adolescencia (12-18 años)',\n",
        "    '20-24': 'Juventud (14-26 años)',\n",
        "    '25-29': 'Juventud (14-26 años)',\n",
        "    '30-34': 'Adultez (27-59 años)',\n",
        "    '35-39': 'Adultez (27-59 años)',\n",
        "    '40-44': 'Adultez (27-59 años)',\n",
        "    '45-49': 'Adultez (27-59 años)',\n",
        "    '50-54': 'Adultez (27-59 años)',\n",
        "    '55-59': 'Adultez (27-59 años)',\n",
        "    '60-64': 'Persona Mayor (60 años o más)',\n",
        "    '65-69': 'Persona Mayor (60 años o más)',\n",
        "    '70-74': 'Persona Mayor (60 años o más)',\n",
        "    '75-79': 'Persona Mayor (60 años o más)',\n",
        "    '80-84': 'Persona Mayor (60 años o más)',\n",
        "    '85 o más': 'Persona Mayor (60 años o más)',\n",
        "    'NO DISPONIBLE': 'No disponible'\n",
        "}"
      ]
    },
    {
      "cell_type": "code",
      "execution_count": 788,
      "metadata": {
        "id": "IPNxZFL-SkNY"
      },
      "outputs": [],
      "source": [
        "df['curso_vida'] = df['curso_vida'].map(mapa_edades)"
      ]
    },
    {
      "cell_type": "code",
      "execution_count": 789,
      "metadata": {
        "colab": {
          "base_uri": "https://localhost:8080/",
          "height": 335
        },
        "id": "ab-TZdPzSpMG",
        "outputId": "ab854d4a-18df-4901-f056-4b84248463d7"
      },
      "outputs": [
        {
          "data": {
            "text/plain": [
              "curso_vida\n",
              "Adultez (27-59 años)             46121\n",
              "Juventud (14-26 años)            27825\n",
              "No disponible                     9171\n",
              "Adolescencia (12-18 años)         6426\n",
              "Persona Mayor (60 años o más)     5734\n",
              "Infancia (6-11 años)              2255\n",
              "Primera Infancia (0-5 años)       1561\n",
              "Name: count, dtype: int64"
            ]
          },
          "execution_count": 789,
          "metadata": {},
          "output_type": "execute_result"
        }
      ],
      "source": [
        "# curso_vida\n",
        "df['curso_vida'].value_counts()"
      ]
    },
    {
      "cell_type": "code",
      "execution_count": 790,
      "metadata": {
        "id": "KCmbR1-yTLEl"
      },
      "outputs": [],
      "source": [
        "#------------------------------------------------------------------------------------------\n",
        "# curso_vida\n",
        "\n",
        "# Definir el orden de las categorías\n",
        "orden_categorico = [\n",
        "    'Primera Infancia (0-5 años)',\n",
        "    'Infancia (6-11 años)',\n",
        "    'Adolescencia (12-18 años)',\n",
        "    'Juventud (14-26 años)',\n",
        "    'Adultez (27-59 años)',\n",
        "    'Persona Mayor (60 años o más)',\n",
        "    'No disponible'\n",
        "]\n",
        "\n",
        "\n",
        "# Convertir la columna en categórica con orden\n",
        "df['curso_vida'] = pd.Categorical(df['curso_vida'], categories=orden_categorico, ordered=True)\n",
        "\n",
        "# Crear la columna de orden numérico\n",
        "df['curso_vida_orden'] = df['curso_vida'].cat.codes"
      ]
    },
    {
      "cell_type": "code",
      "execution_count": 791,
      "metadata": {
        "colab": {
          "base_uri": "https://localhost:8080/",
          "height": 458
        },
        "id": "cGYV-GRSUZlx",
        "outputId": "8703b17d-690e-448e-f3a3-4ea0729d23b9"
      },
      "outputs": [
        {
          "data": {
            "text/plain": [
              "0         3\n",
              "1         3\n",
              "2         3\n",
              "3         3\n",
              "4         3\n",
              "         ..\n",
              "100985    4\n",
              "100987    3\n",
              "100988    3\n",
              "100990    4\n",
              "100991    4\n",
              "Name: curso_vida_orden, Length: 99093, dtype: int8"
            ]
          },
          "execution_count": 791,
          "metadata": {},
          "output_type": "execute_result"
        }
      ],
      "source": [
        "df['curso_vida_orden']"
      ]
    },
    {
      "cell_type": "code",
      "execution_count": 792,
      "metadata": {
        "colab": {
          "base_uri": "https://localhost:8080/",
          "height": 206
        },
        "id": "luJCgxM1UlzQ",
        "outputId": "e380897d-e4b3-4760-f8f6-26107e695cd2"
      },
      "outputs": [
        {
          "data": {
            "text/html": [
              "<div>\n",
              "<style scoped>\n",
              "    .dataframe tbody tr th:only-of-type {\n",
              "        vertical-align: middle;\n",
              "    }\n",
              "\n",
              "    .dataframe tbody tr th {\n",
              "        vertical-align: top;\n",
              "    }\n",
              "\n",
              "    .dataframe thead th {\n",
              "        text-align: right;\n",
              "    }\n",
              "</style>\n",
              "<table border=\"1\" class=\"dataframe\">\n",
              "  <thead>\n",
              "    <tr style=\"text-align: right;\">\n",
              "      <th></th>\n",
              "      <th>curso_vida</th>\n",
              "      <th>curso_vida_orden</th>\n",
              "    </tr>\n",
              "  </thead>\n",
              "  <tbody>\n",
              "    <tr>\n",
              "      <th>0</th>\n",
              "      <td>Juventud (14-26 años)</td>\n",
              "      <td>3</td>\n",
              "    </tr>\n",
              "    <tr>\n",
              "      <th>1</th>\n",
              "      <td>Juventud (14-26 años)</td>\n",
              "      <td>3</td>\n",
              "    </tr>\n",
              "    <tr>\n",
              "      <th>2</th>\n",
              "      <td>Juventud (14-26 años)</td>\n",
              "      <td>3</td>\n",
              "    </tr>\n",
              "    <tr>\n",
              "      <th>3</th>\n",
              "      <td>Juventud (14-26 años)</td>\n",
              "      <td>3</td>\n",
              "    </tr>\n",
              "    <tr>\n",
              "      <th>4</th>\n",
              "      <td>Juventud (14-26 años)</td>\n",
              "      <td>3</td>\n",
              "    </tr>\n",
              "  </tbody>\n",
              "</table>\n",
              "</div>"
            ],
            "text/plain": [
              "              curso_vida  curso_vida_orden\n",
              "0  Juventud (14-26 años)                 3\n",
              "1  Juventud (14-26 años)                 3\n",
              "2  Juventud (14-26 años)                 3\n",
              "3  Juventud (14-26 años)                 3\n",
              "4  Juventud (14-26 años)                 3"
            ]
          },
          "execution_count": 792,
          "metadata": {},
          "output_type": "execute_result"
        }
      ],
      "source": [
        "df[['curso_vida','curso_vida_orden']].head()"
      ]
    },
    {
      "cell_type": "code",
      "execution_count": 793,
      "metadata": {
        "colab": {
          "base_uri": "https://localhost:8080/",
          "height": 366
        },
        "id": "cmBlqlaEU6KX",
        "outputId": "2d556965-c468-472f-a4c9-9127e37be33a"
      },
      "outputs": [
        {
          "data": {
            "text/plain": [
              "year\n",
              "2022    15482\n",
              "2021    14769\n",
              "2019    12746\n",
              "2018    12347\n",
              "2023    12046\n",
              "2017    10847\n",
              "2016    10652\n",
              "2020    10204\n",
              "Name: count, dtype: int64"
            ]
          },
          "execution_count": 793,
          "metadata": {},
          "output_type": "execute_result"
        }
      ],
      "source": [
        "#------------------------------------------------------------------------------------------\n",
        "# year_num.value_counts()\n",
        "\n",
        "df = df.rename(columns={'year_num': 'year'})\n",
        "\n",
        "df.year.value_counts()"
      ]
    },
    {
      "cell_type": "code",
      "execution_count": 794,
      "metadata": {
        "colab": {
          "base_uri": "https://localhost:8080/",
          "height": 492
        },
        "id": "QZcETurbX2O3",
        "outputId": "4ca0d13f-40a1-4394-bc28-ce2c31dd6f09"
      },
      "outputs": [
        {
          "data": {
            "text/plain": [
              "mes_num\n",
              "9     8976\n",
              "8     8651\n",
              "10    8616\n",
              "7     8563\n",
              "1     8459\n",
              "2     8405\n",
              "3     8399\n",
              "5     8337\n",
              "6     8085\n",
              "4     7694\n",
              "12    7497\n",
              "11    7411\n",
              "Name: count, dtype: int64"
            ]
          },
          "execution_count": 794,
          "metadata": {},
          "output_type": "execute_result"
        }
      ],
      "source": [
        "#------------------------------------------------------------------------------------------\n",
        "#  mes_num\n",
        "\n",
        "df.mes_num.value_counts()"
      ]
    },
    {
      "cell_type": "code",
      "execution_count": 795,
      "metadata": {
        "colab": {
          "base_uri": "https://localhost:8080/",
          "height": 1000
        },
        "id": "KmWzkcA6ZCJq",
        "outputId": "78690046-5cc0-4164-99e7-0ae7105fbb6c"
      },
      "outputs": [
        {
          "data": {
            "text/plain": [
              "dia_num\n",
              "1     3682\n",
              "10    3409\n",
              "15    3375\n",
              "23    3345\n",
              "18    3344\n",
              "9     3333\n",
              "3     3331\n",
              "14    3297\n",
              "5     3295\n",
              "28    3278\n",
              "2     3278\n",
              "20    3272\n",
              "22    3260\n",
              "24    3258\n",
              "4     3238\n",
              "8     3238\n",
              "19    3234\n",
              "27    3221\n",
              "17    3203\n",
              "13    3191\n",
              "6     3186\n",
              "26    3183\n",
              "25    3176\n",
              "21    3155\n",
              "16    3146\n",
              "7     3136\n",
              "11    3122\n",
              "12    3116\n",
              "30    3050\n",
              "29    2813\n",
              "31    1928\n",
              "Name: count, dtype: int64"
            ]
          },
          "execution_count": 795,
          "metadata": {},
          "output_type": "execute_result"
        }
      ],
      "source": [
        "#------------------------------------------------------------------------------------------\n",
        "#  dia_num\n",
        "\n",
        "df.dia_num.value_counts()"
      ]
    },
    {
      "cell_type": "code",
      "execution_count": 796,
      "metadata": {
        "colab": {
          "base_uri": "https://localhost:8080/",
          "height": 868
        },
        "id": "mp80jRzbZFm2",
        "outputId": "3b275695-0b92-474f-b312-835d3d384194"
      },
      "outputs": [
        {
          "data": {
            "text/plain": [
              "rango_horario\n",
              "10:00-10:59    7187\n",
              "11:00-11:59    6052\n",
              "19:00-19:59    5839\n",
              "20:00-20:59    5512\n",
              "8:00-8:59      5509\n",
              "18:00-18:59    5429\n",
              "9:00-9:59      5296\n",
              "16:00-16:59    5005\n",
              "15:00-15:59    4910\n",
              "17:00-17:59    4905\n",
              "14:00-14:59    4525\n",
              "12:00-12:59    4340\n",
              "21:00-21:59    4055\n",
              "13:00-13:59    4015\n",
              "7:00-7:59      3585\n",
              "0:00-0:59      3439\n",
              "22:00-22:59    3243\n",
              "6:00-6:59      2669\n",
              "23:00-23:59    2537\n",
              "1:00-1:59      2464\n",
              "2:00-2:59      2461\n",
              "3:00-3:59      2312\n",
              "5:00-5:59      1931\n",
              "4:00-4:59      1873\n",
              "Name: count, dtype: int64"
            ]
          },
          "execution_count": 796,
          "metadata": {},
          "output_type": "execute_result"
        }
      ],
      "source": [
        "#------------------------------------------------------------------------------------------\n",
        "#  rango_horario\n",
        "df.rango_horario.value_counts()"
      ]
    },
    {
      "cell_type": "code",
      "execution_count": 797,
      "metadata": {
        "colab": {
          "base_uri": "https://localhost:8080/",
          "height": 335
        },
        "id": "FfxLEu2fcmhl",
        "outputId": "d47ccabd-2235-4b05-b5aa-c181cb09e17a"
      },
      "outputs": [
        {
          "data": {
            "text/plain": [
              "dia_nombre\n",
              "sábado       15478\n",
              "viernes      14878\n",
              "martes       14223\n",
              "miércoles    14171\n",
              "lunes        13928\n",
              "jueves       13777\n",
              "domingo      12638\n",
              "Name: count, dtype: int64"
            ]
          },
          "execution_count": 797,
          "metadata": {},
          "output_type": "execute_result"
        }
      ],
      "source": [
        "#------------------------------------------------------------------------------------------\n",
        "#  dia_nombre\n",
        "df.dia_nombre.value_counts()"
      ]
    },
    {
      "cell_type": "code",
      "execution_count": 798,
      "metadata": {
        "colab": {
          "base_uri": "https://localhost:8080/",
          "height": 648
        },
        "id": "9yyEO100Zj_-",
        "outputId": "e4af28c6-5093-437c-b409-74d1782a8b55"
      },
      "outputs": [
        {
          "data": {
            "text/plain": [
              "localidad\n",
              "13. ORIENTAL              11898\n",
              "03. SAN FRANCISCO         11678\n",
              "15. CENTRO                10800\n",
              "12. CABECERA DEL LLANO    10094\n",
              "01. NORTE                  9316\n",
              "06. LA CONCORDIA           6830\n",
              "04. OCCIDENTAL             6669\n",
              "05. GARCIA ROVIRA          5429\n",
              "10. PROVENZA               5136\n",
              "02. NORORIENTAL            4081\n",
              "11. SUR                    3240\n",
              "17. MUTIS                  2748\n",
              "07. LA CIUDADELA           2485\n",
              "16. LAGOS DEL CACIQUE      2410\n",
              "14. MORRORICO              2407\n",
              "08. SUROCCIDENTE           1944\n",
              "09. LA PEDREGOSA           1928\n",
              "Name: count, dtype: int64"
            ]
          },
          "execution_count": 798,
          "metadata": {},
          "output_type": "execute_result"
        }
      ],
      "source": [
        "#------------------------------------------------------------------------------------------\n",
        "#  tipologia\n",
        "\n",
        "df.localidad.value_counts()"
      ]
    },
    {
      "cell_type": "code",
      "execution_count": 799,
      "metadata": {
        "colab": {
          "base_uri": "https://localhost:8080/",
          "height": 648
        },
        "id": "VQKjLQOrZvFv",
        "outputId": "a83c8223-8d1d-45df-839b-4bb14aa2e803"
      },
      "outputs": [
        {
          "data": {
            "text/plain": [
              "num_com\n",
              "13    11898\n",
              "3     11678\n",
              "15    10800\n",
              "12    10094\n",
              "1      9316\n",
              "6      6830\n",
              "4      6669\n",
              "5      5429\n",
              "10     5136\n",
              "2      4081\n",
              "11     3240\n",
              "17     2748\n",
              "7      2485\n",
              "16     2410\n",
              "14     2407\n",
              "8      1944\n",
              "9      1928\n",
              "Name: count, dtype: int64"
            ]
          },
          "execution_count": 799,
          "metadata": {},
          "output_type": "execute_result"
        }
      ],
      "source": [
        "#------------------------------------------------------------------------------------------\n",
        "#  num_com\n",
        "\n",
        "df.num_com.value_counts()"
      ]
    },
    {
      "cell_type": "code",
      "execution_count": 800,
      "metadata": {
        "colab": {
          "base_uri": "https://localhost:8080/",
          "height": 648
        },
        "id": "zq69odSVZ0Mm",
        "outputId": "d57b810d-432f-4f74-c821-7a1a948ba7d5"
      },
      "outputs": [
        {
          "data": {
            "text/plain": [
              "nom_com\n",
              "ORIENTAL              11898\n",
              "SAN FRANCISCO         11678\n",
              "CENTRO                10800\n",
              "CABECERA DEL LLANO    10094\n",
              "NORTE                  9316\n",
              "LA CONCORDIA           6830\n",
              "OCCIDENTAL             6669\n",
              "GARCIA ROVIRA          5429\n",
              "PROVENZA               5136\n",
              "NORORIENTAL            4081\n",
              "SUR                    3240\n",
              "MUTIS                  2748\n",
              "LA CIUDADELA           2485\n",
              "LAGOS DEL CACIQUE      2410\n",
              "MORRORICO              2407\n",
              "SUROCCIDENTE           1944\n",
              "LA PEDREGOSA           1928\n",
              "Name: count, dtype: int64"
            ]
          },
          "execution_count": 800,
          "metadata": {},
          "output_type": "execute_result"
        }
      ],
      "source": [
        "#------------------------------------------------------------------------------------------\n",
        "#  nom_com\n",
        "\n",
        "df.nom_com.value_counts()"
      ]
    },
    {
      "cell_type": "code",
      "execution_count": 801,
      "metadata": {
        "colab": {
          "base_uri": "https://localhost:8080/",
          "height": 147
        },
        "id": "Uj2HB6ctZ6Tl",
        "outputId": "f403349d-e6bc-4cab-aacb-4feb0778e54d"
      },
      "outputs": [
        {
          "data": {
            "text/plain": [
              "cantidad_unica\n",
              "1    99093\n",
              "Name: count, dtype: int64"
            ]
          },
          "execution_count": 801,
          "metadata": {},
          "output_type": "execute_result"
        }
      ],
      "source": [
        "#------------------------------------------------------------------------------------------\n",
        "#  cantidad_unica\n",
        "df.cantidad_unica.value_counts()"
      ]
    },
    {
      "cell_type": "markdown",
      "metadata": {
        "id": "PaIa_a8vaXa-"
      },
      "source": [
        "#### **Filas duplicadas**"
      ]
    },
    {
      "cell_type": "code",
      "execution_count": 802,
      "metadata": {
        "colab": {
          "base_uri": "https://localhost:8080/"
        },
        "id": "oMJuLzKIaZar",
        "outputId": "9bcb4ca5-e718-4762-a881-578520edaea0"
      },
      "outputs": [
        {
          "name": "stdout",
          "output_type": "stream",
          "text": [
            "Cantidad de duplicados:  29\n"
          ]
        }
      ],
      "source": [
        "print( \"Cantidad de duplicados: \" , df.duplicated().sum() )"
      ]
    },
    {
      "cell_type": "code",
      "execution_count": 803,
      "metadata": {
        "id": "w8IekyUYapla"
      },
      "outputs": [],
      "source": [
        "df.drop_duplicates(inplace=True)"
      ]
    },
    {
      "cell_type": "code",
      "execution_count": 804,
      "metadata": {
        "colab": {
          "base_uri": "https://localhost:8080/"
        },
        "id": "2XzkLnCCa96L",
        "outputId": "51ae63b0-107d-49c4-cefd-fcbea4305cd1"
      },
      "outputs": [
        {
          "name": "stdout",
          "output_type": "stream",
          "text": [
            "Cantidad de duplicados:  0\n"
          ]
        }
      ],
      "source": [
        "print( \"Cantidad de duplicados: \" , df.duplicated().sum() )"
      ]
    },
    {
      "cell_type": "markdown",
      "metadata": {
        "id": "WE3ffoj6bFAh"
      },
      "source": [
        "#### **Valores atípicos numéricos**\n",
        "\n",
        "Es importante eliminar valores atipicos para clusters por:\n",
        "\n",
        "- **Reduce ruido:** Datos poco frecuentes pueden distorsionar la formación de clusters.\n",
        "- **Mejora la compactación:** Se agrupan mejor los puntos similares sin interferencia de valores irrelevantes.\n",
        "- **Optimiza la convergencia:** K-Means puede encontrar patrones más claros y reducir la influencia de datos extremos."
      ]
    },
    {
      "cell_type": "code",
      "execution_count": 805,
      "metadata": {
        "colab": {
          "base_uri": "https://localhost:8080/",
          "height": 449
        },
        "id": "K6uKa_cNbGwh",
        "outputId": "db8766b1-5e6f-4cb9-b3b9-5bced0455138"
      },
      "outputs": [
        {
          "data": {
            "image/png": "[encoded data removed]",
            "text/plain": [
              "<Figure size 640x480 with 1 Axes>"
            ]
          },
          "metadata": {},
          "output_type": "display_data"
        }
      ],
      "source": [
        "sns.boxplot( x = df.edad ) ;"
      ]
    },
    {
      "cell_type": "code",
      "execution_count": 806,
      "metadata": {
        "colab": {
          "base_uri": "https://localhost:8080/"
        },
        "id": "ozLR5Jwicc4v",
        "outputId": "1668f900-ab61-4313-8372-1043ad270956"
      },
      "outputs": [
        {
          "data": {
            "text/plain": [
              "[125.0]"
            ]
          },
          "execution_count": 806,
          "metadata": {},
          "output_type": "execute_result"
        }
      ],
      "source": [
        "mean_edad = np.mean(df.edad)\n",
        "sd_edad= np.std(df.edad)\n",
        "[edad for edad in df.edad if (edad < mean_edad-5*sd_edad) or (edad > mean_edad + 5*sd_edad)]"
      ]
    },
    {
      "cell_type": "code",
      "execution_count": 807,
      "metadata": {
        "id": "czl_VW8zdkgS"
      },
      "outputs": [],
      "source": [
        "# Eliminar valores tipicos en relacion  a la edad\n",
        "df = df[~((df.edad < (mean_edad - 4 * sd_edad)) | (df.edad > (mean_edad + 5 * sd_edad)))]"
      ]
    },
    {
      "cell_type": "code",
      "execution_count": 808,
      "metadata": {
        "colab": {
          "base_uri": "https://localhost:8080/",
          "height": 449
        },
        "id": "FnOxP_GMeO1d",
        "outputId": "f0a6888b-95cc-469a-f6bb-3261dd0ba261"
      },
      "outputs": [
        {
          "data": {
            "image/png": "[encoded data removed]",
            "text/plain": [
              "<Figure size 640x480 with 1 Axes>"
            ]
          },
          "metadata": {},
          "output_type": "display_data"
        }
      ],
      "source": [
        "sns.boxplot( x = df.edad ) ;"
      ]
    },
    {
      "cell_type": "markdown",
      "metadata": {
        "id": "1dcGudqQTC57"
      },
      "source": [
        "#### **Valores atipicos en categorias**"
      ]
    },
    {
      "cell_type": "code",
      "execution_count": 809,
      "metadata": {
        "colab": {
          "base_uri": "https://localhost:8080/",
          "height": 429
        },
        "id": "M66U8b56TH4u",
        "outputId": "1d766e6f-8313-4ffb-a4bf-1837efc1b2cc"
      },
      "outputs": [
        {
          "data": {
            "text/plain": [
              "movil_victima\n",
              "A pie                  85722\n",
              "Motocicleta             5549\n",
              "Vehículo Privado        3815\n",
              "Bus                     2157\n",
              "Taxi                    1124\n",
              "Bicicleta                560\n",
              "Metro                    120\n",
              "No Disponible             12\n",
              "Transporte Aéreo           3\n",
              "Transporte Marítimo        1\n",
              "Name: count, dtype: int64"
            ]
          },
          "execution_count": 809,
          "metadata": {},
          "output_type": "execute_result"
        }
      ],
      "source": [
        "df['movil_victima'].value_counts()"
      ]
    },
    {
      "cell_type": "markdown",
      "metadata": {
        "id": "xorILbdlTNDt"
      },
      "source": [
        "Se eliminan por ser valores atípicos con baja frecuencia y poca relevancia operativa en delitos urbanos:\n",
        "\n",
        "- No Disponible\t12\n",
        "- Transporte Aéreo\t3\n",
        "- Transporte Marítimo\t1"
      ]
    },
    {
      "cell_type": "code",
      "execution_count": 810,
      "metadata": {
        "id": "tguAb4yTTX_k"
      },
      "outputs": [],
      "source": [
        "# Eliminar fila con categorias \"movil_victima\" poco frecuentes.\n",
        "df = df[~df[\"movil_victima\"].isin([\"No Disponible\", \"Transporte Aéreo\", \"Transporte Marítimo\"])]"
      ]
    },
    {
      "cell_type": "code",
      "execution_count": 811,
      "metadata": {
        "colab": {
          "base_uri": "https://localhost:8080/",
          "height": 398
        },
        "id": "ZA4Sus0MUNTB",
        "outputId": "25c18014-3b0d-48bc-f504-47f84ac71006"
      },
      "outputs": [
        {
          "data": {
            "text/plain": [
              "movil_agresor\n",
              "A pie                  75890\n",
              "Motocicleta            18119\n",
              "Vehículo Privado        2000\n",
              "Bus                     1705\n",
              "Taxi                     967\n",
              "Bicicleta                267\n",
              "Metro                     96\n",
              "Transporte Marítimo        1\n",
              "Transporte Aéreo           1\n",
              "Name: count, dtype: int64"
            ]
          },
          "execution_count": 811,
          "metadata": {},
          "output_type": "execute_result"
        }
      ],
      "source": [
        "df['movil_agresor'].value_counts()"
      ]
    },
    {
      "cell_type": "code",
      "execution_count": 812,
      "metadata": {
        "id": "9_243rN0UWRI"
      },
      "outputs": [],
      "source": [
        "# Eliminar fila con categorias \"movil_agresor\" poco frecuentes.\n",
        "df = df[~df['movil_agresor'].isin(['Transporte Marítimo','Transporte Aéreo'])]"
      ]
    },
    {
      "cell_type": "code",
      "execution_count": 813,
      "metadata": {
        "colab": {
          "base_uri": "https://localhost:8080/",
          "height": 335
        },
        "id": "eg_EVlN0UtWn",
        "outputId": "f9885c61-8c93-4599-9ebb-7fe942f90314"
      },
      "outputs": [
        {
          "data": {
            "text/plain": [
              "movil_agresor\n",
              "A pie               75890\n",
              "Motocicleta         18119\n",
              "Vehículo Privado     2000\n",
              "Bus                  1705\n",
              "Taxi                  967\n",
              "Bicicleta             267\n",
              "Metro                  96\n",
              "Name: count, dtype: int64"
            ]
          },
          "execution_count": 813,
          "metadata": {},
          "output_type": "execute_result"
        }
      ],
      "source": [
        "df['movil_agresor'].value_counts()"
      ]
    },
    {
      "cell_type": "markdown",
      "metadata": {
        "id": "V1X_KMAL5bqd"
      },
      "source": [
        "### **Nuevas  columnas**"
      ]
    },
    {
      "cell_type": "markdown",
      "metadata": {
        "id": "kqIVXtjPzeXB"
      },
      "source": [
        "**Columna con categoria delito.**\n",
        "\n",
        "Se crea una clasificación de delitos  para mejorar la toma de decisiones policiales, facilitando el análisis y patrullaje en función del tipo de crimen predominante en cada zona.\n",
        "\n",
        "No se considera la tipologia ya que es generica, agrupa delitos muy diferentes en la misma categoria.\n",
        "\n",
        "Beneficio final:\n",
        "\n",
        "Genera clusters más interpretables y accionables para\n",
        "\n",
        "*   Genera clusters más interpretables y accionables para la policía.\n",
        "*   Permite asignar recursos según el tipo de criminalidad predominante en cada zona.\n",
        "\n",
        "* Facilita la visualización en mapas para mejorar el patrullaje y la prevención.\n",
        "\n",
        "* Con esta clasificación, la policía puede tomar decisiones más rápidas y efectivas basadas en datos."
      ]
    },
    {
      "cell_type": "code",
      "execution_count": 814,
      "metadata": {
        "id": "HUCVBOjuzfJh"
      },
      "outputs": [],
      "source": [
        "# Diccionario con la clasificación mejorada de delitos\n",
        "delitos_categorias = {\n",
        "\n",
        "    # 🟠 Robos y Hurtos (requieren patrullaje intensivo en calles, comercios y viviendas)\n",
        "    # Separa hurtos comunes de delitos más graves como extorsión.\n",
        "    'HURTO PERSONAS': 'Robos y Hurtos',\n",
        "    'HURTO RESIDENCIAS': 'Robos y Hurtos',\n",
        "    'HURTO MOTOCICLETAS': 'Robos y Hurtos',\n",
        "    'HURTO AUTOMOTORES': 'Robos y Hurtos',\n",
        "    'HURTO ENTIDADES COMERCIALES': 'Robos y Hurtos',\n",
        "    'ABIGEATO': 'Robos y Hurtos',  # Robo de ganado, similar a hurto,\n",
        "    'DAÑO EN BIEN AJENO': 'Robos y Hurtos',\n",
        "\n",
        "    # 🟢 Violencia Familiar (requiere protección de víctimas y prevención)\n",
        "    'VIOLENCIA INTRAFAMILIAR': 'Violencia Familiar',\n",
        "\n",
        "    # 🟡 Delitos Sexuales (requieren intervención especializada y atención a víctimas)\n",
        "    # Facilita la persecución de agresores y la protección de víctimas.\n",
        "    'ACTOS SEXUALES CON MENOR DE 14 AÑOS': 'Delitos Sexuales',\n",
        "    'ACCESO CARNAL ABUSIVO CON MENOR DE 14 AÑOS': 'Delitos Sexuales',\n",
        "    'ACCESO CARNAL O ACTO SEXUAL ABUSIVO CON INCAPAZ DE RESISTIR': 'Delitos Sexuales',\n",
        "    'ACCESO CARNAL VIOLENTO': 'Delitos Sexuales',\n",
        "    'ACOSO SEXUAL': 'Delitos Sexuales',\n",
        "    'ACTO SEXUAL VIOLENTO': 'Delitos Sexuales',\n",
        "    'PORNOGRAFÍA CON MENORES': 'Delitos Sexuales',\n",
        "    'PROXENETISMO CON MENOR DE EDAD': 'Delitos Sexuales',\n",
        "    'UTILIZACIÓN O FACILITACIÓN DE MEDIOS DE COMUNICACIÓN PARA OFRECER SERVICIOS SEXUALES DE MENORES': 'Delitos Sexuales',\n",
        "    'INDUCCIÓN A LA PROSTITUCIÓN': 'Delitos Sexuales',\n",
        "    'CONSTREÑIMIENTO A LA PROSTITUCIÓN': 'Delitos Sexuales',\n",
        "    'DEMANDA DE EXPLOTACION SEXUAL COMERCIAL DE PERSONA MENOR DE 18 AÑOS DE EDAD': 'Delitos Sexuales',\n",
        "    'ACCESO CARNAL O ACTO SEXUAL EN PERSONA PUESTA EN INCAPACIDAD DE RESISTIR (CIRCUNSTANC)': 'Delitos Sexuales',\n",
        "    'ACCESO CARNAL O ACTO SEXUAL EN PERSONA PUESTA EN INCAPACIDAD DE RESISTIR': 'Delitos Sexuales',\n",
        "    'ESTÍMULO A LA PROSTITUCIÓN DE MENORES': 'Delitos Sexuales',\n",
        "    'ACTOS SEXUALES CON MENOR DE 14 AÑOS (CIRCUNSTANCIAS DE AGRAVACIÓN)': 'Delitos Sexuales',\n",
        "    'ACCESO CARNAL ABUSIVO CON MENOR DE 14 AÑOS (CIRCUNSTANCIAS AGRAVACIÓN)': 'Delitos Sexuales',\n",
        "    'ACCESO CARNAL VIOLENTO (CIRCUNSTANCIAS AGRAVACIÓN)': 'Delitos Sexuales',\n",
        "    'ACTO SEXUAL VIOLENTO (CIRCUNSTANCIAS DE AGRAVACIÓN)': 'Delitos Sexuales',\n",
        "    'ACCESO CARNAL O ACTO SEXUAL EN PERSONA PUESTA EN INCAPACIDAD DE RESISTIR  (CIRCUNSTANC': 'Delitos Sexuales',\n",
        "    'ACCESO CARNAL O ACTO SEXUAL ABUSIVO CON INCAPAZ DE RESISTIR (CIRCUNSTANCIAS AGRAVACIÓN)': 'Delitos Sexuales',\n",
        "\n",
        "\n",
        "    # 🔵 Crimen Organizado (Extorsión, amenazas y delitos de alto impacto)\n",
        "    # Agrupa delitos que requieren inteligencia policial y operativos tácticos.\n",
        "    'EXTORSIÓN': 'Crimen Organizado',\n",
        "    'TERRORISMO': 'Crimen Organizado',\n",
        "    'AMENAZAS': 'Crimen Organizado',\n",
        "    'INCENDIO': 'Crimen Organizado',\n",
        "\n",
        "    # 🔴 Delitos Violentos (requieren patrullaje táctico y operativos de alto impacto)\n",
        "    # Permite focalizar patrullaje en zonas de alta violencia letal.\n",
        "    'HOMICIDIO': 'Delitos Violentos',\n",
        "    'FEMINICIDIO': 'Delitos Violentos',\n",
        "    'LESIONES PERSONALES': 'Delitos Violentos',\n",
        "    'LESIONES CULPOSAS': 'Delitos Violentos',\n",
        "    'HOMICIDIO CULPOSO ( EN ACCIDENTE DE TRÁNSITO)': 'Delitos Violentos',\n",
        "    'VIOLENCIA CONTRA SERVIDOR PÚBLICO': 'Delitos Violentos',\n",
        "    'LESIONES AL FETO': 'Delitos Violentos',\n",
        "    'LESIONES CULPOSAS ( EN ACCIDENTE DE TRANSITO )': 'Delitos Violentos',\n",
        "}\n"
      ]
    },
    {
      "cell_type": "code",
      "execution_count": 815,
      "metadata": {
        "id": "Ymu_09Ch2cbj"
      },
      "outputs": [],
      "source": [
        "# Aplicar la clasificación al DataFrame\n",
        "df['categoria_delito'] = df['delito_solo'].map(delitos_categorias)"
      ]
    },
    {
      "cell_type": "code",
      "execution_count": 816,
      "metadata": {
        "colab": {
          "base_uri": "https://localhost:8080/"
        },
        "id": "LShyKUPE4V33",
        "outputId": "d1f99b37-e7a4-44c3-8d44-a761da53500e"
      },
      "outputs": [
        {
          "name": "stdout",
          "output_type": "stream",
          "text": [
            "✅ Todos los delitos han sido clasificados correctamente.\n"
          ]
        }
      ],
      "source": [
        "# Verificar si hay delitos sin clasificar\n",
        "delitos_sin_clasificar = df[df['categoria_delito'].isna()]['delito_solo'].unique()\n",
        "\n",
        "# Imprimir los delitos no clasificados (si hay)\n",
        "if len(delitos_sin_clasificar) > 0:\n",
        "    print(\"❌ Delitos sin clasificar, revisar:\")\n",
        "    for delito in delitos_sin_clasificar:\n",
        "        print(\"-\", delito)\n",
        "else:\n",
        "    print(\"✅ Todos los delitos han sido clasificados correctamente.\")\n"
      ]
    },
    {
      "cell_type": "code",
      "execution_count": 817,
      "metadata": {
        "colab": {
          "base_uri": "https://localhost:8080/",
          "height": 272
        },
        "id": "iHG2lAIA6NRm",
        "outputId": "7561d1da-e205-4b41-da83-b3529f033db7"
      },
      "outputs": [
        {
          "data": {
            "text/plain": [
              "categoria_delito\n",
              "Robos y Hurtos        60753\n",
              "Delitos Violentos     17091\n",
              "Violencia Familiar    13422\n",
              "Crimen Organizado      4422\n",
              "Delitos Sexuales       3357\n",
              "Name: count, dtype: int64"
            ]
          },
          "execution_count": 817,
          "metadata": {},
          "output_type": "execute_result"
        }
      ],
      "source": [
        "df['categoria_delito'].value_counts()"
      ]
    },
    {
      "cell_type": "code",
      "execution_count": 818,
      "metadata": {
        "colab": {
          "base_uri": "https://localhost:8080/",
          "height": 272
        },
        "id": "EGF53WeR7RQ8",
        "outputId": "dc7adbe1-24e1-4a91-8efc-a1f3057b9453"
      },
      "outputs": [
        {
          "data": {
            "text/plain": [
              "tipologia\n",
              "DELITOS CONTRA EL PATRIMONIO ECONOMICO                         61250\n",
              "DELITOS CONTRA LA VIDA Y LA INTEGRIDAD PERSONAL                17091\n",
              "DELITOS CONTRA LA FAMILIA                                      13422\n",
              "DELITOS CONTRA LA SEGURIDAD PUBLICA                             3925\n",
              "DELITOS CONTRA LA LIBERTAD, INTEGRIDAD Y FORMACION SEXUALES     3357\n",
              "Name: count, dtype: int64"
            ]
          },
          "execution_count": 818,
          "metadata": {},
          "output_type": "execute_result"
        }
      ],
      "source": [
        "df['tipologia'].value_counts()"
      ]
    },
    {
      "cell_type": "code",
      "execution_count": 819,
      "metadata": {
        "colab": {
          "base_uri": "https://localhost:8080/"
        },
        "id": "SH8h1YDgAxj3",
        "outputId": "8c053e6b-004e-4573-e946-3064421d098e"
      },
      "outputs": [
        {
          "name": "stdout",
          "output_type": "stream",
          "text": [
            "\n",
            "🟢 CRIMEN ORGANIZADO\n",
            "- AMENAZAS\n",
            "- EXTORSIÓN\n",
            "- INCENDIO\n",
            "- TERRORISMO\n",
            "\n",
            "🟢 DELITOS SEXUALES\n",
            "- ACCESO CARNAL ABUSIVO CON MENOR DE 14 AÑOS\n",
            "- ACCESO CARNAL ABUSIVO CON MENOR DE 14 AÑOS (CIRCUNSTANCIAS AGRAVACIÓN)\n",
            "- ACCESO CARNAL O ACTO SEXUAL ABUSIVO CON INCAPAZ DE RESISTIR\n",
            "- ACCESO CARNAL O ACTO SEXUAL ABUSIVO CON INCAPAZ DE RESISTIR (CIRCUNSTANCIAS AGRAVACIÓN)\n",
            "- ACCESO CARNAL O ACTO SEXUAL EN PERSONA PUESTA EN INCAPACIDAD DE RESISTIR\n",
            "- ACCESO CARNAL O ACTO SEXUAL EN PERSONA PUESTA EN INCAPACIDAD DE RESISTIR  (CIRCUNSTANC\n",
            "- ACCESO CARNAL VIOLENTO\n",
            "- ACCESO CARNAL VIOLENTO (CIRCUNSTANCIAS AGRAVACIÓN)\n",
            "- ACOSO SEXUAL\n",
            "- ACTO SEXUAL VIOLENTO\n",
            "- ACTO SEXUAL VIOLENTO (CIRCUNSTANCIAS DE AGRAVACIÓN)\n",
            "- ACTOS SEXUALES CON MENOR DE 14 AÑOS\n",
            "- ACTOS SEXUALES CON MENOR DE 14 AÑOS (CIRCUNSTANCIAS DE AGRAVACIÓN)\n",
            "- CONSTREÑIMIENTO A LA PROSTITUCIÓN\n",
            "- DEMANDA DE EXPLOTACION SEXUAL COMERCIAL DE PERSONA MENOR DE 18 AÑOS DE EDAD\n",
            "- ESTÍMULO A LA PROSTITUCIÓN DE MENORES\n",
            "- INDUCCIÓN A LA PROSTITUCIÓN\n",
            "- PORNOGRAFÍA CON MENORES\n",
            "- PROXENETISMO CON MENOR DE EDAD\n",
            "- UTILIZACIÓN O FACILITACIÓN DE MEDIOS DE COMUNICACIÓN PARA OFRECER SERVICIOS SEXUALES DE MENORES\n",
            "\n",
            "🟢 DELITOS VIOLENTOS\n",
            "- FEMINICIDIO\n",
            "- HOMICIDIO\n",
            "- HOMICIDIO CULPOSO ( EN ACCIDENTE DE TRÁNSITO)\n",
            "- LESIONES AL FETO\n",
            "- LESIONES CULPOSAS\n",
            "- LESIONES CULPOSAS ( EN ACCIDENTE DE TRANSITO )\n",
            "- LESIONES PERSONALES\n",
            "- VIOLENCIA CONTRA SERVIDOR PÚBLICO\n",
            "\n",
            "🟢 ROBOS Y HURTOS\n",
            "- ABIGEATO\n",
            "- DAÑO EN BIEN AJENO\n",
            "- HURTO AUTOMOTORES\n",
            "- HURTO ENTIDADES COMERCIALES\n",
            "- HURTO MOTOCICLETAS\n",
            "- HURTO PERSONAS\n",
            "- HURTO RESIDENCIAS\n",
            "\n",
            "🟢 VIOLENCIA FAMILIAR\n",
            "- VIOLENCIA INTRAFAMILIAR\n"
          ]
        }
      ],
      "source": [
        "# Agrupar los delitos según la tipología y contar su frecuencia en el dataset\n",
        "df_grouped = df.groupby(['categoria_delito', 'delito_solo'])['nom_com'].count().reset_index()\n",
        "\n",
        "# Mostrar los delitos organizados dentro de cada tipología\n",
        "for tipologia in df_grouped['categoria_delito'].unique():\n",
        "    print(f\"\\n🟢 {tipologia.upper()}\")  # Encabezado de la categoría\n",
        "    delitos = df_grouped[df_grouped['categoria_delito'] == tipologia]['delito_solo'].unique()\n",
        "    for delito in delitos:\n",
        "        print(f\"- {delito}\")  # Imprime cada delito dentro de su tipología\n"
      ]
    },
    {
      "cell_type": "markdown",
      "metadata": {
        "id": "DqfvTYnr2EbG"
      },
      "source": [
        "\n",
        "\n",
        "---\n",
        "\n"
      ]
    },
    {
      "cell_type": "markdown",
      "metadata": {
        "id": "fWas48qWM3fn"
      },
      "source": [
        "**Columna nueva rango horario**\n",
        "\n",
        "Se creara categorias mas legibles para  el rango horario"
      ]
    },
    {
      "cell_type": "code",
      "execution_count": 820,
      "metadata": {
        "colab": {
          "base_uri": "https://localhost:8080/"
        },
        "id": "BlktQlE-786R",
        "outputId": "085fb49f-5984-4884-af93-fa4f3c939f8c"
      },
      "outputs": [
        {
          "data": {
            "text/plain": [
              "['20:00-20:59', '1:00-1:59', '5:00-5:59']"
            ]
          },
          "execution_count": 820,
          "metadata": {},
          "output_type": "execute_result"
        }
      ],
      "source": [
        "# Cual es el formato de la hora?\n",
        "df.rango_horario.unique().tolist()[:3]"
      ]
    },
    {
      "cell_type": "code",
      "execution_count": 821,
      "metadata": {
        "id": "ZGVPlfLKKp_2"
      },
      "outputs": [],
      "source": [
        "# Función para asignar el momento del día de forma automatizada\n",
        "def asignar_momento(hora):\n",
        "    # Extraemos la hora de inicio del rango de horas\n",
        "    hora_inicio = int(hora.split('-')[0].split(':')[0])\n",
        "\n",
        "    # Definir los rangos de momentos del día\n",
        "    if 0 <= hora_inicio < 6:\n",
        "        return 'Madrugada'\n",
        "    elif 6 <= hora_inicio < 12:\n",
        "        return 'Mañana'\n",
        "    elif 12 <= hora_inicio < 18:\n",
        "        return 'Tarde'\n",
        "    elif 18 <= hora_inicio < 24:  # Asegura que solo valores válidos sean categorizados\n",
        "      return 'Noche'\n",
        "    else:\n",
        "        return 'Hora no válida'"
      ]
    },
    {
      "cell_type": "code",
      "execution_count": 822,
      "metadata": {
        "id": "EgAQc3tpKrqW"
      },
      "outputs": [],
      "source": [
        "# Aplicar la función para asignar el momento del día\n",
        "df['momento_del_dia'] = df['rango_horario'].map(lambda x: asignar_momento(x))"
      ]
    },
    {
      "cell_type": "code",
      "execution_count": 823,
      "metadata": {
        "colab": {
          "base_uri": "https://localhost:8080/",
          "height": 241
        },
        "id": "Wl2LwTP-K8aG",
        "outputId": "39c85b73-029f-4652-c86f-06058d0af91a"
      },
      "outputs": [
        {
          "data": {
            "text/plain": [
              "momento_del_dia\n",
              "Mañana       30281\n",
              "Tarde        27687\n",
              "Noche        26599\n",
              "Madrugada    14478\n",
              "Name: count, dtype: int64"
            ]
          },
          "execution_count": 823,
          "metadata": {},
          "output_type": "execute_result"
        }
      ],
      "source": [
        "df['momento_del_dia'].value_counts()"
      ]
    },
    {
      "cell_type": "markdown",
      "metadata": {
        "id": "-9CCP404Kvsb"
      },
      "source": [
        "Se crean una nueva columna para armas_medios creando categorias superiores. La agrupación prioriza la respuesta policial según el nivel de riesgo: \"Violencia Letal\" requiere intervención inmediata, \"Violencia No Letal\" prevención de daños, \"Robo y Acceso Forzado\" patrullaje preventivo y \"Otros\" análisis adicional. Esto optimiza la distribución de recursos y la seguridad ciudadana."
      ]
    },
    {
      "cell_type": "code",
      "execution_count": 824,
      "metadata": {
        "id": "WOPSs3xIK7uk"
      },
      "outputs": [],
      "source": [
        "# Diccionario de mapeo de \"armas_medios\" a \"Tipo de Amenaza\"\n",
        "WEAPON_THREAT_DICT  = {\n",
        "    # Alta prioridad: Riesgo letal, requiere respuesta inmediata\n",
        "    \"ARMA DE FUEGO\": \"Violencia Letal\",\n",
        "    \"ARMA TRAUMATICA\": \"Violencia Letal\",\n",
        "    \"GRANADA DE MANO\": \"Violencia Letal\",\n",
        "    \"PAQUETE BOMBA\": \"Violencia Letal\",\n",
        "    \"ARTEFACTO EXPLOSIVO/CARGA DINAMITA\": \"Violencia Letal\",\n",
        "    \"PAPA EXPLOSIVA\": \"Violencia Letal\",\n",
        "    \"ARMA BLANCA / CORTOPUNZANTE\": \"Violencia Letal\",\n",
        "    \"CORTANTES\": \"Violencia Letal\",\n",
        "    \"PUNZANTES\": \"Violencia Letal\",\n",
        "    \"CONTUNDENTES\": \"Violencia Letal\",\n",
        "    \"CORTOPUNZANTES\": \"Violencia Letal\",\n",
        "\n",
        "    # Prioridad media: Puede causar daño, pero con menor letalidad\n",
        "    \"ESCOPOLAMINA\": \"Violencia No Letal\",\n",
        "    \"ACIDO\": \"Violencia No Letal\",\n",
        "    \"VENENO\": \"Violencia No Letal\",\n",
        "    \"QUIMICOS\": \"Violencia No Letal\",\n",
        "    \"GASES\": \"Violencia No Letal\",\n",
        "    \"LICOR ADULTERADO\": \"Violencia No Letal\",\n",
        "    \"AGUA CALIENTE\": \"Violencia No Letal\",\n",
        "    \"MEDICAMENTOS\": \"Violencia No Letal\",\n",
        "    \"CUERDA/SOGA/CADENA\": \"Violencia No Letal\",\n",
        "    \"PERRO\": \"Violencia No Letal\",\n",
        "    \"JERINGA\": \"Violencia No Letal\",\n",
        "    \"SUSTANCIAS TOXICAS\": \"Violencia No Letal\",\n",
        "\n",
        "    # Prevención: Robo y acceso no autorizado\n",
        "    \"LLAVE MAESTRA\": \"Robo y Acceso Forzado\",\n",
        "    \"PALANCAS\": \"Robo y Acceso Forzado\",\n",
        "    \"CARTA EXTORSIVA\": \"Robo y Acceso Forzado\",\n",
        "    \"LLAMADA TELEFONICA\": \"Robo y Acceso Forzado\",\n",
        "    \"REDES SOCIALES\": \"Robo y Acceso Forzado\",\n",
        "    \"VEHICULO\": \"Robo y Acceso Forzado\",\n",
        "    \"MOTO\": \"Robo y Acceso Forzado\",\n",
        "    \"BICICLETA\": \"Robo y Acceso Forzado\",\n",
        "\n",
        "    # Incendios y explosivos: Pueden causar daños materiales y humanos\n",
        "    \"ARTEFACTO INCENDIARIO\": \"Incendios y Explosivos\",\n",
        "    \"COMBUSTIBLE\": \"Incendios y Explosivos\",\n",
        "    \"ARTEFACTO EXPLOSIVO/CARGA DINAMITA\": \"Incendios y Explosivos\",\n",
        "    \"PAPA EXPLOSIVA\": \"Incendios y Explosivos\",\n",
        "    \"GRANADA DE MANO\": \"Incendios y Explosivos\",\n",
        "    \"PAQUETE BOMBA\": \"Incendios y Explosivos\",\n",
        "\n",
        "    # Casos sin empleo de armas o sin información clara\n",
        "    \"SIN EMPLEO DE ARMAS\": \"Sin Empleo de Armas\",\n",
        "    \"NO DISPONIBLE\": \"Sin Empleo de Armas\",\n",
        "    \"NO REPORTADO\": \"Sin Empleo de Armas\",\n",
        "    \"DIRECTA\": \"Sin Empleo de Armas\",\n",
        "    \"MIXTA\": \"Sin Empleo de Armas\",\n",
        "    \"PRENDAS DE VESTIR\": \"Sin Empleo de Armas\",\n",
        "    \"BOLSA PLASTICA\": \"Sin Empleo de Armas\"\n",
        "}\n"
      ]
    },
    {
      "cell_type": "code",
      "execution_count": null,
      "metadata": {
        "id": "46b111_n2NEG"
      },
      "outputs": [],
      "source": []
    },
    {
      "cell_type": "code",
      "execution_count": 825,
      "metadata": {
        "id": "CwZn_2LuK-Pd"
      },
      "outputs": [],
      "source": [
        "df['tipo_amenaza'] = df['armas_medios'].map(WEAPON_THREAT_DICT).fillna(\"Otros y Sin Información\")"
      ]
    },
    {
      "cell_type": "code",
      "execution_count": 826,
      "metadata": {
        "colab": {
          "base_uri": "https://localhost:8080/",
          "height": 272
        },
        "id": "I0BOu1nFLZBM",
        "outputId": "fd1ebcc5-8e3a-435b-b26e-fac7a9462bed"
      },
      "outputs": [
        {
          "data": {
            "text/plain": [
              "tipo_amenaza\n",
              "Violencia Letal           46821\n",
              "Sin Empleo de Armas       46225\n",
              "Robo y Acceso Forzado      5375\n",
              "Violencia No Letal          596\n",
              "Incendios y Explosivos       28\n",
              "Name: count, dtype: int64"
            ]
          },
          "execution_count": 826,
          "metadata": {},
          "output_type": "execute_result"
        }
      ],
      "source": [
        "df['tipo_amenaza'].value_counts()"
      ]
    },
    {
      "cell_type": "markdown",
      "metadata": {
        "id": "AOvMAMmjNOfk"
      },
      "source": [
        "- **Violencia Letal (46,836 casos):** Prioridad máxima, requiere respuesta inmediata para reducir homicidios y ataques con armas peligrosas.\n",
        "\n",
        "- **Sin Empleo de Armas (46,251 casos):** Casos con menor riesgo físico, pero útiles para estrategias de prevención y patrullaje.\n",
        "\n",
        "- **Robo y Acceso Forzado (5,377 casos):** Permite focalizar operativos contra robos y mejorar la seguridad en zonas vulnerables.\n",
        "\n",
        "- **Violencia No Letal (594 casos):** Aunque no es mortal, requiere atención para evitar daños graves o escalamiento de violencia.\n",
        "\n",
        "- **Incendios y Explosivos (30 casos):** Amenazas con alto impacto destructivo, clave para prevención y respuesta especializada.\n",
        "\n",
        "\n",
        "\n",
        "---\n",
        "\n"
      ]
    },
    {
      "cell_type": "markdown",
      "metadata": {
        "id": "2qgJZ3jZ7FQj"
      },
      "source": [
        "### **Nuevas columnas de geojson**"
      ]
    },
    {
      "cell_type": "code",
      "execution_count": 827,
      "metadata": {
        "id": "qyd9yjcy7Ys5"
      },
      "outputs": [],
      "source": [
        "gdf['densidad_poblacional'] = np.round( gdf['personas_s'] / gdf['area']  , 4)"
      ]
    },
    {
      "cell_type": "markdown",
      "metadata": {
        "id": "ZTdzcaQkSrQN"
      },
      "source": [
        "### **Borrar filas**"
      ]
    },
    {
      "cell_type": "code",
      "execution_count": 828,
      "metadata": {
        "colab": {
          "base_uri": "https://localhost:8080/",
          "height": 335
        },
        "id": "b-qofHFmSiGZ",
        "outputId": "c6b93f13-9b58-486b-ff16-b647e8997b20"
      },
      "outputs": [
        {
          "data": {
            "text/plain": [
              "movil_victima\n",
              "A pie               85720\n",
              "Motocicleta          5549\n",
              "Vehículo Privado     3815\n",
              "Bus                  2157\n",
              "Taxi                 1124\n",
              "Bicicleta             560\n",
              "Metro                 120\n",
              "Name: count, dtype: int64"
            ]
          },
          "execution_count": 828,
          "metadata": {},
          "output_type": "execute_result"
        }
      ],
      "source": [
        "df['movil_victima'].value_counts()"
      ]
    },
    {
      "cell_type": "markdown",
      "metadata": {
        "id": "7vcWD6FCE6Yq"
      },
      "source": [
        "### Nuevas columnas df poblacion"
      ]
    },
    {
      "cell_type": "code",
      "execution_count": 829,
      "metadata": {
        "colab": {
          "base_uri": "https://localhost:8080/",
          "height": 617
        },
        "id": "t7MNr7T8Foyh",
        "outputId": "67c9c70a-3ec8-40e3-e005-b013452a842c"
      },
      "outputs": [
        {
          "data": {
            "text/html": [
              "<div>\n",
              "<style scoped>\n",
              "    .dataframe tbody tr th:only-of-type {\n",
              "        vertical-align: middle;\n",
              "    }\n",
              "\n",
              "    .dataframe tbody tr th {\n",
              "        vertical-align: top;\n",
              "    }\n",
              "\n",
              "    .dataframe thead th {\n",
              "        text-align: right;\n",
              "    }\n",
              "</style>\n",
              "<table border=\"1\" class=\"dataframe\">\n",
              "  <thead>\n",
              "    <tr style=\"text-align: right;\">\n",
              "      <th></th>\n",
              "      <th>ORDEN</th>\n",
              "      <th>AÑO</th>\n",
              "      <th>Barrio_poligono</th>\n",
              "      <th>categoria</th>\n",
              "      <th>Comunas_poligonos</th>\n",
              "      <th>manzanas</th>\n",
              "      <th>personas</th>\n",
              "      <th>hombres</th>\n",
              "      <th>mujeres</th>\n",
              "      <th>Edad de 0 a 9</th>\n",
              "      <th>Edad de 10 a 19</th>\n",
              "      <th>Edad de 20 a 29</th>\n",
              "      <th>Edad de 30 a 39</th>\n",
              "      <th>Edad de 40 a 49</th>\n",
              "      <th>Edad de 50 a 59</th>\n",
              "      <th>Edad de 60 a 69</th>\n",
              "      <th>Edad de 70 a 79</th>\n",
              "      <th>Edad de 80 a 89</th>\n",
              "      <th>cod_comuna</th>\n",
              "    </tr>\n",
              "  </thead>\n",
              "  <tbody>\n",
              "    <tr>\n",
              "      <th>0</th>\n",
              "      <td>1</td>\n",
              "      <td>2021</td>\n",
              "      <td>13 DE JUNIO</td>\n",
              "      <td>BARRIO</td>\n",
              "      <td>NORORIENTAL</td>\n",
              "      <td>5</td>\n",
              "      <td>410</td>\n",
              "      <td>200</td>\n",
              "      <td>209</td>\n",
              "      <td>65</td>\n",
              "      <td>51</td>\n",
              "      <td>78</td>\n",
              "      <td>62</td>\n",
              "      <td>60</td>\n",
              "      <td>47</td>\n",
              "      <td>34</td>\n",
              "      <td>8</td>\n",
              "      <td>4</td>\n",
              "      <td>2</td>\n",
              "    </tr>\n",
              "    <tr>\n",
              "      <th>1</th>\n",
              "      <td>2</td>\n",
              "      <td>2021</td>\n",
              "      <td>ALTOS DEL KENNEDY</td>\n",
              "      <td>BARRIO</td>\n",
              "      <td>NORTE</td>\n",
              "      <td>6</td>\n",
              "      <td>529</td>\n",
              "      <td>249</td>\n",
              "      <td>279</td>\n",
              "      <td>76</td>\n",
              "      <td>85</td>\n",
              "      <td>106</td>\n",
              "      <td>71</td>\n",
              "      <td>60</td>\n",
              "      <td>71</td>\n",
              "      <td>34</td>\n",
              "      <td>19</td>\n",
              "      <td>4</td>\n",
              "      <td>1</td>\n",
              "    </tr>\n",
              "    <tr>\n",
              "      <th>2</th>\n",
              "      <td>3</td>\n",
              "      <td>2021</td>\n",
              "      <td>ALTOS DEL PROGRESO</td>\n",
              "      <td>BARRIO</td>\n",
              "      <td>NORTE</td>\n",
              "      <td>17</td>\n",
              "      <td>1187</td>\n",
              "      <td>605</td>\n",
              "      <td>582</td>\n",
              "      <td>221</td>\n",
              "      <td>204</td>\n",
              "      <td>236</td>\n",
              "      <td>179</td>\n",
              "      <td>145</td>\n",
              "      <td>118</td>\n",
              "      <td>48</td>\n",
              "      <td>26</td>\n",
              "      <td>6</td>\n",
              "      <td>1</td>\n",
              "    </tr>\n",
              "    <tr>\n",
              "      <th>3</th>\n",
              "      <td>4</td>\n",
              "      <td>2021</td>\n",
              "      <td>BALCONES DEL KENNEDY</td>\n",
              "      <td>BARRIO</td>\n",
              "      <td>NORTE</td>\n",
              "      <td>18</td>\n",
              "      <td>1334</td>\n",
              "      <td>659</td>\n",
              "      <td>675</td>\n",
              "      <td>250</td>\n",
              "      <td>222</td>\n",
              "      <td>248</td>\n",
              "      <td>204</td>\n",
              "      <td>190</td>\n",
              "      <td>111</td>\n",
              "      <td>68</td>\n",
              "      <td>31</td>\n",
              "      <td>7</td>\n",
              "      <td>1</td>\n",
              "    </tr>\n",
              "    <tr>\n",
              "      <th>4</th>\n",
              "      <td>5</td>\n",
              "      <td>2021</td>\n",
              "      <td>BETANIA</td>\n",
              "      <td>BARRIO</td>\n",
              "      <td>NORTE</td>\n",
              "      <td>17</td>\n",
              "      <td>1664</td>\n",
              "      <td>841</td>\n",
              "      <td>823</td>\n",
              "      <td>222</td>\n",
              "      <td>218</td>\n",
              "      <td>355</td>\n",
              "      <td>248</td>\n",
              "      <td>211</td>\n",
              "      <td>246</td>\n",
              "      <td>117</td>\n",
              "      <td>28</td>\n",
              "      <td>12</td>\n",
              "      <td>1</td>\n",
              "    </tr>\n",
              "    <tr>\n",
              "      <th>...</th>\n",
              "      <td>...</td>\n",
              "      <td>...</td>\n",
              "      <td>...</td>\n",
              "      <td>...</td>\n",
              "      <td>...</td>\n",
              "      <td>...</td>\n",
              "      <td>...</td>\n",
              "      <td>...</td>\n",
              "      <td>...</td>\n",
              "      <td>...</td>\n",
              "      <td>...</td>\n",
              "      <td>...</td>\n",
              "      <td>...</td>\n",
              "      <td>...</td>\n",
              "      <td>...</td>\n",
              "      <td>...</td>\n",
              "      <td>...</td>\n",
              "      <td>...</td>\n",
              "      <td>...</td>\n",
              "    </tr>\n",
              "    <tr>\n",
              "      <th>258</th>\n",
              "      <td>259</td>\n",
              "      <td>2021</td>\n",
              "      <td>VILLA DEL NOGAL</td>\n",
              "      <td>A. RURAL</td>\n",
              "      <td>SUR</td>\n",
              "      <td>857</td>\n",
              "      <td>524</td>\n",
              "      <td>543</td>\n",
              "      <td>209</td>\n",
              "      <td>199</td>\n",
              "      <td>192</td>\n",
              "      <td>146</td>\n",
              "      <td>142</td>\n",
              "      <td>83</td>\n",
              "      <td>41</td>\n",
              "      <td>34</td>\n",
              "      <td>12</td>\n",
              "      <td>246</td>\n",
              "      <td>11</td>\n",
              "    </tr>\n",
              "    <tr>\n",
              "      <th>259</th>\n",
              "      <td>260</td>\n",
              "      <td>2021</td>\n",
              "      <td>PRADOS DEL MUTIS</td>\n",
              "      <td>BARRIO</td>\n",
              "      <td>LAGOS DEL CACIQUE</td>\n",
              "      <td>2</td>\n",
              "      <td>1670</td>\n",
              "      <td>788</td>\n",
              "      <td>881</td>\n",
              "      <td>165</td>\n",
              "      <td>218</td>\n",
              "      <td>277</td>\n",
              "      <td>234</td>\n",
              "      <td>224</td>\n",
              "      <td>284</td>\n",
              "      <td>174</td>\n",
              "      <td>64</td>\n",
              "      <td>25</td>\n",
              "      <td>16</td>\n",
              "    </tr>\n",
              "    <tr>\n",
              "      <th>260</th>\n",
              "      <td>261</td>\n",
              "      <td>2021</td>\n",
              "      <td>QUEBRADA LA IGLESIA I</td>\n",
              "      <td>BARRIO</td>\n",
              "      <td>MUTIS</td>\n",
              "      <td>9</td>\n",
              "      <td>151</td>\n",
              "      <td>83</td>\n",
              "      <td>69</td>\n",
              "      <td>29</td>\n",
              "      <td>12</td>\n",
              "      <td>33</td>\n",
              "      <td>15</td>\n",
              "      <td>26</td>\n",
              "      <td>22</td>\n",
              "      <td>10</td>\n",
              "      <td>0</td>\n",
              "      <td>3</td>\n",
              "      <td>17</td>\n",
              "    </tr>\n",
              "    <tr>\n",
              "      <th>261</th>\n",
              "      <td>262</td>\n",
              "      <td>2021</td>\n",
              "      <td>VEREDA VIJAGUAL</td>\n",
              "      <td>A. RURAL</td>\n",
              "      <td>CORREG. 1</td>\n",
              "      <td>126</td>\n",
              "      <td>84</td>\n",
              "      <td>73</td>\n",
              "      <td>27</td>\n",
              "      <td>26</td>\n",
              "      <td>31</td>\n",
              "      <td>22</td>\n",
              "      <td>25</td>\n",
              "      <td>9</td>\n",
              "      <td>7</td>\n",
              "      <td>5</td>\n",
              "      <td>3</td>\n",
              "      <td>32</td>\n",
              "      <td>1</td>\n",
              "    </tr>\n",
              "    <tr>\n",
              "      <th>262</th>\n",
              "      <td>263</td>\n",
              "      <td>2021</td>\n",
              "      <td>VILLA LUZ</td>\n",
              "      <td>A. RURAL</td>\n",
              "      <td>CORREG. 1</td>\n",
              "      <td>495</td>\n",
              "      <td>307</td>\n",
              "      <td>309</td>\n",
              "      <td>125</td>\n",
              "      <td>110</td>\n",
              "      <td>120</td>\n",
              "      <td>89</td>\n",
              "      <td>94</td>\n",
              "      <td>35</td>\n",
              "      <td>25</td>\n",
              "      <td>9</td>\n",
              "      <td>3</td>\n",
              "      <td>155</td>\n",
              "      <td>1</td>\n",
              "    </tr>\n",
              "  </tbody>\n",
              "</table>\n",
              "<p>263 rows × 19 columns</p>\n",
              "</div>"
            ],
            "text/plain": [
              "     ORDEN   AÑO        Barrio_poligono categoria  Comunas_poligonos  \\\n",
              "0        1  2021            13 DE JUNIO    BARRIO        NORORIENTAL   \n",
              "1        2  2021      ALTOS DEL KENNEDY    BARRIO              NORTE   \n",
              "2        3  2021     ALTOS DEL PROGRESO    BARRIO              NORTE   \n",
              "3        4  2021   BALCONES DEL KENNEDY    BARRIO              NORTE   \n",
              "4        5  2021                BETANIA    BARRIO              NORTE   \n",
              "..     ...   ...                    ...       ...                ...   \n",
              "258    259  2021        VILLA DEL NOGAL  A. RURAL                SUR   \n",
              "259    260  2021       PRADOS DEL MUTIS    BARRIO  LAGOS DEL CACIQUE   \n",
              "260    261  2021  QUEBRADA LA IGLESIA I    BARRIO              MUTIS   \n",
              "261    262  2021        VEREDA VIJAGUAL  A. RURAL          CORREG. 1   \n",
              "262    263  2021              VILLA LUZ  A. RURAL          CORREG. 1   \n",
              "\n",
              "     manzanas  personas  hombres  mujeres  Edad de 0 a 9  Edad de 10 a 19  \\\n",
              "0           5       410      200      209             65               51   \n",
              "1           6       529      249      279             76               85   \n",
              "2          17      1187      605      582            221              204   \n",
              "3          18      1334      659      675            250              222   \n",
              "4          17      1664      841      823            222              218   \n",
              "..        ...       ...      ...      ...            ...              ...   \n",
              "258       857       524      543      209            199              192   \n",
              "259         2      1670      788      881            165              218   \n",
              "260         9       151       83       69             29               12   \n",
              "261       126        84       73       27             26               31   \n",
              "262       495       307      309      125            110              120   \n",
              "\n",
              "     Edad de 20 a 29  Edad de 30 a 39  Edad de 40 a 49  Edad de 50 a 59  \\\n",
              "0                 78               62               60               47   \n",
              "1                106               71               60               71   \n",
              "2                236              179              145              118   \n",
              "3                248              204              190              111   \n",
              "4                355              248              211              246   \n",
              "..               ...              ...              ...              ...   \n",
              "258              146              142               83               41   \n",
              "259              277              234              224              284   \n",
              "260               33               15               26               22   \n",
              "261               22               25                9                7   \n",
              "262               89               94               35               25   \n",
              "\n",
              "     Edad de 60 a 69  Edad de 70 a 79  Edad de 80 a 89  cod_comuna  \n",
              "0                 34                8                4           2  \n",
              "1                 34               19                4           1  \n",
              "2                 48               26                6           1  \n",
              "3                 68               31                7           1  \n",
              "4                117               28               12           1  \n",
              "..               ...              ...              ...         ...  \n",
              "258               34               12              246          11  \n",
              "259              174               64               25          16  \n",
              "260               10                0                3          17  \n",
              "261                5                3               32           1  \n",
              "262                9                3              155           1  \n",
              "\n",
              "[263 rows x 19 columns]"
            ]
          },
          "execution_count": 829,
          "metadata": {},
          "output_type": "execute_result"
        }
      ],
      "source": [
        "# Separar número y texto directamente con str.extract\n",
        "df_poblacion.loc[:,'cod_comuna'] = df_poblacion['Comunas_poligonos'].str.extract(r'(\\d+)')\n",
        "df_poblacion.loc[:,'Comunas_poligonos'] = df_poblacion['Comunas_poligonos'].str.replace(r'^\\d+\\. ', '', regex=True).str.strip()\n",
        "\n",
        "# Convertir Comuna_id a enteros para que el merge con tabla de hechos no falle\n",
        "df_poblacion['cod_comuna'] = pd.to_numeric(df_poblacion['cod_comuna'], errors='coerce')\n",
        "\n",
        "df_poblacion"
      ]
    },
    {
      "cell_type": "markdown",
      "metadata": {
        "id": "1vrQlM7Tg2IB"
      },
      "source": [
        "## **Borrar  columnas**"
      ]
    },
    {
      "cell_type": "code",
      "execution_count": 830,
      "metadata": {
        "id": "5Iv-8mAjhGaa"
      },
      "outputs": [],
      "source": [
        "# columna a borrar tabla de hechos(crimenes)\n",
        "\n",
        "columnas_a_borrar = ['descripcion_conducta' ,\n",
        "                     'armas_medios' ,\n",
        "                     'barrios_hecho',\n",
        "                     'edad',\n",
        "                     'clase_sitio',\n",
        "                     'articulo',\n",
        "                     'delito_solo',\n",
        "                     'rango_horario',\n",
        "                     'rango_horario_orden',\n",
        "                     'cantidad_unica',\n",
        "                     'tipologia',\n",
        "                     'localidad'\n",
        "                     ]\n",
        "df.drop( columnas_a_borrar , axis=1, inplace=  True)"
      ]
    },
    {
      "cell_type": "code",
      "execution_count": 831,
      "metadata": {
        "colab": {
          "base_uri": "https://localhost:8080/"
        },
        "id": "SqsMGsc9RGm4",
        "outputId": "6ef7ad7b-d335-4fbf-b3eb-6422bc8f8d37"
      },
      "outputs": [
        {
          "name": "stdout",
          "output_type": "stream",
          "text": [
            "<class 'pandas.core.frame.DataFrame'>\n",
            "Index: 99045 entries, 0 to 100991\n",
            "Data columns (total 17 columns):\n",
            " #   Column            Non-Null Count  Dtype         \n",
            "---  ------            --------------  -----         \n",
            " 0   fecha_hecho       99045 non-null  datetime64[ns]\n",
            " 1   hora_hecho        99045 non-null  object        \n",
            " 2   sexo              99045 non-null  object        \n",
            " 3   movil_victima     99045 non-null  object        \n",
            " 4   movil_agresor     99044 non-null  object        \n",
            " 5   curso_vida        99045 non-null  category      \n",
            " 6   curso_vida_orden  99045 non-null  int8          \n",
            " 7   year              99045 non-null  int64         \n",
            " 8   mes_num           99045 non-null  int64         \n",
            " 9   dia_num           99045 non-null  int64         \n",
            " 10  dia_nombre        99045 non-null  object        \n",
            " 11  dia_nombre_orden  99045 non-null  int64         \n",
            " 12  num_com           99045 non-null  int64         \n",
            " 13  nom_com           99045 non-null  object        \n",
            " 14  categoria_delito  99045 non-null  object        \n",
            " 15  momento_del_dia   99045 non-null  object        \n",
            " 16  tipo_amenaza      99045 non-null  object        \n",
            "dtypes: category(1), datetime64[ns](1), int64(5), int8(1), object(9)\n",
            "memory usage: 12.3+ MB\n"
          ]
        }
      ],
      "source": [
        "df.info()"
      ]
    },
    {
      "cell_type": "markdown",
      "metadata": {
        "id": "7_QDXYcpeSzT"
      },
      "source": [
        "##  **Borrar columnas tabla geojson**"
      ]
    },
    {
      "cell_type": "code",
      "execution_count": 832,
      "metadata": {
        "colab": {
          "base_uri": "https://localhost:8080/"
        },
        "id": "QwcMkiKsMX1B",
        "outputId": "81122182-dc2d-40d8-8413-e656c2cfc0f8"
      },
      "outputs": [
        {
          "name": "stdout",
          "output_type": "stream",
          "text": [
            "<class 'geopandas.geodataframe.GeoDataFrame'>\n",
            "RangeIndex: 17 entries, 0 to 16\n",
            "Data columns (total 21 columns):\n",
            " #   Column                        Non-Null Count  Dtype   \n",
            "---  ------                        --------------  -----   \n",
            " 0   area                          17 non-null     float64 \n",
            " 1   organicos__kg_semana_         17 non-null     float64 \n",
            " 2   personas_s                    17 non-null     int32   \n",
            " 3   nombre_cod                    17 non-null     object  \n",
            " 4   habitantes                    17 non-null     int32   \n",
            " 5   aprovechables__kg_semana_     17 non-null     float64 \n",
            " 6   no_aprovechables__kg_semana_  17 non-null     float64 \n",
            " 7   rcd__kg_semana_               17 non-null     float64 \n",
            " 8   generacion__kg_semana_        17 non-null     float64 \n",
            " 9   nombre_com                    17 non-null     object  \n",
            " 10  posconsumo__kg_semana_        17 non-null     float64 \n",
            " 11  objectid_1                    17 non-null     int32   \n",
            " 12  cod_munici                    17 non-null     object  \n",
            " 13  ppc__kg_hab_d_a_              17 non-null     float64 \n",
            " 14  shape_leng                    17 non-null     float64 \n",
            " 15  perimeter                     17 non-null     float64 \n",
            " 16  cod_comuna                    17 non-null     int64   \n",
            " 17  cod_depart                    17 non-null     object  \n",
            " 18  objectid                      17 non-null     int32   \n",
            " 19  geometry                      17 non-null     geometry\n",
            " 20  densidad_poblacional          17 non-null     float64 \n",
            "dtypes: float64(11), geometry(1), int32(4), int64(1), object(4)\n",
            "memory usage: 2.7+ KB\n"
          ]
        }
      ],
      "source": [
        "gdf.info()"
      ]
    },
    {
      "cell_type": "code",
      "execution_count": 833,
      "metadata": {
        "id": "ZplELBqtegjY"
      },
      "outputs": [],
      "source": [
        "# columna a borrar tabla geojson\n",
        "\n",
        "columnas_a_mantener = ['area',\n",
        "                       'nombre_com',\n",
        "                       'cod_comuna' ,\n",
        "                       'geometry',\n",
        "\n",
        "                     ]\n",
        "gdf = gdf[columnas_a_mantener]"
      ]
    },
    {
      "cell_type": "code",
      "execution_count": 834,
      "metadata": {
        "colab": {
          "base_uri": "https://localhost:8080/"
        },
        "id": "MtXNdm73eZlM",
        "outputId": "d453fb38-4949-4bf3-95b3-00979e4a85ef"
      },
      "outputs": [
        {
          "name": "stdout",
          "output_type": "stream",
          "text": [
            "<class 'geopandas.geodataframe.GeoDataFrame'>\n",
            "RangeIndex: 17 entries, 0 to 16\n",
            "Data columns (total 4 columns):\n",
            " #   Column      Non-Null Count  Dtype   \n",
            "---  ------      --------------  -----   \n",
            " 0   area        17 non-null     float64 \n",
            " 1   nombre_com  17 non-null     object  \n",
            " 2   cod_comuna  17 non-null     int64   \n",
            " 3   geometry    17 non-null     geometry\n",
            "dtypes: float64(1), geometry(1), int64(1), object(1)\n",
            "memory usage: 676.0+ bytes\n"
          ]
        }
      ],
      "source": [
        "gdf.info()"
      ]
    },
    {
      "cell_type": "markdown",
      "metadata": {
        "id": "1CevbbO_-bL1"
      },
      "source": [
        "##  **Borrar columnas df poblacion**"
      ]
    },
    {
      "cell_type": "markdown",
      "metadata": {
        "id": "INqcNZoD_GlP"
      },
      "source": [
        "### Ajustar df poblacion a nivel de comuna"
      ]
    },
    {
      "cell_type": "code",
      "execution_count": 835,
      "metadata": {
        "colab": {
          "base_uri": "https://localhost:8080/"
        },
        "id": "EojbLXi9-w7E",
        "outputId": "43409180-2463-4225-d5d1-4d6a69e1388e"
      },
      "outputs": [
        {
          "name": "stdout",
          "output_type": "stream",
          "text": [
            "<class 'pandas.core.frame.DataFrame'>\n",
            "RangeIndex: 263 entries, 0 to 262\n",
            "Data columns (total 19 columns):\n",
            " #   Column             Non-Null Count  Dtype \n",
            "---  ------             --------------  ----- \n",
            " 0   ORDEN              263 non-null    int64 \n",
            " 1   AÑO                263 non-null    int64 \n",
            " 2   Barrio_poligono    263 non-null    object\n",
            " 3   categoria          263 non-null    object\n",
            " 4   Comunas_poligonos  263 non-null    object\n",
            " 5   manzanas           263 non-null    int64 \n",
            " 6   personas           263 non-null    int64 \n",
            " 7   hombres            263 non-null    int64 \n",
            " 8   mujeres            263 non-null    int64 \n",
            " 9   Edad de 0 a 9      263 non-null    int64 \n",
            " 10  Edad de 10 a 19    263 non-null    int64 \n",
            " 11  Edad de 20 a 29    263 non-null    int64 \n",
            " 12  Edad de 30 a 39    263 non-null    int64 \n",
            " 13  Edad de 40 a 49    263 non-null    int64 \n",
            " 14  Edad de 50 a 59    263 non-null    int64 \n",
            " 15  Edad de 60 a 69    263 non-null    int64 \n",
            " 16  Edad de 70 a 79    263 non-null    int64 \n",
            " 17  Edad de 80 a 89    263 non-null    int64 \n",
            " 18  cod_comuna         263 non-null    int64 \n",
            "dtypes: int64(16), object(3)\n",
            "memory usage: 39.2+ KB\n"
          ]
        }
      ],
      "source": [
        "df_poblacion.info()"
      ]
    },
    {
      "cell_type": "code",
      "execution_count": 836,
      "metadata": {
        "colab": {
          "base_uri": "https://localhost:8080/",
          "height": 582
        },
        "id": "7nqSQbZpGwfM",
        "outputId": "ff1e3492-8b37-4e03-d51f-911e461f05d8"
      },
      "outputs": [
        {
          "data": {
            "text/html": [
              "<div>\n",
              "<style scoped>\n",
              "    .dataframe tbody tr th:only-of-type {\n",
              "        vertical-align: middle;\n",
              "    }\n",
              "\n",
              "    .dataframe tbody tr th {\n",
              "        vertical-align: top;\n",
              "    }\n",
              "\n",
              "    .dataframe thead th {\n",
              "        text-align: right;\n",
              "    }\n",
              "</style>\n",
              "<table border=\"1\" class=\"dataframe\">\n",
              "  <thead>\n",
              "    <tr style=\"text-align: right;\">\n",
              "      <th></th>\n",
              "      <th>ORDEN</th>\n",
              "      <th>AÑO</th>\n",
              "      <th>Barrio_poligono</th>\n",
              "      <th>categoria</th>\n",
              "      <th>Comunas_poligonos</th>\n",
              "      <th>manzanas</th>\n",
              "      <th>personas</th>\n",
              "      <th>hombres</th>\n",
              "      <th>mujeres</th>\n",
              "      <th>Edad de 0 a 9</th>\n",
              "      <th>Edad de 10 a 19</th>\n",
              "      <th>Edad de 20 a 29</th>\n",
              "      <th>Edad de 30 a 39</th>\n",
              "      <th>Edad de 40 a 49</th>\n",
              "      <th>Edad de 50 a 59</th>\n",
              "      <th>Edad de 60 a 69</th>\n",
              "      <th>Edad de 70 a 79</th>\n",
              "      <th>Edad de 80 a 89</th>\n",
              "      <th>cod_comuna</th>\n",
              "    </tr>\n",
              "  </thead>\n",
              "  <tbody>\n",
              "    <tr>\n",
              "      <th>0</th>\n",
              "      <td>1</td>\n",
              "      <td>2021</td>\n",
              "      <td>13 DE JUNIO</td>\n",
              "      <td>BARRIO</td>\n",
              "      <td>NORORIENTAL</td>\n",
              "      <td>5</td>\n",
              "      <td>410</td>\n",
              "      <td>200</td>\n",
              "      <td>209</td>\n",
              "      <td>65</td>\n",
              "      <td>51</td>\n",
              "      <td>78</td>\n",
              "      <td>62</td>\n",
              "      <td>60</td>\n",
              "      <td>47</td>\n",
              "      <td>34</td>\n",
              "      <td>8</td>\n",
              "      <td>4</td>\n",
              "      <td>2</td>\n",
              "    </tr>\n",
              "    <tr>\n",
              "      <th>1</th>\n",
              "      <td>2</td>\n",
              "      <td>2021</td>\n",
              "      <td>ALTOS DEL KENNEDY</td>\n",
              "      <td>BARRIO</td>\n",
              "      <td>NORTE</td>\n",
              "      <td>6</td>\n",
              "      <td>529</td>\n",
              "      <td>249</td>\n",
              "      <td>279</td>\n",
              "      <td>76</td>\n",
              "      <td>85</td>\n",
              "      <td>106</td>\n",
              "      <td>71</td>\n",
              "      <td>60</td>\n",
              "      <td>71</td>\n",
              "      <td>34</td>\n",
              "      <td>19</td>\n",
              "      <td>4</td>\n",
              "      <td>1</td>\n",
              "    </tr>\n",
              "    <tr>\n",
              "      <th>2</th>\n",
              "      <td>3</td>\n",
              "      <td>2021</td>\n",
              "      <td>ALTOS DEL PROGRESO</td>\n",
              "      <td>BARRIO</td>\n",
              "      <td>NORTE</td>\n",
              "      <td>17</td>\n",
              "      <td>1187</td>\n",
              "      <td>605</td>\n",
              "      <td>582</td>\n",
              "      <td>221</td>\n",
              "      <td>204</td>\n",
              "      <td>236</td>\n",
              "      <td>179</td>\n",
              "      <td>145</td>\n",
              "      <td>118</td>\n",
              "      <td>48</td>\n",
              "      <td>26</td>\n",
              "      <td>6</td>\n",
              "      <td>1</td>\n",
              "    </tr>\n",
              "    <tr>\n",
              "      <th>3</th>\n",
              "      <td>4</td>\n",
              "      <td>2021</td>\n",
              "      <td>BALCONES DEL KENNEDY</td>\n",
              "      <td>BARRIO</td>\n",
              "      <td>NORTE</td>\n",
              "      <td>18</td>\n",
              "      <td>1334</td>\n",
              "      <td>659</td>\n",
              "      <td>675</td>\n",
              "      <td>250</td>\n",
              "      <td>222</td>\n",
              "      <td>248</td>\n",
              "      <td>204</td>\n",
              "      <td>190</td>\n",
              "      <td>111</td>\n",
              "      <td>68</td>\n",
              "      <td>31</td>\n",
              "      <td>7</td>\n",
              "      <td>1</td>\n",
              "    </tr>\n",
              "    <tr>\n",
              "      <th>4</th>\n",
              "      <td>5</td>\n",
              "      <td>2021</td>\n",
              "      <td>BETANIA</td>\n",
              "      <td>BARRIO</td>\n",
              "      <td>NORTE</td>\n",
              "      <td>17</td>\n",
              "      <td>1664</td>\n",
              "      <td>841</td>\n",
              "      <td>823</td>\n",
              "      <td>222</td>\n",
              "      <td>218</td>\n",
              "      <td>355</td>\n",
              "      <td>248</td>\n",
              "      <td>211</td>\n",
              "      <td>246</td>\n",
              "      <td>117</td>\n",
              "      <td>28</td>\n",
              "      <td>12</td>\n",
              "      <td>1</td>\n",
              "    </tr>\n",
              "    <tr>\n",
              "      <th>...</th>\n",
              "      <td>...</td>\n",
              "      <td>...</td>\n",
              "      <td>...</td>\n",
              "      <td>...</td>\n",
              "      <td>...</td>\n",
              "      <td>...</td>\n",
              "      <td>...</td>\n",
              "      <td>...</td>\n",
              "      <td>...</td>\n",
              "      <td>...</td>\n",
              "      <td>...</td>\n",
              "      <td>...</td>\n",
              "      <td>...</td>\n",
              "      <td>...</td>\n",
              "      <td>...</td>\n",
              "      <td>...</td>\n",
              "      <td>...</td>\n",
              "      <td>...</td>\n",
              "      <td>...</td>\n",
              "    </tr>\n",
              "    <tr>\n",
              "      <th>256</th>\n",
              "      <td>257</td>\n",
              "      <td>2021</td>\n",
              "      <td>MONTERREDONDO</td>\n",
              "      <td>BARRIO</td>\n",
              "      <td>MUTIS</td>\n",
              "      <td>31</td>\n",
              "      <td>5824</td>\n",
              "      <td>2767</td>\n",
              "      <td>3054</td>\n",
              "      <td>873</td>\n",
              "      <td>806</td>\n",
              "      <td>1175</td>\n",
              "      <td>960</td>\n",
              "      <td>734</td>\n",
              "      <td>674</td>\n",
              "      <td>376</td>\n",
              "      <td>164</td>\n",
              "      <td>47</td>\n",
              "      <td>17</td>\n",
              "    </tr>\n",
              "    <tr>\n",
              "      <th>257</th>\n",
              "      <td>258</td>\n",
              "      <td>2021</td>\n",
              "      <td>MUTIS</td>\n",
              "      <td>BARRIO</td>\n",
              "      <td>MUTIS</td>\n",
              "      <td>46</td>\n",
              "      <td>9295</td>\n",
              "      <td>4343</td>\n",
              "      <td>4951</td>\n",
              "      <td>967</td>\n",
              "      <td>1202</td>\n",
              "      <td>1569</td>\n",
              "      <td>1280</td>\n",
              "      <td>1187</td>\n",
              "      <td>1387</td>\n",
              "      <td>770</td>\n",
              "      <td>529</td>\n",
              "      <td>336</td>\n",
              "      <td>17</td>\n",
              "    </tr>\n",
              "    <tr>\n",
              "      <th>258</th>\n",
              "      <td>259</td>\n",
              "      <td>2021</td>\n",
              "      <td>VILLA DEL NOGAL</td>\n",
              "      <td>A. RURAL</td>\n",
              "      <td>SUR</td>\n",
              "      <td>857</td>\n",
              "      <td>524</td>\n",
              "      <td>543</td>\n",
              "      <td>209</td>\n",
              "      <td>199</td>\n",
              "      <td>192</td>\n",
              "      <td>146</td>\n",
              "      <td>142</td>\n",
              "      <td>83</td>\n",
              "      <td>41</td>\n",
              "      <td>34</td>\n",
              "      <td>12</td>\n",
              "      <td>246</td>\n",
              "      <td>11</td>\n",
              "    </tr>\n",
              "    <tr>\n",
              "      <th>259</th>\n",
              "      <td>260</td>\n",
              "      <td>2021</td>\n",
              "      <td>PRADOS DEL MUTIS</td>\n",
              "      <td>BARRIO</td>\n",
              "      <td>LAGOS DEL CACIQUE</td>\n",
              "      <td>2</td>\n",
              "      <td>1670</td>\n",
              "      <td>788</td>\n",
              "      <td>881</td>\n",
              "      <td>165</td>\n",
              "      <td>218</td>\n",
              "      <td>277</td>\n",
              "      <td>234</td>\n",
              "      <td>224</td>\n",
              "      <td>284</td>\n",
              "      <td>174</td>\n",
              "      <td>64</td>\n",
              "      <td>25</td>\n",
              "      <td>16</td>\n",
              "    </tr>\n",
              "    <tr>\n",
              "      <th>260</th>\n",
              "      <td>261</td>\n",
              "      <td>2021</td>\n",
              "      <td>QUEBRADA LA IGLESIA I</td>\n",
              "      <td>BARRIO</td>\n",
              "      <td>MUTIS</td>\n",
              "      <td>9</td>\n",
              "      <td>151</td>\n",
              "      <td>83</td>\n",
              "      <td>69</td>\n",
              "      <td>29</td>\n",
              "      <td>12</td>\n",
              "      <td>33</td>\n",
              "      <td>15</td>\n",
              "      <td>26</td>\n",
              "      <td>22</td>\n",
              "      <td>10</td>\n",
              "      <td>0</td>\n",
              "      <td>3</td>\n",
              "      <td>17</td>\n",
              "    </tr>\n",
              "  </tbody>\n",
              "</table>\n",
              "<p>257 rows × 19 columns</p>\n",
              "</div>"
            ],
            "text/plain": [
              "     ORDEN   AÑO        Barrio_poligono categoria  Comunas_poligonos  \\\n",
              "0        1  2021            13 DE JUNIO    BARRIO        NORORIENTAL   \n",
              "1        2  2021      ALTOS DEL KENNEDY    BARRIO              NORTE   \n",
              "2        3  2021     ALTOS DEL PROGRESO    BARRIO              NORTE   \n",
              "3        4  2021   BALCONES DEL KENNEDY    BARRIO              NORTE   \n",
              "4        5  2021                BETANIA    BARRIO              NORTE   \n",
              "..     ...   ...                    ...       ...                ...   \n",
              "256    257  2021          MONTERREDONDO    BARRIO              MUTIS   \n",
              "257    258  2021                  MUTIS    BARRIO              MUTIS   \n",
              "258    259  2021        VILLA DEL NOGAL  A. RURAL                SUR   \n",
              "259    260  2021       PRADOS DEL MUTIS    BARRIO  LAGOS DEL CACIQUE   \n",
              "260    261  2021  QUEBRADA LA IGLESIA I    BARRIO              MUTIS   \n",
              "\n",
              "     manzanas  personas  hombres  mujeres  Edad de 0 a 9  Edad de 10 a 19  \\\n",
              "0           5       410      200      209             65               51   \n",
              "1           6       529      249      279             76               85   \n",
              "2          17      1187      605      582            221              204   \n",
              "3          18      1334      659      675            250              222   \n",
              "4          17      1664      841      823            222              218   \n",
              "..        ...       ...      ...      ...            ...              ...   \n",
              "256        31      5824     2767     3054            873              806   \n",
              "257        46      9295     4343     4951            967             1202   \n",
              "258       857       524      543      209            199              192   \n",
              "259         2      1670      788      881            165              218   \n",
              "260         9       151       83       69             29               12   \n",
              "\n",
              "     Edad de 20 a 29  Edad de 30 a 39  Edad de 40 a 49  Edad de 50 a 59  \\\n",
              "0                 78               62               60               47   \n",
              "1                106               71               60               71   \n",
              "2                236              179              145              118   \n",
              "3                248              204              190              111   \n",
              "4                355              248              211              246   \n",
              "..               ...              ...              ...              ...   \n",
              "256             1175              960              734              674   \n",
              "257             1569             1280             1187             1387   \n",
              "258              146              142               83               41   \n",
              "259              277              234              224              284   \n",
              "260               33               15               26               22   \n",
              "\n",
              "     Edad de 60 a 69  Edad de 70 a 79  Edad de 80 a 89  cod_comuna  \n",
              "0                 34                8                4           2  \n",
              "1                 34               19                4           1  \n",
              "2                 48               26                6           1  \n",
              "3                 68               31                7           1  \n",
              "4                117               28               12           1  \n",
              "..               ...              ...              ...         ...  \n",
              "256              376              164               47          17  \n",
              "257              770              529              336          17  \n",
              "258               34               12              246          11  \n",
              "259              174               64               25          16  \n",
              "260               10                0                3          17  \n",
              "\n",
              "[257 rows x 19 columns]"
            ]
          },
          "execution_count": 836,
          "metadata": {},
          "output_type": "execute_result"
        }
      ],
      "source": [
        "df_poblacion = (df_poblacion [~df_poblacion [\"Comunas_poligonos\"]\n",
        "                  .isin(['CORREG. 1', 'CORREG. 2', 'CORREG. 3'])]\n",
        "               )\n",
        "\n",
        "df_poblacion"
      ]
    },
    {
      "cell_type": "code",
      "execution_count": 837,
      "metadata": {
        "id": "ZPqwbcRJ-h52"
      },
      "outputs": [],
      "source": [
        "columnas_a_mantener = ['cod_comuna',\n",
        "                       #'Comunas_poligonos',\n",
        "                       'manzanas',\n",
        "                       'personas'\n",
        "                     ]\n",
        "df_poblacion = df_poblacion[columnas_a_mantener]"
      ]
    },
    {
      "cell_type": "code",
      "execution_count": 838,
      "metadata": {
        "id": "JY0egrmj_L4b"
      },
      "outputs": [],
      "source": [
        "# Agrupar por comuna cantidades numericas\n",
        "df_poblacion = df_poblacion.groupby('cod_comuna', as_index=False).sum()"
      ]
    },
    {
      "cell_type": "code",
      "execution_count": 839,
      "metadata": {
        "colab": {
          "base_uri": "https://localhost:8080/",
          "height": 582
        },
        "id": "XQgVQ1W8G9sJ",
        "outputId": "081d1ee4-8ac4-450e-88cb-2aa5e5981401"
      },
      "outputs": [
        {
          "data": {
            "text/html": [
              "<div>\n",
              "<style scoped>\n",
              "    .dataframe tbody tr th:only-of-type {\n",
              "        vertical-align: middle;\n",
              "    }\n",
              "\n",
              "    .dataframe tbody tr th {\n",
              "        vertical-align: top;\n",
              "    }\n",
              "\n",
              "    .dataframe thead th {\n",
              "        text-align: right;\n",
              "    }\n",
              "</style>\n",
              "<table border=\"1\" class=\"dataframe\">\n",
              "  <thead>\n",
              "    <tr style=\"text-align: right;\">\n",
              "      <th></th>\n",
              "      <th>cod_comuna</th>\n",
              "      <th>manzanas</th>\n",
              "      <th>personas</th>\n",
              "    </tr>\n",
              "  </thead>\n",
              "  <tbody>\n",
              "    <tr>\n",
              "      <th>0</th>\n",
              "      <td>1</td>\n",
              "      <td>667</td>\n",
              "      <td>72591</td>\n",
              "    </tr>\n",
              "    <tr>\n",
              "      <th>1</th>\n",
              "      <td>2</td>\n",
              "      <td>515</td>\n",
              "      <td>32910</td>\n",
              "    </tr>\n",
              "    <tr>\n",
              "      <th>2</th>\n",
              "      <td>3</td>\n",
              "      <td>339</td>\n",
              "      <td>51781</td>\n",
              "    </tr>\n",
              "    <tr>\n",
              "      <th>3</th>\n",
              "      <td>4</td>\n",
              "      <td>410</td>\n",
              "      <td>37339</td>\n",
              "    </tr>\n",
              "    <tr>\n",
              "      <th>4</th>\n",
              "      <td>5</td>\n",
              "      <td>251</td>\n",
              "      <td>38339</td>\n",
              "    </tr>\n",
              "    <tr>\n",
              "      <th>5</th>\n",
              "      <td>6</td>\n",
              "      <td>211</td>\n",
              "      <td>29962</td>\n",
              "    </tr>\n",
              "    <tr>\n",
              "      <th>6</th>\n",
              "      <td>7</td>\n",
              "      <td>126</td>\n",
              "      <td>30544</td>\n",
              "    </tr>\n",
              "    <tr>\n",
              "      <th>7</th>\n",
              "      <td>8</td>\n",
              "      <td>154</td>\n",
              "      <td>18788</td>\n",
              "    </tr>\n",
              "    <tr>\n",
              "      <th>8</th>\n",
              "      <td>9</td>\n",
              "      <td>129</td>\n",
              "      <td>16513</td>\n",
              "    </tr>\n",
              "    <tr>\n",
              "      <th>9</th>\n",
              "      <td>10</td>\n",
              "      <td>450</td>\n",
              "      <td>56928</td>\n",
              "    </tr>\n",
              "    <tr>\n",
              "      <th>10</th>\n",
              "      <td>11</td>\n",
              "      <td>1116</td>\n",
              "      <td>34278</td>\n",
              "    </tr>\n",
              "    <tr>\n",
              "      <th>11</th>\n",
              "      <td>12</td>\n",
              "      <td>260</td>\n",
              "      <td>40492</td>\n",
              "    </tr>\n",
              "    <tr>\n",
              "      <th>12</th>\n",
              "      <td>13</td>\n",
              "      <td>315</td>\n",
              "      <td>68410</td>\n",
              "    </tr>\n",
              "    <tr>\n",
              "      <th>13</th>\n",
              "      <td>14</td>\n",
              "      <td>170</td>\n",
              "      <td>20029</td>\n",
              "    </tr>\n",
              "    <tr>\n",
              "      <th>14</th>\n",
              "      <td>15</td>\n",
              "      <td>129</td>\n",
              "      <td>8068</td>\n",
              "    </tr>\n",
              "    <tr>\n",
              "      <th>15</th>\n",
              "      <td>16</td>\n",
              "      <td>123</td>\n",
              "      <td>22699</td>\n",
              "    </tr>\n",
              "    <tr>\n",
              "      <th>16</th>\n",
              "      <td>17</td>\n",
              "      <td>188</td>\n",
              "      <td>32231</td>\n",
              "    </tr>\n",
              "  </tbody>\n",
              "</table>\n",
              "</div>"
            ],
            "text/plain": [
              "    cod_comuna  manzanas  personas\n",
              "0            1       667     72591\n",
              "1            2       515     32910\n",
              "2            3       339     51781\n",
              "3            4       410     37339\n",
              "4            5       251     38339\n",
              "5            6       211     29962\n",
              "6            7       126     30544\n",
              "7            8       154     18788\n",
              "8            9       129     16513\n",
              "9           10       450     56928\n",
              "10          11      1116     34278\n",
              "11          12       260     40492\n",
              "12          13       315     68410\n",
              "13          14       170     20029\n",
              "14          15       129      8068\n",
              "15          16       123     22699\n",
              "16          17       188     32231"
            ]
          },
          "execution_count": 839,
          "metadata": {},
          "output_type": "execute_result"
        }
      ],
      "source": [
        "df_poblacion"
      ]
    },
    {
      "cell_type": "code",
      "execution_count": 840,
      "metadata": {
        "colab": {
          "base_uri": "https://localhost:8080/"
        },
        "id": "zAjdNQl5HtsJ",
        "outputId": "acba31a0-c43f-4488-933b-5315057051d6"
      },
      "outputs": [
        {
          "data": {
            "text/plain": [
              "np.int64(611902)"
            ]
          },
          "execution_count": 840,
          "metadata": {},
          "output_type": "execute_result"
        }
      ],
      "source": [
        "# poblacion 2021 bucaramanga sin consdierar corregimientos\n",
        "df_poblacion.personas.sum()"
      ]
    },
    {
      "cell_type": "markdown",
      "metadata": {
        "id": "pgoSvgKoWub_"
      },
      "source": [
        "# 🕹️ **Descargar datasets para App Streamlit**"
      ]
    },
    {
      "cell_type": "code",
      "execution_count": 841,
      "metadata": {
        "id": "fiyHUzaEXM48"
      },
      "outputs": [],
      "source": [
        "#df_streamlit = pd.merge(df , gdf ,  left_on = \"num_com\" , right_on=\"cod_comuna\")\n",
        "\n",
        "#columnas_a_borrar = [ 'area','personas_s','geometry']\n",
        "#df_streamlit = df_streamlit.drop(columns=columnas_a_borrar )\n",
        "\n",
        "# Guardarlo como CSV\n",
        "#df_streamlit.to_csv('df_streamlit.csv', index=False)\n",
        "\n",
        "# Descargar el archivo\n",
        "#files.download('df_streamlit.csv')"
      ]
    },
    {
      "cell_type": "code",
      "execution_count": 842,
      "metadata": {
        "id": "uz9Tzk25aDbC"
      },
      "outputs": [],
      "source": [
        "#df_streamlit.info()"
      ]
    },
    {
      "cell_type": "markdown",
      "metadata": {
        "id": "OFgx7Ee7E-1K"
      },
      "source": [
        "# Exploración de datos (EDA)\n",
        "\n"
      ]
    },
    {
      "cell_type": "markdown",
      "metadata": {
        "id": "ZIrnwxf75TMy"
      },
      "source": [
        "\n",
        "\n",
        "---\n",
        "\n",
        "\n",
        "---\n",
        "\n",
        "\n"
      ]
    },
    {
      "cell_type": "markdown",
      "metadata": {
        "id": "91pyQ8bFJXWi"
      },
      "source": [
        "# Flujo modelos clustering"
      ]
    },
    {
      "cell_type": "markdown",
      "metadata": {
        "id": "leN1fiRWJcpS"
      },
      "source": [
        "- **Preprocesamiento de los datos**\n",
        "\n",
        "Objetivo: Transformar los datos en un  fromato adecuado para alimentar los modelos de machine learningg no supervisados.\n",
        "\n",
        "      - Preparación de filas ( Granularidad)\n",
        "      - Preparación de columnas ( Sin valores nulos y numérico).\n",
        "      - Ingeniería de características  (Nuevas  columnas)\n",
        "      - Selección de características.\n",
        "      - Escalar datos (Algoritmos basados en distancia como KMEANS lo requieren).\n",
        "\n",
        "- **Algoritmo**\n",
        "  - Reducción de dimensión\n",
        "  - KMEANS\n",
        "\n",
        "- **Ajustes**\n",
        "  - Evaluar y ajustar el modelo usando métricas e intuición.\n",
        "  - Visualización de datos.\n",
        "  - Interpretar los resultados\n",
        "\n",
        "\n",
        ">   Si los resultados no tienen sentido se regresa al preprocesamiento  o al algoritmo.\n",
        "\n",
        "\n",
        "\n",
        "- **Selección**\n",
        "\n",
        "Responder a la pregunta de negocio considando\n",
        "lo consultado acerca de las comunas de Bucaramanga.\n",
        "\n",
        "---\n"
      ]
    },
    {
      "cell_type": "markdown",
      "metadata": {
        "id": "qVL_QqYSvZ3a"
      },
      "source": [
        "## Preprocesamiento de los datos\n",
        "\n",
        "  **1.** Crear una sola tabla.\n",
        "\n",
        "  **2.** Granularidad.\n",
        "\n",
        "  **3.** Verificar valores que no hayan valores nulos y\n",
        "        que cada columna es numerica.\n",
        "        \n",
        "  **4.** Ingeniería de características."
      ]
    },
    {
      "cell_type": "markdown",
      "metadata": {
        "id": "iUFjvY12esFb"
      },
      "source": [
        "### Una sola tabla"
      ]
    },
    {
      "cell_type": "code",
      "execution_count": 843,
      "metadata": {
        "colab": {
          "base_uri": "https://localhost:8080/"
        },
        "id": "QkWC_QfRv6Aq",
        "outputId": "97431013-a4e5-4ba0-b52c-196521bfeca8"
      },
      "outputs": [
        {
          "name": "stdout",
          "output_type": "stream",
          "text": [
            "<class 'pandas.core.frame.DataFrame'>\n",
            "Index: 99045 entries, 0 to 100991\n",
            "Data columns (total 17 columns):\n",
            " #   Column            Non-Null Count  Dtype         \n",
            "---  ------            --------------  -----         \n",
            " 0   fecha_hecho       99045 non-null  datetime64[ns]\n",
            " 1   hora_hecho        99045 non-null  object        \n",
            " 2   sexo              99045 non-null  object        \n",
            " 3   movil_victima     99045 non-null  object        \n",
            " 4   movil_agresor     99044 non-null  object        \n",
            " 5   curso_vida        99045 non-null  category      \n",
            " 6   curso_vida_orden  99045 non-null  int8          \n",
            " 7   year              99045 non-null  int64         \n",
            " 8   mes_num           99045 non-null  int64         \n",
            " 9   dia_num           99045 non-null  int64         \n",
            " 10  dia_nombre        99045 non-null  object        \n",
            " 11  dia_nombre_orden  99045 non-null  int64         \n",
            " 12  num_com           99045 non-null  int64         \n",
            " 13  nom_com           99045 non-null  object        \n",
            " 14  categoria_delito  99045 non-null  object        \n",
            " 15  momento_del_dia   99045 non-null  object        \n",
            " 16  tipo_amenaza      99045 non-null  object        \n",
            "dtypes: category(1), datetime64[ns](1), int64(5), int8(1), object(9)\n",
            "memory usage: 12.3+ MB\n"
          ]
        }
      ],
      "source": [
        "df.info()"
      ]
    },
    {
      "cell_type": "code",
      "execution_count": 844,
      "metadata": {
        "colab": {
          "base_uri": "https://localhost:8080/"
        },
        "id": "tGRtgAyg8og0",
        "outputId": "7b5a2166-05a3-436d-832a-844d92cd6302"
      },
      "outputs": [
        {
          "name": "stdout",
          "output_type": "stream",
          "text": [
            "<class 'geopandas.geodataframe.GeoDataFrame'>\n",
            "RangeIndex: 17 entries, 0 to 16\n",
            "Data columns (total 4 columns):\n",
            " #   Column      Non-Null Count  Dtype   \n",
            "---  ------      --------------  -----   \n",
            " 0   area        17 non-null     float64 \n",
            " 1   nombre_com  17 non-null     object  \n",
            " 2   cod_comuna  17 non-null     int64   \n",
            " 3   geometry    17 non-null     geometry\n",
            "dtypes: float64(1), geometry(1), int64(1), object(1)\n",
            "memory usage: 676.0+ bytes\n"
          ]
        }
      ],
      "source": [
        "gdf.info()"
      ]
    },
    {
      "cell_type": "markdown",
      "metadata": {
        "id": "e1FA6cnOzaDn"
      },
      "source": [
        "---"
      ]
    },
    {
      "cell_type": "markdown",
      "metadata": {
        "id": "usreIWW0zbtD"
      },
      "source": [
        "### Preparando filas (Granularidad)"
      ]
    },
    {
      "cell_type": "markdown",
      "metadata": {
        "id": "iZQwi1Sh0HqT"
      },
      "source": [
        "\n",
        "\n",
        "> El objetivo central del proyecto es crear conjuntos de comunas similares en base a los crímenes y caracteristicas como la poblacion y el area de la comuna. Por tanto las filas deben estar a nivel de comunas agregadas con valores numericos.\n",
        "\n",
        "**CADA FILA  DEBE SER UNA COMUNA!**\n",
        "\n",
        "En base a cuales  caracteristicas se creara la tabla pivote?\n",
        "\n",
        "**A.** Tipología crimen (diferentes categorias)\n",
        "\n",
        "**B.** Población Comuna\n",
        "\n",
        "**C.** Area comuna."
      ]
    },
    {
      "cell_type": "code",
      "execution_count": 845,
      "metadata": {
        "colab": {
          "base_uri": "https://localhost:8080/"
        },
        "id": "DKxoCGvzwwwu",
        "outputId": "a292ec9f-fa40-4d7d-9379-c50fcd5769a0"
      },
      "outputs": [
        {
          "name": "stdout",
          "output_type": "stream",
          "text": [
            "<class 'pandas.core.frame.DataFrame'>\n",
            "Index: 99045 entries, 0 to 100991\n",
            "Data columns (total 17 columns):\n",
            " #   Column            Non-Null Count  Dtype         \n",
            "---  ------            --------------  -----         \n",
            " 0   fecha_hecho       99045 non-null  datetime64[ns]\n",
            " 1   hora_hecho        99045 non-null  object        \n",
            " 2   sexo              99045 non-null  object        \n",
            " 3   movil_victima     99045 non-null  object        \n",
            " 4   movil_agresor     99044 non-null  object        \n",
            " 5   curso_vida        99045 non-null  category      \n",
            " 6   curso_vida_orden  99045 non-null  int8          \n",
            " 7   year              99045 non-null  int64         \n",
            " 8   mes_num           99045 non-null  int64         \n",
            " 9   dia_num           99045 non-null  int64         \n",
            " 10  dia_nombre        99045 non-null  object        \n",
            " 11  dia_nombre_orden  99045 non-null  int64         \n",
            " 12  num_com           99045 non-null  int64         \n",
            " 13  nom_com           99045 non-null  object        \n",
            " 14  categoria_delito  99045 non-null  object        \n",
            " 15  momento_del_dia   99045 non-null  object        \n",
            " 16  tipo_amenaza      99045 non-null  object        \n",
            "dtypes: category(1), datetime64[ns](1), int64(5), int8(1), object(9)\n",
            "memory usage: 12.3+ MB\n"
          ]
        }
      ],
      "source": [
        "df.info()"
      ]
    },
    {
      "cell_type": "code",
      "execution_count": 846,
      "metadata": {
        "id": "sJf5wUtSVEVd"
      },
      "outputs": [],
      "source": [
        "# Obtener el número de años únicos\n",
        "num_yars = df['year'].nunique()"
      ]
    },
    {
      "cell_type": "code",
      "execution_count": 847,
      "metadata": {
        "id": "_Ocel7QaGNge"
      },
      "outputs": [],
      "source": [
        "def calcular_factor_ajuste(fecha_inicio, fecha_fin):\n",
        "    \"\"\"\n",
        "    Calcula el factor de ajuste temporal para anualizar las tasas de criminalidad.\n",
        "\n",
        "    Parámetros:\n",
        "        fecha_inicio (str): Fecha de inicio en formato 'YYYY-MM-DD'.\n",
        "        fecha_fin (str): Fecha de fin en formato 'YYYY-MM-DD'.\n",
        "\n",
        "    Retorna:\n",
        "        float: Factor de ajuste temporal.\n",
        "    \"\"\"\n",
        "    # Convertir las fechas a objetos datetime\n",
        "    fecha_inicio = datetime.strptime(fecha_inicio, '%Y-%m-%d')\n",
        "    fecha_fin = datetime.strptime(fecha_fin, '%Y-%m-%d')\n",
        "\n",
        "    # Calcular la cantidad de días del periodo\n",
        "    dias_periodo = (fecha_fin - fecha_inicio).days + 1\n",
        "\n",
        "    # Factor de ajuste (anualización)\n",
        "    factor_ajuste_tiempo = 365 / dias_periodo\n",
        "\n",
        "    return round(factor_ajuste_tiempo, 4)"
      ]
    },
    {
      "cell_type": "code",
      "execution_count": 848,
      "metadata": {
        "colab": {
          "base_uri": "https://localhost:8080/"
        },
        "id": "SSuqHeUPABy3",
        "outputId": "b41ecb11-9ce9-4db2-96eb-1e703da2dcec"
      },
      "outputs": [
        {
          "name": "stdout",
          "output_type": "stream",
          "text": [
            "Años distintos en los datos: 8\n"
          ]
        }
      ],
      "source": [
        "\n",
        "# Filtrar el DataFrame según las fechas seleccionadas\n",
        "#df_filtrado = df[(df['fecha'] >= fecha_inicio) & (df['fecha'] <= fecha_fin)]\n",
        "\n",
        "num_years = df['fecha_hecho'].dt.year.nunique()\n",
        "print(f'Años distintos en los datos: {num_years}')"
      ]
    },
    {
      "cell_type": "code",
      "execution_count": 849,
      "metadata": {
        "colab": {
          "base_uri": "https://localhost:8080/",
          "height": 617
        },
        "id": "8ZvGVaVnDSgY",
        "outputId": "3cb70493-6a03-443a-b636-d989e65535d8"
      },
      "outputs": [
        {
          "data": {
            "text/html": [
              "<div>\n",
              "<style scoped>\n",
              "    .dataframe tbody tr th:only-of-type {\n",
              "        vertical-align: middle;\n",
              "    }\n",
              "\n",
              "    .dataframe tbody tr th {\n",
              "        vertical-align: top;\n",
              "    }\n",
              "\n",
              "    .dataframe thead th {\n",
              "        text-align: right;\n",
              "    }\n",
              "</style>\n",
              "<table border=\"1\" class=\"dataframe\">\n",
              "  <thead>\n",
              "    <tr style=\"text-align: right;\">\n",
              "      <th></th>\n",
              "      <th>num_com</th>\n",
              "      <th>Crimen Organizado</th>\n",
              "      <th>Delitos Sexuales</th>\n",
              "      <th>Delitos Violentos</th>\n",
              "      <th>Robos y Hurtos</th>\n",
              "      <th>Violencia Familiar</th>\n",
              "      <th>manzanas</th>\n",
              "      <th>personas</th>\n",
              "      <th>nombre_com</th>\n",
              "      <th>area</th>\n",
              "    </tr>\n",
              "  </thead>\n",
              "  <tbody>\n",
              "    <tr>\n",
              "      <th>0</th>\n",
              "      <td>1</td>\n",
              "      <td>53.625</td>\n",
              "      <td>68.250</td>\n",
              "      <td>281.375</td>\n",
              "      <td>441.500</td>\n",
              "      <td>319.500</td>\n",
              "      <td>667</td>\n",
              "      <td>72591</td>\n",
              "      <td>Comuna Norte</td>\n",
              "      <td>4.326768e+06</td>\n",
              "    </tr>\n",
              "    <tr>\n",
              "      <th>1</th>\n",
              "      <td>2</td>\n",
              "      <td>20.250</td>\n",
              "      <td>31.125</td>\n",
              "      <td>134.625</td>\n",
              "      <td>174.375</td>\n",
              "      <td>149.500</td>\n",
              "      <td>515</td>\n",
              "      <td>32910</td>\n",
              "      <td>Comuna Nororiental</td>\n",
              "      <td>1.371355e+06</td>\n",
              "    </tr>\n",
              "    <tr>\n",
              "      <th>2</th>\n",
              "      <td>3</td>\n",
              "      <td>52.375</td>\n",
              "      <td>44.750</td>\n",
              "      <td>216.375</td>\n",
              "      <td>999.500</td>\n",
              "      <td>145.625</td>\n",
              "      <td>339</td>\n",
              "      <td>51781</td>\n",
              "      <td>Comuna San Francisco</td>\n",
              "      <td>2.734584e+06</td>\n",
              "    </tr>\n",
              "    <tr>\n",
              "      <th>3</th>\n",
              "      <td>4</td>\n",
              "      <td>40.625</td>\n",
              "      <td>37.000</td>\n",
              "      <td>202.000</td>\n",
              "      <td>382.375</td>\n",
              "      <td>171.500</td>\n",
              "      <td>410</td>\n",
              "      <td>37339</td>\n",
              "      <td>Comuna Occidental</td>\n",
              "      <td>1.378682e+07</td>\n",
              "    </tr>\n",
              "    <tr>\n",
              "      <th>4</th>\n",
              "      <td>5</td>\n",
              "      <td>43.000</td>\n",
              "      <td>27.500</td>\n",
              "      <td>178.500</td>\n",
              "      <td>277.000</td>\n",
              "      <td>152.125</td>\n",
              "      <td>251</td>\n",
              "      <td>38339</td>\n",
              "      <td>Comuna Garcia Rovira</td>\n",
              "      <td>5.688166e+06</td>\n",
              "    </tr>\n",
              "    <tr>\n",
              "      <th>5</th>\n",
              "      <td>6</td>\n",
              "      <td>23.375</td>\n",
              "      <td>21.500</td>\n",
              "      <td>123.250</td>\n",
              "      <td>629.750</td>\n",
              "      <td>55.250</td>\n",
              "      <td>211</td>\n",
              "      <td>29962</td>\n",
              "      <td>Comuna La Concordia</td>\n",
              "      <td>1.928794e+06</td>\n",
              "    </tr>\n",
              "    <tr>\n",
              "      <th>6</th>\n",
              "      <td>7</td>\n",
              "      <td>17.500</td>\n",
              "      <td>9.500</td>\n",
              "      <td>38.750</td>\n",
              "      <td>209.750</td>\n",
              "      <td>35.000</td>\n",
              "      <td>126</td>\n",
              "      <td>30544</td>\n",
              "      <td>Comuna Ciudadela Real de Minas</td>\n",
              "      <td>1.079359e+06</td>\n",
              "    </tr>\n",
              "    <tr>\n",
              "      <th>7</th>\n",
              "      <td>8</td>\n",
              "      <td>13.250</td>\n",
              "      <td>11.375</td>\n",
              "      <td>56.000</td>\n",
              "      <td>115.500</td>\n",
              "      <td>46.875</td>\n",
              "      <td>154</td>\n",
              "      <td>18788</td>\n",
              "      <td>Comuna Suroccidente</td>\n",
              "      <td>1.057978e+06</td>\n",
              "    </tr>\n",
              "    <tr>\n",
              "      <th>8</th>\n",
              "      <td>9</td>\n",
              "      <td>11.625</td>\n",
              "      <td>8.500</td>\n",
              "      <td>44.875</td>\n",
              "      <td>141.250</td>\n",
              "      <td>34.750</td>\n",
              "      <td>129</td>\n",
              "      <td>16513</td>\n",
              "      <td>Comuna La Pedregosa</td>\n",
              "      <td>8.925716e+05</td>\n",
              "    </tr>\n",
              "    <tr>\n",
              "      <th>9</th>\n",
              "      <td>10</td>\n",
              "      <td>22.750</td>\n",
              "      <td>24.250</td>\n",
              "      <td>96.625</td>\n",
              "      <td>406.125</td>\n",
              "      <td>92.000</td>\n",
              "      <td>450</td>\n",
              "      <td>56928</td>\n",
              "      <td>Comuna Provenza</td>\n",
              "      <td>2.631933e+06</td>\n",
              "    </tr>\n",
              "    <tr>\n",
              "      <th>10</th>\n",
              "      <td>11</td>\n",
              "      <td>20.250</td>\n",
              "      <td>20.125</td>\n",
              "      <td>76.750</td>\n",
              "      <td>203.250</td>\n",
              "      <td>84.500</td>\n",
              "      <td>1116</td>\n",
              "      <td>34278</td>\n",
              "      <td>Comuna Sur</td>\n",
              "      <td>3.296170e+06</td>\n",
              "    </tr>\n",
              "    <tr>\n",
              "      <th>11</th>\n",
              "      <td>12</td>\n",
              "      <td>31.250</td>\n",
              "      <td>18.500</td>\n",
              "      <td>132.750</td>\n",
              "      <td>1027.500</td>\n",
              "      <td>51.250</td>\n",
              "      <td>260</td>\n",
              "      <td>40492</td>\n",
              "      <td>Comuna Cabecera del Llano</td>\n",
              "      <td>2.825578e+06</td>\n",
              "    </tr>\n",
              "    <tr>\n",
              "      <th>12</th>\n",
              "      <td>13</td>\n",
              "      <td>48.375</td>\n",
              "      <td>36.000</td>\n",
              "      <td>181.000</td>\n",
              "      <td>1118.625</td>\n",
              "      <td>102.125</td>\n",
              "      <td>315</td>\n",
              "      <td>68410</td>\n",
              "      <td>Comuna Oriental</td>\n",
              "      <td>3.002325e+06</td>\n",
              "    </tr>\n",
              "    <tr>\n",
              "      <th>13</th>\n",
              "      <td>14</td>\n",
              "      <td>18.125</td>\n",
              "      <td>16.000</td>\n",
              "      <td>71.875</td>\n",
              "      <td>119.500</td>\n",
              "      <td>75.125</td>\n",
              "      <td>170</td>\n",
              "      <td>20029</td>\n",
              "      <td>Comuna Morrorico</td>\n",
              "      <td>7.112813e+05</td>\n",
              "    </tr>\n",
              "    <tr>\n",
              "      <th>14</th>\n",
              "      <td>15</td>\n",
              "      <td>107.375</td>\n",
              "      <td>23.875</td>\n",
              "      <td>207.250</td>\n",
              "      <td>935.250</td>\n",
              "      <td>75.750</td>\n",
              "      <td>129</td>\n",
              "      <td>8068</td>\n",
              "      <td>Comuna Centro</td>\n",
              "      <td>1.036568e+06</td>\n",
              "    </tr>\n",
              "    <tr>\n",
              "      <th>15</th>\n",
              "      <td>16</td>\n",
              "      <td>11.125</td>\n",
              "      <td>4.750</td>\n",
              "      <td>23.250</td>\n",
              "      <td>245.875</td>\n",
              "      <td>16.125</td>\n",
              "      <td>123</td>\n",
              "      <td>22699</td>\n",
              "      <td>Comuna Tejar</td>\n",
              "      <td>1.943901e+06</td>\n",
              "    </tr>\n",
              "    <tr>\n",
              "      <th>16</th>\n",
              "      <td>17</td>\n",
              "      <td>17.875</td>\n",
              "      <td>16.625</td>\n",
              "      <td>71.125</td>\n",
              "      <td>167.000</td>\n",
              "      <td>70.750</td>\n",
              "      <td>188</td>\n",
              "      <td>32231</td>\n",
              "      <td>Comuna Mutis</td>\n",
              "      <td>3.383157e+06</td>\n",
              "    </tr>\n",
              "  </tbody>\n",
              "</table>\n",
              "</div>"
            ],
            "text/plain": [
              "    num_com  Crimen Organizado  Delitos Sexuales  Delitos Violentos  \\\n",
              "0         1             53.625            68.250            281.375   \n",
              "1         2             20.250            31.125            134.625   \n",
              "2         3             52.375            44.750            216.375   \n",
              "3         4             40.625            37.000            202.000   \n",
              "4         5             43.000            27.500            178.500   \n",
              "5         6             23.375            21.500            123.250   \n",
              "6         7             17.500             9.500             38.750   \n",
              "7         8             13.250            11.375             56.000   \n",
              "8         9             11.625             8.500             44.875   \n",
              "9        10             22.750            24.250             96.625   \n",
              "10       11             20.250            20.125             76.750   \n",
              "11       12             31.250            18.500            132.750   \n",
              "12       13             48.375            36.000            181.000   \n",
              "13       14             18.125            16.000             71.875   \n",
              "14       15            107.375            23.875            207.250   \n",
              "15       16             11.125             4.750             23.250   \n",
              "16       17             17.875            16.625             71.125   \n",
              "\n",
              "    Robos y Hurtos  Violencia Familiar  manzanas  personas  \\\n",
              "0          441.500             319.500       667     72591   \n",
              "1          174.375             149.500       515     32910   \n",
              "2          999.500             145.625       339     51781   \n",
              "3          382.375             171.500       410     37339   \n",
              "4          277.000             152.125       251     38339   \n",
              "5          629.750              55.250       211     29962   \n",
              "6          209.750              35.000       126     30544   \n",
              "7          115.500              46.875       154     18788   \n",
              "8          141.250              34.750       129     16513   \n",
              "9          406.125              92.000       450     56928   \n",
              "10         203.250              84.500      1116     34278   \n",
              "11        1027.500              51.250       260     40492   \n",
              "12        1118.625             102.125       315     68410   \n",
              "13         119.500              75.125       170     20029   \n",
              "14         935.250              75.750       129      8068   \n",
              "15         245.875              16.125       123     22699   \n",
              "16         167.000              70.750       188     32231   \n",
              "\n",
              "                        nombre_com          area  \n",
              "0                     Comuna Norte  4.326768e+06  \n",
              "1               Comuna Nororiental  1.371355e+06  \n",
              "2             Comuna San Francisco  2.734584e+06  \n",
              "3                Comuna Occidental  1.378682e+07  \n",
              "4             Comuna Garcia Rovira  5.688166e+06  \n",
              "5              Comuna La Concordia  1.928794e+06  \n",
              "6   Comuna Ciudadela Real de Minas  1.079359e+06  \n",
              "7              Comuna Suroccidente  1.057978e+06  \n",
              "8              Comuna La Pedregosa  8.925716e+05  \n",
              "9                  Comuna Provenza  2.631933e+06  \n",
              "10                      Comuna Sur  3.296170e+06  \n",
              "11       Comuna Cabecera del Llano  2.825578e+06  \n",
              "12                 Comuna Oriental  3.002325e+06  \n",
              "13                Comuna Morrorico  7.112813e+05  \n",
              "14                   Comuna Centro  1.036568e+06  \n",
              "15                    Comuna Tejar  1.943901e+06  \n",
              "16                    Comuna Mutis  3.383157e+06  "
            ]
          },
          "execution_count": 849,
          "metadata": {},
          "output_type": "execute_result"
        }
      ],
      "source": [
        "# Paso 1: Contar la cantidad de cada tipo de crimen por comuna\n",
        "\n",
        "# Pivotar y calcular el promedio anual por categoría de crimen\n",
        "df_pivot_sin_datos_demograficos = (df.pivot_table(index='num_com',\n",
        "                                           columns='categoria_delito',\n",
        "                                           aggfunc='size', fill_value=0)\n",
        "                                           / num_years).reset_index()\n",
        "\n",
        "df_pivot_con_datos_demograficos = df_pivot_sin_datos_demograficos.merge(\n",
        "                                                   df_poblacion ,\n",
        "                                                   how='left',\n",
        "                                                   left_on ='num_com' ,\n",
        "                                                   right_on = 'cod_comuna' )\n",
        "\n",
        "df_pivot_con_datos_demograficos = df_pivot_con_datos_demograficos.merge(\n",
        "                                                   gdf[['cod_comuna','nombre_com', 'area']],\n",
        "                                                   how='left',\n",
        "                                                   left_on ='num_com' ,\n",
        "                                                   right_on = 'cod_comuna' )\n",
        "\n",
        "df_model  = df_pivot_con_datos_demograficos.drop(columns = ['cod_comuna_x','cod_comuna_y'])\n",
        "df_model"
      ]
    },
    {
      "cell_type": "code",
      "execution_count": 850,
      "metadata": {
        "colab": {
          "base_uri": "https://localhost:8080/"
        },
        "id": "AQ6Q02yo9pFw",
        "outputId": "7cdde252-b90a-4da7-e2b4-95781036113e"
      },
      "outputs": [
        {
          "name": "stdout",
          "output_type": "stream",
          "text": [
            "Granularidad correcta :)\n"
          ]
        }
      ],
      "source": [
        "# Verificar granularidad\n",
        "if df_model.shape[0] == df_model['nombre_com'].nunique():\n",
        "    print(\"Granularidad correcta :)\")\n",
        "else:\n",
        "    raise ValueError(\"Error: La granularidad no es la esperada. Existen registros duplicados :(\")"
      ]
    },
    {
      "cell_type": "markdown",
      "metadata": {
        "id": "FOpKOjbjVjtO"
      },
      "source": [
        "\n",
        "\n",
        "---\n",
        "\n"
      ]
    },
    {
      "cell_type": "markdown",
      "metadata": {
        "id": "ep_afjDrWE15"
      },
      "source": [
        "### **Preparación de columnas**\n",
        "\n",
        "\n"
      ]
    },
    {
      "cell_type": "markdown",
      "metadata": {
        "id": "uq7U8WIau3iH"
      },
      "source": [
        "#### **Valores  no nulos**\n",
        "\n",
        "Se deben limpiar valores faltantes y deben ser numericas.\n",
        "\n",
        "> Los valores faltantes ya se manejaron con pivot_table llenando con ceros las comunas sin  un delito determinado.\n",
        "\n",
        "\n",
        "Comprobación:"
      ]
    },
    {
      "cell_type": "code",
      "execution_count": 851,
      "metadata": {
        "colab": {
          "base_uri": "https://localhost:8080/",
          "height": 53
        },
        "id": "8HGQAix_aevI",
        "outputId": "e0109c9b-e56f-4bb6-8fee-565c846fc737"
      },
      "outputs": [
        {
          "data": {
            "text/html": [
              "<div>\n",
              "<style scoped>\n",
              "    .dataframe tbody tr th:only-of-type {\n",
              "        vertical-align: middle;\n",
              "    }\n",
              "\n",
              "    .dataframe tbody tr th {\n",
              "        vertical-align: top;\n",
              "    }\n",
              "\n",
              "    .dataframe thead th {\n",
              "        text-align: right;\n",
              "    }\n",
              "</style>\n",
              "<table border=\"1\" class=\"dataframe\">\n",
              "  <thead>\n",
              "    <tr style=\"text-align: right;\">\n",
              "      <th></th>\n",
              "      <th>num_com</th>\n",
              "      <th>Crimen Organizado</th>\n",
              "      <th>Delitos Sexuales</th>\n",
              "      <th>Delitos Violentos</th>\n",
              "      <th>Robos y Hurtos</th>\n",
              "      <th>Violencia Familiar</th>\n",
              "      <th>manzanas</th>\n",
              "      <th>personas</th>\n",
              "      <th>nombre_com</th>\n",
              "      <th>area</th>\n",
              "    </tr>\n",
              "  </thead>\n",
              "  <tbody>\n",
              "  </tbody>\n",
              "</table>\n",
              "</div>"
            ],
            "text/plain": [
              "Empty DataFrame\n",
              "Columns: [num_com, Crimen Organizado, Delitos Sexuales, Delitos Violentos, Robos y Hurtos, Violencia Familiar, manzanas, personas, nombre_com, area]\n",
              "Index: []"
            ]
          },
          "execution_count": 851,
          "metadata": {},
          "output_type": "execute_result"
        }
      ],
      "source": [
        "# Saber cuales son las filas nulas\n",
        "df_model[ df_model.isna().any(axis=1) ]"
      ]
    },
    {
      "cell_type": "code",
      "execution_count": 852,
      "metadata": {
        "colab": {
          "base_uri": "https://localhost:8080/"
        },
        "id": "S60FmdGAaexy",
        "outputId": "17e27651-128a-4c30-8d9a-c69bb22ec52f"
      },
      "outputs": [
        {
          "data": {
            "text/plain": [
              "np.False_"
            ]
          },
          "execution_count": 852,
          "metadata": {},
          "output_type": "execute_result"
        }
      ],
      "source": [
        "# Saber si hay NaN en todo el DataFrame\n",
        "df_model.isna().any(axis=1).any()"
      ]
    },
    {
      "cell_type": "markdown",
      "metadata": {
        "id": "v3cdmgJNvAuQ"
      },
      "source": [
        "#### **Columnas numéricas**"
      ]
    },
    {
      "cell_type": "markdown",
      "metadata": {
        "id": "KZhzw4ecw46K"
      },
      "source": [
        "Este paso  normalmente se aborda con variables dummy y reemplazando con la funcion .where , sin embargo como se aplico un pivot_table agregando por conteo de crimenes las columnas de interes ya son numéricas.\n",
        "\n",
        "Comprobación:"
      ]
    },
    {
      "cell_type": "code",
      "execution_count": 853,
      "metadata": {
        "colab": {
          "base_uri": "https://localhost:8080/",
          "height": 398
        },
        "id": "PKL4R6DrZp2-",
        "outputId": "73a07721-6c95-4629-b03b-54f911388229"
      },
      "outputs": [
        {
          "data": {
            "text/plain": [
              "num_com                 int64\n",
              "Crimen Organizado     float64\n",
              "Delitos Sexuales      float64\n",
              "Delitos Violentos     float64\n",
              "Robos y Hurtos        float64\n",
              "Violencia Familiar    float64\n",
              "manzanas                int64\n",
              "personas                int64\n",
              "nombre_com             object\n",
              "area                  float64\n",
              "dtype: object"
            ]
          },
          "execution_count": 853,
          "metadata": {},
          "output_type": "execute_result"
        }
      ],
      "source": [
        "df_model.dtypes"
      ]
    },
    {
      "cell_type": "markdown",
      "metadata": {
        "id": "LEhatmi1wXK9"
      },
      "source": [
        "### **Ingeniería de características**\n",
        "\n",
        "Objetivo:  crear columnas que ayuden a mejorar el modelo.  Algunas tecnicas son:\n",
        "\n",
        "- Columnas calculadas\n",
        "- Binning values\n",
        "- Identificar  variables proxy.\n",
        "\n"
      ]
    },
    {
      "cell_type": "markdown",
      "metadata": {
        "id": "nblegyRPI5VY"
      },
      "source": [
        "#### **Excluir columna identificadora**\n",
        "\n",
        "Aunque la columna identificado se debe guardar,\n",
        "el modelo de machine learning  no lo requiere.\n",
        "\n",
        "> Excluir de la tabla pivoteada las  comunas\n",
        "\n"
      ]
    },
    {
      "cell_type": "code",
      "execution_count": 854,
      "metadata": {
        "colab": {
          "base_uri": "https://localhost:8080/",
          "height": 112
        },
        "id": "Py0anzJpqGVb",
        "outputId": "c011528e-4179-401e-de9a-ca3054c1d326"
      },
      "outputs": [
        {
          "data": {
            "text/html": [
              "<div>\n",
              "<style scoped>\n",
              "    .dataframe tbody tr th:only-of-type {\n",
              "        vertical-align: middle;\n",
              "    }\n",
              "\n",
              "    .dataframe tbody tr th {\n",
              "        vertical-align: top;\n",
              "    }\n",
              "\n",
              "    .dataframe thead th {\n",
              "        text-align: right;\n",
              "    }\n",
              "</style>\n",
              "<table border=\"1\" class=\"dataframe\">\n",
              "  <thead>\n",
              "    <tr style=\"text-align: right;\">\n",
              "      <th></th>\n",
              "      <th>num_com</th>\n",
              "      <th>nombre_com</th>\n",
              "    </tr>\n",
              "  </thead>\n",
              "  <tbody>\n",
              "    <tr>\n",
              "      <th>0</th>\n",
              "      <td>1</td>\n",
              "      <td>Comuna Norte</td>\n",
              "    </tr>\n",
              "    <tr>\n",
              "      <th>1</th>\n",
              "      <td>2</td>\n",
              "      <td>Comuna Nororiental</td>\n",
              "    </tr>\n",
              "  </tbody>\n",
              "</table>\n",
              "</div>"
            ],
            "text/plain": [
              "   num_com          nombre_com\n",
              "0        1        Comuna Norte\n",
              "1        2  Comuna Nororiental"
            ]
          },
          "execution_count": 854,
          "metadata": {},
          "output_type": "execute_result"
        }
      ],
      "source": [
        "identificadores = df_model[['num_com' , 'nombre_com']]\n",
        "identificadores.head(2)"
      ]
    },
    {
      "cell_type": "code",
      "execution_count": 855,
      "metadata": {
        "id": "wO1_GfLQqKmh"
      },
      "outputs": [],
      "source": [
        "# para  el modelo no se requiere los identificadores:\n",
        "df_model.drop( columns = identificadores.columns.to_list() , inplace=True)"
      ]
    },
    {
      "cell_type": "markdown",
      "metadata": {
        "id": "GWYwH_obQFBv"
      },
      "source": [
        "#### Calculadas calculadas"
      ]
    },
    {
      "cell_type": "markdown",
      "metadata": {
        "id": "LGutyadG0Ixa"
      },
      "source": [
        "**Columnas calculadas**\n",
        "\n",
        "A mayor **densidad poblacional** se pueden tener  mayor cantidad de deliutos callejeros, conflictos interpersonales, mas robos,etc."
      ]
    },
    {
      "cell_type": "code",
      "execution_count": 856,
      "metadata": {
        "colab": {
          "base_uri": "https://localhost:8080/"
        },
        "id": "gnuzp2KxpEjI",
        "outputId": "4a1dad47-cdc1-4663-b369-eb9fa981853b"
      },
      "outputs": [
        {
          "data": {
            "text/plain": [
              "Index(['curso_vida_orden', 'year', 'mes_num', 'dia_num', 'dia_nombre_orden',\n",
              "       'num_com'],\n",
              "      dtype='object')"
            ]
          },
          "execution_count": 856,
          "metadata": {},
          "output_type": "execute_result"
        }
      ],
      "source": [
        "df.select_dtypes(include='number').columns"
      ]
    },
    {
      "cell_type": "code",
      "execution_count": 857,
      "metadata": {
        "colab": {
          "base_uri": "https://localhost:8080/"
        },
        "id": "-xMKeKSZoraI",
        "outputId": "7b9ea20d-82d3-4eff-c8f2-f6faf2ee468b"
      },
      "outputs": [
        {
          "name": "stdout",
          "output_type": "stream",
          "text": [
            "<class 'pandas.core.frame.DataFrame'>\n",
            "RangeIndex: 17 entries, 0 to 16\n",
            "Data columns (total 8 columns):\n",
            " #   Column              Non-Null Count  Dtype  \n",
            "---  ------              --------------  -----  \n",
            " 0   Crimen Organizado   17 non-null     float64\n",
            " 1   Delitos Sexuales    17 non-null     float64\n",
            " 2   Delitos Violentos   17 non-null     float64\n",
            " 3   Robos y Hurtos      17 non-null     float64\n",
            " 4   Violencia Familiar  17 non-null     float64\n",
            " 5   manzanas            17 non-null     int64  \n",
            " 6   personas            17 non-null     int64  \n",
            " 7   area                17 non-null     float64\n",
            "dtypes: float64(6), int64(2)\n",
            "memory usage: 1.2 KB\n"
          ]
        }
      ],
      "source": [
        "df_model.info()"
      ]
    },
    {
      "cell_type": "code",
      "execution_count": 858,
      "metadata": {
        "id": "mxMCLCyMZp6B"
      },
      "outputs": [],
      "source": [
        "# Se calcula la densidad poblacional promedio de cada comuna\n",
        "df_model['poblacional_km2'] = df_model['personas'] / df_model['area']\n",
        "\n",
        "df_model[\"manzanas_km2\"] = df_model[\"manzanas\"] / df_model[\"area\"]"
      ]
    },
    {
      "cell_type": "markdown",
      "metadata": {
        "id": "FwN_kIlCPycT"
      },
      "source": [
        "#### **Crimenes por cada X habitantes**"
      ]
    },
    {
      "cell_type": "code",
      "execution_count": 859,
      "metadata": {
        "id": "Na5lnvHnQYsS"
      },
      "outputs": [],
      "source": [
        "# Cálculo de tasas por cada 1000 habitantes\n",
        "cada_X_habitantes = 1000\n",
        "crimenes = ['Crimen Organizado', 'Delitos Sexuales',\n",
        "            'Delitos Violentos', 'Robos y Hurtos', 'Violencia Familiar']\n",
        "\n",
        "for crimen in crimenes:\n",
        "    # 1. Calcular tasa por cada 1000 habitantes (se conserva)\n",
        "    nombre_tasa = crimen.lower().replace(' ', '_') + f'_por_{cada_X_habitantes}hab'\n",
        "    df_model[nombre_tasa] = ((df_model[crimen] / df_model['personas']) * cada_X_habitantes).round(2)\n",
        "\n",
        "    # 2. Crear versión log-transformada (se añade como nueva columna)\n",
        "    nombre_log = nombre_tasa + '_log'\n",
        "    df_model[nombre_log] = np.log1p(df_model[nombre_tasa])  # log(tasa + 1) para evitar -inf"
      ]
    },
    {
      "cell_type": "markdown",
      "metadata": {
        "id": "0Cfo7456KOEI"
      },
      "source": [
        "### **Selección  de características**\n",
        "\n",
        "Cuáles características son relevantes para el modelo?\n",
        "\n",
        "Segun la intuición que variables son más relevantes para representar cada comuna/barrio por crimen?"
      ]
    },
    {
      "cell_type": "code",
      "execution_count": 860,
      "metadata": {
        "id": "8UlWmJGNIUJh"
      },
      "outputs": [],
      "source": [
        "# Considerando la densidad poblacional, la poblacion y el area son  redundantes.\n",
        "# Columnas que no se consideran\n",
        "#columnas_a_borrar = ['densidad_poblacional']\n",
        "#columnas_a_borrar = ['Crimen Organizado', 'Delitos Sexuales', 'Delitos Violentos', 'Robos y Hurtos', 'Violencia Familiar',  'manzanas'\t, 'personas'\t,'area']\n",
        "columnas_a_borrar = []\n",
        "df_model.drop(columns=columnas_a_borrar, inplace=True)\n"
      ]
    },
    {
      "cell_type": "code",
      "execution_count": 861,
      "metadata": {
        "colab": {
          "base_uri": "https://localhost:8080/",
          "height": 602
        },
        "id": "JRMhqtAn8GMT",
        "outputId": "7d236114-21cb-4687-d464-e5844e067d3f"
      },
      "outputs": [
        {
          "data": {
            "text/html": [
              "<div>\n",
              "<style scoped>\n",
              "    .dataframe tbody tr th:only-of-type {\n",
              "        vertical-align: middle;\n",
              "    }\n",
              "\n",
              "    .dataframe tbody tr th {\n",
              "        vertical-align: top;\n",
              "    }\n",
              "\n",
              "    .dataframe thead th {\n",
              "        text-align: right;\n",
              "    }\n",
              "</style>\n",
              "<table border=\"1\" class=\"dataframe\">\n",
              "  <thead>\n",
              "    <tr style=\"text-align: right;\">\n",
              "      <th></th>\n",
              "      <th>Crimen Organizado</th>\n",
              "      <th>Delitos Sexuales</th>\n",
              "      <th>Delitos Violentos</th>\n",
              "      <th>Robos y Hurtos</th>\n",
              "      <th>Violencia Familiar</th>\n",
              "      <th>manzanas</th>\n",
              "      <th>personas</th>\n",
              "      <th>area</th>\n",
              "      <th>poblacional_km2</th>\n",
              "      <th>manzanas_km2</th>\n",
              "      <th>crimen_organizado_por_1000hab</th>\n",
              "      <th>crimen_organizado_por_1000hab_log</th>\n",
              "      <th>delitos_sexuales_por_1000hab</th>\n",
              "      <th>delitos_sexuales_por_1000hab_log</th>\n",
              "      <th>delitos_violentos_por_1000hab</th>\n",
              "      <th>delitos_violentos_por_1000hab_log</th>\n",
              "      <th>robos_y_hurtos_por_1000hab</th>\n",
              "      <th>robos_y_hurtos_por_1000hab_log</th>\n",
              "      <th>violencia_familiar_por_1000hab</th>\n",
              "      <th>violencia_familiar_por_1000hab_log</th>\n",
              "    </tr>\n",
              "  </thead>\n",
              "  <tbody>\n",
              "    <tr>\n",
              "      <th>0</th>\n",
              "      <td>53.625</td>\n",
              "      <td>68.250</td>\n",
              "      <td>281.375</td>\n",
              "      <td>441.500</td>\n",
              "      <td>319.500</td>\n",
              "      <td>667</td>\n",
              "      <td>72591</td>\n",
              "      <td>4.326768e+06</td>\n",
              "      <td>0.016777</td>\n",
              "      <td>0.000154</td>\n",
              "      <td>0.74</td>\n",
              "      <td>0.553885</td>\n",
              "      <td>0.94</td>\n",
              "      <td>0.662688</td>\n",
              "      <td>3.88</td>\n",
              "      <td>1.585145</td>\n",
              "      <td>6.08</td>\n",
              "      <td>1.957274</td>\n",
              "      <td>4.40</td>\n",
              "      <td>1.686399</td>\n",
              "    </tr>\n",
              "    <tr>\n",
              "      <th>1</th>\n",
              "      <td>20.250</td>\n",
              "      <td>31.125</td>\n",
              "      <td>134.625</td>\n",
              "      <td>174.375</td>\n",
              "      <td>149.500</td>\n",
              "      <td>515</td>\n",
              "      <td>32910</td>\n",
              "      <td>1.371355e+06</td>\n",
              "      <td>0.023998</td>\n",
              "      <td>0.000376</td>\n",
              "      <td>0.62</td>\n",
              "      <td>0.482426</td>\n",
              "      <td>0.95</td>\n",
              "      <td>0.667829</td>\n",
              "      <td>4.09</td>\n",
              "      <td>1.627278</td>\n",
              "      <td>5.30</td>\n",
              "      <td>1.840550</td>\n",
              "      <td>4.54</td>\n",
              "      <td>1.711995</td>\n",
              "    </tr>\n",
              "    <tr>\n",
              "      <th>2</th>\n",
              "      <td>52.375</td>\n",
              "      <td>44.750</td>\n",
              "      <td>216.375</td>\n",
              "      <td>999.500</td>\n",
              "      <td>145.625</td>\n",
              "      <td>339</td>\n",
              "      <td>51781</td>\n",
              "      <td>2.734584e+06</td>\n",
              "      <td>0.018936</td>\n",
              "      <td>0.000124</td>\n",
              "      <td>1.01</td>\n",
              "      <td>0.698135</td>\n",
              "      <td>0.86</td>\n",
              "      <td>0.620576</td>\n",
              "      <td>4.18</td>\n",
              "      <td>1.644805</td>\n",
              "      <td>19.30</td>\n",
              "      <td>3.010621</td>\n",
              "      <td>2.81</td>\n",
              "      <td>1.337629</td>\n",
              "    </tr>\n",
              "    <tr>\n",
              "      <th>3</th>\n",
              "      <td>40.625</td>\n",
              "      <td>37.000</td>\n",
              "      <td>202.000</td>\n",
              "      <td>382.375</td>\n",
              "      <td>171.500</td>\n",
              "      <td>410</td>\n",
              "      <td>37339</td>\n",
              "      <td>1.378682e+07</td>\n",
              "      <td>0.002708</td>\n",
              "      <td>0.000030</td>\n",
              "      <td>1.09</td>\n",
              "      <td>0.737164</td>\n",
              "      <td>0.99</td>\n",
              "      <td>0.688135</td>\n",
              "      <td>5.41</td>\n",
              "      <td>1.857859</td>\n",
              "      <td>10.24</td>\n",
              "      <td>2.419479</td>\n",
              "      <td>4.59</td>\n",
              "      <td>1.720979</td>\n",
              "    </tr>\n",
              "    <tr>\n",
              "      <th>4</th>\n",
              "      <td>43.000</td>\n",
              "      <td>27.500</td>\n",
              "      <td>178.500</td>\n",
              "      <td>277.000</td>\n",
              "      <td>152.125</td>\n",
              "      <td>251</td>\n",
              "      <td>38339</td>\n",
              "      <td>5.688166e+06</td>\n",
              "      <td>0.006740</td>\n",
              "      <td>0.000044</td>\n",
              "      <td>1.12</td>\n",
              "      <td>0.751416</td>\n",
              "      <td>0.72</td>\n",
              "      <td>0.542324</td>\n",
              "      <td>4.66</td>\n",
              "      <td>1.733424</td>\n",
              "      <td>7.23</td>\n",
              "      <td>2.107786</td>\n",
              "      <td>3.97</td>\n",
              "      <td>1.603420</td>\n",
              "    </tr>\n",
              "    <tr>\n",
              "      <th>5</th>\n",
              "      <td>23.375</td>\n",
              "      <td>21.500</td>\n",
              "      <td>123.250</td>\n",
              "      <td>629.750</td>\n",
              "      <td>55.250</td>\n",
              "      <td>211</td>\n",
              "      <td>29962</td>\n",
              "      <td>1.928794e+06</td>\n",
              "      <td>0.015534</td>\n",
              "      <td>0.000109</td>\n",
              "      <td>0.78</td>\n",
              "      <td>0.576613</td>\n",
              "      <td>0.72</td>\n",
              "      <td>0.542324</td>\n",
              "      <td>4.11</td>\n",
              "      <td>1.631199</td>\n",
              "      <td>21.02</td>\n",
              "      <td>3.091951</td>\n",
              "      <td>1.84</td>\n",
              "      <td>1.043804</td>\n",
              "    </tr>\n",
              "    <tr>\n",
              "      <th>6</th>\n",
              "      <td>17.500</td>\n",
              "      <td>9.500</td>\n",
              "      <td>38.750</td>\n",
              "      <td>209.750</td>\n",
              "      <td>35.000</td>\n",
              "      <td>126</td>\n",
              "      <td>30544</td>\n",
              "      <td>1.079359e+06</td>\n",
              "      <td>0.028298</td>\n",
              "      <td>0.000117</td>\n",
              "      <td>0.57</td>\n",
              "      <td>0.451076</td>\n",
              "      <td>0.31</td>\n",
              "      <td>0.270027</td>\n",
              "      <td>1.27</td>\n",
              "      <td>0.819780</td>\n",
              "      <td>6.87</td>\n",
              "      <td>2.063058</td>\n",
              "      <td>1.15</td>\n",
              "      <td>0.765468</td>\n",
              "    </tr>\n",
              "    <tr>\n",
              "      <th>7</th>\n",
              "      <td>13.250</td>\n",
              "      <td>11.375</td>\n",
              "      <td>56.000</td>\n",
              "      <td>115.500</td>\n",
              "      <td>46.875</td>\n",
              "      <td>154</td>\n",
              "      <td>18788</td>\n",
              "      <td>1.057978e+06</td>\n",
              "      <td>0.017758</td>\n",
              "      <td>0.000146</td>\n",
              "      <td>0.71</td>\n",
              "      <td>0.536493</td>\n",
              "      <td>0.61</td>\n",
              "      <td>0.476234</td>\n",
              "      <td>2.98</td>\n",
              "      <td>1.381282</td>\n",
              "      <td>6.15</td>\n",
              "      <td>1.967112</td>\n",
              "      <td>2.49</td>\n",
              "      <td>1.249902</td>\n",
              "    </tr>\n",
              "    <tr>\n",
              "      <th>8</th>\n",
              "      <td>11.625</td>\n",
              "      <td>8.500</td>\n",
              "      <td>44.875</td>\n",
              "      <td>141.250</td>\n",
              "      <td>34.750</td>\n",
              "      <td>129</td>\n",
              "      <td>16513</td>\n",
              "      <td>8.925716e+05</td>\n",
              "      <td>0.018500</td>\n",
              "      <td>0.000145</td>\n",
              "      <td>0.70</td>\n",
              "      <td>0.530628</td>\n",
              "      <td>0.51</td>\n",
              "      <td>0.412110</td>\n",
              "      <td>2.72</td>\n",
              "      <td>1.313724</td>\n",
              "      <td>8.55</td>\n",
              "      <td>2.256541</td>\n",
              "      <td>2.10</td>\n",
              "      <td>1.131402</td>\n",
              "    </tr>\n",
              "    <tr>\n",
              "      <th>9</th>\n",
              "      <td>22.750</td>\n",
              "      <td>24.250</td>\n",
              "      <td>96.625</td>\n",
              "      <td>406.125</td>\n",
              "      <td>92.000</td>\n",
              "      <td>450</td>\n",
              "      <td>56928</td>\n",
              "      <td>2.631933e+06</td>\n",
              "      <td>0.021630</td>\n",
              "      <td>0.000171</td>\n",
              "      <td>0.40</td>\n",
              "      <td>0.336472</td>\n",
              "      <td>0.43</td>\n",
              "      <td>0.357674</td>\n",
              "      <td>1.70</td>\n",
              "      <td>0.993252</td>\n",
              "      <td>7.13</td>\n",
              "      <td>2.095561</td>\n",
              "      <td>1.62</td>\n",
              "      <td>0.963174</td>\n",
              "    </tr>\n",
              "    <tr>\n",
              "      <th>10</th>\n",
              "      <td>20.250</td>\n",
              "      <td>20.125</td>\n",
              "      <td>76.750</td>\n",
              "      <td>203.250</td>\n",
              "      <td>84.500</td>\n",
              "      <td>1116</td>\n",
              "      <td>34278</td>\n",
              "      <td>3.296170e+06</td>\n",
              "      <td>0.010399</td>\n",
              "      <td>0.000339</td>\n",
              "      <td>0.59</td>\n",
              "      <td>0.463734</td>\n",
              "      <td>0.59</td>\n",
              "      <td>0.463734</td>\n",
              "      <td>2.24</td>\n",
              "      <td>1.175573</td>\n",
              "      <td>5.93</td>\n",
              "      <td>1.935860</td>\n",
              "      <td>2.47</td>\n",
              "      <td>1.244155</td>\n",
              "    </tr>\n",
              "    <tr>\n",
              "      <th>11</th>\n",
              "      <td>31.250</td>\n",
              "      <td>18.500</td>\n",
              "      <td>132.750</td>\n",
              "      <td>1027.500</td>\n",
              "      <td>51.250</td>\n",
              "      <td>260</td>\n",
              "      <td>40492</td>\n",
              "      <td>2.825578e+06</td>\n",
              "      <td>0.014331</td>\n",
              "      <td>0.000092</td>\n",
              "      <td>0.77</td>\n",
              "      <td>0.570980</td>\n",
              "      <td>0.46</td>\n",
              "      <td>0.378436</td>\n",
              "      <td>3.28</td>\n",
              "      <td>1.453953</td>\n",
              "      <td>25.38</td>\n",
              "      <td>3.272606</td>\n",
              "      <td>1.27</td>\n",
              "      <td>0.819780</td>\n",
              "    </tr>\n",
              "    <tr>\n",
              "      <th>12</th>\n",
              "      <td>48.375</td>\n",
              "      <td>36.000</td>\n",
              "      <td>181.000</td>\n",
              "      <td>1118.625</td>\n",
              "      <td>102.125</td>\n",
              "      <td>315</td>\n",
              "      <td>68410</td>\n",
              "      <td>3.002325e+06</td>\n",
              "      <td>0.022786</td>\n",
              "      <td>0.000105</td>\n",
              "      <td>0.71</td>\n",
              "      <td>0.536493</td>\n",
              "      <td>0.53</td>\n",
              "      <td>0.425268</td>\n",
              "      <td>2.65</td>\n",
              "      <td>1.294727</td>\n",
              "      <td>16.35</td>\n",
              "      <td>2.853593</td>\n",
              "      <td>1.49</td>\n",
              "      <td>0.912283</td>\n",
              "    </tr>\n",
              "    <tr>\n",
              "      <th>13</th>\n",
              "      <td>18.125</td>\n",
              "      <td>16.000</td>\n",
              "      <td>71.875</td>\n",
              "      <td>119.500</td>\n",
              "      <td>75.125</td>\n",
              "      <td>170</td>\n",
              "      <td>20029</td>\n",
              "      <td>7.112813e+05</td>\n",
              "      <td>0.028159</td>\n",
              "      <td>0.000239</td>\n",
              "      <td>0.90</td>\n",
              "      <td>0.641854</td>\n",
              "      <td>0.80</td>\n",
              "      <td>0.587787</td>\n",
              "      <td>3.59</td>\n",
              "      <td>1.523880</td>\n",
              "      <td>5.97</td>\n",
              "      <td>1.941615</td>\n",
              "      <td>3.75</td>\n",
              "      <td>1.558145</td>\n",
              "    </tr>\n",
              "    <tr>\n",
              "      <th>14</th>\n",
              "      <td>107.375</td>\n",
              "      <td>23.875</td>\n",
              "      <td>207.250</td>\n",
              "      <td>935.250</td>\n",
              "      <td>75.750</td>\n",
              "      <td>129</td>\n",
              "      <td>8068</td>\n",
              "      <td>1.036568e+06</td>\n",
              "      <td>0.007783</td>\n",
              "      <td>0.000124</td>\n",
              "      <td>13.31</td>\n",
              "      <td>2.660959</td>\n",
              "      <td>2.96</td>\n",
              "      <td>1.376244</td>\n",
              "      <td>25.69</td>\n",
              "      <td>3.284289</td>\n",
              "      <td>115.92</td>\n",
              "      <td>4.761490</td>\n",
              "      <td>9.39</td>\n",
              "      <td>2.340844</td>\n",
              "    </tr>\n",
              "    <tr>\n",
              "      <th>15</th>\n",
              "      <td>11.125</td>\n",
              "      <td>4.750</td>\n",
              "      <td>23.250</td>\n",
              "      <td>245.875</td>\n",
              "      <td>16.125</td>\n",
              "      <td>123</td>\n",
              "      <td>22699</td>\n",
              "      <td>1.943901e+06</td>\n",
              "      <td>0.011677</td>\n",
              "      <td>0.000063</td>\n",
              "      <td>0.49</td>\n",
              "      <td>0.398776</td>\n",
              "      <td>0.21</td>\n",
              "      <td>0.190620</td>\n",
              "      <td>1.02</td>\n",
              "      <td>0.703098</td>\n",
              "      <td>10.83</td>\n",
              "      <td>2.470639</td>\n",
              "      <td>0.71</td>\n",
              "      <td>0.536493</td>\n",
              "    </tr>\n",
              "    <tr>\n",
              "      <th>16</th>\n",
              "      <td>17.875</td>\n",
              "      <td>16.625</td>\n",
              "      <td>71.125</td>\n",
              "      <td>167.000</td>\n",
              "      <td>70.750</td>\n",
              "      <td>188</td>\n",
              "      <td>32231</td>\n",
              "      <td>3.383157e+06</td>\n",
              "      <td>0.009527</td>\n",
              "      <td>0.000056</td>\n",
              "      <td>0.55</td>\n",
              "      <td>0.438255</td>\n",
              "      <td>0.52</td>\n",
              "      <td>0.418710</td>\n",
              "      <td>2.21</td>\n",
              "      <td>1.166271</td>\n",
              "      <td>5.18</td>\n",
              "      <td>1.821318</td>\n",
              "      <td>2.20</td>\n",
              "      <td>1.163151</td>\n",
              "    </tr>\n",
              "  </tbody>\n",
              "</table>\n",
              "</div>"
            ],
            "text/plain": [
              "    Crimen Organizado  Delitos Sexuales  Delitos Violentos  Robos y Hurtos  \\\n",
              "0              53.625            68.250            281.375         441.500   \n",
              "1              20.250            31.125            134.625         174.375   \n",
              "2              52.375            44.750            216.375         999.500   \n",
              "3              40.625            37.000            202.000         382.375   \n",
              "4              43.000            27.500            178.500         277.000   \n",
              "5              23.375            21.500            123.250         629.750   \n",
              "6              17.500             9.500             38.750         209.750   \n",
              "7              13.250            11.375             56.000         115.500   \n",
              "8              11.625             8.500             44.875         141.250   \n",
              "9              22.750            24.250             96.625         406.125   \n",
              "10             20.250            20.125             76.750         203.250   \n",
              "11             31.250            18.500            132.750        1027.500   \n",
              "12             48.375            36.000            181.000        1118.625   \n",
              "13             18.125            16.000             71.875         119.500   \n",
              "14            107.375            23.875            207.250         935.250   \n",
              "15             11.125             4.750             23.250         245.875   \n",
              "16             17.875            16.625             71.125         167.000   \n",
              "\n",
              "    Violencia Familiar  manzanas  personas          area  poblacional_km2  \\\n",
              "0              319.500       667     72591  4.326768e+06         0.016777   \n",
              "1              149.500       515     32910  1.371355e+06         0.023998   \n",
              "2              145.625       339     51781  2.734584e+06         0.018936   \n",
              "3              171.500       410     37339  1.378682e+07         0.002708   \n",
              "4              152.125       251     38339  5.688166e+06         0.006740   \n",
              "5               55.250       211     29962  1.928794e+06         0.015534   \n",
              "6               35.000       126     30544  1.079359e+06         0.028298   \n",
              "7               46.875       154     18788  1.057978e+06         0.017758   \n",
              "8               34.750       129     16513  8.925716e+05         0.018500   \n",
              "9               92.000       450     56928  2.631933e+06         0.021630   \n",
              "10              84.500      1116     34278  3.296170e+06         0.010399   \n",
              "11              51.250       260     40492  2.825578e+06         0.014331   \n",
              "12             102.125       315     68410  3.002325e+06         0.022786   \n",
              "13              75.125       170     20029  7.112813e+05         0.028159   \n",
              "14              75.750       129      8068  1.036568e+06         0.007783   \n",
              "15              16.125       123     22699  1.943901e+06         0.011677   \n",
              "16              70.750       188     32231  3.383157e+06         0.009527   \n",
              "\n",
              "    manzanas_km2  crimen_organizado_por_1000hab  \\\n",
              "0       0.000154                           0.74   \n",
              "1       0.000376                           0.62   \n",
              "2       0.000124                           1.01   \n",
              "3       0.000030                           1.09   \n",
              "4       0.000044                           1.12   \n",
              "5       0.000109                           0.78   \n",
              "6       0.000117                           0.57   \n",
              "7       0.000146                           0.71   \n",
              "8       0.000145                           0.70   \n",
              "9       0.000171                           0.40   \n",
              "10      0.000339                           0.59   \n",
              "11      0.000092                           0.77   \n",
              "12      0.000105                           0.71   \n",
              "13      0.000239                           0.90   \n",
              "14      0.000124                          13.31   \n",
              "15      0.000063                           0.49   \n",
              "16      0.000056                           0.55   \n",
              "\n",
              "    crimen_organizado_por_1000hab_log  delitos_sexuales_por_1000hab  \\\n",
              "0                            0.553885                          0.94   \n",
              "1                            0.482426                          0.95   \n",
              "2                            0.698135                          0.86   \n",
              "3                            0.737164                          0.99   \n",
              "4                            0.751416                          0.72   \n",
              "5                            0.576613                          0.72   \n",
              "6                            0.451076                          0.31   \n",
              "7                            0.536493                          0.61   \n",
              "8                            0.530628                          0.51   \n",
              "9                            0.336472                          0.43   \n",
              "10                           0.463734                          0.59   \n",
              "11                           0.570980                          0.46   \n",
              "12                           0.536493                          0.53   \n",
              "13                           0.641854                          0.80   \n",
              "14                           2.660959                          2.96   \n",
              "15                           0.398776                          0.21   \n",
              "16                           0.438255                          0.52   \n",
              "\n",
              "    delitos_sexuales_por_1000hab_log  delitos_violentos_por_1000hab  \\\n",
              "0                           0.662688                           3.88   \n",
              "1                           0.667829                           4.09   \n",
              "2                           0.620576                           4.18   \n",
              "3                           0.688135                           5.41   \n",
              "4                           0.542324                           4.66   \n",
              "5                           0.542324                           4.11   \n",
              "6                           0.270027                           1.27   \n",
              "7                           0.476234                           2.98   \n",
              "8                           0.412110                           2.72   \n",
              "9                           0.357674                           1.70   \n",
              "10                          0.463734                           2.24   \n",
              "11                          0.378436                           3.28   \n",
              "12                          0.425268                           2.65   \n",
              "13                          0.587787                           3.59   \n",
              "14                          1.376244                          25.69   \n",
              "15                          0.190620                           1.02   \n",
              "16                          0.418710                           2.21   \n",
              "\n",
              "    delitos_violentos_por_1000hab_log  robos_y_hurtos_por_1000hab  \\\n",
              "0                            1.585145                        6.08   \n",
              "1                            1.627278                        5.30   \n",
              "2                            1.644805                       19.30   \n",
              "3                            1.857859                       10.24   \n",
              "4                            1.733424                        7.23   \n",
              "5                            1.631199                       21.02   \n",
              "6                            0.819780                        6.87   \n",
              "7                            1.381282                        6.15   \n",
              "8                            1.313724                        8.55   \n",
              "9                            0.993252                        7.13   \n",
              "10                           1.175573                        5.93   \n",
              "11                           1.453953                       25.38   \n",
              "12                           1.294727                       16.35   \n",
              "13                           1.523880                        5.97   \n",
              "14                           3.284289                      115.92   \n",
              "15                           0.703098                       10.83   \n",
              "16                           1.166271                        5.18   \n",
              "\n",
              "    robos_y_hurtos_por_1000hab_log  violencia_familiar_por_1000hab  \\\n",
              "0                         1.957274                            4.40   \n",
              "1                         1.840550                            4.54   \n",
              "2                         3.010621                            2.81   \n",
              "3                         2.419479                            4.59   \n",
              "4                         2.107786                            3.97   \n",
              "5                         3.091951                            1.84   \n",
              "6                         2.063058                            1.15   \n",
              "7                         1.967112                            2.49   \n",
              "8                         2.256541                            2.10   \n",
              "9                         2.095561                            1.62   \n",
              "10                        1.935860                            2.47   \n",
              "11                        3.272606                            1.27   \n",
              "12                        2.853593                            1.49   \n",
              "13                        1.941615                            3.75   \n",
              "14                        4.761490                            9.39   \n",
              "15                        2.470639                            0.71   \n",
              "16                        1.821318                            2.20   \n",
              "\n",
              "    violencia_familiar_por_1000hab_log  \n",
              "0                             1.686399  \n",
              "1                             1.711995  \n",
              "2                             1.337629  \n",
              "3                             1.720979  \n",
              "4                             1.603420  \n",
              "5                             1.043804  \n",
              "6                             0.765468  \n",
              "7                             1.249902  \n",
              "8                             1.131402  \n",
              "9                             0.963174  \n",
              "10                            1.244155  \n",
              "11                            0.819780  \n",
              "12                            0.912283  \n",
              "13                            1.558145  \n",
              "14                            2.340844  \n",
              "15                            0.536493  \n",
              "16                            1.163151  "
            ]
          },
          "execution_count": 861,
          "metadata": {},
          "output_type": "execute_result"
        }
      ],
      "source": [
        "df_model"
      ]
    },
    {
      "cell_type": "markdown",
      "metadata": {
        "id": "TrYwhC7vN0UB"
      },
      "source": [
        "### **Escalar características**"
      ]
    },
    {
      "cell_type": "markdown",
      "metadata": {
        "id": "DsfotBv2PZDL"
      },
      "source": [
        "- **K-Means** usa la distancia entre puntos para crear los clusters, y si las variables tienen escalas muy diferentes, los resultados pueden ser incorrectos.\n",
        "\n",
        "- Se puede escalar con normalizacion o estandarización."
      ]
    },
    {
      "cell_type": "markdown",
      "metadata": {
        "id": "uZBTJQBnJ8F5"
      },
      "source": [
        "#### **Normalización**\n",
        "\n",
        "Se escoge este metodo de escala si no se conoce las distirbuciones de  las columnas o no siguen una distribucion normal."
      ]
    },
    {
      "cell_type": "markdown",
      "metadata": {
        "id": "RAWHq2j6H9ww"
      },
      "source": [
        "![image.png](data:image/png;base64,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)"
      ]
    },
    {
      "cell_type": "code",
      "execution_count": 862,
      "metadata": {
        "id": "d1vR1_brNzy4"
      },
      "outputs": [],
      "source": [
        "mm_scaler = MinMaxScaler()\n",
        "normalized = mm_scaler.fit_transform(df_model)\n",
        "normalized = pd.DataFrame(normalized, columns = df_model.columns)"
      ]
    },
    {
      "cell_type": "markdown",
      "metadata": {
        "id": "iZJcndeSJyFp"
      },
      "source": [
        "#### **Estandarización**\n",
        "\n",
        "- Se elige esta técnica de escala si se conoce que las columnas siguen una distribucion normal.\n",
        "\n",
        "- Se busca que todas las columnas tengan una media de c ero y una desviacion estandar de uno."
      ]
    },
    {
      "cell_type": "markdown",
      "metadata": {
        "id": "U64M5KU8Nh8B"
      },
      "source": [
        "![image.png](data:image/png;base64,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)"
      ]
    },
    {
      "cell_type": "code",
      "execution_count": 863,
      "metadata": {
        "id": "Jsy0mInONz5E"
      },
      "outputs": [],
      "source": [
        "std_scaler = StandardScaler()\n",
        "standardized = std_scaler.fit_transform(df_model)\n",
        "standardized  = pd.DataFrame(standardized, columns = df_model.columns)"
      ]
    },
    {
      "cell_type": "markdown",
      "metadata": {
        "id": "uq3VdNulQcEP"
      },
      "source": [
        "![image.png](data:image/png;base64,iVBORw0KGgoAAAANSUhEUgAAAmUAAADUCAYAAADdhlTeAAAAAXNSR0IArs4c6QAAAARnQU1BAACxjwv8YQUAAAAJcEhZcwAAEnQAABJ0Ad5mH3gAAGs6SURBVHhe7d17fFTlnfjxz8xkMrlOrhOSkBBCwi3hGlABRRLRgKJQL2BrwbaiXRfabqH9bYHaFXZbpdtWutvVbqvUraItpFghKpKqJCAE5E4gSCBAyJVMrpPrZC7n98dcmExCSLg56Pfta16SOWfOnOtzvvOc7/M8KkVRFIQQQgghxBdK7f2GEEIIIYS4+SQoE0IIIYTwARKUCSGEEEL4AAnKhBBCCCF8gARlQgghhBA+wKeCMrOplMK317H0P3Ixek/8CnLvjxUbqPCeeMOYqShYz/rNpZi8J10jU956NpSYvd8eABOlm9ex6rd5VFzLYm4F7UaKCzaw7rkcij3frylk/Qtr2XDgeh+dnswlG1ifdw3fYzNjMhoxXc9jdRO331eYy/JZ/2oOpdewyddjGbe8mjzWfns2k0YNZ/iYLJZuLL00zXSYDf9vAZPGDGf4qEnMe6Hwupd/N4LrHrF86Ssc9p7oyWbGWJTH+ueW8soR74m3OLOJ0r0bWLd0FRu8bpS34nmvGkiXGMaiPA73Gh34kzA2g5Q4PTqN97T+MW58htnP52OyAaNXsGPrYhK8Z/pCmanYm0POe8XOgNFA2oNzmX9bylVvc1++sP1xYA2TvrEBEzD/tdO8MMN7hqtj+mQ5s/+plIXbt7BksAljL3dqXbABfRCYTV43cp0eg14HBasY/nQOAPonN3HwZxM9ZurO3GjEZPV+V4feoEdnM2NqMHHpK3ToI6/+3L2+Cll7+zOsb3St3UO8evolMgGoYP0jWawtApjKC3veYL7B87PX2dn1zHtgPSmvfMhL9+i9p16RceOTTHuumRUfbWFxUvdpV3d8bvL2+4TDrJm0gA0m4PFXOf1zx5kwMNdjGbe4svXMm7OVue+8TOJbT7P87VL0T7zKjjWZ6NrzWXXvKjp/volFpWtY+pt8TBOf58O/LLw5Ze5VMm5cyuz/yHOWlZ7lhLdC1k5/hvU1jivqoT+c5qV7vOe5RdXk8MycVeSbANK8yppb87wfWE1ZWzmHdm/h5eeWsvQHK3l5Wz75u/PJ372Vtd+expj0aTzz6uGr+oVhePxVDn6+gxWjvafcTGZMRhNmm9fbtlLWf2MSWf+vACZnknlnJplpRjZ8ezZjFt6YWqwvbH+kzWBuLKCbSNpQ74lX6ex6Fi3JxfCjl1gyDDjwCgvmz2P29GlMm+Z4zX5kAT9617EnD/3PAhbMyWLatCxmz1/Aoj8564piEkhxBk4JCX3djSvI+X+uZTi/I2s2C+a/wiGA6hx+5Pr+2fNYMH8leQ3ey/iiTGXFrj3s+VW29wTAQGKSzvnPBAzB3tOvs2GLeemHBnKXLGL9We+JV2Jm785CSMpkqldAdvXH5yZvv09IY8aDBkDHxBGp3SfZnOVV93d70ccyfE2/t2kgzOT9Zi0Vj65g8YgEstd8yPHTp9mzJhMdUPzHNeQkLWHlPQlMfOZV9nx+muM3IiBr7/3H6NUyPP4yB4+f5tWvAZoA78keprJi13FO/+Eh7wm3HLPJiKnd443Y+bx68DQ7/jXN402XW+i896QMWLny2sOpSmrqXOW1857vNys7fjxVSU1NVRb9tdZzwgCUK689lKqkPvSaUu496WYof02Z22O7FOXQv09VUjOWKdubPd+tVTYtvNHr+gXvj+vBekJ5aWaqkjp1tXLI2n1Sc+4SJTU1tZdzplPZ8eMMZeq/H/J4zzmluVaprW1WOr0n9Mb13am9fP/515S5Ixcpm6o93vMlHy9z7ptlyg7P962dSnNtrdLc5vnmDWQ9pKyemqqkznxJOeF1/PrUtlVZkpqqZP76hPeUS67m+Nzs7fdl+St7nh+3uhuxTdYdyrKR3mWMi6OMzeilrLnedvw0VUn98XXdMkVRFGXHj/t5j3CWKcs+9p5wq3DEHnP/2HNLy/84t5eY5NY0sJoyABJISfF+D0BP5j8vJAUo3Lj1htQe3XDFJ7rn7zjeJP9jI9w5mxndnuAYSB2hh8QY+qqz+aoz/m0tr5TBxO8tYaLX40H9gytZMdbx78LnV5PrqmI9sJZVu2fxwo96Pp7U6Q0YDHqc9SV906Sx5GfzHcfHuIHlv3UdXSM5z62Dn7zA/NjuH/F5Gh16g+Mx702hmciS702Esld4edsA6sD37iCPBOZm9/YL1ulqjs/N3n4fVnrykPdbt7wbsk0VpZTaINrQW0l9hhMnISG2t2nXUynFfSZ9iSuyFXOiyPvNL5+rCMr6oNFd/mbZWEzOb5eyIDOLrPlLWbe52JEvdTk2I4WvruLJOVnM/vaq7om97aUUbssj99W1rHoh91IA6Pm+d4K0M4F91bdnk5WZxYKl68gpMjqqyWuKyduWy7o3CwATBa+uYtVzq1j1cv6lBgfHDlHstb4Tf3aQ0y8/1GObTSdzWLd0AVmZs3ly2TryynpWWZvL8ln/wqX9sfbtw33vjx48t2c2Tz63gcONl5nnl3kYAdORDSyfn8WC/7eBw5e9v5oxFuWwtkfiaB/777Iq2PpWIZDNoq/1VuglsHjNEsdjAlseL/7XYbAVs27FdjJffJ7MHjdex7qtW7qAVZ/0/c0uuhkrWOl8Eljx6lpyasD03mrWtC3j5e/08oDCbKR423qWz19Dvg3MZY7k4KzMLGZ/ey15NY7ZTAcc+9Lx/jrye+x7wGaiePNanpzjmC9r/nLW7+6lCYu5gjzXtZE5mydfyMPYI9/Kqb2U/FdX8eTT6/FIUwabicNvO66XLI/l9GgQ4bV9ppM57u3Lmr/GvX2eDF9bRDaQ99bWfjfAyd+WC/pMMp1B9+UM+PhcbvtxljEvPMnszCyyMhew/G1HKoW5ZANLf+CRZuB9jEtyHMdyzlJyBvyY1qtsm/Mkq17Np9TzEQv0cr2uJ7+XcqE3ZmMxOS9cStA2ny0kb9sGXv5bKehLyXnOWV5t7PmT0sV7GW79WncvjcXkvLCcDSdd5/g6ls53nN+XbYBhrnActzmXvsfz3LyabXJ993LXPu1R1hop3pbHhv/ZQDFw+A3nMp97hXyjmdLdeeT+5k8UABXbXnROW0XOyUtLuFSWO8q83spy6L4fZ397Oeu2VTjLRsf35L39MjkloC/N6fV7euyfy90PGg+z4TnHOd7n+lyBqcS1XQtY6tlwypjPK6593+0YGMl/2fN97/urF+/t8TreA7uHO45j7m83UACYdr/icRw9ltmLy573/Ty25rJ81j+3ljzjpcYgWfOXs+GI8zy/muvnCq5rUGbcvZ1iIO3+Wd2ex5s+WcW0qQvIMc/nxZxNbPrFfMxvzWPSA2so7O0aNm1l+QNPk8NUFn5vMZlt+az5xiTmvXqpGK47lU/OxvXkvL6DMx4fbak45Hh/YyG1Hu+XvrqArJWHmLjqTTblbOLF+8t55ZGn2VAGNJ4gf3chh6t7W5k0pszQQ+V6lv7T+l4CH08m8p+bxqTFebDgRTblvMlvZpaz9N4sln9yadmmT5aTde+PKJ28mpdzNvHaUzq2P7+Aeb/r8zS/xFZKztNZZD13grQfvcamnJdZyAYWTJ13Kffn5CvMmzSGrKfXkrPzDKYDa5m3eC25Ryo4/O46tpZ4LRMwFqxh3qQxTHtkFevzztDsMa3P/Xc5FdvZehIYm8HEHgGW09hlvPSkI2AzvrGcpctWkjPlBZ6f0T3UNW5bRdYYx7q9kneYzh6h8OXoeehnLzBVA9gKWbViKStfqGDZup4NJ4r/dx6Txk9j3g/WknukkK0vPEPWrJVsPW/EWFlB6e71LP3uWnJ+M49JC9ex12hyvv8KzyzZ0D1gMRWy5oFJzPtpIRN/toktWzexcuhe1n57WrfzGFM+q+7NYunLeRyu05F2VwbRJS+yYPVez6UBxbzyyCSGj5/NM/+ZQ2Etl/aArZT18yex4PkzzPjdFrb8/TWWpBspfH0p857LdwfOPbbv+QVMe3ite/sqjmxg6cJ1PQvboIlkjAUO5F2xEHQ4TMEnoH8wm551nd76e3z62H6Aszk8M2ceq14vpNSWyMS7UmHbUmbfm8WkOWvIO+/YC933wSFKC9az4JFV5B6poKIkj3V/HWB1himf5XPmscG2kJdyNrHpDytI+MTRSMfNlZPqvl5fY0XaIVbdm8Uzni0AvRnzWfPIJMZMm8eq1/M448x7NJUfJn93IaV9lkVOl1kG9HPduzGStyKLMbfPY9XruRQezmfNA1ks+l0hLcE6TEW5rPnGItZ7lwln17NgUharitNY8QfH96QVrSIr6xl3EDygbeLSOT/vb3qW/upNNm14nil1G1g6azl57puikRO78ynu9Zw1UX4kn8Iyz1LOk4nC/5jNpPk5mJ1l+bIJxaz2Kstx39+eJg/H/e3NX2VRviyLrP+Xj8n5Pfl7+2jNfjaHZ7I89s+6hfDnBUyav55Sj8DMtHcNs6cuYM3+aOb/cCVP32lmw+JFrDvlubArK331SRb8RymGB59m+TcTKP3fpWRlLXcky0dOZf7jaTRvyyFn4xn0U7JZeE8KYGDqowvJHtFJ4bZmEh6cSq8PzOjf8WZA93DHcSwsKr/8PvTW13nfr2PrKG/G3PsMazfmc6bxMGsfeZq1uYepOJLLutzSq7h++sn7eWZ/7PixZ05Zp9JcW66ceGuZMnVkqjL1h1uVWs/ckOpNyqKRqUrGj3d0zwNq3qosGZmqpC7ZqlxK1XLmUM1YqezxzN+ynnHmsc1X3nTnmDhz2x54WTnjMaviXj+PvARnTsGs33vM2bZVWeL1DLrH51yadygr73LmvqSmK5nfelHZVNwtwUxRFEWp/esiJTV1rvJyqcebztya1IzViiNr4ZCyOiNVSR25TNnh3k/O/LQZLyndM3B6zyk78etMJbVHvk2t8ubXU5XUhZuUWkVRlM5mpbb8hPLy11OV1NRMJfP7LytnrIrSXLxD2Z5/xmOfe2hrVmrLdygrZ3iub//3Xw+uvKif9tij3TVvV5ZluPbv08qm3laurVmpPfWaMt+ZgzbQvIgzv5/rzl/LXNt7/khnc61S/vFKJdM134+3K+XOk7b5b0+7Pz/r33cozc5jd+n9Rcomd8pKs7J1iXMZ6zyOqHW7siw1VUkduUTZ7syJOvTvjjzM1KnLlB0e233m97O8csoc19mOn2Y63vc4Jzq3O/ez5/nTS05aX9unFK5WMlJTL5uX4bg2+rnf9zuW1a95na58fC6//e7rJzVVSX34NeWMR/mz/YfO953zd98HmUrmA/OV10qblUN/XKLMemCJssnz2u0HRy7LMmW7x3ee+HVmt9whxzHuuV9P/DpTSU3NVF461v19N6vnNmcoq/d7Tuy9bOihj2X0Z929dTbUKmdylzn2X/ZKZfv5S6V658fLlIzUVGXunzzWyJWT6L2ernzCbrmK/dwmd1nrlV/kPO+W5HplnPaVS3X+NWWu93Lc+a5Tvfa5ouz5t4zuZaPz/jbXs2xUOp3Xv8f+vsz3uPeDq9x2qX5Tme+Za3u53E7rIeXFGf3bZ679MP/P3XPrmj9epkxNTVUy/m2P+70T6xzX2ZIPuu/L2rfm951/N9Dj3d97uNL3ceyRU9bHed+/Y+uMa/5nvqNMmrnEcV9vOKHs+GCHcqb56q6f/riGmrJiXlnoeEySlZXFgj+bWbzhIHvWPYTBI3eoIncDhTaYcb+jpYub/iHmPwTkvUaO9y8rfQqJnvlbmhQWPpUNHCZnm0e2mvUKj0zdusAGpR/kXKrpCnqIl0/3bKrfK30mL3y0g5efSEOvMVOxez2r5k5izDfWeTwGLGbD7wthykLmD/P4bNBDLP/VYhb/aK7zl0Ua8/91Cc//dTWZ7v1kwBALVJZ3q93rlS2f116tgJnzHa0k3QwkJAB7CzmBsxuJhDTSEgBMZD6xhBQN6Ednkj0jhV47OAjSY0hIJUUPDE7wyJW7uv1XUeqoBUhLukLLF302y7/nqlPJJ3dbLz9tg/QYRqT0qN3qr5RnljHfWVtXsWUrh3t5NKDTG0hIubRvJt6fTYLz5NJPnoIjOyqN+U9monceO/3Eic7j2nypVVBZDq/lASQwd2YvOVW2PPL3A+15vPaWY1vTvrOcTI+DotN4n9U69IYEUpN6HjndlPmseHw+K9Yudq4jkJLu/Hcppc7rq6/tIy7BuW+LOdFL5U3qCOfSyq6cLVpckI9J8xBzB9CdypWPz+W3n5MbeMVZsfjQ9xa7W+gC+Ptd+jc99kEF3LOaxcP0THzmZT58/+Xu124/mG1moIAtf3M9roK0H+3g9K+cze9t+bz5lhFGz2WW17WS9thC0qjglTcu88ta47nNCfTZ4Phy+ljGFde9F7oIAylj09EDaY8tIdvVGhbQpaQ7ziHPR+8Fb7LBCGkPdX96giaN+Y+nQdkrvFbgOaF/DDOeYsnSl3ntKY+lGhzncEV1L+XHgFSQ88c8GDyf+ZO7T0lMSADTIQ45r6nit16h0DaVhY961hvpeOhHL7H4O8uYO8Lj7d4UvMYrZZD9+Nzuucmxjm0pPHDCOZ9jP059ZiFpnrm5GgOGXi6Jvni3XNff8zTzB4NpYy6uMzHt64uZCORtK/BIUalg61+NLHysj/rvgR7vft/DB+iy531/j63j82mjHVthunOho+eAiDQy788kRX91109/XENQlsaSDTvYkb+Dg0cP8tK4w6z9ds/HWcXFxUAa6b3UdToK+t5vAt50YzNIA4pLPSs6+0kzg7lPGODkehbcPoasb69iw94r5UN50SWQvWYLB4/uYcvahaTpwXzgFRZ821nFXFFIfiUQa+iR+J/ytRWseGKi80agI+3xZSycoHfntqz69jxWfeL1octxJq3qyj9kjedz/2VPsirXe2aXGcyY4v3eAFyP/dcXWylb/16BKw+38D9fpP99llaw4WlXHpXrtZZCr7lMH28lP9jgOAbGDaz2fIR4LXorUE65GoyYyHflJz63nCdnLcd1iDptQM0Z9+OJlJSrDTcB/VQW//wFFk/ROTuIfJLZ83t5DHk9XC7Xza2Y7bkVMDPL8Uiyn67p+JSXO3NSei9n+jJxYi9B8wCk3L+QiToTec9lMWbSPJb+Nq97TklZsSMXdWQvPyiSUhwB/anSL6Rh1BXX/TooLXGchb2d3wnOFmOlpVex9bGZLPthNgaNIx9tw2+XsuBbr1ync96R/A+H2dAtv2opT/+X5zdUULi7Aoh2l11uwx5ixaqFTLxCwOT44aqjYtuabnlcyxetcpcVl+ZLYGKa9xddD2lMvA2wncB9KGLnsygb2Lbl0uPgkzlsYCHz++im6YYd7+umv8e2uxkzpnq/dcOun2sIyjxo9GR/bzFp5sOs+5Pn7bCCcu9asGt1VZGAjsw1O9jx34uZmgQVu3NYs2gak77R/Zl9v+gMpD36PFs+28PzdwJFa1n/KTCQ5ZgryHt+HpPm/Iit7VNZ9octvNDfzvzOl1IMJMx4mmX/suzSa9Vv2LJrD3v2rKbn6XOtrnL/edVSXE7pq8vZMO4FPvzvhY6A1pTL6v8aYG5PX0x5rF5dyuK/bGGFMzgt/u0acnpJar8eKipdAYWBzCddx2glv/nLDvbs2cOePXtYfSdQXtEzWf0qGfMc+YDz/v0QiU/+D1tyll2qNbuernRMyxw/TrLvz+4ZrF7ONR6fS/v7C5C0kE27NvH819LQtxWT9/JSZmdMY5UrN+U6HuPr7krrfh2UV9y4rTcdWM/Seycx7/fFJMx9iU1/XnJ9zvmKUscxGze/exn7L6t5c8ce9ux5k4WumOOKP1L6dqasGEgg8zue37OMlS9tcZQVP3OU5o759OivEORdM3d5riP7wWwgjzffddQ8Fm/fiuHrc3v+uPBwI4/3dTGQY3slN+j6uT5BGUBSBhl6MG3MId99YBNISQMw9+yQFTCZHCsf0J9f1CYTJiAlJdF7Sj/pSLh/BW98dJzje95gxQwD5gNrefpKyfXth1nfWysPjYGFTzo64ztRUgGGGMfJWmPsu4WarZT138hi6eFZbNr+BiseTcPQ77sXMDSFNKC0wojBYOjl1c/uIgZs4PsvYVg6AMUlfdRunn2F5a+msPpfM9FPXsELX3OUOsY3lrOuX82fE1j4mqPG9tJrhUdgaiLv+ZWUPvkSi5MMzP/5CkfBbStk1X/k9j9xdABc2w1GTFbv4+N46XWXjiWAuf2qfm0AYHpvKdOWbqB48Ao25awge8T1PwfOOH8Bpw/ru8SqyNtKMVPJvKO/a3DtxychyVU9ZsJZpNxcERNZ+KstHDxxnA//ez4pGMlZstJRw5DiPMbWLu9PQXuL4zfmlQLdG6mvdb8OUh03gF6DF/c5fxXbb/pkObO/8Qq6f93Bh79aTOaw/p5v/ZDgrMEsLcfUy7VrMLhG/zAQkwhQh7HPQv/yUpPSgFLKG7y/w/nSO7bLMV8xpee9l3A9mGlpB0gh0ePy1mUvZKEeDudux0gx299Nu0wr+ktu1PG+bvp9bPvpBlw/VxWUdfWyw2EiM+4BbAUUeFRyTL0zGyglf6/3WWvk0IEK0GSTeZvXpF4Uf7yVChKYNcPj+YQfUFLareUGNhNG7xY8FRt4Zs46dxcPOsNUFv/hNyzUQ0XlFbK4jIfYunEdW3sLEJz7IX1EAgRNYepkYO+GXpvVl+4udARrxVvZUARpD83tlvvSb87gl21bLvXr5cFUc50eKzqDYLiG/Zc20REcXe7xjK2U9T9+hYQ1q8nW46iR+9lqsjUAFbzynzl9B7j9YPpkNauLFvLiM87zJmkxLz7rLHnyXmTdgW6zXx+3ZTq3wcSGN3sGFqYDhx01jK5jCeRty+sxX38dKshz/KO3R2TXRSnFxQBT6ftpn5H8T4phykNk9l12u12X4zN2qjMIr2Br3uV/JAyI6TAb+jHGZuELWSx11iSg0ZFy/wu8+W8TwVZBuRFImEpmErCzkELvH6bHDrEXSLh7aj+O2/UIOLsv44rrfpU8f4QlTMkkASjY7Z1QAIf273XUEk258tZ3Z6Zgcy5GZjDXUXBcZ+lMnQKU5PRa7puNRmd3FTqm3DkRKGTD5l5qiM4WUniF2t6EiRnogdwtPcsJbCaMRkdp7pqvcO91fILg0l7Ahx8D989mRrd8tanMX5QAB9az4fUccsbNI/tyreidBny8+3sPvyae531/j+2V9ev6qclj3XPreu1q6HKuIiiroLyX8w8gffJUwER+waWCUXe/o4PQw//zonN8KgfTJy/yygGYumZ1zwNdsp6XNpe6a9dMB9ax8n8rIHs5i93PsxPImKgHWw7rflNIhdFIacF6ls//Hhu84wSbmdqSfA55RgZtddS2wdTJrloNnG3sLyVGmxovrXDxSa+NbjzMuv/NhbErWHwXgIGFP1qIgWLWLXyG9XuNmG1gNlVQ+OozLH3X7MiXidCjB4pzN1BoNEN7KXnPz+NHubh/sZjNfYVVE1m2JhtseSyfs5wNRY7vod1I4avPsOA3J65PUObZ6KC/+8+bIZPsycDJ7eR7n5Q2M8WvLmetbgWrH/QoWPUPsfyHzhv03lWs3tyjqOo3szGP1c8VMOvny7olx6b980oeCgIwsmHFWg5flx3mISiblT9xRi95y5k2Zw0bthVSuDePDc/PZtoP3qS8DWAiS/7VWaeXt5xFzvO4omgDL70xgODCVUmwO4ecEiPGkjzWLHPl15gx28wYa65+P1JTSH4JMDm772DLmE/eAUi7e2qPvMreXLfjY5jPMme3KhX/+zRLN5diNBopLVjLK9u8Z/bS6w9MOPxfT7Pm9fWsWbjWnfzcG3NjBXmuZGwnY7URDBlkJODIvf3ZfAymDaz9k0cZYitl/X9uwGRYyEvf7zPSdeolUPIDSk5wxobjxnPFG1n3ZVx53a+D0Ut4/nEDpo1ruw/VdXY9azeaMDz5Ess8c5T6tU06QiMACsjZWOo4v/eu55nFjjxKk8kEtt6fzvSPgfn/uoQEKnjlGwtYW1DqGF/SbKJ02yrm/eBSf32Gx1ey0ADFv1nEM68WYmx3zFexdz3P/HMOZlfR5jy/3QGryeS4+U9exupsx/U/e9kGip3jU5prCln/Twt4sch58k9ewoopUPH6Ula5E27NVGx+ifW9dG/Ul7xX1znuPQDmCnJWrCbPlsCSZ3qmHKQ97GyM8svtzHqi5/QeBnS8B3APB/dQUu6ctEaPioM+eZ73/T+2V3Ll66eC9d9dyisbX2Hpd9f3XjHRG+/mmH3Z84sMJd3ZbN31Sr/tRcXdkLZ6k/J0unNaxiLlTXeb/TPKm0sylfT0TGXRD1cqSx7LUNLTZymrt3s0zf30RSXztnTHZ3+8Sdnzi1lK+sgMJcPZVcLU776pnPEeW6d6q7Jkqsf63PW08trh5kvdCWRMVV78VFGU2h3K6oczlIzbZimLfrhSWblkvpKRkaHM/cWe7l1DHHtJmTUyVUlNz1Ayb8tQpv54u9LcdkbZ+m9zlYyRqUrGXZlK5oxMJXNGhpKemq5kLum5Ts35LyqzXPvA+eq+7s2ObXNNHzlVWZZbqzTnr1amjkxVUjMylFn/tkMpfetpZaq7mwjHtjz91qVGxmf+ukTJ7PY96cqsf9t+qTuS8jeVp+/KuDQ9PUPJ/MWlJs+98jwGV7P/etH5gWMoJc+uIRxNiT3X3dX02dkkvtu0VEdT582re5x7Gf9+ue3Z4eh6wuPlboru7irC6/XjHUr5W4u8viNdWfRW+YDeX/2pax06lTNveR+jVCX9gReVHQ0eq6o0K4fWze+2nPQHXlR2/NVjPdMXKW+Wlzu6PPH8vnTnNXZ+k/K053WQvVrZ0XBGefPrrmOZrsz/05le13fRW+WK8mnPfTv/z5fOtcs1j/fWmbuk164ferqa45Nz+e1XFEWx1ipbf+jsXsT5Sv/6S8qmtc5zzdlEv+c+SFVSv/5mj+4EOvNXKlNTUx3b4z3Rw4k/L1IyMzKUqY8tUVb+dJmyKDtDyZjZs2uN5vwXlbkZ6UrGw0uUlT9cpMzKSFemfvc15VCfF9Ae5cUZHmXuyAxlqsc1XJu7xLGOGVOVqRkZyvw/nuhl+LHLL6O/6+5pzy8ylQz3OZ2uZMxwlP/d309VMu7yuC9Ym5Udv5irZKRnKHOXrFSWfWuWkpE+VXn6j4d6lB/92yZFUUo3KU+7uylyHOtDzeXOcz5dybhrkfLmea9tT01VMu562nnOlCtvLp6qZIz0WMZtmY7yzqm58EVlrmcZnJra+zFr2KG8+IBHuZnquBe9ecpzzWuVrUsc52fGXVOVjIz5ymvFzunWM8qmJZndz0vv+6OiKErzIeW17zrP8fQMJSM9XZn1iz3KJmd3Nem3ZXa7R1ziua1zlZe3O/Zd+m3OfZM+S3kx33ujXJxdLWWsVvb0d5i1ARzvft/DFWe3GtmpzvMuQ8m4a5my/bjXfW5khjJ18ZtKeR/nvdKvY+t9flw6112ufP3UKpsWOz+/2KvLkz6oFEVRvAO1a2IzY2owYfbTY4jwiqvbTRjbzDiam/aW9+IcjFandzxLd83v+rs3vX1fuwkT+h5DsZhNRkdUjKNpfK+LNDsHje3xnd0Hyr3s56H7vD2W45zDuS66YI8hY9pNGM26nvvtclzbjtdybpB+7b8eKlj/SBZryx7i1V0v9dJL/5ecxzG63LkAvVwblz0PL8P9PZ7Xltf1dDXa81k+/Rlyk1aw4x3vDl09mcldOoblp5aw5aMb1MigH9znqLM8qHh1Hln/WQyjV7Bja1/r35Nx81Jm/zSM33z+An02cvc8xr2Ve26XyoXrdr06z5urXl6/1/06cJ3T6NBH9pG7099t6uOcp9/l05VcuSx3uVQ+Xu7+BuZGIybrZbbfswzobbqT+3uc6+P4+/Lf6dZuwtiGc9mu7er7uwCMby9gQe1qdvxwgFd1f4/3AO7hl45HP7b3ivp/bC/rStePzYypwYyur+33cv2DMiG8la1n3qy1GL+5iT0/66OPG+FzDv/HNBa8ZWDF9r77pMOWz/L0Zzj8zBZ2/GiAhfcNdE1B2dsLmFe6Us5Z8RVmInfp92j+2Rss9B6HVtwQV5FTJsQAJS3mzf9biP6tpawqcFa1Cd93YA1L39Kz8P/e7DsgAyjYSq5NT+YM3wnIroXpyDqe/n0qL/xIAjLxFdNuwtjoLKcPrOPloKeYLwHZTSM1ZeKmMR3J41DEDDI9egEXvstsLKSwMp3MCf1o4eZ6NHLNjxSuE5sZU+kh1r/wJK/sBgY/xAu/W8ncNMMVHiOYOPzqj1i5LYXn/28FU/ux6UJ8aRhzeGb6KvJtkPLgfBKLO5mf85Kzdby4GSQoE0J8+RjzeeW/8rxaPCWQ/S9L+m5BionSIhMJYxN8I7gU4qaqIGfpItbkVUBSNs//ceBDj4lrI0GZEEIIIYQPkJwyIYQQQggfIEGZEEIIIYQPkKBMCCGEEMIHSFAmhBBCCOEDJCgTQgghhPABEpQJIYQQQvgACcqEEEIIIXyABGVCCCGEED5AgjIhhBBCCB8gQZkQQgghhA+QoEwIIYQQwgdIUCaEEEII4QMkKBNCCCGE8AESlAkhhBBC+AAJyoQQQgghfIAEZUIIIYQQPkCCMiGEEEIIHyBBmRBCCCGED5CgTAghhBDCB0hQJoQQQgjhAyQoE0IIIYTwARKUCSGEEEL4AAnKhBBCCCF8gARlQgghhBA+QIIyIYQQQggfIEGZEEIIIYQPkKBMCCGEEMIHSFAmhBBCCOEDJCgTQgghhPABEpQJIYQQQvgACcqEEEIIIXyABGVCCCGEED5AgjIhhBBCCB8gQZkQQgghhA+QoEwIIYQQwgdIUCaEEEII4QMkKBNCCCGE8AESlAkhhBBC+AAJyoQQQgghfIAEZUIIIYQQPkCCMiGEEEIIHyBBmRBCCCGED5CgTAghhBDCB0hQJoQQQgjhAyQoE0IIIYTwARKUCSGEEEL4AAnKhBBCCCF8gARlQgghhBA+QIIyIYQQQggfIEGZEEIIIYQPkKBMCCGEEMIHSFAmhBBCCOEDJCgTPqmzsxNFUbzfFkII4QMURcFut2O323t932a1YbPauk0TV6ZS5M4nfIyiKFitVvz8/CQwE0IIH6FSqfr8W1w7CcqETzGbzajVatRqNRcvXsRP4+c9ixBCiC+IgoKiKKjVakJDQ9H6aVGr1ajUKgnSrgMJyoRPURQFlUrFxYsXSUhI6FE1LoQQ4ovlKpc//fRTJk+eDM5aM9cPatffEqQNnARlwqfY7XbUajWNjY1ERkaC8+L28/PDYrHIRS6EEDeZ68ey698AarWaLVu2MH36dBRFQavV4ufnh5/Gr1utmZTZAyNBmfAp3kGZ54WtKI5qcyGEEDePSqVCo9EAYLPZ3OXwG2+8wR133EFQUBAhISEEBASg1ToeZ3p+VvSfBGXCp3gHZVqtFpvNRmBgIGlpadhs0ppHCCFuJj8/P2w2G6WlpTQ1NYEz2Prd737HhAkTCAkJITo6mrCwMAJ0AWj8HAGcaz7RfxKUCZ/iHZS5LugJEyawf/9+9681IYQQN4fdZsdqs/LNb36TzZs3u9//xS9+wdixYwkJCWHQoEHExMQQEhKCv7+/ex4JygZG+ikTPs2Vy2Cz2eTiFkKIL4CCgkajQa1Wd8sva2lpob29Hbvd7k4vcU13vcTASFAmhBBCCOEDJCgTQgghhPABEpQJIYQQQvgACcrELcUzb0HaqAghhPgykaBMCCGEEMIHSFAmhBBCiKvmenLh2QpTXB0JyoQQQghxWSrnf/TS75gEYNeXBGVCCCGEuDyV4+UZkF0pGJMas6sjQZkQQgghrokrAJNg7NpIUCaEEEKIq+YZkIlrI0GZEEIIIYQPkKBMCCGEEMIHSFAmhBBCCOEDJCgTQgjhJnlBQnxxJCgTQghnMGKz2QCw2+3YbDZ3S7LeWpS5Osq8HNfnb0Xe6+29H7yn2+12LBaLe/9dbr7e3hNCXCJBmRBCODvFVKsdRaJKpUKlUmG32x3Bl717c39FUdzTrVYrNpsNu83e7eVaxq3mcuvtHWh5BlcqlQqNRoNKpXLvG9fLarVit9uhH4GsEF91EpQJIYQHu90RUKnVavdLpe4eqLgCDrVajUajuTSPx0utVt+SNUOKc7gcu+3SkDk99odz+93z2u3dpnnyfO9yAZ8QwkGl3GolhvhScxXujY2NREZGgrNQHzNmDIcPH+5RoHv/LcTVam9v58KFCzQ3N9PZ2QnOc89FrVaj1+uJjY0lLCwMP40fKrUKs9lMdXU1NTU1dHV1uefv7OxEq9ViMBiIi4sjKirqljhf7XY75eXltLS00NTURGdnJ/7+/t3m8ff3JyoqCoPBQEhICBqNBqvVislk4uLFizQ3N7vn7erqoquri+DgYAwGAwkJCQQGBnZbnvBtrprOJ554gk2bNqFy1hKvXLmS8ePHExUVRWxsLAaDgdDQUAICAroF4qL/JCgTPkWCMvFFuXjxIu+88w6fffYZFy9epLKyEpPJhEajwWAwkJSUxLhx47jvvvtIT08nMDAQlUpFWVkZH3/8MQcPHqS0tJQLFy7Q3t5OcHAwKSkp3HHHHWRnZzNhwgS0Wq331/ocm83GP/7xD3bu3MmZM2c4deoUbW1tWK1WgoODSUhIYPTo0WRkZHDXXXcxNGkoao2apqYmioqKKCws5PDhw5w7dw6j0YhWqyU+Pp7Ro0dz5513ct9992EwGLy/VvgwCcpuHnl8KYQQQHh4OLNmzeKpp55i/vz5JCUlYTQauXjxItHR0cyfP5/58+eTnJzsDq4URSE6Opr77ruPxYsXc/vtt9PV1YVKpWL69OksXryYRx55hOHDh6PRaHrkZfkitVrNhAkTWLhwIc8++ywPP/wwKpWKyspKurq6mDJlCk888QQzZswgKirKnScWGhrKuHHjeOSRR3j00UcxGAzU1dURFRXF3LlzWbhwIXfddRd6vd77K4UQThKUCSGE85HckCFDuO2223jooYd44oknmDx5Mv7+/mg0GmJiYhg6dCiRkZH4+fmhKAoWiwU/Pz9iYmKIiIigra0NvV7PY489xpIlS8jOziY5ORm9Xn/L1BioVCpiYmIYOXIkd911F9/85jeZM2cOUVFRdHZ2EhISQlJSEnFxcQQFBaHxcyT4q9VqQkNDiY2NJTAwkICAAO6++26effZZvvGNbzB58mQSEhLQ6XTeXymEcJKgTAghnMGIn58fAQEBREREMHnyZKZPn05wcDDHjh2joKCAixcvolar3a0uXUn+dXV1bN26lYMHDzJhwgQee+wxhg8fTkBAAAEBAd1y024FamcDBn9/fxITE5k9ezbjxo2jubmZXbt2cezYMWw2G34aR3CK8xFXW1sbRUVFfPjhh9jtdh599FGys7MxGAxotdpbbj8IcbPJFSKEEF40Gg2DBg1i6tSpjB07FpPJRGFhIUePHqWtrc09j0ajob6+ni1btvD+++8zevRonnnmGcaPH+/OOXNReXQTcavUmuGsQRw/fjzZ2dlERUVx5MgR/vGPf1BdXX2plaldoauri5MnT/LXv/6Vs2fPcuedd5KVlUVMTIwEY0L0k1wpQgjRi+DgYMaOHcvMmTOJiYnh+PHjfPrpp1RXV6N2dv9QX1/Pxx9/zEcffURsbCxz585l7NixBAQEeC/ulqVWq4mKiuKuu+5i0qRJtLa2cuTIEY4dO0ZzczNms5mOzg5KSkrIzc2lrKyMu+66izlz5jB48OBbKgAV4osmQZkQQvTClVs1ffp0brvtNlpbW/n00085efIk7W3tmEwmPvnkE/Ly8oiJieHrX/86U6ZMITg42HtRtzx/f39Gjx7NrFmziI+P5+jRo3z66afU1tYCUFlZSW5uLieOn2DypMnMmzeP5ORk/Pz8vBclhOiDBGVCCNELlUqFv9afpKQk7r77boYPH05VVRX5+fkcP3Gc/fv3U1BQgL+/Pw8//DAzZswgIiLiS1szFBQUxB133MH06dOx2+3s3LmTQ4cOcfr0aT744AOOHj3KxIyJPP7444waOcqRb+YcCUEI0T8SlAkhRC/sdjt2xU5YWBgTJkxg4sSJtLS0sG3bNv74xz+yYcMGWlpamDlzJrfffvuXsobMk5+fH0OGDGH27Nmkp6dTUVHBW2+9xe9+9zsOHDjAmDFjmDt3LsnDkruNbODL7DbHEFp251inrtEJvLsssdvt2KyOcT2FuJEkKBNCiF64EvJ1Oh2pqancc889pKWlUVZWxvbt22loaCArK4uZM2cSERHh/fEvHZVKhV6vZ9y4cdx5552oVCo++ugj9uzZQ3x8PHPnzmXkyJFoNBr3Z7yDmy+a5/pYLBY6zZ2YWkycPn2aAwcOUFNTg8Vicc9rs9lob2/Hbrej8bu0XULcKBKUCSFEL1x9bwGEhoZy2223cc899zBo0CBaWlpITExk8uTJhIeHe3/0y0sBg8FAZmYm48aNQ61WExgYSEZGhjuHzJcf3yqKgmJ3dN7b0dHBuXPn2LJlC+vXryc/Px+TyeQ+5q2trZw+fZr8/HxOnTqF1Wr1XpwQ150EZUII0QdXD/wajQatVoufnx82m43y8nLKysrc42TeCJ4jALiCCcU5CHi3af14eS7zaiiKgl1xPN7z9/cnKCgItVpNbW0tJSUlNDQ09Proz9coOPaHzWajqamJffv2UVBQQIupxd2nnNVqpa6ujk2bNvHqq6+yZ8+eG3qchXCRoEwIIS5DURQsXRZqa2s5cOAAZ8+eRa/XExgYyJkzZ9zjZLrGBrzeXB2yVlRUcKL4BJ+f/Jzjx49TVFTE8ePH+/0qKSmhvr4eq9Xaa0DXHyqVCpvNxvnz59m7dy+NjY1ERETQ0dHB7t27OXnyJF1dXTdsX1wPnv3EhYeHExcXh16vJzQ0lMjISHQ6HTabDbVajclkAiA+Pt7dtcfV7DchBkIGJBc+xS4DkgsfoigKDQ0NFBQU8OmnnxISEkJ0dDR79uxh9+7djBo1in/+539m5syZhIWFeX/8mpnNZkpLS3nnnXfYsWMH7e3tWK1W1Gr1gM79oUOHMmfOHLKzs4mOju7RmWt/lmW1Wjl39hx/f/fvnDp1irS0NNra2sjNzeXixYs8/vjjLFq0iFGjRvUYeL0/y78ZvG935eXlvPzyy5w4ccI9nFRISAgqlYqWlhYaGxvBOS5qSHAIas3A99uXgSvQlgHJbzypKRNCiF4oikJbWxtHjx5l165dKIrC9OnTefDBB8nKyiI6OpoTJ06wc+dOKioq3Ani14uiKKidwx3p9XoGDx7MkCFDSExMJCEhgSFDhvT7FR0djU6nQ1GUq7pJ2u12qqqq+GCbo+uLESNGMHfuXB588EHGjh1La2srO3fu5ODBg7S0tHh/3Gd1dHTQ1tZGYGAg4eHh7jFN7XY7oaGhJCQkkJSURFhYmHuMTyFuJKkpEz5FasrEF8kVtCiKQnt7OwcPHuTdd9+lqamJ7OxssrKyCAsLo6SkhD/84Q/87W9/Y/DgwXzve9/joYceIjo62v35azk3XYGBSqWira2N+vp6Wlpa8PPzw+7stmEgy9dqtYSFhREeHt7rgOB9Lctut2M0Gnn//ff5+OOPGT58OI888gijR4+mqamJDz74gN///vecOXOG+++/n6VLl5KRkYFWq3XsC7sCqu7fYbfb6ezsxGw2o1arCQ4Oxs/PD6vVSnt7O2azGa1WS2hoKBqNBkVR6OzsdOd1uQY892SxWOjs7MRqtaJSqQgMDMTf37/b91qtVjo6OrBYLNhsNk6ePMnf/vY31Go1ixYtcjdecC2rq6sLvV7vXo7ncW1vb6ezsxNFUfD398fPz889Xqhrfdrb21EUhYCAAHQ6HSrnI2DXsv38/AgMDPT5BhJSU3bzaFavXr3a+00hviiuQq+zs5Nf/vKX4LyoY2JiePbZZ3tc4N5/C3G1FGfyt+v8O3bsGLm5udTU1JCZmcns2bMxGAyoVCpCQkLcjxbPnDmDVqtl6NChxMTEuHuxv5ZzU+Vs+alydskRHh7OoEGDMBgMxMTEMGjQIGJiYvr9io6OJiQkxH3z935djt1up66ujoKCAj766CMGDRrEvHnzGD16tHuw9cDAQGpra/n8889pbGwkOjqapKQk9Ho9KmdQpsLxPTabDUVRaGpq4tixY+zYsYPKykoMBgM6nY6Kigp27drFjh07aGpqwmAwEBAQQEtLi3tQ+FOnTqHT6dwBsKvbirKyMg4ePMihQ4coKSnBYrEQFhbmriG0dFmouVjDwYMH2bNnD4cOHWL//v1cvHiR1NRU7rjjDsLDw7FYLNTU1JCfn8+hQ4cIDAxEr9ej9dO6z4/GxkaKiorIz8/n4MGDVFZWUldXR1dXF2FhYVgsFs6ePUtBQQHHjh0DICI8ApvNRmVlJYWFhezevZu6ujpCQ0PdjSY89XVcbjZX3c3mzZs5ceKE47g6a45jY2MJCgoiJCSE4OBgdDpdtyDTl7bjViBBmfApEpSJL5Ldbqerq4vTp0/z3nvvUXKqhIkTJ3LfffcRFxfnfpyo1WoJCAigoaGBkydP0tjYSHh4OMnJyQQHB6PR3NqPulw34ebmZvLz88nNzcXf358HH3yQKVOmEBgYCM5abFdy/NmzZzl37hw2m42kpCTi4uIcuWUetWRms5n6+npKS0spKCggNzeXuro6kpKS6Ojo4MSJE7z//vu89957+Pv7k5ycDMCpU6coLCxk06ZNnD59muHDh5OSkgJAbW2tu/FDeXk5JSUl7N27l9raWuLj4xk0aBBtbW2UlpZSUlLiDqTLyso4d+4cVquVSZMmkZ6eDkB1dTUHDx7kvffe45NPPiExMZGRI0fir/WnpaWFCxcuUFRUREVFBZ9//jnFxcUcOHCA8vJyDAYDUVFRXLhwgWPHjvHee+9x8OBBDAYDhhgD1dXV7mA0Ly+P9vZ2UlNTiYmJ6XHO+NL5I0HZzSM5ZUII4aQoChUVFfzjH/+guLiYUaNHce+995KUlIRapXbfnNRqNXFxcdxxxx3u4Zfy8vI4dOgQZrP5lr8R2e122tvb2bNnD++++y7t7e3cfffdTJw4scdjw8DAQEaNGsXUqVMJDQ3lyJEj5Ofnc/78eSwWi7vGT1EULBYL9fX1tLW1ERIS4q5ZvHDhAsePH0er1RIXF4dOpyMgIID6+no+//xzTCYTYWFh+Pn5ERERQXx8PFqtFpPJxGeffUZBQQFBQUE8/PDDzJ8/n5iYGC5evEhdXR11dXUcPXqUwsJCurq6uOeee/jBD37At7/9bdLT04mNjSUyMhK1Wk1raystLS2oVCrCwsKIj48nJiaGgIAAuixdnDt3jr///e9UVlZy22238f3vf59vfvOb+Pv7oygK8fHxdHR0UFNTg5+fH5GRkURGRqLVat1Bq06nY9iwYe5HfUFBQT7/+FLcPBKUCSG+8lwBQ3l5OR9++CGFhYUkJCRw//33u1sT2r364AoODmbChAnuHv2PHz9Ofn4+FRUVt3RHo4qzgcOxY8f429/+Rm1tLffeey/Z2dnExMS457Hb7aA4akIGDx5MVlYWGRkZtLW1sWvXLj777DNMJlO3HDh/f38SEhIYMWIEUVFRaDQaLBYLHR0dDB06lLS0NAICAtBoNJjNZmpqaggODmbixIlERkYSFBTEsGHDGDp0KBaLhZKSEnbu3IlGo2HixInExMTQ2dlJUFAQQ4cOJTIykjNnzrBz506am5tJSkoiJSWFpKQkIiMjUTlzz1zLDgsLIzEx0R2kDR06lMTERDQaDUajkQMHDlBWVkZSUhIjRoxw1waazWZiY2MZPHgwBoOBMWPGkJiYiFbreOTZ0NBAW1sbiYmJjB49mtDQUHQ6HYMGDSI8PByN2pE3J4QEZUKIryy73U5TUxNnz57ls88+Y+PGjbzxxhuUlpYSGRlJcHAwJpOJzs5OVGpHbY8rSb2urg6AwYMHExYWRnNzMx9//DHvvfceJ06coKysjKampltizERFUejq6sJoNPL555/z8ccf88c//pGCggJ0Oh0JCQmYzWYaGxuxWCzuANVqs9JiaqG5uRmtVktMTAz+/v6cPHmS7du3s3v3bkpKSqipqaGjo8Pd4CA0NJTm5mYaGhrQarUMHz6c9PR0goKCaGhooK6ujvb2doYMGcLIkSMJDAjEaDSi0+mIi4sjKiqK1tZWjh49SnV1NREREQQFBXH+/HlOnTpFQkIC9957LwaDgbNnz3LhwgUGDRpEcnKyo9arq4uamhoqKyvRaDTu2ix/f39CQkKoq6ujurranY8HUFpaytGjRxk8eDDp6elotVra2to4efIkAIMGDUKv1xMSEkJUZBSKotDY2EhVVZU76ExJScHPz4+LFy9iNpvduX7eDSHEV5cEZUKIr6yuri5KSkrYunUrr7/+Ou+++y5lZWW0t7dz4MABNm/eTH5+PuXl5Y4kbxytzoxGI5999hnvv/8+Bw8edCd419fX88EHH7BhwwZyc3PdCeeu1mu+yrVNu3bt4o033mD9+vUUFBTQ3t5OTU0NH3zwAX/72984cuQIbW1t4MwV6ujooPRsKZ988gkff/wx58+fR6fTodVqKS4u5i9/+QsbN26ksLCQ6upqd7ch9fX1lJWVATB27Fh3w4Hq6mqMRiNBQUGMHDmSsWPHEhYWhrHOSFlZGUFBQSQnJ2O1WjEajZw8eZLW1laam5opLS2lo6ODcePGcf/99zNu3DhaWlrcDTGGDBniCICAmpoajh49SnNzM1FRUe7uMFQqFa2trZw6dYqOjg6SkpIIDg6mo6ODoqIiampqSEtLIzY2FrvdTmlpKadOnUKv1zNs2DD3o11zl5mqqip3ruHo0aNJSUkhMNARXNbW1rr7vPNuISq+2iQoE0J8ZanVakJCQoiPjyc9PZ2HH36Yf/mXf+E73/kOt99+O3Fxcd26kXDlRmk0GoKCgoiIiGDMmDEsWrSIZcuW8b3vfY/Zs2eTlJSEwWAgODgYtUaNCt++6apUKnd/aEOGDGHKlCk8++yzLF++nIcffpjhw4cTFRVFaGioO0dM5Wwh6nr8N3ToUGbOnMmzzz7Lj370I5588kkmT55MfHw8YWFhaLVad/cWTU1N1NfXExUVxR133EFERAR2u53y8nLa29sZP34806ZNIzQ0FJxBVGVlJVFRUSQlJdHV1UVVVRVVVVVERESQnJxMZEQkQ4YM4fbbbyc9PR1/f39qamqora0lLCyMqKgoAFpaWjh+/DifffYZiqIQFxfnDqZUKhW1tbVUV1e7H7VqNBp3zZmfnx/x8fGoVCqqqqrIz8/nxIkTREZGkpCQ4GjY4GzQUFNTA86gc9y4cQQHB7vf7+zsJC4uzt1/nBAu0k+Z8Cn2L7CfMlfei2uZrnXpjdVqdXd90JfLXV7Xc73F1VMUBavV6u63Co8+mVzHX6vVotPp3OeC4uw6w/UZxTnkjitg8wxYtFotWmd/Xb7M9VjWYrFgtVrp6upyBwuu/aJWq/H390etVvdI3rfZbNhsNvc1pFY7GkXYnEMWufaDK1ds165dvP3228TGxrJ06VIGDx5MZ2cnf/7zn/noo4+4/fbbeeaZZ9zdS7z99tu89dZb3HfffXz3u9/Fz8+Pd955h9dee41p06bx7LPPMnjwYDQajTvwa2xs5P3332f79u2kp6fz9a9/HYPBQElJCXl5eeTn5xMTE8Pjjz/O9OnT0ev1WCwWduzYwV/+8hd0Oh0/+MEPGD58OIcPH+bNN99ErVazZMkSIiMjOXbsGG+//TZFRUXMmzePp556iri4OKxWK6Wlpbz99tucO3eOOXPmMHv2bMLCwqipqWHr1q3s2bOHsWPH8vDDDzNs2LBeywlfOmdc14T0U3bj9X7HEeIrwrswdOXKAKhw3HR647ohubj+7bpBe+rtPeEbVCoVWq2WoKAgQkNDCQ0NJSwsjLCwMCIiIggLCyMoKMjdXYFnsOX6jF6vJywsrNv/Q0NDCQ4OvqUeTamd3VsEBwe7c7Q890twcLA7sPK84fr7+xMYGEhISEi3bQ8JCXHnj7mS93HWVJWXl6PVaomPjycwMBCV87FhZWUlAGlpae5asvr6es6dO4fJZCIkJISamhrKysqor6+nubmZtrY2bDYbfn5+dHV1ceHCBc6fP4/RaKSxsZGOjg5wdp1RVFTEuXPnUDnHvgwMDKStrY3q6mpaWlpobW3l3LlzdHZ2EhUVRUtLCxUVFZw/f56mpiZUKhXV1dWcO3eOjo4OwsPDCQsLIyAggMrKSqqrq7Hb7TQ0NFBeXk5AQID7saWiKLS2tnLhwgVaW1sJCAigubnZXXMmZYRAgjLxVWez2dwF5f79+9mxYwcfffQRO3fuZPee3ezYsYNdu3Zx6NAhLly4gNlsBkCj0WCz2aiurubIkSN8+umn7vERd+3aRUFBAfv376eyspLOzk6fzykS4mYxGo2cOXMGlUpFQkICOp0Oq9VKRUUFpaWlqFQqDAaD+5qpr6/HaDRiNpvdOWJGoxGDwUBSUhKVlZXk5+dz9MhRSktLOX/+PFVVVZjNZvz9/TGbzZSVlXHkyBHKy8sJCQkhLi7OXZtWVVVFRUUFLS2OBgvV1dU0NTXR3t7OhQsXuHjxIs3NzZhMJqqqqiguLqatrY3o6GgiIiLo7OykoaGBiooKdwOFyspKqqqqCA4OJioqCpVKhcVioampiQsXLlBZWen+7rq6OiwWi88/4hY3hwRl4itLcT5qam9v59SpU2zfvp3XX3+dX/ziF/z0pz/lJz/5CatXr+YPf/gD77//PkVFRe5f3VarFbPZzNmzZ/noo4944403WLt2LT/96U9Zs2YNv//979m2bRunT5+ms7Pzso9BhfiqsdlsBAcHk5SU1K3biK6uLqKiokhPT3d3porzB1B0dDTDhw8nOjqa+Ph4Ro8ezbRp03jwwQcJDw9n3759FOws4MyZM4SHh5OamsrgwYNJSUlhyJAhKIqCVqtl9OjRTJgwgbi4OAYNGkRiYqK7I1pXzVxERATR0dHExsaSmprKsGHDSElJYdiwYURFRZGYmEhaWhoJCQkYDAZSU1NJTk4mPT2duLg4Ojs76ejoIDk5mQkTJrjz8HAOdxUVFUV8nKP/s6FDh7prCyUmE0hOmfA1NzOnzBWUdXR0cPHiRc6fP8/58+fZvXs3H3zwAdXV1QwfPpynnnqKmTNnEh0dTVxcHP7+/tjtdmw2G0ajkQsXLrB3717+8pe/cPr0aW6//XYeeOABJk6cyNChQxk0aJAk8wrhZDKZuHjxortGzBUMNTU1UVVVRWBgIIMHDyYgIABFUWhpaaGqqorW1lYGDRrk7qrEZrO5r9uOjg5CQ0Pdw1HpQ/UoOGrCKisrsVgs7iGqdDod9fX17sT92NhY95BQnZ2d1NTUuFtNutajqanJ3Xo0ISGByMhIzGZHC8vm5maio6KJiYlBpVZhNpupra2ltbXV3cO/VqtFsSu0tDoe3XZ0dLhzsLw74/VFklN280hQJnzKzQzKPLmSnLu6uigqKuKVV15h48aNJCcns2rVKr75zW/2mthvt9sxmUxs3bqVN998k5CQEB5//HHuueceIiMj0Wg07qTn67WuQggHxdmYwEV1mTE9Xbe5630Net8+vf/2Xo9blQRlN488UxHCGfj5+fkRGhrK+PHjuffee0lOTqa2tpadO3dy7tw574+gQkVnRycHDhygoKAAvV7PY4895q5V8/Pzk8eWQtxAKpUKPz8/98v1I8g7ELhRwZF3EKh2tkx1vW7Ed4ovN7ljCOHkCqCCg4O56667yM7ORqVS8emnn/KPf/yj27yKotDa1srBgwfJycmhoaGBmTNncs899xAdHd2jQJbCWQghxJVIUCaEB8XZfcWQIUO49957GT16NOXl5Wzbto3jRcdR7I7pnZ2dFBcXs/mdzVRVVZGZmcmsWbOIjY2VAOw6sjvHTRRCiK8CCcqE6IVWq2Xy5MlkZ2cTHR3N/v372Z63nbb2NiwWC+fPn+edd96htLSU+++/n6997WsMHTrUXUP2VQ3MFEXBbus+cLcr0L2al+uRkCsYFkKILzMJyoS4jLi4OGbOnMmECRNoamoiPz+fAwcOUFxcTG5uLhcuXOCee+7h3nvvJTExsdeGAF81roDUbrNjNpvp6Oigo6ODzs7Oq3p1dHRgsVhQkIBMCPHlJ60vhU/5olpfcpmWUyaTiddff53f/OY3WK1WHnzwQfz9/TE1m0gfk843v/lNYmNj3X0qXc/1uVXZ7XYOHjxIXl4ex48fx2q1es/Sb4mJidx///1MmTLF3XWCEOLmktaXN4/UlAnh5Krl8Xz8GBwczMyZM5k5cyZNTU289957fPrppwwfMZzHHnuMQYMGoVarHT1yS+EDzuDWNZROSUkJZ8+everXhQsXqKuro/MGj4rg6hJFiFuF96N+8eUgNWXCp3yRNWWX09nZyZYtW3jhhRc4efIkkydP5vnnn+e+++5z/2L0bm35VWa1WKk11lJRUUFDQ8M1dQsSEBBAYmIi8fHx170DXs+iz3UMB+Jaj7cUvTfftR4zX9HV1YWfn1+37bmR2yY1ZTePBGXCp/hiUGaxWHjvvff47W9/y+7du0lLS2PVqlU88sgj+Pv7uxPShYOiKNidA7tf7b7xLNBdLxfPIutqlu3NarXS1tbmfgTdXwMN4rzdyJo/0Tvvc+lWYjabCQ5yDHJvs9lQa7qffzdyuyQou3kkKBM+5YsOyryDCLvdTmlpKevWrSM/P5/6+npMJhNz5sxh1apVZGRkdPt8f3l/z81yM77Xbrej2B3Fil2xo1ZdXfCiUqlQqR03UVeg531TvZZtURSF1tZWysrK2LVrF62trWi1Wu/Z+nSt3y9uvms5Zl+kwMBAMjIyGDt2LDqdrsf5cyO3S4Kym0eCMuFTfCEos1qtqFVq1Bo1ZWVlrF+/nrKyMiZOnMjZs2fJyckhKCiIp59+miVLlhAaGoqiKH22vrTZbO55rFar498aP1Tqnut/ucDJZnUMJ6Pxc9To2O12rFYrNpsNlbNnc41G0+2zrmXZbDZsVptjlAHnL2zX8DQDrSEaqKutEfIOwOglkPGePlCtra1s3bqVn/3sZzQ3Nw+49utavt97W8TNcS3H7It0++2389RTTzFr1iyCgoK8J99QEpTdPBKUCZ/yRQVlrsvAtTxFUSgvL+eNN96goKCAxx9/nMcee4wTJ06w9sW1fPTxR2RmZrJ8+XLuuuuuboVQbxTnGH12u73beJiKXUGtceSjKR4Ju54ByeWCNBfXdMXVRxgKGo3G8bfd7g4WXX8riuIOPlz7e6DByJXYnQO2uwrzqy1m1M7hr9z7y2tf9LVfrkRRFDo6Ojh9+jR5eXl0dXV5z9Kna/lurmGfiKt3rcfsi2QwGMjIyGDMmDH4+/vf1G2RoOzmkaBM+JQvKijDmVvkqjWqrq5m48aNvP/++8ycOZNFixYRFxdHXV0df/3rX/n1r39NR0cH//zP/8zixYtJSkqCPtbH7uyZ3u58BOcZCNlsNndt1+XG7nPNoyiOgEuj0bj/dgVaKo9AzmazERAQgN3ZqtBmc9SSaTQa93sqlYqAgIDrHpBZLBZOnDjBnj17OHPmjLtAvxrJycnMmDGDkSNHEhgY2COQ8d5PA6EoChaLBbVajdlsBnA8ah3AIq/1+8XNdy3H7IvU2dmJRqMhODj4ul+zVyJB2c0jQZnwKTczKPOudXEFZY2NjeTk5JCXl8eoUaP41re+RVJSEv7+/litVo4fP86vf/1r9/R/+qd/4sEHHyQsLKzH+rhqdxoaGigqKqKyspKEhATS09MJDw+ntbWVkydPcuLECQIDAxkzZgypqakEBwe7P2+1Wjl27Bjnz5+nq6uL2NhYhg8fTmhoKKdOnWLfvn10dHQQGBhIeHg4gwYNci//3LlznDx5kqioKMaNG4fdbud40XFKTpcQFRXFlClTSEhIuK6FvM1mo6CggD//+c/s2rXrmoKylJQUvvWtbzFnzhz3+eDJe39fDdd54Bnc9kd/57scKXpvvms9Zl8kz3V3/bi7WdsjQdnNI0GZ8Ck3Myjr7OxEq9W6a8csFgtms5nNmzezYcMGEhMTWbZsGWPHjsVqsWKz2/D396ehoYF3332Xl156iaqqKubMmcOyZcuYOHGiO7hx1YpZLBaam5v5/PPPycnJIT8/n7vvvpt/+qd/IiYmhtLSUj7++GP+8pe/oNfr+eEPf8icB+YQGhqKxWqhsbGR48ePU1RURF1dHcXFxbS0tHDfffdx2223sXv3bnbu3ElXVxctLS1ERUXx4IMP8vjjjwOwceNGCgsLmTRpEo899hgqlYrNmzezdetW4uLiWLx4MXfdddd1zVGx2WxUVlZSUlLCxYsXrylnLSAggJEjR5I8NBldgO6ajnd/DKQ4vNZ1Gch3ievjWo/ZV5UEZTePBGXCp9zMoAyP71MUhbbWNj7Y9gFvvPEG/v7+fPe73+Xemffip/Wjq6sLlUqFVqvFarVSUlLCL3/5S9555x0SEhJYunQpjz32GDExMahUKhS7gl2xU19fz4ULFygvL+fzzz+nqKiIkSNHcscdd7gfPba0tPD222/T1NTED3/4Q7KzswkODqaqqoq8vDzOnz/P3XffTVpaGocOHWLTpk0oisIdd9xBYmIiCQkJBAYGcvDAQVDB5MmTSUpKoqamhj/96U+UlZUxZ84cZs+eTVBQEJ9//jl//etfuXDhAvPmzeO+++4jPDzce9dcE0VR6Orqwmq1DrhFoyeVszZAo9b02ijiehtIcXit595AvktcH9d6zL6qJCi7ea7fMwshbjGKM/leURTa2trIL8jn7bffBuDRRx/l9ttvR+PnyN3y8/NzJ8xrNBoSEhKYNWsWY8eOpaKigg8//JBjx47R1dWF3W7HZreh0WgICwsjKSmJlJQUIiMjCQ0NxWw2U19fT2RkJGPHjiUpKYlBgwaRlJREbGwsOp0Oq8XKZ/s+49ChQ6SlpTFp0iRCQ0Pp6OgAYNKkSdxxxx3ufCuz2YxOp2PUqFGMHj0af39/WlpaaGpqIjo6mlGjRqHX6/Hz8yM8PJyYmBiio6IJCwu7pqDJm+LRw7hWqyUwMNC977Ra7YBfrjw4VBLECCG+/CQoE19ZXV1dtLW1UVFRQX5+Phs3buT48eOkpqYyfvx4Ojs7aW1tpa2tDZy/+Gw2G+3t7XR0dDB8+HDS09Ox2+0UFRWxfft2Tp48SW1tLc3NzVgsFgICAoiOjiY0NBSTycTFixepq6sjODiYlJQUYmJiaGpqwmazkZKS4h5Hs7qmmkOHD9HY2Eh8fDwqlYr9+/fz+eefM3bsWB544AHGjRtHaGiou/WgSq1iyJAh7mDTZDJhNpuJiooiKioKu83xOLWtrQ2VSsWg2EEMGjSIgIAA711zzVwNGVyNFq7217Ld2YpTArJr19c+dNWEfFH6WrcruZbPCuFrJCgTX1mVlZXk5eWxbt06fvOb35CXl4fJZOLw4cO88cYbbNu2jXPnzrkLfUVRaG9v59ixY7z77rts27aN8+fPExISQmtrK7m5ufzXf/0XmzZtYt++fdTX1YPzftHa2kpFRQVtbW0MGTKEkSNHEhISQmNjI6dPn6a9vZ3Y2FjCwsKwWCycOnWKc+fO0dHRwZkzZzhx4gR2u51p06bx8MMPM3z4cPz9/WlqamLfvn2UlJQQGhqKIdqAoiiYzWaqqqro6upy19D5aR01fa4hWuLj44mKirrqgKk3vQVgrveu5qVWq9F49b12I3l/f1+va+W9vBv9cuU54hHIuKa5Al/Xvy/He5mul+d0V02p93dejms+178937/cy5sEZuLLQoIy8ZXl5+fn7jpi0qRJLFy4kEWLFnH77bejVqux2+10dHTg5+fn7qHe1Vmr63HctGnT+Pa3v81TTz3F1772NZKSktyP3BQcNyer1YrRaMRkMpGUlMSUKVNISkpCq9XS0NBARUUF/v7+xMbGotVqaWtr48yZM7S1tREfF09ERATh4eFMnDiRe+65h5SUFMeNzGanrKyMs2fPEhYW5giw1CosFgtVVVUUFxejUWswGAz4+/tjt9tpb2+ntraW4OBgRo4cSXhYOKqB9AEhbkmuIMlqtdLZ2UlbWxvt7e10dnbS2dnpft+VB3g5roALZ4MOi8VCV1cXZrOZtrY2WltbMZvNWCwWLBZLtx80l2NzdvdiNpu7rVNHRwcdHR20t7fT1tbmXueOjg73OqqcgXtvgZoQtyJJ9Bc+xZV4fzMS/V0Bk83ZR5harUaj1mCz29yFvrumBpW7J3zFmaDvqlFw/Xp33bAUZ8/9rhw0k8lEbm4u77//PmPGjOEb3/gGQ4cOpauri8LCQv70pz8RGBjIU089xbhx46itreX111/n2LFjPPDAA3zta19z12i5lq9Wq7FarHz08Uds2rSJ2NhYvvWtbzFs2DDq6+vZtWsXW7ZsQafT8cgjj5CVlYVa7RihYO/evej1eu68804M0QbHNtyEJPqr4V08Xcvx/qrr6OigoqKC8vJyTCYTNmfnvq7zWavVkpSUxPDhw9Hr9d4fd1MUhc7OTurr66mtraWpqYmWlhZMJhOKohAaGur+kRAbG0tERAT+/v7ei3GrqKigtLSUjo4OWltb3SNeuLjOedexDwgIYNCgQQwZMoSIiAhCQkKgj3PDc1mXm0f0zVWTKYn+N55m9erVq73fFOKL4ip8Ozs7+eUvfwnOizomJoZnn322xwXu/fdAqJydtboCKI3G0cJPo9F0SzT3LlwUZweuru4v1Go1WmfXGq7luLqBUBQFo9HIgQMHqKysZOzYsUyYMIHAwEDa2to4ceIER44cITw8nHHjxqHVamlsbOTgwYOcP3+eUaNGkZGRgU6no6OjA6PRSGtrK/7+/vj5+VFaWsrx48cBmDhxIjqdjoqKCk6ePEllZSVqtZq0tDRSUlKora2lpKQEm83G8OHDSUhIcK/ntezHG8l7vbz/Fv3X0NDAyZMnOXLkCAUFBeTm5pKbm8s//vEPzp49S01NDTqdjtjYWPR6vfv8dgVuNpuNxsZGSkpKKCoq4sSJExw7doxDhw5x6NAhDh8+TFFREcXFxRw9epTjx49TWVmJzWYjODj4sh0Vf/755+zatYvjx4+zbds23n77bbZt28bevXspKyujpKSE48ePu7+voKCAo0ePUlVVhdVqJTo6ut9dusj5c3Vcge3mzZs5ceIEKucPxOnTpxMbG0tQUBAhISEEBwej0+l6LTdF/0hQJnzKzQzK+kulUoHK8X+Vx+MSlUcP/D3md7JarZw/f57PPvuMjo4OJk+ezIgRI/Dz86OxsZG9e/dy8uRJwsPDiYyMxGq1olarMRqNnDt3DpVKRWRkJJ2dnTQ0NHD+/HlaWloIDw8nMDCQlpYWiouLOX36NHq9Hruziw0/Pz8URaGyshKVSkVwcDAXL16kvb2d1NRUhg0bdunXrHPbfJVrX/vyOvo6xVm7qtfrSU5OJioqiqKiIj7//HP0ej2PPfYY8+bNY+zYse5uXVw1vTarjbb2Ns6dO0d+fj4ffPABxcXFBAUFMXz4cMaOHcukSZOYNGkSEyZMYOjQodhsNkpKSti1axdHjx7FYrEQHh7ubgHsKSAggPj4eEaMGIHRaOSzzz6jpaWFMWPG8PTTT5Odnc3tt9/O5MmTGT9+PBaLhSNHjrBv3z4uXrxIREQECQkJl62Nk/Pn2klQdvNIUCZ8ii8GZVzF97gKMYvFQnl5OWfPniUmJobbbruNuLg4FEWhpaWFkpIS6urqGDx4MKNGjXJ3j+HqOqOmpoby8nKamprQarXu5PywsDD8/f3RarW0tLRQWlqK0WhEq9UycuRIUlNTCQwMpKSkhLNnz2KxWIiMjGT06NEMGTKE4OBguVl9xWi1WkJDQ4mKisJqtbJ//35OnTrF2LFjeeqpp5g2bRrh4eHodDpwXYuoaDY1c+zYMbZs2cL+/fuJjY1lxowZTJ48mbFjxzJq1CiGDRtGcnIyw4YNIyUlxd2yuKGhgQMHDlBcXIzdbic+Pp7w8PBuP2QCAwOJjoomLi6OsrIy9u3bh0qlYs6cOTzxxBOkpaUxdOhQhg4dSkpKCsnJyTQ2NnLs2DHKysoIDg5m+PDhGAyOR/Hi+pOg7OaRoEz4FF8NygbKtV6K81Gna+ijpKQkdw2Vqx8zVxccI0eOJDY2luDgYMLDw0lISCA+Pp64uDgSEhJITExk6NChREVFgbO/ND8/P6Kjo0lOTmbo0KGMGDGCkSNHEh3t6IPMYDAwZMgQhqcOZ+SokSQmJrq/31f3nbj+PANwRVE4ceIE27dvp66ujvHjx3PvvfcSHR2NxWJx31CtFisdnR3s2bOHv/zlL5SWlpKens5jjz3G9OnTGTRoEDqdY5QF17mkVqkJCAggMjKSxMREoqKiqKmpoaioiMbGRqKjo90/CrzXr7m5mT179rBz5078/f2ZM2cOU6dOdacDqJ2D07t+sJw8eZKqqioiIyMZP348Q4YMkXP6BpGg7Obp+YBfCHFdqJyPgAYPHsyUKVMYP348YWFh4MxDCw0NZdy4ce4hkwwGgzvHKyQkhLS0NB64/wEefvhhsrKySE1Nxd/f3x3Q4WxBmpiYyKxZs3jk4UeYMmUKoaGhqNVqDAYDM2fO5JtPfJOZ985k6NChaJ0dxUpB+dVlsVhoaGigrq4OPz8/d3I2Xv2V2e12jh07xsaNGzl69Chjx47l8ccfZ+zYse6aLs/zSKVyNIZROR/x6/V6MjIyuP/++0lJSeHs2bPs2rWL0tJSurq63J9RFAWV2hGUVVRU0N7eTlhYGAkJCe7z1RUU4Lx2XI9Ce0sfEOJWJmezEDeQ2qMD1d7+xuvGpni04HTdrFQe+WsaZ59dGo3GXavovkH20oJSpeqZMyYB2Vebq+VkS0sLKpWKuLg49Ho9KucwYjjPw4u1F3n//ffZt28fycnJZGdnM2LEiG7nj+t89uY6LyMiIhg3bhyjR4/GarVy8uRJd798Lq6WzM3NzVy4cAGAmJgYIiMjsdvt7nPexWq1ujt11mq1GAyGbq2ThbiV9byahBA3lARF4ovk6quuqamJ8PBwBg8eTGhoKCqP5P7W1lYKCwvJy8sD4K677mLMmDFotdputWl9cQV58fHxpKSkEBISQk1NDRUVFbS2trpbdWo0jqHMjEZjt9zJiIgId42wi+IcEq2oqIgLFy4wePBgJk+eTHx8vARk4ktBgjIhhPiKUBSFjo4OLly4QGdnJ3FxcURGRnb7oWC327lQdoGPP/qY8+fPk5SUxMSJE901VwP5UaFSqdw5ZqGhoXR1dVFXV0dbW5s7iFI5RxGora2lsbERP+doE70FZRaLhV27drFjxw78/f2ZOXMmd955JyEhIQNaLyF8lQRlQtwk/blpqDwSsq80f3/nE8JTU1MTtbW1KIpCdHQ00dHR4NViuOR0CYcPH0atVpOamkp8fHy3PLKBnHd+fn4EBQW5E8AVZ2e1eDXscY0ZGxQURExMDFqtFpVKRVtbG7W1tZw5c4bc3Fz+/ve/Y7fbmT9/Pt/4xjdITk7u9RGqELciOZOFEOIrwm6309jYSEtLC1qtlvDwcMLDw7sFWO3t7ZSWllJdU01oaCgpKSkMGjQIlauPvgEOy+XKhXSNgBEQENCj1WZbWxs1NTV0dnai1+sJCwujurqaffv2sXv3bt555x02bNhAbm4uer2eRYsW8a1vfYtRo0a5lyWPL8WXgQRlQgjxFdHV1UVDQwOtra0EBwcTExNDaGiou8ZKURSampo4f/48bW1tREREkJSU1G0oo94alPTFarW6x7RUq9WEhIS4+0JzfafJZKKqqgqLxcKgQYOIiori3LlzvPHnN/j1r3/N3//+dzQaDffffz/f+c53mDdvHslDk3t0RCvErU6CMiGE+JJz1SJ1dXXR1NREW1ubo9PW6GiCg4NR7I7pdrsdk8lEQ0MDZrOZgIAAwsLC3En5V6O9vZ3m5mYsFgvBwcHujo9dtWRWq5WWlhaqq6uxWCwYDAaSkpKIjo6mpbWF3bt3c+zYMVQqFffccw/jx48nMiIStbPfsv4+RhXiViBBmRBCfMm5Ahez2Ux1dTXNzc3o9XpiY2O7BUg2m43W1laampqw2Wz4+fmhVqux2WzuwM1FcXbbcjmuAc9bWlqoqqrCbDYzZMgQhgwZQmBgoPs7LRYLlZWV1NfXo9FoiI2NZVjyMMaPG88DDzzAqFGjqK+v55NPPmHPnj2OAcvp3nWMEF8WEpQJIcRXhMlkoqamhtbWVgICAoiIiECtUuNKE3P1O2Y2m8GjvzEAu9J7Vxi9BUWKc6xNu91OdXU1Z8+eRafTkZaWxqhRowgKCuoWKBqNRtrb2wkJCSE2NpaAwADCwsOYPn06ixYtIiYmhoMHD/J///d/HDlyxDFGrEYNPb9aiFuaBGVCCPEVoCgKtbW1VFZWYrVaiY+PJzo62lHr5KwF02g0BAUFuWuyrFYrnZ2d3ou6IlcSf1NTEyUlJVy4cAGDwcDEiROJiYnp1tVFW1sbdXV1dHR0EB3tGAPT1fIyNjaW++67j4cffhhFUdi1axe5ublUVVWB4ggihfgykTNaCCG+Aux2Ow0NDVy8eBFFURg8eDCRkZGOaR61YDqdjsjISLRaLe3t7TQ2NnospafL5XRZrVbKy8spKipCp9Mxbdo0br/9dvR6fbf5Ojo6aGxsxGw2Ex4eTlhY2KXuN1AxLHkYDzzwAHfffTdNTU1s376dTz/9lNa21gE3OhDC10lQJoQQX3KKotDc3IzRaKSlpYXQ0FB3K0fP8SNVKhWJiYmMHDkSvV5PVVUVJSUl7nwv17Jc8/YWkNlsNiwWC/X19ewt3EvRsSKSk5PJzMwkPj6+Wy1ZV1cXRqORsrIy2tvb3eulUqmw2+ygAn9/fzIyMpgzZw7Dhg3j1KlTbN68mf3797sfs+K1PpJrJm5VEpQJIcRXQEdHBw0NDXR2dhIaGkpERARardbdj5iLTqcjNTWVxMREmpqa2L9/P6c+P+V+xNlbIOZJo9HQ0dHBnj172JG/g9jYWB599FGmTZtGUFBQj0HPXbVxaudA40FBQY7+0NSOfDaNRoPBYOCBBx4gOzsbf39/9u3bx7Zt27hw4QKKszsPu92O1Wp1BHNOEpiJW40EZUII8RXQ3t5OTU0N7e3tREZGunO7vIMsjUbD7bffzpQpU/Dz82Pfvn1sz9vOqZJT3QIeT57BT3V1Ne+++y4bN24EYN7X5pGVleUeOcBbbW0t1dXVBAUFkZyczKBBgxxBmWu9VI5AMD4+ngcffJDp06fT1NTE+++/z/bt26mvr3cvy263yyNNcUuToEwIIb7kFEXBbDa7+x8LDQ3tMealZ2CVkJDArFmzuOeee+js7OTPf/4zf/zjHyncW8jFixfd87l0dXVRVlbGp59+yubNm/nwww8JDg7mkUce4b777iMmJgaVc8Bz7+T86upq6urqCA4OJjU1tccIA3a73R0MTp06ldmzZzN06FDOnz/Pu+++y6FDh+jq6kKtVqPVaj2WLMStR7N69erV3m8K8UVxPYro7Ozkl7/8JTgfl8TExPDss8/2+FXv/bcQwsEViDU1NVFfX8/OnTvJzc2lsrKSlJQU0tPTiYyMxGKxoPPXgQp3Hperv7CkpCQsFgtVVVWcOnWK0tJSGhsbaW9vx2g0YjQaqaqq4vPPP2fnzp18+OGHnD9/nttuu42FCxdy5513Ehoa6s73MpvNWK1WmpqaaG5u5sCBA7z33nucPHmSoKAgRo8eTVJSkntIJpxjZ7oeY/r7+xMTE0N9fT1HjhyhurqalpYWwsLCCAsLIyAgoFvQJ+XD9eEK2Ddv3syJEydQOUdimD59OrGxsQQFBRESEkJwcLB7jFPXvpdjMDAqRR66Cx9it9tRq9U0Nja6W4ap1WrGjBnD4cOHe1zg3n8LIRwtH9VqNefPn2f79u3s2bOHo0ePUlpaisViISoqihEjRpCWlkZycjKLFi0iLi7OezHYbDbq6uooLCzkww8/pKioiLq6Otrb29Hr9ej1eiIjI0lOTmbEiBGMHDmShIQE4uPiCQsPw2azuWvIXLeaiooKPvroIz777DNOnjzJiRMnaGhoIDAwkOHDhzNo0CAmTpzIAw88wOTJkwkMDOy2TmazmY8++oiXX36ZTz75xN3/2dy5c3n00UcZPny4e14pH64PVx7gE088waZNm1A5c/hWrlzJ+PHjiYqKIjY2FoPBQGhoKAEBARKUXSUJyoRPkaBMiGvnKtZNJhMVFRVUVlbS2dnpGFJJUWhvb8dqtRISEoLBYCA+Pp5BgwZ5Lwab1UanuZMPP/yQP//5z+zbt4/W1lZGjBjB3XffzW233UZcXBwRERFER0cTHR3tHiHAs7Wm1Wp115Y1NTVRW1tLQ0MDzc3NdHV1ERAQgJ+fH52dnWi1WiIjI0lISCA6OrrHI0lFUejs7KS8vJzTp09jsVhQFIX4+HhGjhxJWFgYSNlwXUlQdvNIUCZ8igRlQlwfrlQAb3abHZvd8XjQ1R2G4hqyyK64Wz3a7XYqKyvZu3cv586do7W1FbPZTHl5ObW1tURERDBp0iSysrKYMGGC+zFjb99pMpm4ePGie6glz77KXDd8lfORmCt4uxy73Y5iV7DZbahVjhEI1JpLjyxdt7S+liEGRoKym0cS/YUQ4kvocjdDtcYxkLdn0r0rENL4XeqzzGw2s3fvXg4fPkxiYiLf//73WbVqFd///veZOnUqVVVV/Pd//zc//OEP+dnPfsaWLVs4ffo0HR0ddHV10dnZ6Rgz01kzd+DAAfbv34/JZHIHTngM7aRyDul0ufV2UavVaPwc+WV+Wr9uARke2yLErUiCMiGEEN0Cma6uLpqbmzGZTISGhpKRkUFUVBRhYWHccccd/PjHP+ZXv/oV3/nOd2hra+PVV19lzZo1rFu3jvfff5/S0lI6OjrcAdmpU6doaWkhJiamR46YEOISCcqEEEJ0o1apsVgsqFQqoqKiiIyMdDwydCbu6/V67rjjDpYvX87Pf/5z5s2bh81m49133+W5557j3/7t33j77bfZu3cv+/btY9euXTQ2NkpQJsQVSFAmhBCiG42fhuDgYBITE0lOTnZ0NaFRo9gVd2K9oihERkaSnZ3NypUr+clPfkJWVhYWi4XCwkJ++9vf8oMf/IDnn3+eo0ePkpSUREpKigRlQvRBgjIhhPiK6U/eVVBQEJMmTWLs2LGEhISAM1jz9/dHrXbkpalUKgICAhg+fDhf+9rXWLVqFT//+c956qmnmD59OqNGjWLatGk8+uijTJo0iaCgIPfyXYGdEOISaX0pfIq0vhTCN9htdtQaNTabDY1Gc9nWnJ7sdjsWi4WWlhaampqwWCyEh4cTFhbm7qvMu1f/Ky1TfPGk9eXNIzVlQgghenCNIenqb6w/N1e1Wo1OpyM6OpqUYSmMHDnS3eO7v78/Op2uW0AmhOhOrg4hhBA9uIKwq33M6OrvzDOYu5rlCPFVIkGZEEKIy+pP/ll/uZbl+RJCXCJBmRBCCCGuG6kRvXoSlAkhhBDi+pGY7KpJUCaEEEII4QMkKBNCCCGE8AESlAkhhBBC+AAJyoQQQgghfIAEZcKnabVa1Gp1v3oTx6NPJXnJS17yktf1eano3n2J4mxdabfbsdvtPaa5pouBk6BM3DK8+zfqLUjzni4veclLXvK6xpfa8X9XsOX5f88AzP2+NL+8ahKUCZ9mtVqx2WzufwshhPhiuIbI0mg0qFQq/Pz83APTe1Ih415eLRmQXPgUV1V4Y2MjUVFR4CwAwsLCmDdvnvfsQgghbgK1Wk1+fj7nzp1D5RyQfMWKFUyYMIHo6GgGDRpEdHQ0oaGh6Px1aPwcY6aKgZGgTPgUV3V4U1MT0dHR7nwyV7Dmfbq6qteFEELcOJ4DybvK45/85CdkZGQQFRWFwWCQoOw6kKBM+Byr1YrJZMJgMLh/kXGZoTskIBNCiJvDVd66yuIVK1YwefJkIiMjJSi7TiQoEz7HbrfT0NBAXFwcNpvN0frHWSPmCtCEEEJ8sX760592qymLiopCr9ej0+m61ayJ/pOgTPgcu91OV1cX27ZtQ1EUGhsbMRqNtLW1YTab3fN5tvzxPI093xdCCHHtPFNFXP9OTU0lMjKSmJgYYmJiiIqKIjQ0lICAAHmKcZUkKBM+xTOgslgstLW1UV9fz8WLF2lqaqKlpcX7I25yKgshxI3hCsQURUGxK6jUKvz9/dHpdBgMBgwGA+Hh4QQHB+Pv7y9B2VWSoEz4FO8aL5PJhMlkorGxkZaWFlpbW7vNL4QQ4sZTq9XuQMtmtYEKd1AWHh5OZGQkoaGhBAYGdptXDIwEZcKneAdlra2tmM1mOjo63P8XQghx87mDMpsNlepSTZlGo0Gv1xMUFCS1ZNdIgjLhU7yDsvb2dvdQHjabja6urm7zCyGEuPE8c8q8g7LOzk4CAgIIDAxEo5FWl9dCgjLhU7xPR9ffrlwzxa5gVy51keF6CSGEuHE8gzLPVvCu97R+WkdP/2qpJbsWEpQJnzKQ03Eg8wohhLg2rgDM+8ewSqWSLjCuEwnKhE+R01EIIXyP5IndHBLaCiGEEEL4AKkpE0IIIYTwAf8f59JjDOGdxScAAAAASUVORK5CYII=)"
      ]
    },
    {
      "cell_type": "code",
      "execution_count": 864,
      "metadata": {
        "id": "nGL9YPnT0sAy"
      },
      "outputs": [],
      "source": [
        "robust_scaler = RobustScaler()\n",
        "standardized_rob = robust_scaler.fit_transform(df_model)\n",
        "standardized_rob = pd.DataFrame(standardized, columns = df_model.columns)"
      ]
    },
    {
      "cell_type": "markdown",
      "metadata": {
        "id": "BEwxPDmaOouc"
      },
      "source": [
        "#### Normalización vs Estandarización"
      ]
    },
    {
      "cell_type": "markdown",
      "metadata": {
        "id": "MPUOtVMhOM7M"
      },
      "source": [
        "\n",
        "\n",
        "> Se elige la escala con normalización ya que no se conoce la distribución de las  columnas.\n",
        "\n",
        "Métodos generales (normalized, standardized, standardized_rob):\n",
        "Se aplican a variables numéricas en general (por ejemplo, área, número de manzanas, etc.) para llevarlas a una misma escala. Estos métodos se centran en transformar la distribución de los datos, pero no ajustan por el tamaño de la población ni interpretan tasas de incidencia.\n"
      ]
    },
    {
      "cell_type": "code",
      "execution_count": 865,
      "metadata": {
        "id": "BS1n61OnOV3_"
      },
      "outputs": [],
      "source": [
        "#model_df_scaled = normalized\n",
        "#model_df_scaled = standardized\n",
        "#model_df_scaled  = standardized_rob\n"
      ]
    },
    {
      "cell_type": "markdown",
      "metadata": {},
      "source": [
        "RME (Razón de Morbilidad Estandarizada):\n",
        "Está diseñada específicamente para datos de eventos, como los crímenes, ya que ajusta el número de casos observados según la población. Esto permite evaluar si hay más o menos casos de los que se esperarían según una tasa global. Aplicar RME a variables que no representan eventos (como área o número de manzanas) carece de sentido, ya que esas variables no tienen una \"tasa de incidencia\" inherente que deba ajustarse por población."
      ]
    },
    {
      "cell_type": "code",
      "execution_count": 866,
      "metadata": {},
      "outputs": [],
      "source": [
        "# -----------------------------------------------------------------------------------------------------------\n",
        "\n",
        "# La RME está diseñada para normalizar datos de eventos (como crímenes) ajustándolos a la población, \n",
        "# # por lo que aplicar RME a otras variables (como área o número de manzanas) no tiene sentido y puede llevar a interpretaciones erróneas.\n",
        "columnas_eventos = ['Crimen Organizado', 'Delitos Sexuales', 'Delitos Violentos','Robos y Hurtos','Violencia Familiar']\n",
        "model_df_scaled =  calcular_RME(df_model, columnas_eventos, \"personas\")"
      ]
    },
    {
      "cell_type": "code",
      "execution_count": 867,
      "metadata": {
        "colab": {
          "base_uri": "https://localhost:8080/",
          "height": 602
        },
        "id": "hnRoTykdOalG",
        "outputId": "d29cda05-c6dc-45db-ceb5-c9fdb3ffff9e"
      },
      "outputs": [
        {
          "data": {
            "text/html": [
              "<div>\n",
              "<style scoped>\n",
              "    .dataframe tbody tr th:only-of-type {\n",
              "        vertical-align: middle;\n",
              "    }\n",
              "\n",
              "    .dataframe tbody tr th {\n",
              "        vertical-align: top;\n",
              "    }\n",
              "\n",
              "    .dataframe thead th {\n",
              "        text-align: right;\n",
              "    }\n",
              "</style>\n",
              "<table border=\"1\" class=\"dataframe\">\n",
              "  <thead>\n",
              "    <tr style=\"text-align: right;\">\n",
              "      <th></th>\n",
              "      <th>RME_Crimen Organizado</th>\n",
              "      <th>RME_Delitos Sexuales</th>\n",
              "      <th>RME_Delitos Violentos</th>\n",
              "      <th>RME_Robos y Hurtos</th>\n",
              "      <th>RME_Violencia Familiar</th>\n",
              "    </tr>\n",
              "  </thead>\n",
              "  <tbody>\n",
              "    <tr>\n",
              "      <th>0</th>\n",
              "      <td>0.817782</td>\n",
              "      <td>1.371009</td>\n",
              "      <td>1.110215</td>\n",
              "      <td>0.490063</td>\n",
              "      <td>1.605250</td>\n",
              "    </tr>\n",
              "    <tr>\n",
              "      <th>1</th>\n",
              "      <td>0.681162</td>\n",
              "      <td>1.379120</td>\n",
              "      <td>1.171662</td>\n",
              "      <td>0.426934</td>\n",
              "      <td>1.656792</td>\n",
              "    </tr>\n",
              "    <tr>\n",
              "      <th>2</th>\n",
              "      <td>1.119713</td>\n",
              "      <td>1.260211</td>\n",
              "      <td>1.196854</td>\n",
              "      <td>1.555308</td>\n",
              "      <td>1.025699</td>\n",
              "    </tr>\n",
              "    <tr>\n",
              "      <th>3</th>\n",
              "      <td>1.204436</td>\n",
              "      <td>1.444972</td>\n",
              "      <td>1.549505</td>\n",
              "      <td>0.825146</td>\n",
              "      <td>1.675159</td>\n",
              "    </tr>\n",
              "    <tr>\n",
              "      <th>4</th>\n",
              "      <td>1.241597</td>\n",
              "      <td>1.045954</td>\n",
              "      <td>1.333527</td>\n",
              "      <td>0.582161</td>\n",
              "      <td>1.447153</td>\n",
              "    </tr>\n",
              "    <tr>\n",
              "      <th>5</th>\n",
              "      <td>0.863642</td>\n",
              "      <td>1.046377</td>\n",
              "      <td>1.178204</td>\n",
              "      <td>1.693564</td>\n",
              "      <td>0.672537</td>\n",
              "    </tr>\n",
              "    <tr>\n",
              "      <th>6</th>\n",
              "      <td>0.634257</td>\n",
              "      <td>0.453543</td>\n",
              "      <td>0.363371</td>\n",
              "      <td>0.553325</td>\n",
              "      <td>0.417923</td>\n",
              "    </tr>\n",
              "    <tr>\n",
              "      <th>7</th>\n",
              "      <td>0.780708</td>\n",
              "      <td>0.882859</td>\n",
              "      <td>0.853713</td>\n",
              "      <td>0.495342</td>\n",
              "      <td>0.909945</td>\n",
              "    </tr>\n",
              "    <tr>\n",
              "      <th>8</th>\n",
              "      <td>0.779328</td>\n",
              "      <td>0.750608</td>\n",
              "      <td>0.778364</td>\n",
              "      <td>0.689234</td>\n",
              "      <td>0.767509</td>\n",
              "    </tr>\n",
              "    <tr>\n",
              "      <th>9</th>\n",
              "      <td>0.442393</td>\n",
              "      <td>0.621164</td>\n",
              "      <td>0.486147</td>\n",
              "      <td>0.574828</td>\n",
              "      <td>0.589409</td>\n",
              "    </tr>\n",
              "    <tr>\n",
              "      <th>10</th>\n",
              "      <td>0.653977</td>\n",
              "      <td>0.856132</td>\n",
              "      <td>0.641309</td>\n",
              "      <td>0.477770</td>\n",
              "      <td>0.899075</td>\n",
              "    </tr>\n",
              "    <tr>\n",
              "      <th>11</th>\n",
              "      <td>0.854346</td>\n",
              "      <td>0.666228</td>\n",
              "      <td>0.939009</td>\n",
              "      <td>2.044639</td>\n",
              "      <td>0.461614</td>\n",
              "    </tr>\n",
              "    <tr>\n",
              "      <th>12</th>\n",
              "      <td>0.782807</td>\n",
              "      <td>0.767368</td>\n",
              "      <td>0.757815</td>\n",
              "      <td>1.317556</td>\n",
              "      <td>0.544461</td>\n",
              "    </tr>\n",
              "    <tr>\n",
              "      <th>13</th>\n",
              "      <td>1.001779</td>\n",
              "      <td>1.164880</td>\n",
              "      <td>1.027834</td>\n",
              "      <td>0.480743</td>\n",
              "      <td>1.367980</td>\n",
              "    </tr>\n",
              "    <tr>\n",
              "      <th>14</th>\n",
              "      <td>14.732974</td>\n",
              "      <td>4.315171</td>\n",
              "      <td>7.357547</td>\n",
              "      <td>9.340410</td>\n",
              "      <td>3.424297</td>\n",
              "    </tr>\n",
              "    <tr>\n",
              "      <th>15</th>\n",
              "      <td>0.542558</td>\n",
              "      <td>0.305146</td>\n",
              "      <td>0.293373</td>\n",
              "      <td>0.872794</td>\n",
              "      <td>0.259088</td>\n",
              "    </tr>\n",
              "    <tr>\n",
              "      <th>16</th>\n",
              "      <td>0.613939</td>\n",
              "      <td>0.752157</td>\n",
              "      <td>0.632052</td>\n",
              "      <td>0.417491</td>\n",
              "      <td>0.800585</td>\n",
              "    </tr>\n",
              "  </tbody>\n",
              "</table>\n",
              "</div>"
            ],
            "text/plain": [
              "    RME_Crimen Organizado  RME_Delitos Sexuales  RME_Delitos Violentos  \\\n",
              "0                0.817782              1.371009               1.110215   \n",
              "1                0.681162              1.379120               1.171662   \n",
              "2                1.119713              1.260211               1.196854   \n",
              "3                1.204436              1.444972               1.549505   \n",
              "4                1.241597              1.045954               1.333527   \n",
              "5                0.863642              1.046377               1.178204   \n",
              "6                0.634257              0.453543               0.363371   \n",
              "7                0.780708              0.882859               0.853713   \n",
              "8                0.779328              0.750608               0.778364   \n",
              "9                0.442393              0.621164               0.486147   \n",
              "10               0.653977              0.856132               0.641309   \n",
              "11               0.854346              0.666228               0.939009   \n",
              "12               0.782807              0.767368               0.757815   \n",
              "13               1.001779              1.164880               1.027834   \n",
              "14              14.732974              4.315171               7.357547   \n",
              "15               0.542558              0.305146               0.293373   \n",
              "16               0.613939              0.752157               0.632052   \n",
              "\n",
              "    RME_Robos y Hurtos  RME_Violencia Familiar  \n",
              "0             0.490063                1.605250  \n",
              "1             0.426934                1.656792  \n",
              "2             1.555308                1.025699  \n",
              "3             0.825146                1.675159  \n",
              "4             0.582161                1.447153  \n",
              "5             1.693564                0.672537  \n",
              "6             0.553325                0.417923  \n",
              "7             0.495342                0.909945  \n",
              "8             0.689234                0.767509  \n",
              "9             0.574828                0.589409  \n",
              "10            0.477770                0.899075  \n",
              "11            2.044639                0.461614  \n",
              "12            1.317556                0.544461  \n",
              "13            0.480743                1.367980  \n",
              "14            9.340410                3.424297  \n",
              "15            0.872794                0.259088  \n",
              "16            0.417491                0.800585  "
            ]
          },
          "execution_count": 867,
          "metadata": {},
          "output_type": "execute_result"
        }
      ],
      "source": [
        "model_df_scaled"
      ]
    },
    {
      "cell_type": "code",
      "execution_count": 868,
      "metadata": {},
      "outputs": [
        {
          "data": {
            "text/html": [
              "<div>\n",
              "<style scoped>\n",
              "    .dataframe tbody tr th:only-of-type {\n",
              "        vertical-align: middle;\n",
              "    }\n",
              "\n",
              "    .dataframe tbody tr th {\n",
              "        vertical-align: top;\n",
              "    }\n",
              "\n",
              "    .dataframe thead th {\n",
              "        text-align: right;\n",
              "    }\n",
              "</style>\n",
              "<table border=\"1\" class=\"dataframe\">\n",
              "  <thead>\n",
              "    <tr style=\"text-align: right;\">\n",
              "      <th></th>\n",
              "      <th>Crimen Organizado</th>\n",
              "      <th>Delitos Sexuales</th>\n",
              "      <th>Delitos Violentos</th>\n",
              "      <th>Robos y Hurtos</th>\n",
              "      <th>Violencia Familiar</th>\n",
              "      <th>manzanas</th>\n",
              "      <th>personas</th>\n",
              "      <th>area</th>\n",
              "      <th>poblacional_km2</th>\n",
              "      <th>manzanas_km2</th>\n",
              "      <th>...</th>\n",
              "      <th>expected_Crimen Organizado</th>\n",
              "      <th>RME_Crimen Organizado</th>\n",
              "      <th>expected_Delitos Sexuales</th>\n",
              "      <th>RME_Delitos Sexuales</th>\n",
              "      <th>expected_Delitos Violentos</th>\n",
              "      <th>RME_Delitos Violentos</th>\n",
              "      <th>expected_Robos y Hurtos</th>\n",
              "      <th>RME_Robos y Hurtos</th>\n",
              "      <th>expected_Violencia Familiar</th>\n",
              "      <th>RME_Violencia Familiar</th>\n",
              "    </tr>\n",
              "  </thead>\n",
              "  <tbody>\n",
              "    <tr>\n",
              "      <th>0</th>\n",
              "      <td>53.625</td>\n",
              "      <td>68.250</td>\n",
              "      <td>281.375</td>\n",
              "      <td>441.500</td>\n",
              "      <td>319.500</td>\n",
              "      <td>667</td>\n",
              "      <td>72591</td>\n",
              "      <td>4.326768e+06</td>\n",
              "      <td>0.016777</td>\n",
              "      <td>0.000154</td>\n",
              "      <td>...</td>\n",
              "      <td>65.573695</td>\n",
              "      <td>0.817782</td>\n",
              "      <td>49.780845</td>\n",
              "      <td>1.371009</td>\n",
              "      <td>253.441887</td>\n",
              "      <td>1.110215</td>\n",
              "      <td>900.904275</td>\n",
              "      <td>0.490063</td>\n",
              "      <td>199.034405</td>\n",
              "      <td>1.605250</td>\n",
              "    </tr>\n",
              "    <tr>\n",
              "      <th>1</th>\n",
              "      <td>20.250</td>\n",
              "      <td>31.125</td>\n",
              "      <td>134.625</td>\n",
              "      <td>174.375</td>\n",
              "      <td>149.500</td>\n",
              "      <td>515</td>\n",
              "      <td>32910</td>\n",
              "      <td>1.371355e+06</td>\n",
              "      <td>0.023998</td>\n",
              "      <td>0.000376</td>\n",
              "      <td>...</td>\n",
              "      <td>29.728621</td>\n",
              "      <td>0.681162</td>\n",
              "      <td>22.568743</td>\n",
              "      <td>1.379120</td>\n",
              "      <td>114.900918</td>\n",
              "      <td>1.171662</td>\n",
              "      <td>408.435752</td>\n",
              "      <td>0.426934</td>\n",
              "      <td>90.234633</td>\n",
              "      <td>1.656792</td>\n",
              "    </tr>\n",
              "    <tr>\n",
              "      <th>2</th>\n",
              "      <td>52.375</td>\n",
              "      <td>44.750</td>\n",
              "      <td>216.375</td>\n",
              "      <td>999.500</td>\n",
              "      <td>145.625</td>\n",
              "      <td>339</td>\n",
              "      <td>51781</td>\n",
              "      <td>2.734584e+06</td>\n",
              "      <td>0.018936</td>\n",
              "      <td>0.000124</td>\n",
              "      <td>...</td>\n",
              "      <td>46.775379</td>\n",
              "      <td>1.119713</td>\n",
              "      <td>35.509938</td>\n",
              "      <td>1.260211</td>\n",
              "      <td>180.786521</td>\n",
              "      <td>1.196854</td>\n",
              "      <td>642.637852</td>\n",
              "      <td>1.555308</td>\n",
              "      <td>141.976285</td>\n",
              "      <td>1.025699</td>\n",
              "    </tr>\n",
              "    <tr>\n",
              "      <th>3</th>\n",
              "      <td>40.625</td>\n",
              "      <td>37.000</td>\n",
              "      <td>202.000</td>\n",
              "      <td>382.375</td>\n",
              "      <td>171.500</td>\n",
              "      <td>410</td>\n",
              "      <td>37339</td>\n",
              "      <td>1.378682e+07</td>\n",
              "      <td>0.002708</td>\n",
              "      <td>0.000030</td>\n",
              "      <td>...</td>\n",
              "      <td>33.729473</td>\n",
              "      <td>1.204436</td>\n",
              "      <td>25.606025</td>\n",
              "      <td>1.444972</td>\n",
              "      <td>130.364186</td>\n",
              "      <td>1.549505</td>\n",
              "      <td>463.402691</td>\n",
              "      <td>0.825146</td>\n",
              "      <td>102.378334</td>\n",
              "      <td>1.675159</td>\n",
              "    </tr>\n",
              "    <tr>\n",
              "      <th>4</th>\n",
              "      <td>43.000</td>\n",
              "      <td>27.500</td>\n",
              "      <td>178.500</td>\n",
              "      <td>277.000</td>\n",
              "      <td>152.125</td>\n",
              "      <td>251</td>\n",
              "      <td>38339</td>\n",
              "      <td>5.688166e+06</td>\n",
              "      <td>0.006740</td>\n",
              "      <td>0.000044</td>\n",
              "      <td>...</td>\n",
              "      <td>34.632804</td>\n",
              "      <td>1.241597</td>\n",
              "      <td>26.291797</td>\n",
              "      <td>1.045954</td>\n",
              "      <td>133.855554</td>\n",
              "      <td>1.333527</td>\n",
              "      <td>475.813379</td>\n",
              "      <td>0.582161</td>\n",
              "      <td>105.120194</td>\n",
              "      <td>1.447153</td>\n",
              "    </tr>\n",
              "    <tr>\n",
              "      <th>5</th>\n",
              "      <td>23.375</td>\n",
              "      <td>21.500</td>\n",
              "      <td>123.250</td>\n",
              "      <td>629.750</td>\n",
              "      <td>55.250</td>\n",
              "      <td>211</td>\n",
              "      <td>29962</td>\n",
              "      <td>1.928794e+06</td>\n",
              "      <td>0.015534</td>\n",
              "      <td>0.000109</td>\n",
              "      <td>...</td>\n",
              "      <td>27.065601</td>\n",
              "      <td>0.863642</td>\n",
              "      <td>20.547088</td>\n",
              "      <td>1.046377</td>\n",
              "      <td>104.608365</td>\n",
              "      <td>1.178204</td>\n",
              "      <td>371.849043</td>\n",
              "      <td>1.693564</td>\n",
              "      <td>82.151628</td>\n",
              "      <td>0.672537</td>\n",
              "    </tr>\n",
              "    <tr>\n",
              "      <th>6</th>\n",
              "      <td>17.500</td>\n",
              "      <td>9.500</td>\n",
              "      <td>38.750</td>\n",
              "      <td>209.750</td>\n",
              "      <td>35.000</td>\n",
              "      <td>126</td>\n",
              "      <td>30544</td>\n",
              "      <td>1.079359e+06</td>\n",
              "      <td>0.028298</td>\n",
              "      <td>0.000117</td>\n",
              "      <td>...</td>\n",
              "      <td>27.591340</td>\n",
              "      <td>0.634257</td>\n",
              "      <td>20.946207</td>\n",
              "      <td>0.453543</td>\n",
              "      <td>106.640341</td>\n",
              "      <td>0.363371</td>\n",
              "      <td>379.072064</td>\n",
              "      <td>0.553325</td>\n",
              "      <td>83.747391</td>\n",
              "      <td>0.417923</td>\n",
              "    </tr>\n",
              "    <tr>\n",
              "      <th>7</th>\n",
              "      <td>13.250</td>\n",
              "      <td>11.375</td>\n",
              "      <td>56.000</td>\n",
              "      <td>115.500</td>\n",
              "      <td>46.875</td>\n",
              "      <td>154</td>\n",
              "      <td>18788</td>\n",
              "      <td>1.057978e+06</td>\n",
              "      <td>0.017758</td>\n",
              "      <td>0.000146</td>\n",
              "      <td>...</td>\n",
              "      <td>16.971781</td>\n",
              "      <td>0.780708</td>\n",
              "      <td>12.884276</td>\n",
              "      <td>0.882859</td>\n",
              "      <td>65.595820</td>\n",
              "      <td>0.853713</td>\n",
              "      <td>233.172012</td>\n",
              "      <td>0.495342</td>\n",
              "      <td>51.514077</td>\n",
              "      <td>0.909945</td>\n",
              "    </tr>\n",
              "    <tr>\n",
              "      <th>8</th>\n",
              "      <td>11.625</td>\n",
              "      <td>8.500</td>\n",
              "      <td>44.875</td>\n",
              "      <td>141.250</td>\n",
              "      <td>34.750</td>\n",
              "      <td>129</td>\n",
              "      <td>16513</td>\n",
              "      <td>8.925716e+05</td>\n",
              "      <td>0.018500</td>\n",
              "      <td>0.000145</td>\n",
              "      <td>...</td>\n",
              "      <td>14.916704</td>\n",
              "      <td>0.779328</td>\n",
              "      <td>11.324146</td>\n",
              "      <td>0.750608</td>\n",
              "      <td>57.652958</td>\n",
              "      <td>0.778364</td>\n",
              "      <td>204.937696</td>\n",
              "      <td>0.689234</td>\n",
              "      <td>45.276344</td>\n",
              "      <td>0.767509</td>\n",
              "    </tr>\n",
              "    <tr>\n",
              "      <th>9</th>\n",
              "      <td>22.750</td>\n",
              "      <td>24.250</td>\n",
              "      <td>96.625</td>\n",
              "      <td>406.125</td>\n",
              "      <td>92.000</td>\n",
              "      <td>450</td>\n",
              "      <td>56928</td>\n",
              "      <td>2.631933e+06</td>\n",
              "      <td>0.021630</td>\n",
              "      <td>0.000171</td>\n",
              "      <td>...</td>\n",
              "      <td>51.424823</td>\n",
              "      <td>0.442393</td>\n",
              "      <td>39.039604</td>\n",
              "      <td>0.621164</td>\n",
              "      <td>198.756592</td>\n",
              "      <td>0.486147</td>\n",
              "      <td>706.515664</td>\n",
              "      <td>0.574828</td>\n",
              "      <td>156.088642</td>\n",
              "      <td>0.589409</td>\n",
              "    </tr>\n",
              "    <tr>\n",
              "      <th>10</th>\n",
              "      <td>20.250</td>\n",
              "      <td>20.125</td>\n",
              "      <td>76.750</td>\n",
              "      <td>203.250</td>\n",
              "      <td>84.500</td>\n",
              "      <td>1116</td>\n",
              "      <td>34278</td>\n",
              "      <td>3.296170e+06</td>\n",
              "      <td>0.010399</td>\n",
              "      <td>0.000339</td>\n",
              "      <td>...</td>\n",
              "      <td>30.964377</td>\n",
              "      <td>0.653977</td>\n",
              "      <td>23.506878</td>\n",
              "      <td>0.856132</td>\n",
              "      <td>119.677109</td>\n",
              "      <td>0.641309</td>\n",
              "      <td>425.413574</td>\n",
              "      <td>0.477770</td>\n",
              "      <td>93.985498</td>\n",
              "      <td>0.899075</td>\n",
              "    </tr>\n",
              "    <tr>\n",
              "      <th>11</th>\n",
              "      <td>31.250</td>\n",
              "      <td>18.500</td>\n",
              "      <td>132.750</td>\n",
              "      <td>1027.500</td>\n",
              "      <td>51.250</td>\n",
              "      <td>260</td>\n",
              "      <td>40492</td>\n",
              "      <td>2.825578e+06</td>\n",
              "      <td>0.014331</td>\n",
              "      <td>0.000092</td>\n",
              "      <td>...</td>\n",
              "      <td>36.577676</td>\n",
              "      <td>0.854346</td>\n",
              "      <td>27.768263</td>\n",
              "      <td>0.666228</td>\n",
              "      <td>141.372469</td>\n",
              "      <td>0.939009</td>\n",
              "      <td>502.533591</td>\n",
              "      <td>2.044639</td>\n",
              "      <td>111.023420</td>\n",
              "      <td>0.461614</td>\n",
              "    </tr>\n",
              "    <tr>\n",
              "      <th>12</th>\n",
              "      <td>48.375</td>\n",
              "      <td>36.000</td>\n",
              "      <td>181.000</td>\n",
              "      <td>1118.625</td>\n",
              "      <td>102.125</td>\n",
              "      <td>315</td>\n",
              "      <td>68410</td>\n",
              "      <td>3.002325e+06</td>\n",
              "      <td>0.022786</td>\n",
              "      <td>0.000105</td>\n",
              "      <td>...</td>\n",
              "      <td>61.796869</td>\n",
              "      <td>0.782807</td>\n",
              "      <td>46.913634</td>\n",
              "      <td>0.767368</td>\n",
              "      <td>238.844478</td>\n",
              "      <td>0.757815</td>\n",
              "      <td>849.015187</td>\n",
              "      <td>1.317556</td>\n",
              "      <td>187.570685</td>\n",
              "      <td>0.544461</td>\n",
              "    </tr>\n",
              "    <tr>\n",
              "      <th>13</th>\n",
              "      <td>18.125</td>\n",
              "      <td>16.000</td>\n",
              "      <td>71.875</td>\n",
              "      <td>119.500</td>\n",
              "      <td>75.125</td>\n",
              "      <td>170</td>\n",
              "      <td>20029</td>\n",
              "      <td>7.112813e+05</td>\n",
              "      <td>0.028159</td>\n",
              "      <td>0.000239</td>\n",
              "      <td>...</td>\n",
              "      <td>18.092815</td>\n",
              "      <td>1.001779</td>\n",
              "      <td>13.735319</td>\n",
              "      <td>1.164880</td>\n",
              "      <td>69.928608</td>\n",
              "      <td>1.027834</td>\n",
              "      <td>248.573676</td>\n",
              "      <td>0.480743</td>\n",
              "      <td>54.916726</td>\n",
              "      <td>1.367980</td>\n",
              "    </tr>\n",
              "    <tr>\n",
              "      <th>14</th>\n",
              "      <td>107.375</td>\n",
              "      <td>23.875</td>\n",
              "      <td>207.250</td>\n",
              "      <td>935.250</td>\n",
              "      <td>75.750</td>\n",
              "      <td>129</td>\n",
              "      <td>8068</td>\n",
              "      <td>1.036568e+06</td>\n",
              "      <td>0.007783</td>\n",
              "      <td>0.000124</td>\n",
              "      <td>...</td>\n",
              "      <td>7.288074</td>\n",
              "      <td>14.732974</td>\n",
              "      <td>5.532805</td>\n",
              "      <td>4.315171</td>\n",
              "      <td>28.168356</td>\n",
              "      <td>7.357547</td>\n",
              "      <td>100.129433</td>\n",
              "      <td>9.340410</td>\n",
              "      <td>22.121332</td>\n",
              "      <td>3.424297</td>\n",
              "    </tr>\n",
              "    <tr>\n",
              "      <th>15</th>\n",
              "      <td>11.125</td>\n",
              "      <td>4.750</td>\n",
              "      <td>23.250</td>\n",
              "      <td>245.875</td>\n",
              "      <td>16.125</td>\n",
              "      <td>123</td>\n",
              "      <td>22699</td>\n",
              "      <td>1.943901e+06</td>\n",
              "      <td>0.011677</td>\n",
              "      <td>0.000063</td>\n",
              "      <td>...</td>\n",
              "      <td>20.504709</td>\n",
              "      <td>0.542558</td>\n",
              "      <td>15.566329</td>\n",
              "      <td>0.305146</td>\n",
              "      <td>79.250560</td>\n",
              "      <td>0.293373</td>\n",
              "      <td>281.710214</td>\n",
              "      <td>0.872794</td>\n",
              "      <td>62.237494</td>\n",
              "      <td>0.259088</td>\n",
              "    </tr>\n",
              "    <tr>\n",
              "      <th>16</th>\n",
              "      <td>17.875</td>\n",
              "      <td>16.625</td>\n",
              "      <td>71.125</td>\n",
              "      <td>167.000</td>\n",
              "      <td>70.750</td>\n",
              "      <td>188</td>\n",
              "      <td>32231</td>\n",
              "      <td>3.383157e+06</td>\n",
              "      <td>0.009527</td>\n",
              "      <td>0.000056</td>\n",
              "      <td>...</td>\n",
              "      <td>29.115259</td>\n",
              "      <td>0.613939</td>\n",
              "      <td>22.103104</td>\n",
              "      <td>0.752157</td>\n",
              "      <td>112.530279</td>\n",
              "      <td>0.632052</td>\n",
              "      <td>400.008895</td>\n",
              "      <td>0.417491</td>\n",
              "      <td>88.372910</td>\n",
              "      <td>0.800585</td>\n",
              "    </tr>\n",
              "  </tbody>\n",
              "</table>\n",
              "<p>17 rows × 30 columns</p>\n",
              "</div>"
            ],
            "text/plain": [
              "    Crimen Organizado  Delitos Sexuales  Delitos Violentos  Robos y Hurtos  \\\n",
              "0              53.625            68.250            281.375         441.500   \n",
              "1              20.250            31.125            134.625         174.375   \n",
              "2              52.375            44.750            216.375         999.500   \n",
              "3              40.625            37.000            202.000         382.375   \n",
              "4              43.000            27.500            178.500         277.000   \n",
              "5              23.375            21.500            123.250         629.750   \n",
              "6              17.500             9.500             38.750         209.750   \n",
              "7              13.250            11.375             56.000         115.500   \n",
              "8              11.625             8.500             44.875         141.250   \n",
              "9              22.750            24.250             96.625         406.125   \n",
              "10             20.250            20.125             76.750         203.250   \n",
              "11             31.250            18.500            132.750        1027.500   \n",
              "12             48.375            36.000            181.000        1118.625   \n",
              "13             18.125            16.000             71.875         119.500   \n",
              "14            107.375            23.875            207.250         935.250   \n",
              "15             11.125             4.750             23.250         245.875   \n",
              "16             17.875            16.625             71.125         167.000   \n",
              "\n",
              "    Violencia Familiar  manzanas  personas          area  poblacional_km2  \\\n",
              "0              319.500       667     72591  4.326768e+06         0.016777   \n",
              "1              149.500       515     32910  1.371355e+06         0.023998   \n",
              "2              145.625       339     51781  2.734584e+06         0.018936   \n",
              "3              171.500       410     37339  1.378682e+07         0.002708   \n",
              "4              152.125       251     38339  5.688166e+06         0.006740   \n",
              "5               55.250       211     29962  1.928794e+06         0.015534   \n",
              "6               35.000       126     30544  1.079359e+06         0.028298   \n",
              "7               46.875       154     18788  1.057978e+06         0.017758   \n",
              "8               34.750       129     16513  8.925716e+05         0.018500   \n",
              "9               92.000       450     56928  2.631933e+06         0.021630   \n",
              "10              84.500      1116     34278  3.296170e+06         0.010399   \n",
              "11              51.250       260     40492  2.825578e+06         0.014331   \n",
              "12             102.125       315     68410  3.002325e+06         0.022786   \n",
              "13              75.125       170     20029  7.112813e+05         0.028159   \n",
              "14              75.750       129      8068  1.036568e+06         0.007783   \n",
              "15              16.125       123     22699  1.943901e+06         0.011677   \n",
              "16              70.750       188     32231  3.383157e+06         0.009527   \n",
              "\n",
              "    manzanas_km2  ...  expected_Crimen Organizado  RME_Crimen Organizado  \\\n",
              "0       0.000154  ...                   65.573695               0.817782   \n",
              "1       0.000376  ...                   29.728621               0.681162   \n",
              "2       0.000124  ...                   46.775379               1.119713   \n",
              "3       0.000030  ...                   33.729473               1.204436   \n",
              "4       0.000044  ...                   34.632804               1.241597   \n",
              "5       0.000109  ...                   27.065601               0.863642   \n",
              "6       0.000117  ...                   27.591340               0.634257   \n",
              "7       0.000146  ...                   16.971781               0.780708   \n",
              "8       0.000145  ...                   14.916704               0.779328   \n",
              "9       0.000171  ...                   51.424823               0.442393   \n",
              "10      0.000339  ...                   30.964377               0.653977   \n",
              "11      0.000092  ...                   36.577676               0.854346   \n",
              "12      0.000105  ...                   61.796869               0.782807   \n",
              "13      0.000239  ...                   18.092815               1.001779   \n",
              "14      0.000124  ...                    7.288074              14.732974   \n",
              "15      0.000063  ...                   20.504709               0.542558   \n",
              "16      0.000056  ...                   29.115259               0.613939   \n",
              "\n",
              "    expected_Delitos Sexuales  RME_Delitos Sexuales  \\\n",
              "0                   49.780845              1.371009   \n",
              "1                   22.568743              1.379120   \n",
              "2                   35.509938              1.260211   \n",
              "3                   25.606025              1.444972   \n",
              "4                   26.291797              1.045954   \n",
              "5                   20.547088              1.046377   \n",
              "6                   20.946207              0.453543   \n",
              "7                   12.884276              0.882859   \n",
              "8                   11.324146              0.750608   \n",
              "9                   39.039604              0.621164   \n",
              "10                  23.506878              0.856132   \n",
              "11                  27.768263              0.666228   \n",
              "12                  46.913634              0.767368   \n",
              "13                  13.735319              1.164880   \n",
              "14                   5.532805              4.315171   \n",
              "15                  15.566329              0.305146   \n",
              "16                  22.103104              0.752157   \n",
              "\n",
              "    expected_Delitos Violentos  RME_Delitos Violentos  \\\n",
              "0                   253.441887               1.110215   \n",
              "1                   114.900918               1.171662   \n",
              "2                   180.786521               1.196854   \n",
              "3                   130.364186               1.549505   \n",
              "4                   133.855554               1.333527   \n",
              "5                   104.608365               1.178204   \n",
              "6                   106.640341               0.363371   \n",
              "7                    65.595820               0.853713   \n",
              "8                    57.652958               0.778364   \n",
              "9                   198.756592               0.486147   \n",
              "10                  119.677109               0.641309   \n",
              "11                  141.372469               0.939009   \n",
              "12                  238.844478               0.757815   \n",
              "13                   69.928608               1.027834   \n",
              "14                   28.168356               7.357547   \n",
              "15                   79.250560               0.293373   \n",
              "16                  112.530279               0.632052   \n",
              "\n",
              "    expected_Robos y Hurtos  RME_Robos y Hurtos  expected_Violencia Familiar  \\\n",
              "0                900.904275            0.490063                   199.034405   \n",
              "1                408.435752            0.426934                    90.234633   \n",
              "2                642.637852            1.555308                   141.976285   \n",
              "3                463.402691            0.825146                   102.378334   \n",
              "4                475.813379            0.582161                   105.120194   \n",
              "5                371.849043            1.693564                    82.151628   \n",
              "6                379.072064            0.553325                    83.747391   \n",
              "7                233.172012            0.495342                    51.514077   \n",
              "8                204.937696            0.689234                    45.276344   \n",
              "9                706.515664            0.574828                   156.088642   \n",
              "10               425.413574            0.477770                    93.985498   \n",
              "11               502.533591            2.044639                   111.023420   \n",
              "12               849.015187            1.317556                   187.570685   \n",
              "13               248.573676            0.480743                    54.916726   \n",
              "14               100.129433            9.340410                    22.121332   \n",
              "15               281.710214            0.872794                    62.237494   \n",
              "16               400.008895            0.417491                    88.372910   \n",
              "\n",
              "    RME_Violencia Familiar  \n",
              "0                 1.605250  \n",
              "1                 1.656792  \n",
              "2                 1.025699  \n",
              "3                 1.675159  \n",
              "4                 1.447153  \n",
              "5                 0.672537  \n",
              "6                 0.417923  \n",
              "7                 0.909945  \n",
              "8                 0.767509  \n",
              "9                 0.589409  \n",
              "10                0.899075  \n",
              "11                0.461614  \n",
              "12                0.544461  \n",
              "13                1.367980  \n",
              "14                3.424297  \n",
              "15                0.259088  \n",
              "16                0.800585  \n",
              "\n",
              "[17 rows x 30 columns]"
            ]
          },
          "execution_count": 868,
          "metadata": {},
          "output_type": "execute_result"
        }
      ],
      "source": [
        "df_model"
      ]
    },
    {
      "cell_type": "markdown",
      "metadata": {
        "id": "PqgXMOStoF1F"
      },
      "source": [
        "---"
      ]
    },
    {
      "cell_type": "markdown",
      "metadata": {
        "id": "AW-MTpK9oHYX"
      },
      "source": [
        "## **Clustering**\n",
        "\n",
        "**Objetivo:** Encontrar grupos de observaciones similares pero diferentes de otras.\n",
        "\n",
        "- K-Means\n",
        "- Jerarquico"
      ]
    },
    {
      "cell_type": "markdown",
      "metadata": {
        "id": "dqy8QPcV61RW"
      },
      "source": [
        "## **KMEANS**"
      ]
    },
    {
      "cell_type": "markdown",
      "metadata": {
        "id": "kRZl_dlq7TOX"
      },
      "source": [
        "### **Número de clusters**"
      ]
    },
    {
      "cell_type": "markdown",
      "metadata": {
        "id": "_lpd9HPI7dvM"
      },
      "source": [
        "- La inercia es una métrica clave para determinar el número óptimo de clusters en un análisis.\n",
        "\n",
        "- A través del gráfico del \"codo\", se busca un equilibrio entre una inercia baja (mejor ajuste) y un número razonable de clusters (simplicidad del modelo)."
      ]
    },
    {
      "cell_type": "code",
      "execution_count": 869,
      "metadata": {
        "colab": {
          "base_uri": "https://localhost:8080/",
          "height": 472
        },
        "id": "Q-NeHRYtWasF",
        "outputId": "c0692841-a74f-419c-f134-a81bc60a2bfe"
      },
      "outputs": [
        {
          "data": {
            "image/png": "[encoded data removed]",
            "text/plain": [
              "<Figure size 640x480 with 1 Axes>"
            ]
          },
          "metadata": {},
          "output_type": "display_data"
        }
      ],
      "source": [
        "plot_inertia( model_df_scaled)"
      ]
    },
    {
      "cell_type": "markdown",
      "metadata": {
        "id": "Z5NGzc988Ftk"
      },
      "source": [
        "- El codo se presenta en 4 clusters.\n",
        "\n"
      ]
    },
    {
      "cell_type": "markdown",
      "metadata": {
        "id": "GVohPPNTIU29"
      },
      "source": [
        "### **Modelo**"
      ]
    },
    {
      "cell_type": "code",
      "execution_count": 870,
      "metadata": {
        "colab": {
          "base_uri": "https://localhost:8080/",
          "height": 80
        },
        "id": "iDrz1aZpO0SM",
        "outputId": "c7ec62ea-2fdf-4c5b-da1f-2614a5a43d7b"
      },
      "outputs": [
        {
          "data": {
            "text/html": [
              "<style>#sk-container-id-6 {\n",
              "  /* Definition of color scheme common for light and dark mode */\n",
              "  --sklearn-color-text: #000;\n",
              "  --sklearn-color-text-muted: #666;\n",
              "  --sklearn-color-line: gray;\n",
              "  /* Definition of color scheme for unfitted estimators */\n",
              "  --sklearn-color-unfitted-level-0: #fff5e6;\n",
              "  --sklearn-color-unfitted-level-1: #f6e4d2;\n",
              "  --sklearn-color-unfitted-level-2: #ffe0b3;\n",
              "  --sklearn-color-unfitted-level-3: chocolate;\n",
              "  /* Definition of color scheme for fitted estimators */\n",
              "  --sklearn-color-fitted-level-0: #f0f8ff;\n",
              "  --sklearn-color-fitted-level-1: #d4ebff;\n",
              "  --sklearn-color-fitted-level-2: #b3dbfd;\n",
              "  --sklearn-color-fitted-level-3: cornflowerblue;\n",
              "\n",
              "  /* Specific color for light theme */\n",
              "  --sklearn-color-text-on-default-background: var(--sg-text-color, var(--theme-code-foreground, var(--jp-content-font-color1, black)));\n",
              "  --sklearn-color-background: var(--sg-background-color, var(--theme-background, var(--jp-layout-color0, white)));\n",
              "  --sklearn-color-border-box: var(--sg-text-color, var(--theme-code-foreground, var(--jp-content-font-color1, black)));\n",
              "  --sklearn-color-icon: #696969;\n",
              "\n",
              "  @media (prefers-color-scheme: dark) {\n",
              "    /* Redefinition of color scheme for dark theme */\n",
              "    --sklearn-color-text-on-default-background: var(--sg-text-color, var(--theme-code-foreground, var(--jp-content-font-color1, white)));\n",
              "    --sklearn-color-background: var(--sg-background-color, var(--theme-background, var(--jp-layout-color0, #111)));\n",
              "    --sklearn-color-border-box: var(--sg-text-color, var(--theme-code-foreground, var(--jp-content-font-color1, white)));\n",
              "    --sklearn-color-icon: #878787;\n",
              "  }\n",
              "}\n",
              "\n",
              "#sk-container-id-6 {\n",
              "  color: var(--sklearn-color-text);\n",
              "}\n",
              "\n",
              "#sk-container-id-6 pre {\n",
              "  padding: 0;\n",
              "}\n",
              "\n",
              "#sk-container-id-6 input.sk-hidden--visually {\n",
              "  border: 0;\n",
              "  clip: rect(1px 1px 1px 1px);\n",
              "  clip: rect(1px, 1px, 1px, 1px);\n",
              "  height: 1px;\n",
              "  margin: -1px;\n",
              "  overflow: hidden;\n",
              "  padding: 0;\n",
              "  position: absolute;\n",
              "  width: 1px;\n",
              "}\n",
              "\n",
              "#sk-container-id-6 div.sk-dashed-wrapped {\n",
              "  border: 1px dashed var(--sklearn-color-line);\n",
              "  margin: 0 0.4em 0.5em 0.4em;\n",
              "  box-sizing: border-box;\n",
              "  padding-bottom: 0.4em;\n",
              "  background-color: var(--sklearn-color-background);\n",
              "}\n",
              "\n",
              "#sk-container-id-6 div.sk-container {\n",
              "  /* jupyter's `normalize.less` sets `[hidden] { display: none; }`\n",
              "     but bootstrap.min.css set `[hidden] { display: none !important; }`\n",
              "     so we also need the `!important` here to be able to override the\n",
              "     default hidden behavior on the sphinx rendered scikit-learn.org.\n",
              "     See: https://github.com/scikit-learn/scikit-learn/issues/21755 */\n",
              "  display: inline-block !important;\n",
              "  position: relative;\n",
              "}\n",
              "\n",
              "#sk-container-id-6 div.sk-text-repr-fallback {\n",
              "  display: none;\n",
              "}\n",
              "\n",
              "div.sk-parallel-item,\n",
              "div.sk-serial,\n",
              "div.sk-item {\n",
              "  /* draw centered vertical line to link estimators */\n",
              "  background-image: linear-gradient(var(--sklearn-color-text-on-default-background), var(--sklearn-color-text-on-default-background));\n",
              "  background-size: 2px 100%;\n",
              "  background-repeat: no-repeat;\n",
              "  background-position: center center;\n",
              "}\n",
              "\n",
              "/* Parallel-specific style estimator block */\n",
              "\n",
              "#sk-container-id-6 div.sk-parallel-item::after {\n",
              "  content: \"\";\n",
              "  width: 100%;\n",
              "  border-bottom: 2px solid var(--sklearn-color-text-on-default-background);\n",
              "  flex-grow: 1;\n",
              "}\n",
              "\n",
              "#sk-container-id-6 div.sk-parallel {\n",
              "  display: flex;\n",
              "  align-items: stretch;\n",
              "  justify-content: center;\n",
              "  background-color: var(--sklearn-color-background);\n",
              "  position: relative;\n",
              "}\n",
              "\n",
              "#sk-container-id-6 div.sk-parallel-item {\n",
              "  display: flex;\n",
              "  flex-direction: column;\n",
              "}\n",
              "\n",
              "#sk-container-id-6 div.sk-parallel-item:first-child::after {\n",
              "  align-self: flex-end;\n",
              "  width: 50%;\n",
              "}\n",
              "\n",
              "#sk-container-id-6 div.sk-parallel-item:last-child::after {\n",
              "  align-self: flex-start;\n",
              "  width: 50%;\n",
              "}\n",
              "\n",
              "#sk-container-id-6 div.sk-parallel-item:only-child::after {\n",
              "  width: 0;\n",
              "}\n",
              "\n",
              "/* Serial-specific style estimator block */\n",
              "\n",
              "#sk-container-id-6 div.sk-serial {\n",
              "  display: flex;\n",
              "  flex-direction: column;\n",
              "  align-items: center;\n",
              "  background-color: var(--sklearn-color-background);\n",
              "  padding-right: 1em;\n",
              "  padding-left: 1em;\n",
              "}\n",
              "\n",
              "\n",
              "/* Toggleable style: style used for estimator/Pipeline/ColumnTransformer box that is\n",
              "clickable and can be expanded/collapsed.\n",
              "- Pipeline and ColumnTransformer use this feature and define the default style\n",
              "- Estimators will overwrite some part of the style using the `sk-estimator` class\n",
              "*/\n",
              "\n",
              "/* Pipeline and ColumnTransformer style (default) */\n",
              "\n",
              "#sk-container-id-6 div.sk-toggleable {\n",
              "  /* Default theme specific background. It is overwritten whether we have a\n",
              "  specific estimator or a Pipeline/ColumnTransformer */\n",
              "  background-color: var(--sklearn-color-background);\n",
              "}\n",
              "\n",
              "/* Toggleable label */\n",
              "#sk-container-id-6 label.sk-toggleable__label {\n",
              "  cursor: pointer;\n",
              "  display: flex;\n",
              "  width: 100%;\n",
              "  margin-bottom: 0;\n",
              "  padding: 0.5em;\n",
              "  box-sizing: border-box;\n",
              "  text-align: center;\n",
              "  align-items: start;\n",
              "  justify-content: space-between;\n",
              "  gap: 0.5em;\n",
              "}\n",
              "\n",
              "#sk-container-id-6 label.sk-toggleable__label .caption {\n",
              "  font-size: 0.6rem;\n",
              "  font-weight: lighter;\n",
              "  color: var(--sklearn-color-text-muted);\n",
              "}\n",
              "\n",
              "#sk-container-id-6 label.sk-toggleable__label-arrow:before {\n",
              "  /* Arrow on the left of the label */\n",
              "  content: \"▸\";\n",
              "  float: left;\n",
              "  margin-right: 0.25em;\n",
              "  color: var(--sklearn-color-icon);\n",
              "}\n",
              "\n",
              "#sk-container-id-6 label.sk-toggleable__label-arrow:hover:before {\n",
              "  color: var(--sklearn-color-text);\n",
              "}\n",
              "\n",
              "/* Toggleable content - dropdown */\n",
              "\n",
              "#sk-container-id-6 div.sk-toggleable__content {\n",
              "  max-height: 0;\n",
              "  max-width: 0;\n",
              "  overflow: hidden;\n",
              "  text-align: left;\n",
              "  /* unfitted */\n",
              "  background-color: var(--sklearn-color-unfitted-level-0);\n",
              "}\n",
              "\n",
              "#sk-container-id-6 div.sk-toggleable__content.fitted {\n",
              "  /* fitted */\n",
              "  background-color: var(--sklearn-color-fitted-level-0);\n",
              "}\n",
              "\n",
              "#sk-container-id-6 div.sk-toggleable__content pre {\n",
              "  margin: 0.2em;\n",
              "  border-radius: 0.25em;\n",
              "  color: var(--sklearn-color-text);\n",
              "  /* unfitted */\n",
              "  background-color: var(--sklearn-color-unfitted-level-0);\n",
              "}\n",
              "\n",
              "#sk-container-id-6 div.sk-toggleable__content.fitted pre {\n",
              "  /* unfitted */\n",
              "  background-color: var(--sklearn-color-fitted-level-0);\n",
              "}\n",
              "\n",
              "#sk-container-id-6 input.sk-toggleable__control:checked~div.sk-toggleable__content {\n",
              "  /* Expand drop-down */\n",
              "  max-height: 200px;\n",
              "  max-width: 100%;\n",
              "  overflow: auto;\n",
              "}\n",
              "\n",
              "#sk-container-id-6 input.sk-toggleable__control:checked~label.sk-toggleable__label-arrow:before {\n",
              "  content: \"▾\";\n",
              "}\n",
              "\n",
              "/* Pipeline/ColumnTransformer-specific style */\n",
              "\n",
              "#sk-container-id-6 div.sk-label input.sk-toggleable__control:checked~label.sk-toggleable__label {\n",
              "  color: var(--sklearn-color-text);\n",
              "  background-color: var(--sklearn-color-unfitted-level-2);\n",
              "}\n",
              "\n",
              "#sk-container-id-6 div.sk-label.fitted input.sk-toggleable__control:checked~label.sk-toggleable__label {\n",
              "  background-color: var(--sklearn-color-fitted-level-2);\n",
              "}\n",
              "\n",
              "/* Estimator-specific style */\n",
              "\n",
              "/* Colorize estimator box */\n",
              "#sk-container-id-6 div.sk-estimator input.sk-toggleable__control:checked~label.sk-toggleable__label {\n",
              "  /* unfitted */\n",
              "  background-color: var(--sklearn-color-unfitted-level-2);\n",
              "}\n",
              "\n",
              "#sk-container-id-6 div.sk-estimator.fitted input.sk-toggleable__control:checked~label.sk-toggleable__label {\n",
              "  /* fitted */\n",
              "  background-color: var(--sklearn-color-fitted-level-2);\n",
              "}\n",
              "\n",
              "#sk-container-id-6 div.sk-label label.sk-toggleable__label,\n",
              "#sk-container-id-6 div.sk-label label {\n",
              "  /* The background is the default theme color */\n",
              "  color: var(--sklearn-color-text-on-default-background);\n",
              "}\n",
              "\n",
              "/* On hover, darken the color of the background */\n",
              "#sk-container-id-6 div.sk-label:hover label.sk-toggleable__label {\n",
              "  color: var(--sklearn-color-text);\n",
              "  background-color: var(--sklearn-color-unfitted-level-2);\n",
              "}\n",
              "\n",
              "/* Label box, darken color on hover, fitted */\n",
              "#sk-container-id-6 div.sk-label.fitted:hover label.sk-toggleable__label.fitted {\n",
              "  color: var(--sklearn-color-text);\n",
              "  background-color: var(--sklearn-color-fitted-level-2);\n",
              "}\n",
              "\n",
              "/* Estimator label */\n",
              "\n",
              "#sk-container-id-6 div.sk-label label {\n",
              "  font-family: monospace;\n",
              "  font-weight: bold;\n",
              "  display: inline-block;\n",
              "  line-height: 1.2em;\n",
              "}\n",
              "\n",
              "#sk-container-id-6 div.sk-label-container {\n",
              "  text-align: center;\n",
              "}\n",
              "\n",
              "/* Estimator-specific */\n",
              "#sk-container-id-6 div.sk-estimator {\n",
              "  font-family: monospace;\n",
              "  border: 1px dotted var(--sklearn-color-border-box);\n",
              "  border-radius: 0.25em;\n",
              "  box-sizing: border-box;\n",
              "  margin-bottom: 0.5em;\n",
              "  /* unfitted */\n",
              "  background-color: var(--sklearn-color-unfitted-level-0);\n",
              "}\n",
              "\n",
              "#sk-container-id-6 div.sk-estimator.fitted {\n",
              "  /* fitted */\n",
              "  background-color: var(--sklearn-color-fitted-level-0);\n",
              "}\n",
              "\n",
              "/* on hover */\n",
              "#sk-container-id-6 div.sk-estimator:hover {\n",
              "  /* unfitted */\n",
              "  background-color: var(--sklearn-color-unfitted-level-2);\n",
              "}\n",
              "\n",
              "#sk-container-id-6 div.sk-estimator.fitted:hover {\n",
              "  /* fitted */\n",
              "  background-color: var(--sklearn-color-fitted-level-2);\n",
              "}\n",
              "\n",
              "/* Specification for estimator info (e.g. \"i\" and \"?\") */\n",
              "\n",
              "/* Common style for \"i\" and \"?\" */\n",
              "\n",
              ".sk-estimator-doc-link,\n",
              "a:link.sk-estimator-doc-link,\n",
              "a:visited.sk-estimator-doc-link {\n",
              "  float: right;\n",
              "  font-size: smaller;\n",
              "  line-height: 1em;\n",
              "  font-family: monospace;\n",
              "  background-color: var(--sklearn-color-background);\n",
              "  border-radius: 1em;\n",
              "  height: 1em;\n",
              "  width: 1em;\n",
              "  text-decoration: none !important;\n",
              "  margin-left: 0.5em;\n",
              "  text-align: center;\n",
              "  /* unfitted */\n",
              "  border: var(--sklearn-color-unfitted-level-1) 1pt solid;\n",
              "  color: var(--sklearn-color-unfitted-level-1);\n",
              "}\n",
              "\n",
              ".sk-estimator-doc-link.fitted,\n",
              "a:link.sk-estimator-doc-link.fitted,\n",
              "a:visited.sk-estimator-doc-link.fitted {\n",
              "  /* fitted */\n",
              "  border: var(--sklearn-color-fitted-level-1) 1pt solid;\n",
              "  color: var(--sklearn-color-fitted-level-1);\n",
              "}\n",
              "\n",
              "/* On hover */\n",
              "div.sk-estimator:hover .sk-estimator-doc-link:hover,\n",
              ".sk-estimator-doc-link:hover,\n",
              "div.sk-label-container:hover .sk-estimator-doc-link:hover,\n",
              ".sk-estimator-doc-link:hover {\n",
              "  /* unfitted */\n",
              "  background-color: var(--sklearn-color-unfitted-level-3);\n",
              "  color: var(--sklearn-color-background);\n",
              "  text-decoration: none;\n",
              "}\n",
              "\n",
              "div.sk-estimator.fitted:hover .sk-estimator-doc-link.fitted:hover,\n",
              ".sk-estimator-doc-link.fitted:hover,\n",
              "div.sk-label-container:hover .sk-estimator-doc-link.fitted:hover,\n",
              ".sk-estimator-doc-link.fitted:hover {\n",
              "  /* fitted */\n",
              "  background-color: var(--sklearn-color-fitted-level-3);\n",
              "  color: var(--sklearn-color-background);\n",
              "  text-decoration: none;\n",
              "}\n",
              "\n",
              "/* Span, style for the box shown on hovering the info icon */\n",
              ".sk-estimator-doc-link span {\n",
              "  display: none;\n",
              "  z-index: 9999;\n",
              "  position: relative;\n",
              "  font-weight: normal;\n",
              "  right: .2ex;\n",
              "  padding: .5ex;\n",
              "  margin: .5ex;\n",
              "  width: min-content;\n",
              "  min-width: 20ex;\n",
              "  max-width: 50ex;\n",
              "  color: var(--sklearn-color-text);\n",
              "  box-shadow: 2pt 2pt 4pt #999;\n",
              "  /* unfitted */\n",
              "  background: var(--sklearn-color-unfitted-level-0);\n",
              "  border: .5pt solid var(--sklearn-color-unfitted-level-3);\n",
              "}\n",
              "\n",
              ".sk-estimator-doc-link.fitted span {\n",
              "  /* fitted */\n",
              "  background: var(--sklearn-color-fitted-level-0);\n",
              "  border: var(--sklearn-color-fitted-level-3);\n",
              "}\n",
              "\n",
              ".sk-estimator-doc-link:hover span {\n",
              "  display: block;\n",
              "}\n",
              "\n",
              "/* \"?\"-specific style due to the `<a>` HTML tag */\n",
              "\n",
              "#sk-container-id-6 a.estimator_doc_link {\n",
              "  float: right;\n",
              "  font-size: 1rem;\n",
              "  line-height: 1em;\n",
              "  font-family: monospace;\n",
              "  background-color: var(--sklearn-color-background);\n",
              "  border-radius: 1rem;\n",
              "  height: 1rem;\n",
              "  width: 1rem;\n",
              "  text-decoration: none;\n",
              "  /* unfitted */\n",
              "  color: var(--sklearn-color-unfitted-level-1);\n",
              "  border: var(--sklearn-color-unfitted-level-1) 1pt solid;\n",
              "}\n",
              "\n",
              "#sk-container-id-6 a.estimator_doc_link.fitted {\n",
              "  /* fitted */\n",
              "  border: var(--sklearn-color-fitted-level-1) 1pt solid;\n",
              "  color: var(--sklearn-color-fitted-level-1);\n",
              "}\n",
              "\n",
              "/* On hover */\n",
              "#sk-container-id-6 a.estimator_doc_link:hover {\n",
              "  /* unfitted */\n",
              "  background-color: var(--sklearn-color-unfitted-level-3);\n",
              "  color: var(--sklearn-color-background);\n",
              "  text-decoration: none;\n",
              "}\n",
              "\n",
              "#sk-container-id-6 a.estimator_doc_link.fitted:hover {\n",
              "  /* fitted */\n",
              "  background-color: var(--sklearn-color-fitted-level-3);\n",
              "}\n",
              "</style><div id=\"sk-container-id-6\" class=\"sk-top-container\"><div class=\"sk-text-repr-fallback\"><pre>KMeans(n_clusters=4, random_state=42)</pre><b>In a Jupyter environment, please rerun this cell to show the HTML representation or trust the notebook. <br />On GitHub, the HTML representation is unable to render, please try loading this page with nbviewer.org.</b></div><div class=\"sk-container\" hidden><div class=\"sk-item\"><div class=\"sk-estimator fitted sk-toggleable\"><input class=\"sk-toggleable__control sk-hidden--visually\" id=\"sk-estimator-id-6\" type=\"checkbox\" checked><label for=\"sk-estimator-id-6\" class=\"sk-toggleable__label fitted sk-toggleable__label-arrow\"><div><div>KMeans</div></div><div><a class=\"sk-estimator-doc-link fitted\" rel=\"noreferrer\" target=\"_blank\" href=\"https://scikit-learn.org/1.6/modules/generated/sklearn.cluster.KMeans.html\">?<span>Documentation for KMeans</span></a><span class=\"sk-estimator-doc-link fitted\">i<span>Fitted</span></span></div></label><div class=\"sk-toggleable__content fitted\"><pre>KMeans(n_clusters=4, random_state=42)</pre></div> </div></div></div></div>"
            ],
            "text/plain": [
              "KMeans(n_clusters=4, random_state=42)"
            ]
          },
          "execution_count": 870,
          "metadata": {},
          "output_type": "execute_result"
        }
      ],
      "source": [
        "# Entrenar el modelo de kmeans\n",
        "kmeans = KMeans(n_clusters = 4 , n_init = 'auto' , random_state = 42)\n",
        "kmeans.fit(model_df_scaled)"
      ]
    },
    {
      "cell_type": "markdown",
      "metadata": {
        "id": "_ZBua2UOIXDq"
      },
      "source": [
        "### Interpretación"
      ]
    },
    {
      "cell_type": "markdown",
      "metadata": {
        "id": "T9CqYwM_IZ-M"
      },
      "source": [
        "Los resultados de K-Means se interpretan con los centros de los cluster y la intuición para saber qué significan."
      ]
    },
    {
      "cell_type": "code",
      "execution_count": 871,
      "metadata": {
        "colab": {
          "base_uri": "https://localhost:8080/",
          "height": 617
        },
        "id": "BEBJeF__O0VT",
        "outputId": "cbb93b45-d383-42e1-f992-70d83f63bb35"
      },
      "outputs": [
        {
          "data": {
            "text/plain": [
              "0     2\n",
              "1     2\n",
              "2     3\n",
              "3     2\n",
              "4     2\n",
              "5     3\n",
              "6     0\n",
              "7     0\n",
              "8     0\n",
              "9     0\n",
              "10    0\n",
              "11    3\n",
              "12    3\n",
              "13    2\n",
              "14    1\n",
              "15    0\n",
              "16    0\n",
              "Name: cluster, dtype: int32"
            ]
          },
          "execution_count": 871,
          "metadata": {},
          "output_type": "execute_result"
        }
      ],
      "source": [
        "# ver las etiquetas\n",
        "clusters = pd.Series( kmeans.labels_ , name=\"cluster\" )\n",
        "clusters"
      ]
    },
    {
      "cell_type": "code",
      "execution_count": 872,
      "metadata": {
        "colab": {
          "base_uri": "https://localhost:8080/"
        },
        "id": "ukbTL4p4JEg2",
        "outputId": "455073c3-6665-4ec9-e8b4-d436e63789ec"
      },
      "outputs": [
        {
          "data": {
            "text/plain": [
              "['RME_Crimen Organizado',\n",
              " 'RME_Delitos Sexuales',\n",
              " 'RME_Delitos Violentos',\n",
              " 'RME_Robos y Hurtos',\n",
              " 'RME_Violencia Familiar']"
            ]
          },
          "execution_count": 872,
          "metadata": {},
          "output_type": "execute_result"
        }
      ],
      "source": [
        "model_df_scaled.columns.to_list()"
      ]
    },
    {
      "cell_type": "code",
      "execution_count": 873,
      "metadata": {
        "colab": {
          "base_uri": "https://localhost:8080/",
          "height": 195
        },
        "id": "XfBf23hnI_SK",
        "outputId": "7bfbd441-4129-4ab6-f6b4-4e87d6dac264"
      },
      "outputs": [
        {
          "data": {
            "text/html": [
              "<div>\n",
              "<style scoped>\n",
              "    .dataframe tbody tr th:only-of-type {\n",
              "        vertical-align: middle;\n",
              "    }\n",
              "\n",
              "    .dataframe tbody tr th {\n",
              "        vertical-align: top;\n",
              "    }\n",
              "\n",
              "    .dataframe thead th {\n",
              "        text-align: right;\n",
              "    }\n",
              "</style>\n",
              "<table border=\"1\" class=\"dataframe\">\n",
              "  <thead>\n",
              "    <tr style=\"text-align: right;\">\n",
              "      <th></th>\n",
              "      <th>RME_Crimen Organizado</th>\n",
              "      <th>RME_Delitos Sexuales</th>\n",
              "      <th>RME_Delitos Violentos</th>\n",
              "      <th>RME_Robos y Hurtos</th>\n",
              "      <th>RME_Violencia Familiar</th>\n",
              "    </tr>\n",
              "  </thead>\n",
              "  <tbody>\n",
              "    <tr>\n",
              "      <th>0</th>\n",
              "      <td>0.635309</td>\n",
              "      <td>0.660230</td>\n",
              "      <td>0.578333</td>\n",
              "      <td>0.582969</td>\n",
              "      <td>0.663362</td>\n",
              "    </tr>\n",
              "    <tr>\n",
              "      <th>1</th>\n",
              "      <td>14.732974</td>\n",
              "      <td>4.315171</td>\n",
              "      <td>7.357547</td>\n",
              "      <td>9.340410</td>\n",
              "      <td>3.424297</td>\n",
              "    </tr>\n",
              "    <tr>\n",
              "      <th>2</th>\n",
              "      <td>0.989351</td>\n",
              "      <td>1.281187</td>\n",
              "      <td>1.238549</td>\n",
              "      <td>0.561009</td>\n",
              "      <td>1.550467</td>\n",
              "    </tr>\n",
              "    <tr>\n",
              "      <th>3</th>\n",
              "      <td>0.905127</td>\n",
              "      <td>0.935046</td>\n",
              "      <td>1.017970</td>\n",
              "      <td>1.652767</td>\n",
              "      <td>0.676078</td>\n",
              "    </tr>\n",
              "  </tbody>\n",
              "</table>\n",
              "</div>"
            ],
            "text/plain": [
              "   RME_Crimen Organizado  RME_Delitos Sexuales  RME_Delitos Violentos  \\\n",
              "0               0.635309              0.660230               0.578333   \n",
              "1              14.732974              4.315171               7.357547   \n",
              "2               0.989351              1.281187               1.238549   \n",
              "3               0.905127              0.935046               1.017970   \n",
              "\n",
              "   RME_Robos y Hurtos  RME_Violencia Familiar  \n",
              "0            0.582969                0.663362  \n",
              "1            9.340410                3.424297  \n",
              "2            0.561009                1.550467  \n",
              "3            1.652767                0.676078  "
            ]
          },
          "execution_count": 873,
          "metadata": {},
          "output_type": "execute_result"
        }
      ],
      "source": [
        "cluster_centers = pd.DataFrame ( kmeans.cluster_centers_ ,\n",
        "                                columns = model_df_scaled.columns )\n",
        "\n",
        "cluster_centers"
      ]
    },
    {
      "cell_type": "code",
      "execution_count": 874,
      "metadata": {
        "colab": {
          "base_uri": "https://localhost:8080/"
        },
        "id": "gC1pma7qLU4u",
        "outputId": "8da23b9f-b4b9-42ff-8355-7f9378281d2c"
      },
      "outputs": [
        {
          "data": {
            "text/plain": [
              "array([[ 0.63530865,  0.66022991,  0.57833284,  0.58296919,  0.66336205],\n",
              "       [14.73297354,  4.31517099,  7.35754683,  9.3404104 ,  3.42429659],\n",
              "       [ 0.9893513 ,  1.28118705,  1.23854861,  0.56100939,  1.55046686],\n",
              "       [ 0.90512707,  0.93504583,  1.01797045,  1.65276682,  0.67607802]])"
            ]
          },
          "execution_count": 874,
          "metadata": {},
          "output_type": "execute_result"
        }
      ],
      "source": [
        "kmeans.cluster_centers_"
      ]
    },
    {
      "cell_type": "code",
      "execution_count": 875,
      "metadata": {
        "colab": {
          "base_uri": "https://localhost:8080/",
          "height": 681
        },
        "id": "0HD_7F2BO0YM",
        "outputId": "9f6bc7ac-3b4d-4f6b-b25f-9504f2762ee7"
      },
      "outputs": [
        {
          "data": {
            "image/png": "[encoded data removed]",
            "text/plain": [
              "<Figure size 640x480 with 2 Axes>"
            ]
          },
          "metadata": {},
          "output_type": "display_data"
        }
      ],
      "source": [
        "sns.heatmap( cluster_centers , cmap='RdBu', annot = True) ;"
      ]
    },
    {
      "cell_type": "code",
      "execution_count": 876,
      "metadata": {
        "colab": {
          "base_uri": "https://localhost:8080/"
        },
        "id": "w8rEk6LxaJi2",
        "outputId": "5d9e3340-f4b0-4712-ebd3-604022065e38"
      },
      "outputs": [
        {
          "name": "stdout",
          "output_type": "stream",
          "text": [
            "Silueta con Normalización: 0.479\n"
          ]
        }
      ],
      "source": [
        "from sklearn.metrics import silhouette_score\n",
        "silhouette= np.round( silhouette_score(model_df_scaled, kmeans.labels_) , 3)\n",
        "#silhouette_std = silhouette_score(datos_estandarizados, kmeans_std.labels_)\n",
        "\n",
        "print(f\"Silueta con Normalización: {silhouette}\")\n",
        "#print(f\"Silueta con Estandarización: {silhouette_std}\")\n"
      ]
    },
    {
      "cell_type": "markdown",
      "metadata": {
        "id": "HNCXmuL-IPTS"
      },
      "source": [
        "### **Ajustar modelo KMEANS**\n",
        "\n",
        "Volver a preprocesamiento de datos para:\n",
        "\n",
        "- Limpieza: Remover valoresa atípicos.\n",
        "- Nuevas características.\n",
        "- Seleccion de caractericas mas relevantes.\n",
        "- Escalar datos si no se ha hecho.\n",
        "\n",
        "\n",
        "Volver a modelo para:\n",
        "- Intentar con un  número diferente de cluster si cada vez que se corrre el modelo los cluster son diferentes. Esto puede suceder ya que kmeans  asigne d manera aleatoria los centroides en la primera iteracción.\n",
        "\n",
        "- Probar otros modelos de clustering como  el Jerarquico.\n"
      ]
    },
    {
      "cell_type": "markdown",
      "metadata": {
        "id": "naO7Xrfkpmaa"
      },
      "source": [
        "### **Seleccionar mejor modelo**"
      ]
    },
    {
      "cell_type": "markdown",
      "metadata": {
        "id": "sMV-4MdlpvpT"
      },
      "source": [
        "Seleccionar el modelo que tenga mas sentido al atrapar patrones que ayuden a resolver el problema de negocio.\n",
        "\n",
        "En clustering la guia  no es unicamente metricas(inercia, silueta) , también es crucial la experticia en el área.\n",
        "\n",
        "> Mejor modelo ==>> Experticia en el área > Metricas\n",
        "\n",
        "Es decir, puede que el gráfico de codo inidque que lo mejor son 4 clusters, pero si con 3 clusters se dan mejores sugerencias de negocio se elige 3 :)\n",
        "\n",
        "\n",
        "\n"
      ]
    },
    {
      "cell_type": "code",
      "execution_count": 877,
      "metadata": {
        "colab": {
          "base_uri": "https://localhost:8080/",
          "height": 167
        },
        "id": "ssF2YzCas3CP",
        "outputId": "693e7b94-9a1b-4da3-c278-c809b5936b9a"
      },
      "outputs": [
        {
          "data": {
            "text/html": [
              "<div>\n",
              "<style scoped>\n",
              "    .dataframe tbody tr th:only-of-type {\n",
              "        vertical-align: middle;\n",
              "    }\n",
              "\n",
              "    .dataframe tbody tr th {\n",
              "        vertical-align: top;\n",
              "    }\n",
              "\n",
              "    .dataframe thead th {\n",
              "        text-align: right;\n",
              "    }\n",
              "</style>\n",
              "<table border=\"1\" class=\"dataframe\">\n",
              "  <thead>\n",
              "    <tr style=\"text-align: right;\">\n",
              "      <th></th>\n",
              "      <th>num_com</th>\n",
              "      <th>nombre_com</th>\n",
              "      <th>Crimen Organizado</th>\n",
              "      <th>Delitos Sexuales</th>\n",
              "      <th>Delitos Violentos</th>\n",
              "      <th>Robos y Hurtos</th>\n",
              "      <th>Violencia Familiar</th>\n",
              "      <th>manzanas</th>\n",
              "      <th>personas</th>\n",
              "      <th>area</th>\n",
              "      <th>...</th>\n",
              "      <th>RME_Crimen Organizado</th>\n",
              "      <th>expected_Delitos Sexuales</th>\n",
              "      <th>RME_Delitos Sexuales</th>\n",
              "      <th>expected_Delitos Violentos</th>\n",
              "      <th>RME_Delitos Violentos</th>\n",
              "      <th>expected_Robos y Hurtos</th>\n",
              "      <th>RME_Robos y Hurtos</th>\n",
              "      <th>expected_Violencia Familiar</th>\n",
              "      <th>RME_Violencia Familiar</th>\n",
              "      <th>cluster</th>\n",
              "    </tr>\n",
              "  </thead>\n",
              "  <tbody>\n",
              "    <tr>\n",
              "      <th>0</th>\n",
              "      <td>1</td>\n",
              "      <td>Comuna Norte</td>\n",
              "      <td>53.625</td>\n",
              "      <td>68.250</td>\n",
              "      <td>281.375</td>\n",
              "      <td>441.500</td>\n",
              "      <td>319.5</td>\n",
              "      <td>667</td>\n",
              "      <td>72591</td>\n",
              "      <td>4326768.342</td>\n",
              "      <td>...</td>\n",
              "      <td>0.817782</td>\n",
              "      <td>49.780845</td>\n",
              "      <td>1.371009</td>\n",
              "      <td>253.441887</td>\n",
              "      <td>1.110215</td>\n",
              "      <td>900.904275</td>\n",
              "      <td>0.490063</td>\n",
              "      <td>199.034405</td>\n",
              "      <td>1.605250</td>\n",
              "      <td>2</td>\n",
              "    </tr>\n",
              "    <tr>\n",
              "      <th>1</th>\n",
              "      <td>2</td>\n",
              "      <td>Comuna Nororiental</td>\n",
              "      <td>20.250</td>\n",
              "      <td>31.125</td>\n",
              "      <td>134.625</td>\n",
              "      <td>174.375</td>\n",
              "      <td>149.5</td>\n",
              "      <td>515</td>\n",
              "      <td>32910</td>\n",
              "      <td>1371355.042</td>\n",
              "      <td>...</td>\n",
              "      <td>0.681162</td>\n",
              "      <td>22.568743</td>\n",
              "      <td>1.379120</td>\n",
              "      <td>114.900918</td>\n",
              "      <td>1.171662</td>\n",
              "      <td>408.435752</td>\n",
              "      <td>0.426934</td>\n",
              "      <td>90.234633</td>\n",
              "      <td>1.656792</td>\n",
              "      <td>2</td>\n",
              "    </tr>\n",
              "  </tbody>\n",
              "</table>\n",
              "<p>2 rows × 33 columns</p>\n",
              "</div>"
            ],
            "text/plain": [
              "   num_com          nombre_com  Crimen Organizado  Delitos Sexuales  \\\n",
              "0        1        Comuna Norte             53.625            68.250   \n",
              "1        2  Comuna Nororiental             20.250            31.125   \n",
              "\n",
              "   Delitos Violentos  Robos y Hurtos  Violencia Familiar  manzanas  personas  \\\n",
              "0            281.375         441.500               319.5       667     72591   \n",
              "1            134.625         174.375               149.5       515     32910   \n",
              "\n",
              "          area  ...  RME_Crimen Organizado  expected_Delitos Sexuales  \\\n",
              "0  4326768.342  ...               0.817782                  49.780845   \n",
              "1  1371355.042  ...               0.681162                  22.568743   \n",
              "\n",
              "   RME_Delitos Sexuales  expected_Delitos Violentos  RME_Delitos Violentos  \\\n",
              "0              1.371009                  253.441887               1.110215   \n",
              "1              1.379120                  114.900918               1.171662   \n",
              "\n",
              "   expected_Robos y Hurtos  RME_Robos y Hurtos  expected_Violencia Familiar  \\\n",
              "0               900.904275            0.490063                   199.034405   \n",
              "1               408.435752            0.426934                    90.234633   \n",
              "\n",
              "   RME_Violencia Familiar  cluster  \n",
              "0                1.605250        2  \n",
              "1                1.656792        2  \n",
              "\n",
              "[2 rows x 33 columns]"
            ]
          },
          "execution_count": 877,
          "metadata": {},
          "output_type": "execute_result"
        }
      ],
      "source": [
        "df_pivot_with_clusters = pd.concat( [identificadores , df_model , clusters ] , axis=1 )\n",
        "df_pivot_with_clusters.head(2)"
      ]
    },
    {
      "cell_type": "markdown",
      "metadata": {
        "id": "pnGw71DBV7WB"
      },
      "source": [
        "### Preparar geojson con propiedades"
      ]
    },
    {
      "cell_type": "code",
      "execution_count": 878,
      "metadata": {
        "colab": {
          "base_uri": "https://localhost:8080/",
          "height": 949
        },
        "id": "rxahYwb5WB8g",
        "outputId": "99f31f1e-ad25-46d2-aaa9-66b164b27201"
      },
      "outputs": [
        {
          "data": {
            "text/html": [
              "<div>\n",
              "<style scoped>\n",
              "    .dataframe tbody tr th:only-of-type {\n",
              "        vertical-align: middle;\n",
              "    }\n",
              "\n",
              "    .dataframe tbody tr th {\n",
              "        vertical-align: top;\n",
              "    }\n",
              "\n",
              "    .dataframe thead th {\n",
              "        text-align: right;\n",
              "    }\n",
              "</style>\n",
              "<table border=\"1\" class=\"dataframe\">\n",
              "  <thead>\n",
              "    <tr style=\"text-align: right;\">\n",
              "      <th></th>\n",
              "      <th>num_com</th>\n",
              "      <th>nombre_com</th>\n",
              "      <th>Crimen Organizado</th>\n",
              "      <th>Delitos Sexuales</th>\n",
              "      <th>Delitos Violentos</th>\n",
              "      <th>Robos y Hurtos</th>\n",
              "      <th>Violencia Familiar</th>\n",
              "      <th>manzanas</th>\n",
              "      <th>personas</th>\n",
              "      <th>area</th>\n",
              "      <th>...</th>\n",
              "      <th>RME_Crimen Organizado</th>\n",
              "      <th>expected_Delitos Sexuales</th>\n",
              "      <th>RME_Delitos Sexuales</th>\n",
              "      <th>expected_Delitos Violentos</th>\n",
              "      <th>RME_Delitos Violentos</th>\n",
              "      <th>expected_Robos y Hurtos</th>\n",
              "      <th>RME_Robos y Hurtos</th>\n",
              "      <th>expected_Violencia Familiar</th>\n",
              "      <th>RME_Violencia Familiar</th>\n",
              "      <th>cluster</th>\n",
              "    </tr>\n",
              "  </thead>\n",
              "  <tbody>\n",
              "    <tr>\n",
              "      <th>0</th>\n",
              "      <td>1</td>\n",
              "      <td>Comuna Norte</td>\n",
              "      <td>53.625</td>\n",
              "      <td>68.250</td>\n",
              "      <td>281.375</td>\n",
              "      <td>441.500</td>\n",
              "      <td>319.500</td>\n",
              "      <td>667</td>\n",
              "      <td>72591</td>\n",
              "      <td>4.326768e+06</td>\n",
              "      <td>...</td>\n",
              "      <td>0.817782</td>\n",
              "      <td>49.780845</td>\n",
              "      <td>1.371009</td>\n",
              "      <td>253.441887</td>\n",
              "      <td>1.110215</td>\n",
              "      <td>900.904275</td>\n",
              "      <td>0.490063</td>\n",
              "      <td>199.034405</td>\n",
              "      <td>1.605250</td>\n",
              "      <td>2</td>\n",
              "    </tr>\n",
              "    <tr>\n",
              "      <th>1</th>\n",
              "      <td>2</td>\n",
              "      <td>Comuna Nororiental</td>\n",
              "      <td>20.250</td>\n",
              "      <td>31.125</td>\n",
              "      <td>134.625</td>\n",
              "      <td>174.375</td>\n",
              "      <td>149.500</td>\n",
              "      <td>515</td>\n",
              "      <td>32910</td>\n",
              "      <td>1.371355e+06</td>\n",
              "      <td>...</td>\n",
              "      <td>0.681162</td>\n",
              "      <td>22.568743</td>\n",
              "      <td>1.379120</td>\n",
              "      <td>114.900918</td>\n",
              "      <td>1.171662</td>\n",
              "      <td>408.435752</td>\n",
              "      <td>0.426934</td>\n",
              "      <td>90.234633</td>\n",
              "      <td>1.656792</td>\n",
              "      <td>2</td>\n",
              "    </tr>\n",
              "    <tr>\n",
              "      <th>2</th>\n",
              "      <td>3</td>\n",
              "      <td>Comuna San Francisco</td>\n",
              "      <td>52.375</td>\n",
              "      <td>44.750</td>\n",
              "      <td>216.375</td>\n",
              "      <td>999.500</td>\n",
              "      <td>145.625</td>\n",
              "      <td>339</td>\n",
              "      <td>51781</td>\n",
              "      <td>2.734584e+06</td>\n",
              "      <td>...</td>\n",
              "      <td>1.119713</td>\n",
              "      <td>35.509938</td>\n",
              "      <td>1.260211</td>\n",
              "      <td>180.786521</td>\n",
              "      <td>1.196854</td>\n",
              "      <td>642.637852</td>\n",
              "      <td>1.555308</td>\n",
              "      <td>141.976285</td>\n",
              "      <td>1.025699</td>\n",
              "      <td>3</td>\n",
              "    </tr>\n",
              "    <tr>\n",
              "      <th>3</th>\n",
              "      <td>4</td>\n",
              "      <td>Comuna Occidental</td>\n",
              "      <td>40.625</td>\n",
              "      <td>37.000</td>\n",
              "      <td>202.000</td>\n",
              "      <td>382.375</td>\n",
              "      <td>171.500</td>\n",
              "      <td>410</td>\n",
              "      <td>37339</td>\n",
              "      <td>1.378682e+07</td>\n",
              "      <td>...</td>\n",
              "      <td>1.204436</td>\n",
              "      <td>25.606025</td>\n",
              "      <td>1.444972</td>\n",
              "      <td>130.364186</td>\n",
              "      <td>1.549505</td>\n",
              "      <td>463.402691</td>\n",
              "      <td>0.825146</td>\n",
              "      <td>102.378334</td>\n",
              "      <td>1.675159</td>\n",
              "      <td>2</td>\n",
              "    </tr>\n",
              "    <tr>\n",
              "      <th>4</th>\n",
              "      <td>5</td>\n",
              "      <td>Comuna Garcia Rovira</td>\n",
              "      <td>43.000</td>\n",
              "      <td>27.500</td>\n",
              "      <td>178.500</td>\n",
              "      <td>277.000</td>\n",
              "      <td>152.125</td>\n",
              "      <td>251</td>\n",
              "      <td>38339</td>\n",
              "      <td>5.688166e+06</td>\n",
              "      <td>...</td>\n",
              "      <td>1.241597</td>\n",
              "      <td>26.291797</td>\n",
              "      <td>1.045954</td>\n",
              "      <td>133.855554</td>\n",
              "      <td>1.333527</td>\n",
              "      <td>475.813379</td>\n",
              "      <td>0.582161</td>\n",
              "      <td>105.120194</td>\n",
              "      <td>1.447153</td>\n",
              "      <td>2</td>\n",
              "    </tr>\n",
              "    <tr>\n",
              "      <th>5</th>\n",
              "      <td>6</td>\n",
              "      <td>Comuna La Concordia</td>\n",
              "      <td>23.375</td>\n",
              "      <td>21.500</td>\n",
              "      <td>123.250</td>\n",
              "      <td>629.750</td>\n",
              "      <td>55.250</td>\n",
              "      <td>211</td>\n",
              "      <td>29962</td>\n",
              "      <td>1.928794e+06</td>\n",
              "      <td>...</td>\n",
              "      <td>0.863642</td>\n",
              "      <td>20.547088</td>\n",
              "      <td>1.046377</td>\n",
              "      <td>104.608365</td>\n",
              "      <td>1.178204</td>\n",
              "      <td>371.849043</td>\n",
              "      <td>1.693564</td>\n",
              "      <td>82.151628</td>\n",
              "      <td>0.672537</td>\n",
              "      <td>3</td>\n",
              "    </tr>\n",
              "    <tr>\n",
              "      <th>6</th>\n",
              "      <td>7</td>\n",
              "      <td>Comuna Ciudadela Real de Minas</td>\n",
              "      <td>17.500</td>\n",
              "      <td>9.500</td>\n",
              "      <td>38.750</td>\n",
              "      <td>209.750</td>\n",
              "      <td>35.000</td>\n",
              "      <td>126</td>\n",
              "      <td>30544</td>\n",
              "      <td>1.079359e+06</td>\n",
              "      <td>...</td>\n",
              "      <td>0.634257</td>\n",
              "      <td>20.946207</td>\n",
              "      <td>0.453543</td>\n",
              "      <td>106.640341</td>\n",
              "      <td>0.363371</td>\n",
              "      <td>379.072064</td>\n",
              "      <td>0.553325</td>\n",
              "      <td>83.747391</td>\n",
              "      <td>0.417923</td>\n",
              "      <td>0</td>\n",
              "    </tr>\n",
              "    <tr>\n",
              "      <th>7</th>\n",
              "      <td>8</td>\n",
              "      <td>Comuna Suroccidente</td>\n",
              "      <td>13.250</td>\n",
              "      <td>11.375</td>\n",
              "      <td>56.000</td>\n",
              "      <td>115.500</td>\n",
              "      <td>46.875</td>\n",
              "      <td>154</td>\n",
              "      <td>18788</td>\n",
              "      <td>1.057978e+06</td>\n",
              "      <td>...</td>\n",
              "      <td>0.780708</td>\n",
              "      <td>12.884276</td>\n",
              "      <td>0.882859</td>\n",
              "      <td>65.595820</td>\n",
              "      <td>0.853713</td>\n",
              "      <td>233.172012</td>\n",
              "      <td>0.495342</td>\n",
              "      <td>51.514077</td>\n",
              "      <td>0.909945</td>\n",
              "      <td>0</td>\n",
              "    </tr>\n",
              "    <tr>\n",
              "      <th>8</th>\n",
              "      <td>9</td>\n",
              "      <td>Comuna La Pedregosa</td>\n",
              "      <td>11.625</td>\n",
              "      <td>8.500</td>\n",
              "      <td>44.875</td>\n",
              "      <td>141.250</td>\n",
              "      <td>34.750</td>\n",
              "      <td>129</td>\n",
              "      <td>16513</td>\n",
              "      <td>8.925716e+05</td>\n",
              "      <td>...</td>\n",
              "      <td>0.779328</td>\n",
              "      <td>11.324146</td>\n",
              "      <td>0.750608</td>\n",
              "      <td>57.652958</td>\n",
              "      <td>0.778364</td>\n",
              "      <td>204.937696</td>\n",
              "      <td>0.689234</td>\n",
              "      <td>45.276344</td>\n",
              "      <td>0.767509</td>\n",
              "      <td>0</td>\n",
              "    </tr>\n",
              "    <tr>\n",
              "      <th>9</th>\n",
              "      <td>10</td>\n",
              "      <td>Comuna Provenza</td>\n",
              "      <td>22.750</td>\n",
              "      <td>24.250</td>\n",
              "      <td>96.625</td>\n",
              "      <td>406.125</td>\n",
              "      <td>92.000</td>\n",
              "      <td>450</td>\n",
              "      <td>56928</td>\n",
              "      <td>2.631933e+06</td>\n",
              "      <td>...</td>\n",
              "      <td>0.442393</td>\n",
              "      <td>39.039604</td>\n",
              "      <td>0.621164</td>\n",
              "      <td>198.756592</td>\n",
              "      <td>0.486147</td>\n",
              "      <td>706.515664</td>\n",
              "      <td>0.574828</td>\n",
              "      <td>156.088642</td>\n",
              "      <td>0.589409</td>\n",
              "      <td>0</td>\n",
              "    </tr>\n",
              "    <tr>\n",
              "      <th>10</th>\n",
              "      <td>11</td>\n",
              "      <td>Comuna Sur</td>\n",
              "      <td>20.250</td>\n",
              "      <td>20.125</td>\n",
              "      <td>76.750</td>\n",
              "      <td>203.250</td>\n",
              "      <td>84.500</td>\n",
              "      <td>1116</td>\n",
              "      <td>34278</td>\n",
              "      <td>3.296170e+06</td>\n",
              "      <td>...</td>\n",
              "      <td>0.653977</td>\n",
              "      <td>23.506878</td>\n",
              "      <td>0.856132</td>\n",
              "      <td>119.677109</td>\n",
              "      <td>0.641309</td>\n",
              "      <td>425.413574</td>\n",
              "      <td>0.477770</td>\n",
              "      <td>93.985498</td>\n",
              "      <td>0.899075</td>\n",
              "      <td>0</td>\n",
              "    </tr>\n",
              "    <tr>\n",
              "      <th>11</th>\n",
              "      <td>12</td>\n",
              "      <td>Comuna Cabecera del Llano</td>\n",
              "      <td>31.250</td>\n",
              "      <td>18.500</td>\n",
              "      <td>132.750</td>\n",
              "      <td>1027.500</td>\n",
              "      <td>51.250</td>\n",
              "      <td>260</td>\n",
              "      <td>40492</td>\n",
              "      <td>2.825578e+06</td>\n",
              "      <td>...</td>\n",
              "      <td>0.854346</td>\n",
              "      <td>27.768263</td>\n",
              "      <td>0.666228</td>\n",
              "      <td>141.372469</td>\n",
              "      <td>0.939009</td>\n",
              "      <td>502.533591</td>\n",
              "      <td>2.044639</td>\n",
              "      <td>111.023420</td>\n",
              "      <td>0.461614</td>\n",
              "      <td>3</td>\n",
              "    </tr>\n",
              "    <tr>\n",
              "      <th>12</th>\n",
              "      <td>13</td>\n",
              "      <td>Comuna Oriental</td>\n",
              "      <td>48.375</td>\n",
              "      <td>36.000</td>\n",
              "      <td>181.000</td>\n",
              "      <td>1118.625</td>\n",
              "      <td>102.125</td>\n",
              "      <td>315</td>\n",
              "      <td>68410</td>\n",
              "      <td>3.002325e+06</td>\n",
              "      <td>...</td>\n",
              "      <td>0.782807</td>\n",
              "      <td>46.913634</td>\n",
              "      <td>0.767368</td>\n",
              "      <td>238.844478</td>\n",
              "      <td>0.757815</td>\n",
              "      <td>849.015187</td>\n",
              "      <td>1.317556</td>\n",
              "      <td>187.570685</td>\n",
              "      <td>0.544461</td>\n",
              "      <td>3</td>\n",
              "    </tr>\n",
              "    <tr>\n",
              "      <th>13</th>\n",
              "      <td>14</td>\n",
              "      <td>Comuna Morrorico</td>\n",
              "      <td>18.125</td>\n",
              "      <td>16.000</td>\n",
              "      <td>71.875</td>\n",
              "      <td>119.500</td>\n",
              "      <td>75.125</td>\n",
              "      <td>170</td>\n",
              "      <td>20029</td>\n",
              "      <td>7.112813e+05</td>\n",
              "      <td>...</td>\n",
              "      <td>1.001779</td>\n",
              "      <td>13.735319</td>\n",
              "      <td>1.164880</td>\n",
              "      <td>69.928608</td>\n",
              "      <td>1.027834</td>\n",
              "      <td>248.573676</td>\n",
              "      <td>0.480743</td>\n",
              "      <td>54.916726</td>\n",
              "      <td>1.367980</td>\n",
              "      <td>2</td>\n",
              "    </tr>\n",
              "    <tr>\n",
              "      <th>14</th>\n",
              "      <td>15</td>\n",
              "      <td>Comuna Centro</td>\n",
              "      <td>107.375</td>\n",
              "      <td>23.875</td>\n",
              "      <td>207.250</td>\n",
              "      <td>935.250</td>\n",
              "      <td>75.750</td>\n",
              "      <td>129</td>\n",
              "      <td>8068</td>\n",
              "      <td>1.036568e+06</td>\n",
              "      <td>...</td>\n",
              "      <td>14.732974</td>\n",
              "      <td>5.532805</td>\n",
              "      <td>4.315171</td>\n",
              "      <td>28.168356</td>\n",
              "      <td>7.357547</td>\n",
              "      <td>100.129433</td>\n",
              "      <td>9.340410</td>\n",
              "      <td>22.121332</td>\n",
              "      <td>3.424297</td>\n",
              "      <td>1</td>\n",
              "    </tr>\n",
              "    <tr>\n",
              "      <th>15</th>\n",
              "      <td>16</td>\n",
              "      <td>Comuna Tejar</td>\n",
              "      <td>11.125</td>\n",
              "      <td>4.750</td>\n",
              "      <td>23.250</td>\n",
              "      <td>245.875</td>\n",
              "      <td>16.125</td>\n",
              "      <td>123</td>\n",
              "      <td>22699</td>\n",
              "      <td>1.943901e+06</td>\n",
              "      <td>...</td>\n",
              "      <td>0.542558</td>\n",
              "      <td>15.566329</td>\n",
              "      <td>0.305146</td>\n",
              "      <td>79.250560</td>\n",
              "      <td>0.293373</td>\n",
              "      <td>281.710214</td>\n",
              "      <td>0.872794</td>\n",
              "      <td>62.237494</td>\n",
              "      <td>0.259088</td>\n",
              "      <td>0</td>\n",
              "    </tr>\n",
              "    <tr>\n",
              "      <th>16</th>\n",
              "      <td>17</td>\n",
              "      <td>Comuna Mutis</td>\n",
              "      <td>17.875</td>\n",
              "      <td>16.625</td>\n",
              "      <td>71.125</td>\n",
              "      <td>167.000</td>\n",
              "      <td>70.750</td>\n",
              "      <td>188</td>\n",
              "      <td>32231</td>\n",
              "      <td>3.383157e+06</td>\n",
              "      <td>...</td>\n",
              "      <td>0.613939</td>\n",
              "      <td>22.103104</td>\n",
              "      <td>0.752157</td>\n",
              "      <td>112.530279</td>\n",
              "      <td>0.632052</td>\n",
              "      <td>400.008895</td>\n",
              "      <td>0.417491</td>\n",
              "      <td>88.372910</td>\n",
              "      <td>0.800585</td>\n",
              "      <td>0</td>\n",
              "    </tr>\n",
              "  </tbody>\n",
              "</table>\n",
              "<p>17 rows × 33 columns</p>\n",
              "</div>"
            ],
            "text/plain": [
              "    num_com                      nombre_com  Crimen Organizado  \\\n",
              "0         1                    Comuna Norte             53.625   \n",
              "1         2              Comuna Nororiental             20.250   \n",
              "2         3            Comuna San Francisco             52.375   \n",
              "3         4               Comuna Occidental             40.625   \n",
              "4         5            Comuna Garcia Rovira             43.000   \n",
              "5         6             Comuna La Concordia             23.375   \n",
              "6         7  Comuna Ciudadela Real de Minas             17.500   \n",
              "7         8             Comuna Suroccidente             13.250   \n",
              "8         9             Comuna La Pedregosa             11.625   \n",
              "9        10                 Comuna Provenza             22.750   \n",
              "10       11                      Comuna Sur             20.250   \n",
              "11       12       Comuna Cabecera del Llano             31.250   \n",
              "12       13                 Comuna Oriental             48.375   \n",
              "13       14                Comuna Morrorico             18.125   \n",
              "14       15                   Comuna Centro            107.375   \n",
              "15       16                    Comuna Tejar             11.125   \n",
              "16       17                    Comuna Mutis             17.875   \n",
              "\n",
              "    Delitos Sexuales  Delitos Violentos  Robos y Hurtos  Violencia Familiar  \\\n",
              "0             68.250            281.375         441.500             319.500   \n",
              "1             31.125            134.625         174.375             149.500   \n",
              "2             44.750            216.375         999.500             145.625   \n",
              "3             37.000            202.000         382.375             171.500   \n",
              "4             27.500            178.500         277.000             152.125   \n",
              "5             21.500            123.250         629.750              55.250   \n",
              "6              9.500             38.750         209.750              35.000   \n",
              "7             11.375             56.000         115.500              46.875   \n",
              "8              8.500             44.875         141.250              34.750   \n",
              "9             24.250             96.625         406.125              92.000   \n",
              "10            20.125             76.750         203.250              84.500   \n",
              "11            18.500            132.750        1027.500              51.250   \n",
              "12            36.000            181.000        1118.625             102.125   \n",
              "13            16.000             71.875         119.500              75.125   \n",
              "14            23.875            207.250         935.250              75.750   \n",
              "15             4.750             23.250         245.875              16.125   \n",
              "16            16.625             71.125         167.000              70.750   \n",
              "\n",
              "    manzanas  personas          area  ...  RME_Crimen Organizado  \\\n",
              "0        667     72591  4.326768e+06  ...               0.817782   \n",
              "1        515     32910  1.371355e+06  ...               0.681162   \n",
              "2        339     51781  2.734584e+06  ...               1.119713   \n",
              "3        410     37339  1.378682e+07  ...               1.204436   \n",
              "4        251     38339  5.688166e+06  ...               1.241597   \n",
              "5        211     29962  1.928794e+06  ...               0.863642   \n",
              "6        126     30544  1.079359e+06  ...               0.634257   \n",
              "7        154     18788  1.057978e+06  ...               0.780708   \n",
              "8        129     16513  8.925716e+05  ...               0.779328   \n",
              "9        450     56928  2.631933e+06  ...               0.442393   \n",
              "10      1116     34278  3.296170e+06  ...               0.653977   \n",
              "11       260     40492  2.825578e+06  ...               0.854346   \n",
              "12       315     68410  3.002325e+06  ...               0.782807   \n",
              "13       170     20029  7.112813e+05  ...               1.001779   \n",
              "14       129      8068  1.036568e+06  ...              14.732974   \n",
              "15       123     22699  1.943901e+06  ...               0.542558   \n",
              "16       188     32231  3.383157e+06  ...               0.613939   \n",
              "\n",
              "    expected_Delitos Sexuales  RME_Delitos Sexuales  \\\n",
              "0                   49.780845              1.371009   \n",
              "1                   22.568743              1.379120   \n",
              "2                   35.509938              1.260211   \n",
              "3                   25.606025              1.444972   \n",
              "4                   26.291797              1.045954   \n",
              "5                   20.547088              1.046377   \n",
              "6                   20.946207              0.453543   \n",
              "7                   12.884276              0.882859   \n",
              "8                   11.324146              0.750608   \n",
              "9                   39.039604              0.621164   \n",
              "10                  23.506878              0.856132   \n",
              "11                  27.768263              0.666228   \n",
              "12                  46.913634              0.767368   \n",
              "13                  13.735319              1.164880   \n",
              "14                   5.532805              4.315171   \n",
              "15                  15.566329              0.305146   \n",
              "16                  22.103104              0.752157   \n",
              "\n",
              "    expected_Delitos Violentos  RME_Delitos Violentos  \\\n",
              "0                   253.441887               1.110215   \n",
              "1                   114.900918               1.171662   \n",
              "2                   180.786521               1.196854   \n",
              "3                   130.364186               1.549505   \n",
              "4                   133.855554               1.333527   \n",
              "5                   104.608365               1.178204   \n",
              "6                   106.640341               0.363371   \n",
              "7                    65.595820               0.853713   \n",
              "8                    57.652958               0.778364   \n",
              "9                   198.756592               0.486147   \n",
              "10                  119.677109               0.641309   \n",
              "11                  141.372469               0.939009   \n",
              "12                  238.844478               0.757815   \n",
              "13                   69.928608               1.027834   \n",
              "14                   28.168356               7.357547   \n",
              "15                   79.250560               0.293373   \n",
              "16                  112.530279               0.632052   \n",
              "\n",
              "    expected_Robos y Hurtos  RME_Robos y Hurtos  expected_Violencia Familiar  \\\n",
              "0                900.904275            0.490063                   199.034405   \n",
              "1                408.435752            0.426934                    90.234633   \n",
              "2                642.637852            1.555308                   141.976285   \n",
              "3                463.402691            0.825146                   102.378334   \n",
              "4                475.813379            0.582161                   105.120194   \n",
              "5                371.849043            1.693564                    82.151628   \n",
              "6                379.072064            0.553325                    83.747391   \n",
              "7                233.172012            0.495342                    51.514077   \n",
              "8                204.937696            0.689234                    45.276344   \n",
              "9                706.515664            0.574828                   156.088642   \n",
              "10               425.413574            0.477770                    93.985498   \n",
              "11               502.533591            2.044639                   111.023420   \n",
              "12               849.015187            1.317556                   187.570685   \n",
              "13               248.573676            0.480743                    54.916726   \n",
              "14               100.129433            9.340410                    22.121332   \n",
              "15               281.710214            0.872794                    62.237494   \n",
              "16               400.008895            0.417491                    88.372910   \n",
              "\n",
              "    RME_Violencia Familiar  cluster  \n",
              "0                 1.605250        2  \n",
              "1                 1.656792        2  \n",
              "2                 1.025699        3  \n",
              "3                 1.675159        2  \n",
              "4                 1.447153        2  \n",
              "5                 0.672537        3  \n",
              "6                 0.417923        0  \n",
              "7                 0.909945        0  \n",
              "8                 0.767509        0  \n",
              "9                 0.589409        0  \n",
              "10                0.899075        0  \n",
              "11                0.461614        3  \n",
              "12                0.544461        3  \n",
              "13                1.367980        2  \n",
              "14                3.424297        1  \n",
              "15                0.259088        0  \n",
              "16                0.800585        0  \n",
              "\n",
              "[17 rows x 33 columns]"
            ]
          },
          "execution_count": 878,
          "metadata": {},
          "output_type": "execute_result"
        }
      ],
      "source": [
        "df_pivot_with_clusters"
      ]
    },
    {
      "cell_type": "code",
      "execution_count": 879,
      "metadata": {
        "id": "JAZAyDWdXlUz"
      },
      "outputs": [],
      "source": [
        "df_pivot_clusters_and_geo = ( df_pivot_with_clusters.merge(gdf[['cod_comuna','geometry']], how=\"left\",\n",
        "                             left_on = \"num_com\",\n",
        "                             right_on = \"cod_comuna\")\n",
        "                             .drop(columns=[\"cod_comuna\"])\n",
        "                              )\n",
        "\n",
        "\n",
        "# Asegurar que el DataFrame es un GeoDataFrame\n",
        "gdf_final = gpd.GeoDataFrame(df_pivot_clusters_and_geo, geometry=\"geometry\") # es una tabla aun\n",
        "\n",
        "# Convertir a GeoJSON\n",
        "geojson_data = gdf_final.to_json() # es una cadena de GeeoDatFrame, es decir, un GeoJSON"
      ]
    },
    {
      "cell_type": "markdown",
      "metadata": {
        "id": "O2L3L9Lly1FP"
      },
      "source": [
        "### Mapa de comunas por tipo  de crimenes\n"
      ]
    },
    {
      "cell_type": "code",
      "execution_count": 880,
      "metadata": {
        "colab": {
          "base_uri": "https://localhost:8080/",
          "height": 422
        },
        "id": "DUarIOLCZOBd",
        "outputId": "2c79a4d7-5ffd-4ea0-f3ad-9f2a372ab394"
      },
      "outputs": [
        {
          "data": {
            "text/html": [
              "<iframe srcdoc=\"&lt;!DOCTYPE html&gt;\n",
              "&lt;html&gt;\n",
              "&lt;head&gt;\n",
              "    \n",
              "    &lt;meta http-equiv=&quot;content-type&quot; content=&quot;text/html; charset=UTF-8&quot; /&gt;\n",
              "    \n",
              "        &lt;script&gt;\n",
              "            L_NO_TOUCH = false;\n",
              "            L_DISABLE_3D = false;\n",
              "        &lt;/script&gt;\n",
              "    \n",
              "    &lt;style&gt;html, body {width: 100%;height: 100%;margin: 0;padding: 0;}&lt;/style&gt;\n",
              "    &lt;style&gt;#map {position:absolute;top:0;bottom:0;right:0;left:0;}&lt;/style&gt;\n",
              "    &lt;script src=&quot;https://cdn.jsdelivr.net/npm/leaflet@1.9.3/dist/leaflet.js&quot;&gt;&lt;/script&gt;\n",
              "    &lt;script src=&quot;https://code.jquery.com/jquery-3.7.1.min.js&quot;&gt;&lt;/script&gt;\n",
              "    &lt;script src=&quot;https://cdn.jsdelivr.net/npm/bootstrap@5.2.2/dist/js/bootstrap.bundle.min.js&quot;&gt;&lt;/script&gt;\n",
              "    &lt;script src=&quot;https://cdnjs.cloudflare.com/ajax/libs/Leaflet.awesome-markers/2.0.2/leaflet.awesome-markers.js&quot;&gt;&lt;/script&gt;\n",
              "    &lt;link rel=&quot;stylesheet&quot; href=&quot;https://cdn.jsdelivr.net/npm/leaflet@1.9.3/dist/leaflet.css&quot;/&gt;\n",
              "    &lt;link rel=&quot;stylesheet&quot; href=&quot;https://cdn.jsdelivr.net/npm/bootstrap@5.2.2/dist/css/bootstrap.min.css&quot;/&gt;\n",
              "    &lt;link rel=&quot;stylesheet&quot; href=&quot;https://netdna.bootstrapcdn.com/bootstrap/3.0.0/css/bootstrap-glyphicons.css&quot;/&gt;\n",
              "    &lt;link rel=&quot;stylesheet&quot; href=&quot;https://cdn.jsdelivr.net/npm/@fortawesome/fontawesome-free@6.2.0/css/all.min.css&quot;/&gt;\n",
              "    &lt;link rel=&quot;stylesheet&quot; href=&quot;https://cdnjs.cloudflare.com/ajax/libs/Leaflet.awesome-markers/2.0.2/leaflet.awesome-markers.css&quot;/&gt;\n",
              "    &lt;link rel=&quot;stylesheet&quot; href=&quot;https://cdn.jsdelivr.net/gh/python-visualization/folium/folium/templates/leaflet.awesome.rotate.min.css&quot;/&gt;\n",
              "    \n",
              "            &lt;meta name=&quot;viewport&quot; content=&quot;width=device-width,\n",
              "                initial-scale=1.0, maximum-scale=1.0, user-scalable=no&quot; /&gt;\n",
              "            &lt;style&gt;\n",
              "                #map_ce58880249004b52b4e2100ed72724df {\n",
              "                    position: relative;\n",
              "                    width: 100.0%;\n",
              "                    height: 100.0%;\n",
              "                    left: 0.0%;\n",
              "                    top: 0.0%;\n",
              "                }\n",
              "                .leaflet-container { font-size: 1rem; }\n",
              "            &lt;/style&gt;\n",
              "        \n",
              "    \n",
              "                    &lt;style&gt;\n",
              "                        .foliumtooltip {\n",
              "                            \n",
              "                        }\n",
              "                       .foliumtooltip table{\n",
              "                            margin: auto;\n",
              "                        }\n",
              "                        .foliumtooltip tr{\n",
              "                            text-align: left;\n",
              "                        }\n",
              "                        .foliumtooltip th{\n",
              "                            padding: 2px; padding-right: 8px;\n",
              "                        }\n",
              "                    &lt;/style&gt;\n",
              "            \n",
              "    &lt;script src=&quot;https://cdn.jsdelivr.net/npm/leaflet.fullscreen@3.0.0/Control.FullScreen.min.js&quot;&gt;&lt;/script&gt;\n",
              "    &lt;link rel=&quot;stylesheet&quot; href=&quot;https://cdn.jsdelivr.net/npm/leaflet.fullscreen@3.0.0/Control.FullScreen.css&quot;/&gt;\n",
              "&lt;/head&gt;\n",
              "&lt;body&gt;\n",
              "    \n",
              "    \n",
              "&lt;div style=&quot;\n",
              "    position: fixed;\n",
              "    top: 10px; right: 10px;\n",
              "    background-color: rgba(255, 255, 255, 0.8);\n",
              "    border: 2px solid grey;\n",
              "    z-index: 9999;\n",
              "    font-size: 14px;\n",
              "    padding: 10px;&quot;&gt;\n",
              "  &lt;b&gt;Clusters&lt;/b&gt;&lt;br&gt;\n",
              "&lt;i style=&quot;background: #1f77b4; width: 12px; height: 12px; display: inline-block; margin-right: 8px;&quot;&gt;&lt;/i&gt;Cluster 0&lt;br&gt;&lt;i style=&quot;background: #ff7f0e; width: 12px; height: 12px; display: inline-block; margin-right: 8px;&quot;&gt;&lt;/i&gt;Cluster 1&lt;br&gt;&lt;i style=&quot;background: #2ca02c; width: 12px; height: 12px; display: inline-block; margin-right: 8px;&quot;&gt;&lt;/i&gt;Cluster 2&lt;br&gt;&lt;i style=&quot;background: #d62728; width: 12px; height: 12px; display: inline-block; margin-right: 8px;&quot;&gt;&lt;/i&gt;Cluster 3&lt;br&gt;&lt;/div&gt;\n",
              "    \n",
              "            &lt;div class=&quot;folium-map&quot; id=&quot;map_ce58880249004b52b4e2100ed72724df&quot; &gt;&lt;/div&gt;\n",
              "        \n",
              "&lt;/body&gt;\n",
              "&lt;script&gt;\n",
              "    \n",
              "    \n",
              "            var map_ce58880249004b52b4e2100ed72724df = L.map(\n",
              "                &quot;map_ce58880249004b52b4e2100ed72724df&quot;,\n",
              "                {\n",
              "                    center: [7.1254, -73.1198],\n",
              "                    crs: L.CRS.EPSG3857,\n",
              "                    ...{\n",
              "  &quot;zoom&quot;: 12,\n",
              "  &quot;zoomControl&quot;: true,\n",
              "  &quot;preferCanvas&quot;: false,\n",
              "}\n",
              "\n",
              "                }\n",
              "            );\n",
              "\n",
              "            \n",
              "\n",
              "        \n",
              "    \n",
              "            var tile_layer_f8e63a94c854e612afdd43d2ff9fea37 = L.tileLayer(\n",
              "                &quot;https://{s}.basemaps.cartocdn.com/light_all/{z}/{x}/{y}{r}.png&quot;,\n",
              "                {\n",
              "  &quot;minZoom&quot;: 0,\n",
              "  &quot;maxZoom&quot;: 20,\n",
              "  &quot;maxNativeZoom&quot;: 20,\n",
              "  &quot;noWrap&quot;: false,\n",
              "  &quot;attribution&quot;: &quot;Map tiles by CartoDB&quot;,\n",
              "  &quot;subdomains&quot;: &quot;abcd&quot;,\n",
              "  &quot;detectRetina&quot;: false,\n",
              "  &quot;tms&quot;: false,\n",
              "  &quot;opacity&quot;: 1,\n",
              "}\n",
              "\n",
              "            );\n",
              "        \n",
              "    \n",
              "            tile_layer_f8e63a94c854e612afdd43d2ff9fea37.addTo(map_ce58880249004b52b4e2100ed72724df);\n",
              "        \n",
              "    \n",
              "        function geo_json_2bcd478b1a1294ad456b483346cc7148_styler(feature) {\n",
              "            switch(feature.id) {\n",
              "                case &quot;0&quot;: case &quot;1&quot;: case &quot;3&quot;: case &quot;4&quot;: case &quot;13&quot;: \n",
              "                    return {&quot;color&quot;: &quot;black&quot;, &quot;fillColor&quot;: &quot;#2ca02c&quot;, &quot;fillOpacity&quot;: 0.6, &quot;weight&quot;: 1};\n",
              "                case &quot;2&quot;: case &quot;5&quot;: case &quot;11&quot;: case &quot;12&quot;: \n",
              "                    return {&quot;color&quot;: &quot;black&quot;, &quot;fillColor&quot;: &quot;#d62728&quot;, &quot;fillOpacity&quot;: 0.6, &quot;weight&quot;: 1};\n",
              "                case &quot;14&quot;: \n",
              "                    return {&quot;color&quot;: &quot;black&quot;, &quot;fillColor&quot;: &quot;#ff7f0e&quot;, &quot;fillOpacity&quot;: 0.6, &quot;weight&quot;: 1};\n",
              "                default:\n",
              "                    return {&quot;color&quot;: &quot;black&quot;, &quot;fillColor&quot;: &quot;#1f77b4&quot;, &quot;fillOpacity&quot;: 0.6, &quot;weight&quot;: 1};\n",
              "            }\n",
              "        }\n",
              "\n",
              "        function geo_json_2bcd478b1a1294ad456b483346cc7148_onEachFeature(feature, layer) {\n",
              "            layer.on({\n",
              "            });\n",
              "        };\n",
              "        var geo_json_2bcd478b1a1294ad456b483346cc7148 = L.geoJson(null, {\n",
              "                onEachFeature: geo_json_2bcd478b1a1294ad456b483346cc7148_onEachFeature,\n",
              "            \n",
              "                style: geo_json_2bcd478b1a1294ad456b483346cc7148_styler,\n",
              "            ...{\n",
              "}\n",
              "        });\n",
              "\n",
              "        function geo_json_2bcd478b1a1294ad456b483346cc7148_add (data) {\n",
              "            geo_json_2bcd478b1a1294ad456b483346cc7148\n",
              "                .addData(data);\n",
              "        }\n",
              "            geo_json_2bcd478b1a1294ad456b483346cc7148_add({&quot;features&quot;: [{&quot;geometry&quot;: {&quot;coordinates&quot;: [[[[-73.1417921558799, 7.17840023255256], [-73.141477220016, 7.17809152983122], [-73.1406148373433, 7.17813609356833], [-73.1402644943825, 7.1770754754409], [-73.1399231345745, 7.17703091159992], [-73.1391416002773, 7.1774498115329], [-73.1381085377006, 7.17757459016179], [-73.1379468409494, 7.1777706707952], [-73.1371563234994, 7.1774765498134], [-73.1370036099011, 7.17713786481095], [-73.1368508963028, 7.17709330097609], [-73.1365185196477, 7.17739633496718], [-73.1362849576738, 7.17732503286979], [-73.1357998674204, 7.17683483064771], [-73.13519799618, 7.1768704817362], [-73.1349285015948, 7.17709330097609], [-73.1338774727123, 7.17502553423838], [-73.1336528938913, 7.17397382168986], [-73.1341020515334, 7.17344796450437], [-73.1345961249397, 7.17329644621955], [-73.1349285015948, 7.172690372576], [-73.1354585076124, 7.17246755118068], [-73.1355752885993, 7.17223581681387], [-73.1353057940141, 7.17186147643372], [-73.134290697743, 7.17204864666227], [-73.1340301863107, 7.1709612756883], [-73.13440747873, 7.17088105969394], [-73.1335720455158, 7.17031954733781], [-73.1337606917254, 7.16998085701051], [-73.1337247591141, 7.169223259314], [-73.1340212031578, 7.16841218273645], [-73.1343805292715, 7.16868848371076], [-73.1348835858306, 7.16851022503684], [-73.1349644342061, 7.16813588159456], [-73.1353596929312, 7.16785066733684], [-73.1354944402238, 7.16730697716349], [-73.1369227615255, 7.16827848865646], [-73.1374348012375, 7.16808240393484], [-73.1383510828273, 7.16703958831564], [-73.1386026111068, 7.16650481014923], [-73.1390966845131, 7.16673654743174], [-73.1395278758495, 7.16673654743174], [-73.1398692356574, 7.16722676052561], [-73.1403722922165, 7.16712871794903], [-73.1411807759722, 7.16742284561548], [-73.1419712934223, 7.16698611052724], [-73.1424204510643, 7.16654046204651], [-73.1435074125581, 7.16655828799411], [-73.1440284354229, 7.16634437657692], [-73.1443338626195, 7.16561351181057], [-73.143794873449, 7.16432112612333], [-73.1439925028115, 7.16380417082242], [-73.1440284354229, 7.16088068843476], [-73.1433816484183, 7.15925850414678], [-73.1442260647854, 7.15791262159505], [-73.1443338626195, 7.15721739594031], [-73.144136233257, 7.15619238182483], [-73.1443697952309, 7.154873229836], [-73.1446842055803, 7.15440082988583], [-73.1458430322968, 7.15349168143611], [-73.1475767807952, 7.15301928005624], [-73.1483133993282, 7.15252013844455], [-73.1494722260447, 7.15138815455325], [-73.1505681706913, 7.14974810992212], [-73.1499213836867, 7.14894591203393], [-73.1487805232759, 7.14878547228724], [-73.147136606306, 7.14722563847992], [-73.1460226953537, 7.14664627028092], [-73.1455555714059, 7.14579950005338], [-73.1451962452923, 7.14553209860293], [-73.1439475870473, 7.1453360041065], [-73.1434984294053, 7.14486359429236], [-73.1423665521473, 7.14484576749736], [-73.14164789992, 7.14428422309897], [-73.1407585677887, 7.14397225369068], [-73.1403183932995, 7.14386529270169], [-73.1396716062949, 7.14480120050681], [-73.1385127795784, 7.14534491749452], [-73.1385397290369, 7.14563905920187], [-73.1382882007574, 7.14583515356828], [-73.1366981827045, 7.14624516878977], [-73.1357998674204, 7.14610255484141], [-73.1348117206078, 7.14541622459248], [-73.1336798433499, 7.1449349014654], [-73.1298620033923, 7.14541622459248], [-73.1296284414185, 7.14560340567168], [-73.1295475930429, 7.14599559435093], [-73.1302482789645, 7.14755543235741], [-73.1311376110958, 7.14882112556915], [-73.1322245725896, 7.14955201723509], [-73.1324491514106, 7.15055921968773], [-73.1322605052009, 7.1505770462598], [-73.1307513355236, 7.14981941633288], [-73.1310926953316, 7.14909743840961], [-73.1292421658463, 7.148384372674], [-73.12874809244, 7.14874981900254], [-73.128864873427, 7.14898156530331], [-73.1290984354008, 7.14900830525353], [-73.1291703006236, 7.1493559244639], [-73.1291523343179, 7.14977484982745], [-73.1288558902741, 7.15040769379697], [-73.1286852103701, 7.15063943925661], [-73.1280743559769, 7.15071074552821], [-73.1280743559769, 7.15085335803803], [-73.1274904510423, 7.15109401654738], [-73.1275443499593, 7.15126336875572], [-73.1278677434616, 7.1512722820281], [-73.1281552043525, 7.15165555257599], [-73.1277240130161, 7.15163772604602], [-73.1278318108502, 7.15207447583015], [-73.1288109745099, 7.15276079607546], [-73.1289367386497, 7.15459692049053], [-73.1285774125361, 7.15489105623964], [-73.1289008060383, 7.15547041397896], [-73.129035553331, 7.15637955848732], [-73.1288109745099, 7.15746696424594], [-73.129089452248, 7.15771653241507], [-73.1288469071213, 7.15852762802194], [-73.1293858962918, 7.15921393856293], [-73.1306525208424, 7.15942785332567], [-73.1310028638032, 7.16211960551571], [-73.1322874546595, 7.16228895363217], [-73.1343984955771, 7.16189677895086], [-73.1350632488874, 7.16144221242089], [-73.1341110346862, 7.16445482136437], [-73.1338145906425, 7.16595220538461], [-73.1339223884766, 7.16693263273257], [-73.1341290009919, 7.16744958448484], [-73.134066118922, 7.16806457804687], [-73.1332306857078, 7.17031954733781], [-73.1337876411839, 7.17128213952444], [-73.1338325569482, 7.17173669623862], [-73.1333564498476, 7.17286862961374], [-73.1325928818561, 7.17337666178838], [-73.132709662843, 7.17411642692359], [-73.1328354269828, 7.17434816033313], [-73.1333833993061, 7.17453532953931], [-73.1339583210879, 7.17605941878168], [-73.1328174606771, 7.17645158126986], [-73.1324042356464, 7.17679026678315], [-73.1325659323975, 7.17746763705342], [-73.1324761008691, 7.17773501977724], [-73.1316406676549, 7.17769045600084], [-73.1315867687379, 7.178260872009], [-73.1313082909998, 7.17858173069928], [-73.1312364257771, 7.17953539269277], [-73.1312723583884, 7.17974929791211], [-73.1319820274629, 7.18023949699365], [-73.13276356176, 7.17997211574194], [-73.1326288144674, 7.17974038519665], [-73.133841540101, 7.1794017018796], [-73.1340032368521, 7.17885802550125], [-73.1343625629658, 7.17859064343744], [-73.1350991814988, 7.17893824008974], [-73.1354405413067, 7.17929474920078], [-73.1357549516562, 7.17876889816411], [-73.1355124065294, 7.1783232612165], [-73.1360424125471, 7.17760132843497], [-73.1366353006346, 7.17769045600084], [-73.1371922561108, 7.17806479158687], [-73.1376414137528, 7.17800240234392], [-73.1382432849932, 7.17833217395973], [-73.1394200780154, 7.17754785188705], [-73.1402285617711, 7.17736068391989], [-73.140569921579, 7.17815391906195], [-73.1414592537103, 7.17814500631523], [-73.1417921558799, 7.17840023255256]]], [[[-73.1420701081035, 7.17875998542944], [-73.1418545124353, 7.17867085807309], [-73.1425192657456, 7.17959778172548], [-73.1427528277195, 7.17972255976519], [-73.1429055413178, 7.17962451987973], [-73.142779777178, 7.17806479158687], [-73.1423755353001, 7.17773501977724], [-73.1419443439637, 7.1778954493361], [-73.1424294342172, 7.17872433448899], [-73.1422228217018, 7.17882237456849], [-73.1418830438271, 7.17848932163713], [-73.1420701081035, 7.17875998542944]]], [[[-73.1418830438271, 7.17848932163713], [-73.1418545124353, 7.17844803960584], [-73.1417921558799, 7.17840023255256], [-73.1418830438271, 7.17848932163713]]]], &quot;type&quot;: &quot;MultiPolygon&quot;}, &quot;id&quot;: &quot;0&quot;, &quot;properties&quot;: {&quot;Crimen Organizado&quot;: 53.625, &quot;Delitos Sexuales&quot;: 68.25, &quot;Delitos Violentos&quot;: 281.375, &quot;RME_Crimen Organizado&quot;: 0.8177821887792102, &quot;RME_Delitos Sexuales&quot;: 1.3710092816352086, &quot;RME_Delitos Violentos&quot;: 1.1102150602441603, &quot;RME_Robos y Hurtos&quot;: 0.4900631644185154, &quot;RME_Violencia Familiar&quot;: 1.6052501105282633, &quot;Robos y Hurtos&quot;: 441.5, &quot;Violencia Familiar&quot;: 319.5, &quot;area&quot;: 4326768.342, &quot;cluster&quot;: 2, &quot;crimen_organizado_por_1000hab&quot;: 0.74, &quot;crimen_organizado_por_1000hab_log&quot;: 0.5538851132264376, &quot;delitos_sexuales_por_1000hab&quot;: 0.94, &quot;delitos_sexuales_por_1000hab_log&quot;: 0.6626879730752367, &quot;delitos_violentos_por_1000hab&quot;: 3.88, &quot;delitos_violentos_por_1000hab_log&quot;: 1.5851452198650557, &quot;expected_Crimen Organizado&quot;: 65.57369521590059, &quot;expected_Delitos Sexuales&quot;: 49.78084460420132, &quot;expected_Delitos Violentos&quot;: 253.44188714042446, &quot;expected_Robos y Hurtos&quot;: 900.9042753169624, &quot;expected_Violencia Familiar&quot;: 199.03440461054223, &quot;manzanas&quot;: 667, &quot;manzanas_km2&quot;: 0.00015415662389997212, &quot;nombre_com&quot;: &quot;Comuna Norte&quot;, &quot;num_com&quot;: 1, &quot;personas&quot;: 72591, &quot;poblacional_km2&quot;: 0.016777186634966832, &quot;robos_y_hurtos_por_1000hab&quot;: 6.08, &quot;robos_y_hurtos_por_1000hab_log&quot;: 1.9572739077056285, &quot;violencia_familiar_por_1000hab&quot;: 4.4, &quot;violencia_familiar_por_1000hab_log&quot;: 1.6863989535702288}, &quot;type&quot;: &quot;Feature&quot;}, {&quot;geometry&quot;: {&quot;coordinates&quot;: [[[-73.1287660587457, 7.15530106333122], [-73.1288558902741, 7.15534562929725], [-73.1285774125361, 7.15489105623964], [-73.1289367386497, 7.15459692049053], [-73.1288109745099, 7.15276079607546], [-73.1278318108502, 7.15207447583015], [-73.1277240130161, 7.15163772604602], [-73.1281552043525, 7.15165555257599], [-73.1278677434616, 7.1512722820281], [-73.1275443499593, 7.15126336875572], [-73.1274904510423, 7.15109401654738], [-73.1280743559769, 7.15085335803803], [-73.1280743559769, 7.15071074552821], [-73.1286852103701, 7.15063943925661], [-73.1288558902741, 7.15040769379697], [-73.1291523343179, 7.14977484982745], [-73.1291703006236, 7.1493559244639], [-73.1290984354008, 7.14900830525353], [-73.1288109745099, 7.14894591203393], [-73.1287660587457, 7.14868742574764], [-73.1291164017065, 7.14840219933095], [-73.1294487783616, 7.14839328600256], [-73.1310926953316, 7.14909743840961], [-73.1307513355236, 7.14981941633288], [-73.1322605052009, 7.1505770462598], [-73.1324491514106, 7.15055921968773], [-73.1322245725896, 7.14955201723509], [-73.1311376110958, 7.14882112556915], [-73.1302482789645, 7.14755543235741], [-73.1295925088071, 7.14620060193569], [-73.1295475930429, 7.14581732681118], [-73.1297272560997, 7.14548753167931], [-73.1300057338378, 7.14534491749452], [-73.1336798433499, 7.1449349014654], [-73.1348117206078, 7.14541622459248], [-73.1357998674204, 7.14610255484141], [-73.1364915701891, 7.14627190890014], [-73.1380636219364, 7.14595102747252], [-73.1385397290369, 7.14563905920187], [-73.1385487121898, 7.14538948443205], [-73.1381534534648, 7.14520230326525], [-73.1367161490102, 7.14518447648346], [-73.133670860197, 7.14221630762129], [-73.1333564498476, 7.14223413451882], [-73.1331139047208, 7.14199347134347], [-73.1327276291487, 7.14203803860772], [-73.1326916965373, 7.14183302915621], [-73.1320449095328, 7.14164584653325], [-73.1320269432271, 7.14152105807536], [-73.1305267567026, 7.14136061572234], [-73.1304728577855, 7.14111995208729], [-73.1296104751128, 7.14121800025019], [-73.1294577615145, 7.14050492222228], [-73.1253434775132, 7.14126256759001], [-73.1252356796791, 7.14126256759001], [-73.1250560166223, 7.14048709525734], [-73.1233941333467, 7.1408168939963], [-73.1229629420103, 7.14195781752894], [-73.1231605713728, 7.14193999062063], [-73.123205487137, 7.14214500002419], [-73.1228820936347, 7.14246588412351], [-73.1229898914688, 7.14263523952957], [-73.1231965039842, 7.14236783622816], [-73.1233941333467, 7.14294720985023], [-73.1229270093989, 7.14329483367106], [-73.1230976893029, 7.14346418877008], [-73.122414969687, 7.14467641291017], [-73.1229449757046, 7.14505077559787], [-73.1221454751018, 7.14656605001086], [-73.121336991346, 7.14677105733971], [-73.1223790370756, 7.14858937918698], [-73.1225048012154, 7.14980158973123], [-73.1232773523598, 7.14973028331768], [-73.1238163415302, 7.15119206257038], [-73.1241936339496, 7.15161098624975], [-73.1247955051899, 7.15177142500389], [-73.1250290671638, 7.15224382767486], [-73.1239151562115, 7.15248448545141], [-73.1226575148137, 7.15309058595623], [-73.1230258240802, 7.15395516910731], [-73.1241577013382, 7.1545790940754], [-73.1249931345524, 7.15477518460353], [-73.1260082308235, 7.15478409780735], [-73.1269784113303, 7.15507823343584], [-73.1278048613917, 7.15511388622641], [-73.127786895086, 7.15521193138612], [-73.1283438505622, 7.1553367161044], [-73.1287660587457, 7.15530106333122]]], &quot;type&quot;: &quot;Polygon&quot;}, &quot;id&quot;: &quot;1&quot;, &quot;properties&quot;: {&quot;Crimen Organizado&quot;: 20.25, &quot;Delitos Sexuales&quot;: 31.125, &quot;Delitos Violentos&quot;: 134.625, &quot;RME_Crimen Organizado&quot;: 0.6811617721453229, &quot;RME_Delitos Sexuales&quot;: 1.379119808158791, &quot;RME_Delitos Violentos&quot;: 1.17166166182023, &quot;RME_Robos y Hurtos&quot;: 0.42693373189264167, &quot;RME_Violencia Familiar&quot;: 1.6567917967213563, &quot;Robos y Hurtos&quot;: 174.375, &quot;Violencia Familiar&quot;: 149.5, &quot;area&quot;: 1371355.042, &quot;cluster&quot;: 2, &quot;crimen_organizado_por_1000hab&quot;: 0.62, &quot;crimen_organizado_por_1000hab_log&quot;: 0.4824261492442927, &quot;delitos_sexuales_por_1000hab&quot;: 0.95, &quot;delitos_sexuales_por_1000hab_log&quot;: 0.6678293725756554, &quot;delitos_violentos_por_1000hab&quot;: 4.09, &quot;delitos_violentos_por_1000hab_log&quot;: 1.6272778305624314, &quot;expected_Crimen Organizado&quot;: 29.72862075953339, &quot;expected_Delitos Sexuales&quot;: 22.568742625453094, &quot;expected_Delitos Violentos&quot;: 114.90091754888856, &quot;expected_Robos y Hurtos&quot;: 408.43575237538033, &quot;expected_Violencia Familiar&quot;: 90.23463316021193, &quot;manzanas&quot;: 515, &quot;manzanas_km2&quot;: 0.00037554096804057256, &quot;nombre_com&quot;: &quot;Comuna Nororiental&quot;, &quot;num_com&quot;: 2, &quot;personas&quot;: 32910, &quot;poblacional_km2&quot;: 0.023998161666437364, &quot;robos_y_hurtos_por_1000hab&quot;: 5.3, &quot;robos_y_hurtos_por_1000hab_log&quot;: 1.840549633397487, &quot;violencia_familiar_por_1000hab&quot;: 4.54, &quot;violencia_familiar_por_1000hab_log&quot;: 1.7119945007591924}, &quot;type&quot;: &quot;Feature&quot;}, {&quot;geometry&quot;: {&quot;coordinates&quot;: [[[-73.1229988746217, 7.14201129824969], [-73.1233941333467, 7.1408168939963], [-73.1250560166223, 7.14048709525734], [-73.1252356796791, 7.14126256759001], [-73.1253434775132, 7.14126256759001], [-73.1294577615145, 7.14050492222228], [-73.1296104751128, 7.14121800025019], [-73.1304728577855, 7.14111995208729], [-73.1305267567026, 7.14136061572234], [-73.1320269432271, 7.14152105807536], [-73.1320449095328, 7.14164584653325], [-73.1326916965373, 7.14183302915621], [-73.1327276291487, 7.14203803860772], [-73.1331139047208, 7.14199347134347], [-73.1333564498476, 7.14223413451882], [-73.133670860197, 7.14221630762129], [-73.1367161490102, 7.14518447648346], [-73.1368688626085, 7.14425748287232], [-73.1367700479272, 7.14372267801077], [-73.1371563234994, 7.14342853507023], [-73.1368868289142, 7.1428135083103], [-73.1371742898051, 7.14210934622148], [-73.1365814017176, 7.14184194261252], [-73.1360603788528, 7.14135170225664], [-73.1361502103812, 7.14071884574739], [-73.1358447831846, 7.14038013345309], [-73.1355124065294, 7.14039796042221], [-73.1354764739181, 7.13964922712126], [-73.1351261309573, 7.13935508156057], [-73.1351620635686, 7.13915898441504], [-73.136105294617, 7.13861526007181], [-73.1366263174818, 7.13865982766524], [-73.1378659925738, 7.13944421659893], [-73.1384139648972, 7.14020186372375], [-73.1388271899279, 7.1404068739065], [-73.1393392296398, 7.14023751767518], [-73.1395907579194, 7.13972944860498], [-73.1395727916137, 7.13935508156057], [-73.1391056676659, 7.13931942754037], [-73.1388631225392, 7.13910550336075], [-73.1385127795784, 7.13832111384628], [-73.1379737904079, 7.13865982766524], [-73.1374797170017, 7.13852612487192], [-73.1374797170017, 7.13834785442005], [-73.1371922561108, 7.13808936214146], [-73.136671233246, 7.13832111384628], [-73.1363029239795, 7.13820523800854], [-73.1361502103812, 7.13798239977655], [-73.1350542657345, 7.1380537080226], [-73.1341469672976, 7.13750106882506], [-73.1333384835419, 7.13734062506204], [-73.1326018650089, 7.13699299671583], [-73.1318652464759, 7.13589662866336], [-73.1315508361265, 7.13501418417677], [-73.1310387964145, 7.13521028309859], [-73.1291972500821, 7.1259578879292], [-73.1258734835308, 7.12662641985531], [-73.1247865220371, 7.12361356160323], [-73.1239061730586, 7.12359573398067], [-73.1220017446563, 7.12543197546199], [-73.1202590130051, 7.12613616320485], [-73.1193786640267, 7.12710776223821], [-73.1193517145681, 7.12881919772677], [-73.1199985015727, 7.13275012690452], [-73.1181928878516, 7.13439914610427], [-73.1182378036158, 7.13461307248409], [-73.1179952584891, 7.13490722109308], [-73.1177976291266, 7.13831220032135], [-73.11749220193, 7.13906093581074], [-73.1167376170914, 7.13972944860498], [-73.1147523403135, 7.14042470087457], [-73.1160279480169, 7.14082580747242], [-73.1173933872488, 7.14187759643609], [-73.1177077975982, 7.14192216371163], [-73.1179323764192, 7.14173498112516], [-73.1184803487425, 7.14208260586763], [-73.1191271357471, 7.14176172149934], [-73.1194505292494, 7.14218956727368], [-73.1200883331011, 7.14205586551221], [-73.1208608842455, 7.14306308448655], [-73.1217322500711, 7.1434463619205], [-73.1221185256432, 7.14300069045526], [-73.1222353066302, 7.14246588412351], [-73.1229988746217, 7.14201129824969]]], &quot;type&quot;: &quot;Polygon&quot;}, &quot;id&quot;: &quot;2&quot;, &quot;properties&quot;: {&quot;Crimen Organizado&quot;: 52.375, &quot;Delitos Sexuales&quot;: 44.75, &quot;Delitos Violentos&quot;: 216.375, &quot;RME_Crimen Organizado&quot;: 1.1197130093985306, &quot;RME_Delitos Sexuales&quot;: 1.2602105898241258, &quot;RME_Delitos Violentos&quot;: 1.1968536072464107, &quot;RME_Robos y Hurtos&quot;: 1.5553083243155275, &quot;RME_Violencia Familiar&quot;: 1.0256994679784714, &quot;Robos y Hurtos&quot;: 999.5, &quot;Violencia Familiar&quot;: 145.625, &quot;area&quot;: 2734584.422, &quot;cluster&quot;: 3, &quot;crimen_organizado_por_1000hab&quot;: 1.01, &quot;crimen_organizado_por_1000hab_log&quot;: 0.6981347220709844, &quot;delitos_sexuales_por_1000hab&quot;: 0.86, &quot;delitos_sexuales_por_1000hab_log&quot;: 0.6205764877251099, &quot;delitos_violentos_por_1000hab&quot;: 4.18, &quot;delitos_violentos_por_1000hab_log&quot;: 1.6448050562713916, &quot;expected_Crimen Organizado&quot;: 46.7753786554056, &quot;expected_Delitos Sexuales&quot;: 35.509938070148486, &quot;expected_Delitos Violentos&quot;: 180.78652116678816, &quot;expected_Robos y Hurtos&quot;: 642.6378515268784, &quot;expected_Violencia Familiar&quot;: 141.9762850096911, &quot;manzanas&quot;: 339, &quot;manzanas_km2&quot;: 0.00012396764834638556, &quot;nombre_com&quot;: &quot;Comuna San Francisco&quot;, &quot;num_com&quot;: 3, &quot;personas&quot;: 51781, &quot;poblacional_km2&quot;: 0.01893560117706251, &quot;robos_y_hurtos_por_1000hab&quot;: 19.3, &quot;robos_y_hurtos_por_1000hab_log&quot;: 3.0106208860477417, &quot;violencia_familiar_por_1000hab&quot;: 2.81, &quot;violencia_familiar_por_1000hab_log&quot;: 1.3376291891386096}, &quot;type&quot;: &quot;Feature&quot;}, {&quot;geometry&quot;: {&quot;coordinates&quot;: [[[-73.1385127795784, 7.14534491749452], [-73.1396716062949, 7.14480120050681], [-73.1403183932995, 7.14386529270169], [-73.14164789992, 7.14428422309897], [-73.1423665521473, 7.14484576749736], [-73.1434984294053, 7.14486359429236], [-73.1439475870473, 7.1453360041065], [-73.1453759083491, 7.14564797258399], [-73.1460226953537, 7.14664627028092], [-73.147136606306, 7.14722563847992], [-73.1487805232759, 7.14878547228724], [-73.1499213836867, 7.14894591203393], [-73.1505681706913, 7.14974810992212], [-73.1513137723771, 7.14749303893938], [-73.152508531705, 7.14692258443669], [-73.1535326111289, 7.14503294881017], [-73.1539727856181, 7.14451597166445], [-73.1552034775574, 7.14366028406951], [-73.1562634895926, 7.14123582718664], [-73.1565509504835, 7.13992554550598], [-73.1561916243699, 7.13807153508237], [-73.1553561911557, 7.13692168830448], [-73.1555897531295, 7.13588771509118], [-73.1572875690165, 7.1339891202635], [-73.1570989228068, 7.13323146285234], [-73.1572516364051, 7.13168940330744], [-73.1596591213666, 7.12741082940509], [-73.1605304871922, 7.12630552465248], [-73.1621474547036, 7.12367595827672], [-73.1623810166775, 7.12241019552489], [-73.1616264318388, 7.11989648730669], [-73.1617072802144, 7.11686575695437], [-73.1623271177604, 7.11577825471247], [-73.1630727194462, 7.11547517985805], [-73.1639171358133, 7.11487794352978], [-73.1646088385821, 7.11272966911888], [-73.1654891875605, 7.11118754062657], [-73.1658664799799, 7.10887879522803], [-73.1657496989929, 7.10709597230936], [-73.1660730924952, 7.10588364877375], [-73.1671870034475, 7.10503680323048], [-73.1687500720419, 7.10434149730229], [-73.1693788927408, 7.10420778450321], [-73.1698999156055, 7.10337876428098], [-73.1710497591692, 7.10258539944275], [-73.1711126412391, 7.10205946019998], [-73.1701783933436, 7.10098975140974], [-73.1662168229407, 7.10025878230548], [-73.1660910588009, 7.10015181111961], [-73.1661090251066, 7.09929604073719], [-73.1644740912895, 7.09865421190566], [-73.1593806436285, 7.09729923698776], [-73.1588596207637, 7.09733489427357], [-73.1579792717853, 7.09798563925405], [-73.1553831406142, 7.09880575490496], [-73.1553831406142, 7.09942084068377], [-73.1549249998193, 7.09964369764704], [-73.1546105894698, 7.10098975140974], [-73.1543410948846, 7.10109672240073], [-73.1536224426573, 7.1018366044072], [-73.1533259986135, 7.10231797278431], [-73.1527241273732, 7.10235362968108], [-73.1523109023425, 7.10316482333581], [-73.1520234414516, 7.10336985007692], [-73.1519695425345, 7.1038690452382], [-73.1515653006567, 7.10399384394381], [-73.1510622440976, 7.10541119829466], [-73.1506849516782, 7.10564296651489], [-73.1505502043856, 7.10612433090656], [-73.1501279962021, 7.10645415436535], [-73.1497596869356, 7.10709597230936], [-73.1491398493895, 7.10727425491251], [-73.1488074727344, 7.10755950693367], [-73.1480169552844, 7.10756842105648], [-73.1476037302537, 7.10799629874789], [-73.1463101562446, 7.10859354402591], [-73.1456004871701, 7.10937798440554], [-73.14487285179, 7.10980586041166], [-73.1439925028115, 7.11166889920902], [-73.1438397892133, 7.11182043791758], [-73.1435882609337, 7.11179369579619], [-73.143175035903, 7.11228396777457], [-73.1426899456496, 7.11206111694019], [-73.1418006135183, 7.11207894501092], [-73.1415311189331, 7.11193632042571], [-73.1409561971512, 7.1125068185008], [-73.1407226351773, 7.11295251962879], [-73.1400309324086, 7.11318428404437], [-73.1394200780154, 7.11318428404437], [-73.1381444703119, 7.11396871658283], [-73.1373809023204, 7.11500273924468], [-73.1356830864334, 7.11644680147782], [-73.1336528938913, 7.11779280601096], [-73.1312993078469, 7.11988757342325], [-73.1317664317947, 7.12021738699528], [-73.1320808421441, 7.12076113317737], [-73.1303830262571, 7.12156338046551], [-73.1296464077242, 7.12163469126765], [-73.128864873427, 7.12201798663917], [-73.1284516483963, 7.12259738601118], [-73.1273287542911, 7.12265086899322], [-73.1265831526053, 7.12298959440131], [-73.1257836520024, 7.12362247541425], [-73.1247865220371, 7.12361356160323], [-73.1258734835308, 7.12662641985531], [-73.1291972500821, 7.1259578879292], [-73.1310387964145, 7.13521028309859], [-73.1315508361265, 7.13501418417677], [-73.1318652464759, 7.13589662866336], [-73.1326018650089, 7.13699299671583], [-73.1333384835419, 7.13734062506204], [-73.1341469672976, 7.13750106882506], [-73.1350542657345, 7.1380537080226], [-73.1361502103812, 7.13798239977655], [-73.1363029239795, 7.13820523800854], [-73.136671233246, 7.13832111384628], [-73.1371922561108, 7.13808936214146], [-73.1374797170017, 7.13834785442005], [-73.1374797170017, 7.13852612487192], [-73.1379737904079, 7.13865982766524], [-73.1385127795784, 7.13832111384628], [-73.1388631225392, 7.13910550336075], [-73.1391056676659, 7.13931942754037], [-73.1395727916137, 7.13935508156057], [-73.1395907579194, 7.13972944860498], [-73.1393392296398, 7.14023751767518], [-73.1388271899279, 7.1404068739065], [-73.1384139648972, 7.14020186372375], [-73.1378659925738, 7.13944421659893], [-73.1366263174818, 7.13865982766524], [-73.1359705473244, 7.13865982766524], [-73.135368676084, 7.13897180069769], [-73.1351261309573, 7.13931051403487], [-73.1354764739181, 7.13964922712126], [-73.1355124065294, 7.14039796042221], [-73.1358447831846, 7.14038013345309], [-73.1361502103812, 7.14071884574739], [-73.1359974967829, 7.14117343290602], [-73.1361232609226, 7.1414408369059], [-73.1371742898051, 7.14210934622148], [-73.1368868289142, 7.1428135083103], [-73.1371563234994, 7.14342853507023], [-73.1367700479272, 7.14372267801077], [-73.1368688626085, 7.14425748287232], [-73.1367161490102, 7.14518447648346], [-73.1381534534648, 7.14520230326525], [-73.1385127795784, 7.14534491749452]]], &quot;type&quot;: &quot;Polygon&quot;}, &quot;id&quot;: &quot;3&quot;, &quot;properties&quot;: {&quot;Crimen Organizado&quot;: 40.625, &quot;Delitos Sexuales&quot;: 37.0, &quot;Delitos Violentos&quot;: 202.0, &quot;RME_Crimen Organizado&quot;: 1.2044362354429896, &quot;RME_Delitos Sexuales&quot;: 1.4449724266686415, &quot;RME_Delitos Violentos&quot;: 1.549505322285918, &quot;RME_Robos y Hurtos&quot;: 0.8251462658680384, &quot;RME_Violencia Familiar&quot;: 1.6751591232426328, &quot;Robos y Hurtos&quot;: 382.375, &quot;Violencia Familiar&quot;: 171.5, &quot;area&quot;: 13786819.561, &quot;cluster&quot;: 2, &quot;crimen_organizado_por_1000hab&quot;: 1.09, &quot;crimen_organizado_por_1000hab_log&quot;: 0.7371640659767197, &quot;delitos_sexuales_por_1000hab&quot;: 0.99, &quot;delitos_sexuales_por_1000hab_log&quot;: 0.688134638736401, &quot;delitos_violentos_por_1000hab&quot;: 5.41, &quot;delitos_violentos_por_1000hab_log&quot;: 1.8578592709325787, &quot;expected_Crimen Organizado&quot;: 33.72947342875166, &quot;expected_Delitos Sexuales&quot;: 25.60602494353671, &quot;expected_Delitos Violentos&quot;: 130.36418597259038, &quot;expected_Robos y Hurtos&quot;: 463.40269091292396, &quot;expected_Violencia Familiar&quot;: 102.37833386718789, &quot;manzanas&quot;: 410, &quot;manzanas_km2&quot;: 2.9738548342200936e-05, &quot;nombre_com&quot;: &quot;Comuna Occidental&quot;, &quot;num_com&quot;: 4, &quot;personas&quot;: 37339, &quot;poblacional_km2&quot;: 0.0027083113574376603, &quot;robos_y_hurtos_por_1000hab&quot;: 10.24, &quot;robos_y_hurtos_por_1000hab_log&quot;: 2.419478844465545, &quot;violencia_familiar_por_1000hab&quot;: 4.59, &quot;violencia_familiar_por_1000hab_log&quot;: 1.7209792871670078}, &quot;type&quot;: &quot;Feature&quot;}, {&quot;geometry&quot;: {&quot;coordinates&quot;: [[[-73.1253255112075, 7.1143965883116], [-73.12716705754, 7.11364781252455], [-73.129655390877, 7.11231962389804], [-73.1304908240912, 7.11462835199818], [-73.1311555774015, 7.11601001770142], [-73.1318203307117, 7.1182028463424], [-73.1314789709038, 7.1184167802829], [-73.1315688024322, 7.11893378689392], [-73.1312993078469, 7.11988757342325], [-73.1336528938913, 7.11779280601096], [-73.1364376712721, 7.11581391056455], [-73.1373809023204, 7.11500273924468], [-73.1381444703119, 7.11396871658283], [-73.1387732910108, 7.11352301644131], [-73.1395188926966, 7.11315754200239], [-73.1405609384262, 7.11305057381888], [-73.1415311189331, 7.11193632042571], [-73.1418006135183, 7.11207894501092], [-73.1426899456496, 7.11206111694019], [-73.143175035903, 7.11228396777457], [-73.1435882609337, 7.11179369579619], [-73.1438397892133, 7.11182043791758], [-73.1439925028115, 7.11166889920902], [-73.14487285179, 7.10980586041166], [-73.1456004871701, 7.10937798440554], [-73.1463101562446, 7.10859354402591], [-73.1476037302537, 7.10799629874789], [-73.1480169552844, 7.10756842105648], [-73.1488074727344, 7.10755950693367], [-73.1491398493895, 7.10727425491251], [-73.1497596869356, 7.10709597230936], [-73.1501279962021, 7.10645415436535], [-73.1505502043856, 7.10612433090656], [-73.1506849516782, 7.10564296651489], [-73.1510622440976, 7.10541119829466], [-73.1515653006567, 7.10399384394381], [-73.1519695425345, 7.1038690452382], [-73.1520234414516, 7.10336985007692], [-73.1523109023425, 7.10316482333581], [-73.1527241273732, 7.10235362968108], [-73.1533259986135, 7.10231797278431], [-73.1536224426573, 7.1018366044072], [-73.1543410948846, 7.10109672240073], [-73.1546105894698, 7.10098975140974], [-73.1549249998193, 7.09964369764704], [-73.1553831406142, 7.09942084068377], [-73.1553831406142, 7.09880575490496], [-73.1579792717853, 7.09798563925405], [-73.1590303006677, 7.09729923698776], [-73.1648693500145, 7.09878792631939], [-73.1661090251066, 7.09929604073719], [-73.1660910588009, 7.10015181111961], [-73.1662168229407, 7.10025878230548], [-73.1701783933436, 7.10098975140974], [-73.1711575570033, 7.10226448743396], [-73.1708431466539, 7.10279042644222], [-73.1698999156055, 7.10337876428098], [-73.1695585557976, 7.10402950071063], [-73.1698011009243, 7.10377098908858], [-73.1711665401562, 7.10320939437426], [-73.1717773945494, 7.10262105631879], [-73.1720648554403, 7.10148003491412], [-73.1721187543573, 7.09923364075119], [-73.1718672260778, 7.09892164069427], [-73.1703400900948, 7.09819958260826], [-73.168741088889, 7.09713877916747], [-73.165408339185, 7.09657717635587], [-73.1649951141543, 7.09640780394486], [-73.1646986701105, 7.09597991547093], [-73.1640698494116, 7.09584620024126], [-73.1636476412281, 7.09532025329431], [-73.1634859444769, 7.09435750139393], [-73.1637195064508, 7.09373349445717], [-73.1635578096997, 7.09318971629407], [-73.1632433993502, 7.09282422569243], [-73.1619228758826, 7.09277965364799], [-73.1613659204064, 7.09171883771715], [-73.1605933692621, 7.09090762388599], [-73.1593986099342, 7.09047973030057], [-73.1583745305103, 7.09060453263739], [-73.1579433391739, 7.09072933494038], [-73.157260619558, 7.09150489135096], [-73.1554190732255, 7.09167426556573], [-73.1533259986135, 7.09013206646974], [-73.1525534474692, 7.08783212990297], [-73.1507388505953, 7.08775189935039], [-73.1501010467436, 7.08790344593798], [-73.1487356075117, 7.0885631187386], [-73.1466784655111, 7.09094328166684], [-73.1456004871701, 7.09195952726032], [-73.1458070996855, 7.09251222129076], [-73.1454567567247, 7.09390286785221], [-73.1456004871701, 7.0948834494409], [-73.1453938746548, 7.09631866054559], [-73.1443338626195, 7.09614037369527], [-73.1429414739291, 7.09661283369762], [-73.1423306195359, 7.09696940696313], [-73.141477220016, 7.09780735304956], [-73.1412616243478, 7.09784301029598], [-73.1407765340944, 7.09741512315651], [-73.140569921579, 7.09741512315651], [-73.1397524546705, 7.09762906677598], [-73.1384948132727, 7.09865421190566], [-73.1380995545477, 7.09878792631939], [-73.1373988686261, 7.09867204049641], [-73.1372461550278, 7.09970609757742], [-73.1354854570709, 7.1017652905307], [-73.1354854570709, 7.10218425939677], [-73.1351530804158, 7.10280825487264], [-73.1354674907652, 7.10372641810457], [-73.1353866423897, 7.104047329093], [-73.1343445966601, 7.10427909800089], [-73.1341918830618, 7.10488526228447], [-73.1333205172362, 7.10574102226519], [-73.1326198313146, 7.10682854827496], [-73.1321976231311, 7.10714054296664], [-73.1315598192793, 7.10731882555249], [-73.130957948039, 7.10825480799337], [-73.1296464077242, 7.10908381942013], [-73.1273646869025, 7.1101802515901], [-73.1266280683695, 7.11022482194815], [-73.1247416062729, 7.11150844640426], [-73.1247236399672, 7.11189175023374], [-73.125073982928, 7.11255138863307], [-73.1248224546484, 7.11304165980247], [-73.1253255112075, 7.1143965883116]]], &quot;type&quot;: &quot;Polygon&quot;}, &quot;id&quot;: &quot;4&quot;, &quot;properties&quot;: {&quot;Crimen Organizado&quot;: 43.0, &quot;Delitos Sexuales&quot;: 27.5, &quot;Delitos Violentos&quot;: 178.5, &quot;RME_Crimen Organizado&quot;: 1.2415974045910905, &quot;RME_Delitos Sexuales&quot;: 1.0459536295924488, &quot;RME_Delitos Violentos&quot;: 1.3335270359534688, &quot;RME_Robos y Hurtos&quot;: 0.5821610154189722, &quot;RME_Violencia Familiar&quot;: 1.4471529541517427, &quot;Robos y Hurtos&quot;: 277.0, &quot;Violencia Familiar&quot;: 152.125, &quot;area&quot;: 5688165.922, &quot;cluster&quot;: 2, &quot;crimen_organizado_por_1000hab&quot;: 1.12, &quot;crimen_organizado_por_1000hab_log&quot;: 0.7514160886839212, &quot;delitos_sexuales_por_1000hab&quot;: 0.72, &quot;delitos_sexuales_por_1000hab_log&quot;: 0.5423242908253617, &quot;delitos_violentos_por_1000hab&quot;: 4.66, &quot;delitos_violentos_por_1000hab_log&quot;: 1.7334238922150915, &quot;expected_Crimen Organizado&quot;: 34.63280435429203, &quot;expected_Delitos Sexuales&quot;: 26.291796521338384, &quot;expected_Delitos Violentos&quot;: 133.85555387137157, &quot;expected_Robos y Hurtos&quot;: 475.81337922575835, &quot;expected_Violencia Familiar&quot;: 105.12019449192844, &quot;manzanas&quot;: 251, &quot;manzanas_km2&quot;: 4.4126701548773844e-05, &quot;nombre_com&quot;: &quot;Comuna Garcia Rovira&quot;, &quot;num_com&quot;: 5, &quot;personas&quot;: 38339, &quot;poblacional_km2&quot;: 0.0067401339070854195, &quot;robos_y_hurtos_por_1000hab&quot;: 7.23, &quot;robos_y_hurtos_por_1000hab_log&quot;: 2.1077860146889784, &quot;violencia_familiar_por_1000hab&quot;: 3.97, &quot;violencia_familiar_por_1000hab_log&quot;: 1.6034198401085376}, &quot;type&quot;: &quot;Feature&quot;}, {&quot;geometry&quot;: {&quot;coordinates&quot;: [[[-73.1183096688386, 7.11702620788665], [-73.1198637542801, 7.11637548986924], [-73.121229193512, 7.11610807123843], [-73.1253255112075, 7.1143965883116], [-73.1248224546484, 7.11304165980247], [-73.125073982928, 7.11255138863307], [-73.1247236399672, 7.11189175023374], [-73.1247416062729, 7.11150844640426], [-73.1266280683695, 7.11022482194815], [-73.1273646869025, 7.1101802515901], [-73.1296464077242, 7.10908381942013], [-73.130957948039, 7.10825480799337], [-73.1315598192793, 7.10731882555249], [-73.1292691153048, 7.10652546751451], [-73.1275712994178, 7.10613324505721], [-73.1265921357581, 7.1063560987672], [-73.1259094161422, 7.10671266447838], [-73.1240229540456, 7.10835286318637], [-73.1232683692069, 7.10807652577068], [-73.1217861489881, 7.10845983246395], [-73.1228192115649, 7.10775561759551], [-73.122980908316, 7.10741688094523], [-73.1191810346642, 7.1056964514722], [-73.1191540852056, 7.10460892278375], [-73.1188666243147, 7.10411864261557], [-73.1182378036158, 7.10442172496306], [-73.1179144101135, 7.10382447426369], [-73.1179862753363, 7.10312916650193], [-73.1182018710045, 7.10290631122759], [-73.1182737362272, 7.10238037235186], [-73.1182647530744, 7.1017652905307], [-73.1179144101135, 7.10114129363962], [-73.1183276351442, 7.10083820912992], [-73.1186061128823, 7.09961695481715], [-73.1192528998869, 7.09894838356458], [-73.1194415460966, 7.098413525863], [-73.1176988144454, 7.09613145935095], [-73.1170699937465, 7.09687134934266], [-73.1158842175715, 7.09725466537662], [-73.1147343740078, 7.09839569726223], [-73.1136024967498, 7.09873444055856], [-73.1123268890463, 7.09873444055856], [-73.1116801020418, 7.09921581218221], [-73.1115363715963, 7.09940301212204], [-73.1118238324872, 7.10094518015616], [-73.1116980683474, 7.10146220643221], [-73.1107278878406, 7.10335202166828], [-73.1107009383821, 7.10369076131424], [-73.1107368709934, 7.10390470201468], [-73.1111680623298, 7.10384230265401], [-73.1116172199719, 7.10341442109551], [-73.1133779179287, 7.10235362968108], [-73.1142582669072, 7.10907490532674], [-73.1147882729248, 7.10903924895137], [-73.1179952584891, 7.1165448549215], [-73.1177976291266, 7.11664290834424], [-73.1183096688386, 7.11702620788665]]], &quot;type&quot;: &quot;Polygon&quot;}, &quot;id&quot;: &quot;5&quot;, &quot;properties&quot;: {&quot;Crimen Organizado&quot;: 23.375, &quot;Delitos Sexuales&quot;: 21.5, &quot;Delitos Violentos&quot;: 123.25, &quot;RME_Crimen Organizado&quot;: 0.8636423715479076, &quot;RME_Delitos Sexuales&quot;: 1.0463769846730893, &quot;RME_Delitos Violentos&quot;: 1.1782040568141718, &quot;RME_Robos y Hurtos&quot;: 1.6935635884154452, &quot;RME_Violencia Familiar&quot;: 0.6725368847726665, &quot;Robos y Hurtos&quot;: 629.75, &quot;Violencia Familiar&quot;: 55.25, &quot;area&quot;: 1928794.207, &quot;cluster&quot;: 3, &quot;crimen_organizado_por_1000hab&quot;: 0.78, &quot;crimen_organizado_por_1000hab_log&quot;: 0.5766133643039938, &quot;delitos_sexuales_por_1000hab&quot;: 0.72, &quot;delitos_sexuales_por_1000hab_log&quot;: 0.5423242908253617, &quot;delitos_violentos_por_1000hab&quot;: 4.11, &quot;delitos_violentos_por_1000hab_log&quot;: 1.631199404215613, &quot;expected_Crimen Organizado&quot;: 27.065601191040397, &quot;expected_Delitos Sexuales&quot;: 20.54708801409376, &quot;expected_Delitos Violentos&quot;: 104.60836498328165, &quot;expected_Robos y Hurtos&quot;: 371.8490432291445, &quot;expected_Violencia Familiar&quot;: 82.15162803847676, &quot;manzanas&quot;: 211, &quot;manzanas_km2&quot;: 0.00010939477069883174, &quot;nombre_com&quot;: &quot;Comuna La Concordia&quot;, &quot;num_com&quot;: 6, &quot;personas&quot;: 29962, &quot;poblacional_km2&quot;: 0.015534057439234108, &quot;robos_y_hurtos_por_1000hab&quot;: 21.02, &quot;robos_y_hurtos_por_1000hab_log&quot;: 3.091951131294534, &quot;violencia_familiar_por_1000hab&quot;: 1.84, &quot;violencia_familiar_por_1000hab_log&quot;: 1.0438040521731147}, &quot;type&quot;: &quot;Feature&quot;}, {&quot;geometry&quot;: {&quot;coordinates&quot;: [[[-73.1315598192793, 7.10731882555249], [-73.1325569492447, 7.10689986136602], [-73.1316316845021, 7.10567862315379], [-73.1306974366066, 7.10536662746967], [-73.1307693018293, 7.10442172496306], [-73.1303111610344, 7.10376207489212], [-73.1301494642833, 7.10303111019452], [-73.1271311249286, 7.09889489782241], [-73.127050276553, 7.09701397860191], [-73.1275174005008, 7.09610471631692], [-73.1274545184309, 7.09588185763964], [-73.1268975629547, 7.09535591073345], [-73.1271401080815, 7.09496367875117], [-73.1265023042297, 7.09459818955779], [-73.1256309384041, 7.09461601830567], [-73.1251009323865, 7.09515088042077], [-73.1247416062729, 7.0976379810913], [-73.1240229540456, 7.09942084068377], [-73.1231875208313, 7.09967044047538], [-73.1227832789535, 7.09913558361324], [-73.122019710962, 7.098832497782], [-73.1211303788307, 7.10015181111961], [-73.1203129119221, 7.1010254084095], [-73.1198727374329, 7.10209511711681], [-73.1192349335812, 7.10279042644222], [-73.1191540852056, 7.10397601555938], [-73.1188666243147, 7.10411864261557], [-73.1191540852056, 7.10460892278375], [-73.1191810346642, 7.1056964514722], [-73.122980908316, 7.10741688094523], [-73.1228192115649, 7.10775561759551], [-73.1217861489881, 7.10845983246395], [-73.1232683692069, 7.10807652577068], [-73.1240229540456, 7.10835286318637], [-73.1259094161422, 7.10671266447838], [-73.1265921357581, 7.1063560987672], [-73.1275712994178, 7.10613324505721], [-73.1292691153048, 7.10652546751451], [-73.1315598192793, 7.10731882555249]]], &quot;type&quot;: &quot;Polygon&quot;}, &quot;id&quot;: &quot;6&quot;, &quot;properties&quot;: {&quot;Crimen Organizado&quot;: 17.5, &quot;Delitos Sexuales&quot;: 9.5, &quot;Delitos Violentos&quot;: 38.75, &quot;RME_Crimen Organizado&quot;: 0.6342569854664958, &quot;RME_Delitos Sexuales&quot;: 0.4535427329241589, &quot;RME_Delitos Violentos&quot;: 0.36337093073931215, &quot;RME_Robos y Hurtos&quot;: 0.5533248688450086, &quot;RME_Violencia Familiar&quot;: 0.4179234674017053, &quot;Robos y Hurtos&quot;: 209.75, &quot;Violencia Familiar&quot;: 35.0, &quot;area&quot;: 1079358.988, &quot;cluster&quot;: 0, &quot;crimen_organizado_por_1000hab&quot;: 0.57, &quot;crimen_organizado_por_1000hab_log&quot;: 0.4510756193602166, &quot;delitos_sexuales_por_1000hab&quot;: 0.31, &quot;delitos_sexuales_por_1000hab_log&quot;: 0.27002713721306015, &quot;delitos_violentos_por_1000hab&quot;: 1.27, &quot;delitos_violentos_por_1000hab_log&quot;: 0.8197798314933114, &quot;expected_Crimen Organizado&quot;: 27.59133978970489, &quot;expected_Delitos Sexuales&quot;: 20.94620707237433, &quot;expected_Delitos Violentos&quot;: 106.64034110037228, &quot;expected_Robos y Hurtos&quot;: 379.07206382721415, &quot;expected_Violencia Familiar&quot;: 83.74739092207577, &quot;manzanas&quot;: 126, &quot;manzanas_km2&quot;: 0.00011673595291356393, &quot;nombre_com&quot;: &quot;Comuna Ciudadela Real de Minas&quot;, &quot;num_com&quot;: 7, &quot;personas&quot;: 30544, &quot;poblacional_km2&quot;: 0.028298277347554735, &quot;robos_y_hurtos_por_1000hab&quot;: 6.87, &quot;robos_y_hurtos_por_1000hab_log&quot;: 2.063058062429312, &quot;violencia_familiar_por_1000hab&quot;: 1.15, &quot;violencia_familiar_por_1000hab_log&quot;: 0.7654678421395714}, &quot;type&quot;: &quot;Feature&quot;}, {&quot;geometry&quot;: {&quot;coordinates&quot;: [[[-73.1192528998869, 7.09894838356458], [-73.1186061128823, 7.09961695481715], [-73.1183276351442, 7.10083820912992], [-73.1179144101135, 7.10114129363962], [-73.1182647530744, 7.1017652905307], [-73.1182018710045, 7.10290631122759], [-73.1179862753363, 7.10312916650193], [-73.1179144101135, 7.10382447426369], [-73.1182378036158, 7.10442172496306], [-73.1191540852056, 7.10397601555938], [-73.1192349335812, 7.10279042644222], [-73.1198727374329, 7.10209511711681], [-73.1203129119221, 7.1010254084095], [-73.1211303788307, 7.10015181111961], [-73.122019710962, 7.098832497782], [-73.1227832789535, 7.09913558361324], [-73.1231875208313, 7.09967044047538], [-73.1240229540456, 7.09942084068377], [-73.1246068589802, 7.09812826816791], [-73.1251009323865, 7.09515088042077], [-73.1252716122905, 7.09487453507222], [-73.1259453487536, 7.09455361768509], [-73.1275982488764, 7.09471407640662], [-73.1286043619946, 7.09433075825684], [-73.1296104751128, 7.09366217932483], [-73.1305357398554, 7.09264593748879], [-73.1304099757157, 7.09226261761721], [-73.1297721718639, 7.09187038299974], [-73.1297542055582, 7.091317688199], [-73.1311286279429, 7.09011423754827], [-73.1313891393753, 7.09007857970325], [-73.1316227013492, 7.09030144118933], [-73.1314520214452, 7.0910502549928], [-73.1315508361265, 7.09129985932342], [-73.1317574486418, 7.09140683256656], [-73.1319640611572, 7.0913087737613], [-73.1332127194021, 7.08909798788358], [-73.1332127194021, 7.08861660568103], [-73.1328713595942, 7.08792127494502], [-73.1322245725896, 7.08743989151311], [-73.1314789709038, 7.08793910395135], [-73.1315059203623, 7.08820653896365], [-73.1313352404583, 7.08847397382073], [-73.1305087903969, 7.08861660568103], [-73.1300057338378, 7.08916038924338], [-73.1288019913571, 7.08916038924338], [-73.1284965641605, 7.08975765897386], [-73.1280563896713, 7.0900607507797], [-73.1276521477934, 7.08998943507862], [-73.1271311249286, 7.08940108012344], [-73.1266640009809, 7.09002509293054], [-73.1250290671638, 7.09093436722189], [-73.1246427915916, 7.09099676833293], [-73.1243014317836, 7.09069367714298], [-73.1240409203513, 7.09066693379311], [-73.1238343078359, 7.09085413720956], [-73.1235827795563, 7.09203084265635], [-73.1229270093989, 7.09181689643511], [-73.1227473463421, 7.09221804551843], [-73.1215436038614, 7.09204867150364], [-73.1212561429705, 7.09250330687618], [-73.1207441032585, 7.09259245101424], [-73.1203398613807, 7.09327886029926], [-73.1188756074676, 7.09333234669407], [-73.1179862753363, 7.0936176073615], [-73.1178425448908, 7.09373349445717], [-73.1179593258778, 7.09413464187074], [-73.1176449155283, 7.09433967263604], [-73.117043044288, 7.09419704254812], [-73.1168454149254, 7.09379589518891], [-73.1165220214232, 7.09391178223969], [-73.1163693078249, 7.09417029940171], [-73.1175461008471, 7.09614037369527], [-73.1176988144454, 7.09613145935095], [-73.1194415460966, 7.098413525863], [-73.1192528998869, 7.09894838356458]]], &quot;type&quot;: &quot;Polygon&quot;}, &quot;id&quot;: &quot;7&quot;, &quot;properties&quot;: {&quot;Crimen Organizado&quot;: 13.25, &quot;Delitos Sexuales&quot;: 11.375, &quot;Delitos Violentos&quot;: 56.0, &quot;RME_Crimen Organizado&quot;: 0.7807076738166446, &quot;RME_Delitos Sexuales&quot;: 0.8828590480021061, &quot;RME_Delitos Violentos&quot;: 0.8537129336859998, &quot;RME_Robos y Hurtos&quot;: 0.4953424684148364, &quot;RME_Violencia Familiar&quot;: 0.9099454430675987, &quot;Robos y Hurtos&quot;: 115.5, &quot;Violencia Familiar&quot;: 46.875, &quot;area&quot;: 1057977.986, &quot;cluster&quot;: 0, &quot;crimen_organizado_por_1000hab&quot;: 0.71, &quot;crimen_organizado_por_1000hab_log&quot;: 0.5364933705145685, &quot;delitos_sexuales_por_1000hab&quot;: 0.61, &quot;delitos_sexuales_por_1000hab_log&quot;: 0.4762341789963716, &quot;delitos_violentos_por_1000hab&quot;: 2.98, &quot;delitos_violentos_por_1000hab_log&quot;: 1.3812818192963463, &quot;expected_Crimen Organizado&quot;: 16.971781429052363, &quot;expected_Delitos Sexuales&quot;: 12.884276403737852, &quot;expected_Delitos Violentos&quot;: 65.59582008230076, &quot;expected_Robos y Hurtos&quot;: 233.17201202153285, &quot;expected_Violencia Familiar&quot;: 51.5140774176257, &quot;manzanas&quot;: 154, &quot;manzanas_km2&quot;: 0.00014556068466248785, &quot;nombre_com&quot;: &quot;Comuna Suroccidente&quot;, &quot;num_com&quot;: 8, &quot;personas&quot;: 18788, &quot;poblacional_km2&quot;: 0.01775840352882352, &quot;robos_y_hurtos_por_1000hab&quot;: 6.15, &quot;robos_y_hurtos_por_1000hab_log&quot;: 1.9671123567059163, &quot;violencia_familiar_por_1000hab&quot;: 2.49, &quot;violencia_familiar_por_1000hab_log&quot;: 1.2499017362143359}, &quot;type&quot;: &quot;Feature&quot;}, {&quot;geometry&quot;: {&quot;coordinates&quot;: [[[-73.1063351261013, 7.10452869515564], [-73.1065686880751, 7.10468915039784], [-73.107197508774, 7.10461783696377], [-73.1075478517348, 7.10472480711073], [-73.1077814137087, 7.10535771330416], [-73.1081497229752, 7.10550925409441], [-73.1086348132286, 7.10519725829532], [-73.1088054931326, 7.10484960558404], [-73.1097127915695, 7.10450195260983], [-73.1100541513775, 7.10373533230171], [-73.1104853427139, 7.10381556006826], [-73.1116980683474, 7.10146220643221], [-73.1118238324872, 7.10094518015616], [-73.1115363715963, 7.09940301212204], [-73.1116801020418, 7.09921581218221], [-73.1123268890463, 7.09873444055856], [-73.1136024967498, 7.09873444055856], [-73.1147343740078, 7.09839569726223], [-73.1158842175715, 7.09725466537662], [-73.1170699937465, 7.09687134934266], [-73.1176988144454, 7.09613145935095], [-73.1175461008471, 7.09614037369527], [-73.1163333752135, 7.09409898433703], [-73.1158752344186, 7.09388503907671], [-73.1151475990385, 7.09409898433703], [-73.1135036820685, 7.09607797328135], [-73.1117968830287, 7.0965950050271], [-73.1108985677446, 7.09647911865183], [-73.110197881823, 7.09371566567512], [-73.1083383691848, 7.0887235795473], [-73.1080239588354, 7.08728834477306], [-73.1074849696649, 7.08775189935039], [-73.1063441092541, 7.08942782354679], [-73.1063530924069, 7.0896595998175], [-73.1049247711052, 7.09018555323003], [-73.1056074907211, 7.09166535113491], [-73.105670372791, 7.09269942395713], [-73.1058859684592, 7.09279748246629], [-73.1057063054024, 7.092922284175], [-73.1071076772456, 7.09551636917531], [-73.106065631516, 7.09614928803943], [-73.1067753005905, 7.09646128997612], [-73.107538868582, 7.09712986484249], [-73.1080149756826, 7.09667523403903], [-73.1082665039621, 7.09671980570629], [-73.1084192175604, 7.09647911865183], [-73.1090300719536, 7.09827089703757], [-73.1086797289928, 7.09929604073719], [-73.1086348132286, 7.10007158271389], [-73.1079071778485, 7.10148894915483], [-73.1080059925297, 7.10345899210976], [-73.1078263294729, 7.1035927051266], [-73.1072154750797, 7.10351247732117], [-73.1063171597956, 7.10396710136689], [-73.1063351261013, 7.10452869515564]]], &quot;type&quot;: &quot;Polygon&quot;}, &quot;id&quot;: &quot;8&quot;, &quot;properties&quot;: {&quot;Crimen Organizado&quot;: 11.625, &quot;Delitos Sexuales&quot;: 8.5, &quot;Delitos Violentos&quot;: 44.875, &quot;RME_Crimen Organizado&quot;: 0.779327680727844, &quot;RME_Delitos Sexuales&quot;: 0.7506084742974551, &quot;RME_Delitos Violentos&quot;: 0.77836422395494, &quot;RME_Robos y Hurtos&quot;: 0.6892338631751685, &quot;RME_Violencia Familiar&quot;: 0.7675089582995902, &quot;Robos y Hurtos&quot;: 141.25, &quot;Violencia Familiar&quot;: 34.75, &quot;area&quot;: 892571.573, &quot;cluster&quot;: 0, &quot;crimen_organizado_por_1000hab&quot;: 0.7, &quot;crimen_organizado_por_1000hab_log&quot;: 0.5306282510621704, &quot;delitos_sexuales_por_1000hab&quot;: 0.51, &quot;delitos_sexuales_por_1000hab_log&quot;: 0.412109650826833, &quot;delitos_violentos_por_1000hab&quot;: 2.72, &quot;delitos_violentos_por_1000hab_log&quot;: 1.3137236682850553, &quot;expected_Crimen Organizado&quot;: 14.916703573448036, &quot;expected_Delitos Sexuales&quot;: 11.324146064239043, &quot;expected_Delitos Violentos&quot;: 57.652958112573586, &quot;expected_Robos y Hurtos&quot;: 204.93769610983458, &quot;expected_Violencia Familiar&quot;: 45.27634449634092, &quot;manzanas&quot;: 129, &quot;manzanas_km2&quot;: 0.00014452622501344214, &quot;nombre_com&quot;: &quot;Comuna La Pedregosa&quot;, &quot;num_com&quot;: 9, &quot;personas&quot;: 16513, &quot;poblacional_km2&quot;: 0.018500477160054034, &quot;robos_y_hurtos_por_1000hab&quot;: 8.55, &quot;robos_y_hurtos_por_1000hab_log&quot;: 2.256541154492639, &quot;violencia_familiar_por_1000hab&quot;: 2.1, &quot;violencia_familiar_por_1000hab_log&quot;: 1.1314021114911006}, &quot;type&quot;: &quot;Feature&quot;}, {&quot;geometry&quot;: {&quot;coordinates&quot;: [[[-73.1248943198712, 7.07215124888259], [-73.1247955051899, 7.071919463814], [-73.1243104149365, 7.07163418972374], [-73.124112785574, 7.07071596254941], [-73.1238702404473, 7.07044851739812], [-73.1218310647523, 7.07109930032959], [-73.1208429179398, 7.07162527490558], [-73.1194235797909, 7.07276637023136], [-73.1175461008471, 7.0737024228856], [-73.117096943205, 7.07413033203838], [-73.1164411730476, 7.07424622403234], [-73.1166028697987, 7.07459389983967], [-73.11591116703, 7.0750574671755], [-73.1156057398334, 7.07566366991225], [-73.1152374305669, 7.07579739099701], [-73.1145097951867, 7.07706328201342], [-73.114384031047, 7.07717025855992], [-73.1140516543918, 7.07703653787292], [-73.1137911429594, 7.07712568500189], [-73.113701311431, 7.0777942879203], [-73.1131802885662, 7.07832025486866], [-73.1127221477713, 7.07851637798408], [-73.1124706194918, 7.07942567497543], [-73.1117609504173, 7.07948807764442], [-73.111949596627, 7.08038845807167], [-73.1115363715963, 7.08069155603794], [-73.1113746748452, 7.08119077578352], [-73.1107099215349, 7.08168999498876], [-73.1101619492116, 7.08300935742985], [-73.1097666904866, 7.08486359015523], [-73.1084371838661, 7.08691393496635], [-73.1080239588354, 7.08728834477306], [-73.1083383691848, 7.0887235795473], [-73.110197881823, 7.09371566567512], [-73.1108985677446, 7.09647911865183], [-73.1117968830287, 7.0965950050271], [-73.1135036820685, 7.09607797328135], [-73.1151475990385, 7.09409898433703], [-73.1158752344186, 7.09388503907671], [-73.1163693078249, 7.09417029940171], [-73.1165220214232, 7.09391178223969], [-73.1168454149254, 7.09379589518891], [-73.117043044288, 7.09419704254812], [-73.1176449155283, 7.09433967263604], [-73.1179593258778, 7.09413464187074], [-73.1178425448908, 7.09373349445717], [-73.1179862753363, 7.0936176073615], [-73.1188756074676, 7.09333234669407], [-73.1203398613807, 7.09327886029926], [-73.1207441032585, 7.09259245101424], [-73.1212561429705, 7.09250330687618], [-73.1215436038614, 7.09204867150364], [-73.1227473463421, 7.09221804551843], [-73.1229270093989, 7.09181689643511], [-73.1228641273291, 7.09018555323003], [-73.1226125990495, 7.0880015054681], [-73.1224059865342, 7.0873774899203], [-73.1224329359927, 7.08599573820034], [-73.1203668108392, 7.0859689945778], [-73.1204027434506, 7.08548760910671], [-73.1187049275636, 7.08290238223741], [-73.118677978105, 7.08023690901385], [-73.1181389889346, 7.07897994138007], [-73.1198008722102, 7.07789234960021], [-73.1207441032585, 7.07636793385672], [-73.1214897049443, 7.07577064678316], [-73.1228731104819, 7.07353304206974], [-73.1248943198712, 7.07215124888259]]], &quot;type&quot;: &quot;Polygon&quot;}, &quot;id&quot;: &quot;9&quot;, &quot;properties&quot;: {&quot;Crimen Organizado&quot;: 22.75, &quot;Delitos Sexuales&quot;: 24.25, &quot;Delitos Violentos&quot;: 96.625, &quot;RME_Crimen Organizado&quot;: 0.4423933560517714, &quot;RME_Delitos Sexuales&quot;: 0.621164081563898, &quot;RME_Delitos Violentos&quot;: 0.48614739844963745, &quot;RME_Robos y Hurtos&quot;: 0.5748280194436717, &quot;RME_Violencia Familiar&quot;: 0.5894086784937501, &quot;Robos y Hurtos&quot;: 406.125, &quot;Violencia Familiar&quot;: 92.0, &quot;area&quot;: 2631933.493, &quot;cluster&quot;: 0, &quot;crimen_organizado_por_1000hab&quot;: 0.4, &quot;crimen_organizado_por_1000hab_log&quot;: 0.33647223662121295, &quot;delitos_sexuales_por_1000hab&quot;: 0.43, &quot;delitos_sexuales_por_1000hab_log&quot;: 0.35767444427181594, &quot;delitos_violentos_por_1000hab&quot;: 1.7, &quot;delitos_violentos_por_1000hab_log&quot;: 0.9932517730102833, &quot;expected_Crimen Organizado&quot;: 51.42482292916186, &quot;expected_Delitos Sexuales&quot;: 39.0396043810937, &quot;expected_Delitos Violentos&quot;: 198.75659174181487, &quot;expected_Robos y Hurtos&quot;: 706.5156642730371, &quot;expected_Violencia Familiar&quot;: 156.08864164523078, &quot;manzanas&quot;: 450, &quot;manzanas_km2&quot;: 0.0001709769647283409, &quot;nombre_com&quot;: &quot;Comuna Provenza&quot;, &quot;num_com&quot;: 10, &quot;personas&quot;: 56928, &quot;poblacional_km2&quot;: 0.021629725884566645, &quot;robos_y_hurtos_por_1000hab&quot;: 7.13, &quot;robos_y_hurtos_por_1000hab_log&quot;: 2.0955609235597192, &quot;violencia_familiar_por_1000hab&quot;: 1.62, &quot;violencia_familiar_por_1000hab_log&quot;: 0.9631743177730056}, &quot;type&quot;: &quot;Feature&quot;}, {&quot;geometry&quot;: {&quot;coordinates&quot;: [[[-73.1231246387614, 7.08187720205141], [-73.1233132849711, 7.08165433649202], [-73.1235288806393, 7.0802993115731], [-73.1245709263689, 7.07764273801036], [-73.1252716122905, 7.07675126694447], [-73.1260261971291, 7.07533382440421], [-73.126205860186, 7.07400552524311], [-73.1259273824479, 7.07366676377164], [-73.1251368649979, 7.07336366119174], [-73.1246517747445, 7.07301598445804], [-73.1248044883428, 7.07289117736156], [-73.1247595725785, 7.07265939266435], [-73.1249661850939, 7.0725702446729], [-73.1248314378013, 7.072347374619], [-73.1248943198712, 7.07215124888259], [-73.1228731104819, 7.07353304206974], [-73.1214897049443, 7.07577064678316], [-73.1207441032585, 7.07636793385672], [-73.1198008722102, 7.07789234960021], [-73.1181389889346, 7.07897994138007], [-73.118677978105, 7.08023690901385], [-73.1187049275636, 7.08290238223741], [-73.1204027434506, 7.08548760910671], [-73.1203668108392, 7.0859689945778], [-73.1224329359927, 7.08599573820034], [-73.1224059865342, 7.0873774899203], [-73.1226125990495, 7.0880015054681], [-73.1228641273291, 7.09018555323003], [-73.1229270093989, 7.09181689643511], [-73.1234390491109, 7.09206650035024], [-73.1236815942376, 7.09187929742657], [-73.1239510888228, 7.09071150604202], [-73.1243014317836, 7.09069367714298], [-73.1246427915916, 7.09099676833293], [-73.1250290671638, 7.09093436722189], [-73.1266640009809, 7.09002509293054], [-73.1271311249286, 7.08940108012344], [-73.1276521477934, 7.08998943507862], [-73.1280563896713, 7.0900607507797], [-73.1284965641605, 7.08975765897386], [-73.1288019913571, 7.08916038924338], [-73.1300057338378, 7.08916038924338], [-73.1305087903969, 7.08861660568103], [-73.1313352404583, 7.08847397382073], [-73.1315059203623, 7.08820653896365], [-73.1314789709038, 7.08793910395135], [-73.132655763926, 7.08713679798318], [-73.132880342747, 7.08723485767644], [-73.1333025509305, 7.08779647188132], [-73.134290697743, 7.08790344593798], [-73.1354495244596, 7.08734183186348], [-73.1370485256653, 7.08691393496635], [-73.137515649613, 7.08604031090114], [-73.1379917567136, 7.0858709346152], [-73.1378210768096, 7.08563915643886], [-73.1379468409494, 7.0853895490417], [-73.1382073523818, 7.0853806344893], [-73.1387193920938, 7.08496165033212], [-73.1396266905307, 7.08480118821362], [-73.1403183932995, 7.08431980152301], [-73.1407675509416, 7.08472095713342], [-73.1412256917365, 7.08470312800259], [-73.1415580683916, 7.08416825375712], [-73.1438128397547, 7.0830895888079], [-73.1439745365059, 7.08286672383443], [-73.1439565702002, 7.08250122504475], [-73.1441452164098, 7.08233184745861], [-73.1446842055803, 7.08239424973444], [-73.1452231947508, 7.08296478443602], [-73.1455376051002, 7.0830182720281], [-73.1465976171355, 7.08218029903935], [-73.146965926402, 7.08248339582808], [-73.1472264378344, 7.08230510362354], [-73.1475767807952, 7.08166325111646], [-73.1479900058259, 7.08198417748167], [-73.1481606857299, 7.08267060256866], [-73.1489242537214, 7.08248339582808], [-73.1489601863327, 7.08307175961397], [-73.1497327374771, 7.0834729163103], [-73.1504513897043, 7.08343725795143], [-73.1510083451805, 7.08288455303627], [-73.1515922501152, 7.08320547855153], [-73.1527510768317, 7.08296478443602], [-73.150415457093, 7.07868575697123], [-73.1486188265248, 7.07722374682387], [-73.1463730383145, 7.07680475525698], [-73.1451153969167, 7.07732180862502], [-73.1441991153269, 7.07752684686918], [-73.1433008000428, 7.07689390243074], [-73.1424743499814, 7.07653731363243], [-73.1418095966711, 7.07669777862576], [-73.141477220016, 7.07649274001326], [-73.1402555112296, 7.07660863141414], [-73.1394021117097, 7.0762698718529], [-73.1390517687489, 7.07633227494865], [-73.1384498975085, 7.0773752968714], [-73.1374707338488, 7.07791909369111], [-73.1370934414295, 7.07886405057474], [-73.13361696128, 7.07855203672339], [-73.1333833993061, 7.079078002808], [-73.1328893258998, 7.07956830963499], [-73.1301943800475, 7.08114620261392], [-73.1281641875054, 7.08114620261392], [-73.127050276553, 7.08137798304881], [-73.1254422921945, 7.08120860505016], [-73.1247416062729, 7.08144930008227], [-73.1233492175825, 7.08227835978692], [-73.1231246387614, 7.08187720205141]]], &quot;type&quot;: &quot;Polygon&quot;}, &quot;id&quot;: &quot;10&quot;, &quot;properties&quot;: {&quot;Crimen Organizado&quot;: 20.25, &quot;Delitos Sexuales&quot;: 20.125, &quot;Delitos Violentos&quot;: 76.75, &quot;RME_Crimen Organizado&quot;: 0.6539773009307013, &quot;RME_Delitos Sexuales&quot;: 0.8561323999220448, &quot;RME_Delitos Violentos&quot;: 0.6413089415970699, &quot;RME_Robos y Hurtos&quot;: 0.4777703684792381, &quot;RME_Violencia Familiar&quot;: 0.8990748716901674, &quot;Robos y Hurtos&quot;: 203.25, &quot;Violencia Familiar&quot;: 84.5, &quot;area&quot;: 3296170.316, &quot;cluster&quot;: 0, &quot;crimen_organizado_por_1000hab&quot;: 0.59, &quot;crimen_organizado_por_1000hab_log&quot;: 0.4637340162321401, &quot;delitos_sexuales_por_1000hab&quot;: 0.59, &quot;delitos_sexuales_por_1000hab_log&quot;: 0.4637340162321401, &quot;delitos_violentos_por_1000hab&quot;: 2.24, &quot;delitos_violentos_por_1000hab_log&quot;: 1.1755733298042381, &quot;expected_Crimen Organizado&quot;: 30.96437746567261, &quot;expected_Delitos Sexuales&quot;: 23.506878143885785, &quot;expected_Delitos Violentos&quot;: 119.6771088344212, &quot;expected_Robos y Hurtos&quot;: 425.4135739873378, &quot;expected_Violencia Familiar&quot;: 93.98549849485703, &quot;manzanas&quot;: 1116, &quot;manzanas_km2&quot;: 0.0003385747376532105, &quot;nombre_com&quot;: &quot;Comuna Sur&quot;, &quot;num_com&quot;: 11, &quot;personas&quot;: 34278, &quot;poblacional_km2&quot;: 0.010399341269961246, &quot;robos_y_hurtos_por_1000hab&quot;: 5.93, &quot;robos_y_hurtos_por_1000hab_log&quot;: 1.9358598132018119, &quot;violencia_familiar_por_1000hab&quot;: 2.47, &quot;violencia_familiar_por_1000hab_log&quot;: 1.244154593958768}, &quot;type&quot;: &quot;Feature&quot;}, {&quot;geometry&quot;: {&quot;coordinates&quot;: [[[-73.1183096688386, 7.11702620788665], [-73.1177976291266, 7.11664290834424], [-73.1179952584891, 7.1165448549215], [-73.1147882729248, 7.10903924895137], [-73.1142582669072, 7.10907490532674], [-73.1133779179287, 7.10235362968108], [-73.1116172199719, 7.10341442109551], [-73.1111680623298, 7.10384230265401], [-73.1107368709934, 7.10390470201468], [-73.1107278878406, 7.10335202166828], [-73.1104853427139, 7.10381556006826], [-73.1100541513775, 7.10373533230171], [-73.1097127915695, 7.10450195260983], [-73.1088054931326, 7.10484960558404], [-73.1086348132286, 7.10519725829532], [-73.1081497229752, 7.10550925409441], [-73.1077814137087, 7.10535771330416], [-73.1075478517348, 7.10472480711073], [-73.107197508774, 7.10461783696377], [-73.1065686880751, 7.10468915039784], [-73.1063351261013, 7.10452869515564], [-73.105050535245, 7.10498331819642], [-73.1042600177949, 7.10550925409441], [-73.1039815400569, 7.10585690630676], [-73.1041252705023, 7.10639175535075], [-73.103801877, 7.10680180586297], [-73.1036671297074, 7.10749710806917], [-73.1044576471574, 7.10749710806917], [-73.1047810406597, 7.10807652577068], [-73.1046822259785, 7.10822806566438], [-73.1039905232097, 7.1083796055081], [-73.1037659443887, 7.10952060978519], [-73.1027149155062, 7.11023373601925], [-73.1020950779602, 7.11089337680004], [-73.1022837241699, 7.11280098129382], [-73.1022208421, 7.11373695256323], [-73.1018704991392, 7.11419156649133], [-73.1009272680908, 7.11448572820489], [-73.1001457337937, 7.11507405106654], [-73.100181666405, 7.11627743638937], [-73.0997145424573, 7.11661616650375], [-73.1011069311477, 7.11880899224806], [-73.1015920214011, 7.11848809157423], [-73.1024903366852, 7.11844352201845], [-73.1025711850608, 7.1189427007959], [-73.1029844100915, 7.11943296513791], [-73.104484596616, 7.11952210405291], [-73.104709175437, 7.11991431507306], [-73.1043228998648, 7.12061851129033], [-73.1044576471574, 7.12221409112396], [-73.1053918950529, 7.12422861415687], [-73.1063980081711, 7.12412164855464], [-73.1061734293501, 7.1245405970208], [-73.1047810406597, 7.12540523413398], [-73.1046912091313, 7.12644814477037], [-73.1050595183978, 7.12733060576278], [-73.1059847831404, 7.12704536603191], [-73.106460890241, 7.12505759672783], [-73.1069010647303, 7.1244871142592], [-73.1079161610013, 7.12447820046499], [-73.1091648192462, 7.12233888484335], [-73.1090390551065, 7.12155446661446], [-73.1118687482514, 7.12109094612125], [-73.1155428577635, 7.1187376810066], [-73.1154350599294, 7.1178017199351], [-73.1183096688386, 7.11702620788665]]], &quot;type&quot;: &quot;Polygon&quot;}, &quot;id&quot;: &quot;11&quot;, &quot;properties&quot;: {&quot;Crimen Organizado&quot;: 31.25, &quot;Delitos Sexuales&quot;: 18.5, &quot;Delitos Violentos&quot;: 132.75, &quot;RME_Crimen Organizado&quot;: 0.8543462449411809, &quot;RME_Delitos Sexuales&quot;: 0.666228210996992, &quot;RME_Delitos Violentos&quot;: 0.9390088535551943, &quot;RME_Robos y Hurtos&quot;: 2.044639439169608, &quot;RME_Violencia Familiar&quot;: 0.46161431351609594, &quot;Robos y Hurtos&quot;: 1027.5, &quot;Violencia Familiar&quot;: 51.25, &quot;area&quot;: 2825578.135, &quot;cluster&quot;: 3, &quot;crimen_organizado_por_1000hab&quot;: 0.77, &quot;crimen_organizado_por_1000hab_log&quot;: 0.5709795465857378, &quot;delitos_sexuales_por_1000hab&quot;: 0.46, &quot;delitos_sexuales_por_1000hab_log&quot;: 0.3784364357202451, &quot;delitos_violentos_por_1000hab&quot;: 3.28, &quot;delitos_violentos_por_1000hab_log&quot;: 1.4539530095937052, &quot;expected_Crimen Organizado&quot;: 36.57767583698043, &quot;expected_Delitos Sexuales&quot;: 27.768262728345388, &quot;expected_Delitos Violentos&quot;: 141.37246895744744, &quot;expected_Robos y Hurtos&quot;: 502.5335911632908, &quot;expected_Violencia Familiar&quot;: 111.02342041699488, &quot;manzanas&quot;: 260, &quot;manzanas_km2&quot;: 9.20165670803508e-05, &quot;nombre_com&quot;: &quot;Comuna Cabecera del Llano&quot;, &quot;num_com&quot;: 12, &quot;personas&quot;: 40492, &quot;poblacional_km2&quot;: 0.01433051859314448, &quot;robos_y_hurtos_por_1000hab&quot;: 25.38, &quot;robos_y_hurtos_por_1000hab_log&quot;: 3.2726061472891685, &quot;violencia_familiar_por_1000hab&quot;: 1.27, &quot;violencia_familiar_por_1000hab_log&quot;: 0.8197798314933114}, &quot;type&quot;: &quot;Feature&quot;}, {&quot;geometry&quot;: {&quot;coordinates&quot;: [[[-73.1147523403135, 7.14042470087457], [-73.1167376170914, 7.13972944860498], [-73.11749220193, 7.13906093581074], [-73.1177976291266, 7.13831220032135], [-73.1179952584891, 7.13490722109308], [-73.1182378036158, 7.13461307248409], [-73.1181928878516, 7.13439914610427], [-73.1199985015727, 7.13275012690452], [-73.1193517145681, 7.12881919772677], [-73.1193786640267, 7.12710776223821], [-73.1202590130051, 7.12613616320485], [-73.1220017446563, 7.12543197546199], [-73.1233402344296, 7.12413947615674], [-73.1208249516341, 7.11795325661907], [-73.1202769793108, 7.11724905631063], [-73.1198637542801, 7.11637548986924], [-73.1180222079476, 7.11713317514367], [-73.1154350599294, 7.1178017199351], [-73.1155428577635, 7.1187376810066], [-73.1118687482514, 7.12109094612125], [-73.1090390551065, 7.12155446661446], [-73.1091648192462, 7.12233888484335], [-73.1079161610013, 7.12447820046499], [-73.1069010647303, 7.1244871142592], [-73.106460890241, 7.12505759672783], [-73.1062452945728, 7.12622530081667], [-73.1059039347649, 7.12707210726422], [-73.106011732599, 7.12724146836596], [-73.1059398673762, 7.12815066899991], [-73.105329012983, 7.12845373547697], [-73.1047451080484, 7.12815958272269], [-73.1051673162319, 7.12913117746544], [-73.1055356254984, 7.12868549205944], [-73.1057422380137, 7.12873897433104], [-73.1057332548609, 7.12899747188916], [-73.1076556495689, 7.12936293370519], [-73.1078353126257, 7.12984427321312], [-73.1080598914468, 7.13000471960336], [-73.1068830984246, 7.12995123747952], [-73.106685469062, 7.13027213012887], [-73.1077993800144, 7.13173397157524], [-73.1080509082939, 7.13325820372349], [-73.1084910827832, 7.13364148937171], [-73.1085898974644, 7.13476460360929], [-73.1078263294729, 7.1347467764207], [-73.1080868409053, 7.13529941894438], [-73.1086887121456, 7.13586988794633], [-73.1098295725565, 7.13803588096213], [-73.1108267025219, 7.13833002737105], [-73.1112578938582, 7.13869548173686], [-73.112569434173, 7.13869548173686], [-73.1134318168458, 7.13903419527864], [-73.1133958842344, 7.1399166320123], [-73.1147523403135, 7.14042470087457]]], &quot;type&quot;: &quot;Polygon&quot;}, &quot;id&quot;: &quot;12&quot;, &quot;properties&quot;: {&quot;Crimen Organizado&quot;: 48.375, &quot;Delitos Sexuales&quot;: 36.0, &quot;Delitos Violentos&quot;: 181.0, &quot;RME_Crimen Organizado&quot;: 0.7828066548230529, &quot;RME_Delitos Sexuales&quot;: 0.7673675477418326, &quot;RME_Delitos Violentos&quot;: 0.7578153011920651, &quot;RME_Robos y Hurtos&quot;: 1.3175559359767415, &quot;RME_Violencia Familiar&quot;: 0.5444614109912685, &quot;Robos y Hurtos&quot;: 1118.625, &quot;Violencia Familiar&quot;: 102.125, &quot;area&quot;: 3002325.167, &quot;cluster&quot;: 3, &quot;crimen_organizado_por_1000hab&quot;: 0.71, &quot;crimen_organizado_por_1000hab_log&quot;: 0.5364933705145685, &quot;delitos_sexuales_por_1000hab&quot;: 0.53, &quot;delitos_sexuales_por_1000hab_log&quot;: 0.4252677354043441, &quot;delitos_violentos_por_1000hab&quot;: 2.65, &quot;delitos_violentos_por_1000hab_log&quot;: 1.2947271675944, &quot;expected_Crimen Organizado&quot;: 61.79686861621632, &quot;expected_Delitos Sexuales&quot;: 46.913633637412524, &quot;expected_Delitos Violentos&quot;: 238.84447795562036, &quot;expected_Robos y Hurtos&quot;: 849.0151874810018, &quot;expected_Violencia Familiar&quot;: 187.57068533850193, &quot;manzanas&quot;: 315, &quot;manzanas_km2&quot;: 0.00010491868218083655, &quot;nombre_com&quot;: &quot;Comuna Oriental&quot;, &quot;num_com&quot;: 13, &quot;personas&quot;: 68410, &quot;poblacional_km2&quot;: 0.022785673168225485, &quot;robos_y_hurtos_por_1000hab&quot;: 16.35, &quot;robos_y_hurtos_por_1000hab_log&quot;: 2.8535925063928684, &quot;violencia_familiar_por_1000hab&quot;: 1.49, &quot;violencia_familiar_por_1000hab_log&quot;: 0.9122827104766162}, &quot;type&quot;: &quot;Feature&quot;}, {&quot;geometry&quot;: {&quot;coordinates&quot;: [[[-73.1039096748341, 7.13806262155257], [-73.1038647590699, 7.13637796130253], [-73.1043857819347, 7.1369038611999], [-73.105616473874, 7.13767933960688], [-73.1067393679791, 7.13735845214959], [-73.1075478517348, 7.13781304264766], [-73.1076825990274, 7.13681472566661], [-73.1072783571496, 7.13671667655994], [-73.1072334413854, 7.13640470198985], [-73.107422087595, 7.1362086035798], [-73.1074939528178, 7.13550443132381], [-73.1090570214121, 7.1365829731988], [-73.1078263294729, 7.1347467764207], [-73.1085898974644, 7.13476460360929], [-73.1084910827832, 7.13364148937171], [-73.1080509082939, 7.13325820372349], [-73.1077993800144, 7.13173397157524], [-73.106685469062, 7.13027213012887], [-73.1067393679791, 7.13002254697659], [-73.1070088625643, 7.12993341010352], [-73.1080598914468, 7.13005820172095], [-73.1076556495689, 7.12936293370519], [-73.1057332548609, 7.12899747188916], [-73.1057422380137, 7.12873897433104], [-73.1055356254984, 7.12868549205944], [-73.1053649455944, 7.1289885581827], [-73.1051673162319, 7.12913117746544], [-73.1050415520921, 7.12905095412436], [-73.1051224004677, 7.12935402000583], [-73.1050146026336, 7.1300760290921], [-73.1047540912012, 7.1300671154066], [-73.1047451080484, 7.13073564133657], [-73.1043947650876, 7.13075346868135], [-73.1046462933671, 7.1312615477157], [-73.104313916712, 7.13169831696134], [-73.1037389949301, 7.13111001543111], [-73.1038557759171, 7.13095848309637], [-73.1037210286245, 7.13061084990371], [-73.1040174726682, 7.13061084990371], [-73.1040803547381, 7.13037018061576], [-73.1036671297074, 7.13042366269069], [-73.1035413655676, 7.13069998664494], [-73.1028855954102, 7.13104761976994], [-73.1022118589471, 7.13086043273541], [-73.1021669431829, 7.13119915207518], [-73.1017986339165, 7.13136851165112], [-73.0997504750687, 7.13042366269069], [-73.0992833511209, 7.13040583533307], [-73.0990677554527, 7.1300671154066], [-73.0985736820465, 7.12985318690294], [-73.0985467325879, 7.12916683227919], [-73.0982413053913, 7.12922031449461], [-73.0980526591817, 7.12941641589772], [-73.0982502885442, 7.13003146066294], [-73.0986455472692, 7.13014733856973], [-73.0984209684482, 7.13086043273541], [-73.0983491032254, 7.13378410720539], [-73.0995708120118, 7.13405151552383], [-73.100127767488, 7.13386432971733], [-73.1006398071999, 7.13391781138414], [-73.1015650719426, 7.13557573995599], [-73.1016638866238, 7.13793783211713], [-73.1022567747114, 7.13818741095397], [-73.1031910226068, 7.13828545974549], [-73.1039096748341, 7.13806262155257]]], &quot;type&quot;: &quot;Polygon&quot;}, &quot;id&quot;: &quot;13&quot;, &quot;properties&quot;: {&quot;Crimen Organizado&quot;: 18.125, &quot;Delitos Sexuales&quot;: 16.0, &quot;Delitos Violentos&quot;: 71.875, &quot;RME_Crimen Organizado&quot;: 1.0017788769829654, &quot;RME_Delitos Sexuales&quot;: 1.164880122511664, &quot;RME_Delitos Violentos&quot;: 1.0278339927087001, &quot;RME_Robos y Hurtos&quot;: 0.4807427794378085, &quot;RME_Violencia Familiar&quot;: 1.3679803013093388, &quot;Robos y Hurtos&quot;: 119.5, &quot;Violencia Familiar&quot;: 75.125, &quot;area&quot;: 711281.256, &quot;cluster&quot;: 2, &quot;crimen_organizado_por_1000hab&quot;: 0.9, &quot;crimen_organizado_por_1000hab_log&quot;: 0.6418538861723948, &quot;delitos_sexuales_por_1000hab&quot;: 0.8, &quot;delitos_sexuales_por_1000hab_log&quot;: 0.5877866649021191, &quot;delitos_violentos_por_1000hab&quot;: 3.59, &quot;delitos_violentos_por_1000hab_log&quot;: 1.5238800240724537, &quot;expected_Crimen Organizado&quot;: 18.092815107647958, &quot;expected_Delitos Sexuales&quot;: 13.73531893178973, &quot;expected_Delitos Violentos&quot;: 69.9286076446882, &quot;expected_Robos y Hurtos&quot;: 248.57367621776035, &quot;expected_Violencia Familiar&quot;: 54.91672645292874, &quot;manzanas&quot;: 170, &quot;manzanas_km2&quot;: 0.00023900531409476645, &quot;nombre_com&quot;: &quot;Comuna Morrorico&quot;, &quot;num_com&quot;: 14, &quot;personas&quot;: 20029, &quot;poblacional_km2&quot;: 0.028159043741200453, &quot;robos_y_hurtos_por_1000hab&quot;: 5.97, &quot;robos_y_hurtos_por_1000hab_log&quot;: 1.9416152247724325, &quot;violencia_familiar_por_1000hab&quot;: 3.75, &quot;violencia_familiar_por_1000hab_log&quot;: 1.55814461804655}, &quot;type&quot;: &quot;Feature&quot;}, {&quot;geometry&quot;: {&quot;coordinates&quot;: [[[-73.1233402344296, 7.12413947615674], [-73.1239061730586, 7.12359573398067], [-73.1257836520024, 7.12362247541425], [-73.1265831526053, 7.12298959440131], [-73.1273287542911, 7.12265086899322], [-73.1284516483963, 7.12259738601118], [-73.128864873427, 7.12201798663917], [-73.1296464077242, 7.12163469126765], [-73.1303830262571, 7.12156338046551], [-73.1320808421441, 7.12076113317737], [-73.1317664317947, 7.12021738699528], [-73.1312993078469, 7.11988757342325], [-73.1315688024322, 7.11893378689392], [-73.1314789709038, 7.1184167802829], [-73.1318203307117, 7.1182028463424], [-73.1311555774015, 7.11601001770142], [-73.1304908240912, 7.11462835199818], [-73.129655390877, 7.11231962389804], [-73.12716705754, 7.11364781252455], [-73.1217681826824, 7.11589413622157], [-73.1198637542801, 7.11637548986924], [-73.1202769793108, 7.11724905631063], [-73.1208249516341, 7.11795325661907], [-73.1233402344296, 7.12413947615674]]], &quot;type&quot;: &quot;Polygon&quot;}, &quot;id&quot;: &quot;14&quot;, &quot;properties&quot;: {&quot;Crimen Organizado&quot;: 107.375, &quot;Delitos Sexuales&quot;: 23.875, &quot;Delitos Violentos&quot;: 207.25, &quot;RME_Crimen Organizado&quot;: 14.732973535441735, &quot;RME_Delitos Sexuales&quot;: 4.3151709870332144, &quot;RME_Delitos Violentos&quot;: 7.357546832846438, &quot;RME_Robos y Hurtos&quot;: 9.34041039784615, &quot;RME_Violencia Familiar&quot;: 3.4242965858597096, &quot;Robos y Hurtos&quot;: 935.25, &quot;Violencia Familiar&quot;: 75.75, &quot;area&quot;: 1036568.401, &quot;cluster&quot;: 1, &quot;crimen_organizado_por_1000hab&quot;: 13.31, &quot;crimen_organizado_por_1000hab_log&quot;: 2.6609585935683597, &quot;delitos_sexuales_por_1000hab&quot;: 2.96, &quot;delitos_sexuales_por_1000hab_log&quot;: 1.3762440252663892, &quot;delitos_violentos_por_1000hab&quot;: 25.69, &quot;delitos_violentos_por_1000hab_log&quot;: 3.284288963416433, &quot;expected_Crimen Organizado&quot;: 7.288073907259659, &quot;expected_Delitos Sexuales&quot;: 5.532805089703906, &quot;expected_Delitos Violentos&quot;: 28.16835620736654, &quot;expected_Robos y Hurtos&quot;: 100.12943330794799, &quot;expected_Violencia Familiar&quot;: 22.121331520406862, &quot;manzanas&quot;: 129, &quot;manzanas_km2&quot;: 0.00012444909556914036, &quot;nombre_com&quot;: &quot;Comuna Centro&quot;, &quot;num_com&quot;: 15, &quot;personas&quot;: 8068, &quot;poblacional_km2&quot;: 0.007783374442262204, &quot;robos_y_hurtos_por_1000hab&quot;: 115.92, &quot;robos_y_hurtos_por_1000hab_log&quot;: 4.761489940243045, &quot;violencia_familiar_por_1000hab&quot;: 9.39, &quot;violencia_familiar_por_1000hab_log&quot;: 2.340843805111136}, &quot;type&quot;: &quot;Feature&quot;}, {&quot;geometry&quot;: {&quot;coordinates&quot;: [[[-73.0976035015396, 7.09724575105388], [-73.0966243378799, 7.09718335078984], [-73.0944234654338, 7.09797672494546], [-73.0935520996082, 7.09791432478055], [-73.0935700659139, 7.09930495502021], [-73.0936598974423, 7.09909101217999], [-73.0939743077918, 7.099099926467], [-73.094019223556, 7.10024095377624], [-73.0938215941935, 7.10088278039387], [-73.0939293920276, 7.10271911271365], [-73.0936149816781, 7.10375316069549], [-73.093848543652, 7.10505463157379], [-73.0933454870929, 7.10487634810962], [-73.0930310767434, 7.10414538518368], [-73.0924471718088, 7.10371750390724], [-73.0921597109178, 7.10413647099447], [-73.0928514136866, 7.10476046382085], [-73.0935700659139, 7.10589256292905], [-73.0943516002111, 7.10611541675574], [-73.0945402464208, 7.10646306850959], [-73.094468381198, 7.10673940689557], [-73.095034319827, 7.10681072000046], [-73.0950522861327, 7.10777344583334], [-73.0947468589361, 7.10788932936239], [-73.0952499154952, 7.1086470286398], [-73.0958697530413, 7.10911947579204], [-73.0960494160981, 7.10968997736603], [-73.0959236519583, 7.11001979826527], [-73.0960763655566, 7.1101000249347], [-73.0964626411288, 7.11118754062657], [-73.0969746808407, 7.11111622820107], [-73.0976574004566, 7.11061704091258], [-73.0981874064743, 7.11088446274175], [-73.0985377494351, 7.11077749402876], [-73.0992923342737, 7.11015350937318], [-73.0996606435402, 7.11013568122772], [-73.1000559022653, 7.10892336571235], [-73.1007835376454, 7.10861137223122], [-73.1011967626761, 7.10641849778663], [-73.1016728697767, 7.10673049275668], [-73.1029484774801, 7.10601736108531], [-73.1032898372881, 7.10534879913847], [-73.1039815400569, 7.10585690630676], [-73.105050535245, 7.10498331819642], [-73.1063351261013, 7.10452869515564], [-73.1062542777257, 7.10406515747468], [-73.1064698733939, 7.1038690452382], [-73.1072154750797, 7.10351247732117], [-73.1078263294729, 7.1035927051266], [-73.1080059925297, 7.10345899210976], [-73.1079071778485, 7.10148894915483], [-73.1086348132286, 7.10007158271389], [-73.1086797289928, 7.09929604073719], [-73.1090300719536, 7.09843135446307], [-73.1084192175604, 7.09647911865183], [-73.1082665039621, 7.09671980570629], [-73.1080149756826, 7.09667523403903], [-73.107538868582, 7.09712986484249], [-73.1067753005905, 7.09646128997612], [-73.1060027494461, 7.09613145935095], [-73.1049607037165, 7.09379589518891], [-73.1012416784403, 7.09544505431916], [-73.1015920214011, 7.09663066236746], [-73.1015021898727, 7.09668414837282], [-73.100693706117, 7.09702289292913], [-73.1002355653221, 7.09687134934266], [-73.0991935195925, 7.09759340951298], [-73.0976035015396, 7.09724575105388]]], &quot;type&quot;: &quot;Polygon&quot;}, &quot;id&quot;: &quot;15&quot;, &quot;properties&quot;: {&quot;Crimen Organizado&quot;: 11.125, &quot;Delitos Sexuales&quot;: 4.75, &quot;Delitos Violentos&quot;: 23.25, &quot;RME_Crimen Organizado&quot;: 0.5425583057163909, &quot;RME_Delitos Sexuales&quot;: 0.305145804538427, &quot;RME_Delitos Violentos&quot;: 0.2933733215164073, &quot;RME_Robos y Hurtos&quot;: 0.8727940549171179, &quot;RME_Violencia Familiar&quot;: 0.25908819395646465, &quot;Robos y Hurtos&quot;: 245.875, &quot;Violencia Familiar&quot;: 16.125, &quot;area&quot;: 1943901.135, &quot;cluster&quot;: 0, &quot;crimen_organizado_por_1000hab&quot;: 0.49, &quot;crimen_organizado_por_1000hab_log&quot;: 0.3987761199573678, &quot;delitos_sexuales_por_1000hab&quot;: 0.21, &quot;delitos_sexuales_por_1000hab_log&quot;: 0.19062035960864973, &quot;delitos_violentos_por_1000hab&quot;: 1.02, &quot;delitos_violentos_por_1000hab_log&quot;: 0.7030975114131134, &quot;expected_Crimen Organizado&quot;: 20.50470867884073, &quot;expected_Delitos Sexuales&quot;: 15.5663290445202, &quot;expected_Delitos Violentos&quot;: 79.25055993443395, &quot;expected_Robos y Hurtos&quot;: 281.71021401302824, &quot;expected_Violencia Familiar&quot;: 62.237494320986045, &quot;manzanas&quot;: 123, &quot;manzanas_km2&quot;: 6.32748228731293e-05, &quot;nombre_com&quot;: &quot;Comuna Tejar&quot;, &quot;num_com&quot;: 16, &quot;personas&quot;: 22699, &quot;poblacional_km2&quot;: 0.011677034182090746, &quot;robos_y_hurtos_por_1000hab&quot;: 10.83, &quot;robos_y_hurtos_por_1000hab_log&quot;: 2.4706386779902956, &quot;violencia_familiar_por_1000hab&quot;: 0.71, &quot;violencia_familiar_por_1000hab_log&quot;: 0.5364933705145685}, &quot;type&quot;: &quot;Feature&quot;}, {&quot;geometry&quot;: {&quot;coordinates&quot;: [[[-73.1307243860651, 7.10427018381429], [-73.1306974366066, 7.10536662746967], [-73.1316316845021, 7.10567862315379], [-73.1325569492447, 7.10689986136602], [-73.1333205172362, 7.10574102226519], [-73.1341918830618, 7.10488526228447], [-73.1343445966601, 7.10427909800089], [-73.1353866423897, 7.104047329093], [-73.1354674907652, 7.10372641810457], [-73.1351530804158, 7.10280825487264], [-73.1354854570709, 7.10218425939677], [-73.1354854570709, 7.1017652905307], [-73.1372461550278, 7.09970609757742], [-73.1373988686261, 7.09867204049641], [-73.1380995545477, 7.09878792631939], [-73.1384948132727, 7.09865421190566], [-73.1397524546705, 7.09762906677598], [-73.140569921579, 7.09741512315651], [-73.1407765340944, 7.09741512315651], [-73.1412616243478, 7.09784301029598], [-73.141477220016, 7.09780735304956], [-73.1423306195359, 7.09696940696313], [-73.1429414739291, 7.09661283369762], [-73.1443338626195, 7.09614037369527], [-73.1453938746548, 7.09631866054559], [-73.1456004871701, 7.0948834494409], [-73.1454567567247, 7.09390286785221], [-73.1458070996855, 7.09251222129076], [-73.1456004871701, 7.09195952726032], [-73.1490230684026, 7.08836699989653], [-73.1507388505953, 7.08775189935039], [-73.1525534474692, 7.08783212990297], [-73.1521761550499, 7.0865038667338], [-73.1505052886214, 7.08552326730699], [-73.1501639288134, 7.0834729163103], [-73.1497327374771, 7.0834729163103], [-73.1490500178611, 7.0831430763855], [-73.148834422193, 7.08244773739268], [-73.1481606857299, 7.08267060256866], [-73.1479900058259, 7.08198417748167], [-73.1475767807952, 7.08166325111646], [-73.1472264378344, 7.08230510362354], [-73.146965926402, 7.08248339582808], [-73.1465976171355, 7.08218029903935], [-73.1455376051002, 7.0830182720281], [-73.1452231947508, 7.08296478443602], [-73.1446842055803, 7.08239424973444], [-73.1441452164098, 7.08233184745861], [-73.1439565702002, 7.08250122504475], [-73.1439745365059, 7.08286672383443], [-73.1438128397547, 7.0830895888079], [-73.1415580683916, 7.08416825375712], [-73.1412256917365, 7.08470312800259], [-73.1407675509416, 7.08472095713342], [-73.1403183932995, 7.08431980152301], [-73.1396266905307, 7.08480118821362], [-73.1387193920938, 7.08496165033212], [-73.1382073523818, 7.0853806344893], [-73.1379468409494, 7.0853895490417], [-73.1378210768096, 7.08563915643886], [-73.1379917567136, 7.0858709346152], [-73.137515649613, 7.08604031090114], [-73.1370485256653, 7.08691393496635], [-73.1354495244596, 7.08734183186348], [-73.134290697743, 7.08790344593798], [-73.1333025509305, 7.08779647188132], [-73.13276356176, 7.08712788346458], [-73.1322245725896, 7.08743989151311], [-73.1328713595942, 7.08792127494502], [-73.1331318710265, 7.0883402564116], [-73.1332396688606, 7.08890186926919], [-73.1330420394981, 7.08950805380755], [-73.1319640611572, 7.0913087737613], [-73.1317574486418, 7.09140683256656], [-73.1315508361265, 7.09129985932342], [-73.1314520214452, 7.0910502549928], [-73.1316227013492, 7.09030144118933], [-73.1313891393753, 7.09007857970325], [-73.1311286279429, 7.09011423754827], [-73.1297182729469, 7.09140683256656], [-73.1297721718639, 7.09187038299974], [-73.1304099757157, 7.09226261761721], [-73.1305357398554, 7.09254787894737], [-73.1304638746327, 7.09281531128389], [-73.1300416664492, 7.09326103149959], [-73.1293769131389, 7.09383155274611], [-73.1282450358809, 7.09449121705605], [-73.1274275689724, 7.09474081952143], [-73.1265023042297, 7.09459818955779], [-73.1271401080815, 7.09496367875117], [-73.1268975629547, 7.09535591073345], [-73.1274545184309, 7.09588185763964], [-73.1275174005008, 7.09610471631692], [-73.127050276553, 7.09701397860191], [-73.1271311249286, 7.09889489782241], [-73.1301494642833, 7.10303111019452], [-73.1303111610344, 7.10376207489212], [-73.1307243860651, 7.10427018381429]]], &quot;type&quot;: &quot;Polygon&quot;}, &quot;id&quot;: &quot;16&quot;, &quot;properties&quot;: {&quot;Crimen Organizado&quot;: 17.875, &quot;Delitos Sexuales&quot;: 16.625, &quot;Delitos Violentos&quot;: 71.125, &quot;RME_Crimen Organizado&quot;: 0.61393923930038, &quot;RME_Delitos Sexuales&quot;: 0.7521568105321629, &quot;RME_Delitos Violentos&quot;: 0.6320521089331331, &quot;RME_Robos y Hurtos&quot;: 0.4174907160387568, &quot;RME_Violencia Familiar&quot;: 0.8005847059161999, &quot;Robos y Hurtos&quot;: 167.0, &quot;Violencia Familiar&quot;: 70.75, &quot;area&quot;: 3383157.078, &quot;cluster&quot;: 0, &quot;crimen_organizado_por_1000hab&quot;: 0.55, &quot;crimen_organizado_por_1000hab_log&quot;: 0.4382549309311553, &quot;delitos_sexuales_por_1000hab&quot;: 0.52, &quot;delitos_sexuales_por_1000hab_log&quot;: 0.41871033485818504, &quot;delitos_violentos_por_1000hab&quot;: 2.21, &quot;delitos_violentos_por_1000hab_log&quot;: 1.1662709371419244, &quot;expected_Crimen Organizado&quot;: 29.115259061091482, &quot;expected_Delitos Sexuales&quot;: 22.103103724125756, &quot;expected_Delitos Violentos&quot;: 112.53027874561613, &quot;expected_Robos y Hurtos&quot;: 400.0088950109658, &quot;expected_Violencia Familiar&quot;: 88.37290979601309, &quot;manzanas&quot;: 188, &quot;manzanas_km2&quot;: 5.556939736039061e-05, &quot;nombre_com&quot;: &quot;Comuna Mutis&quot;, &quot;num_com&quot;: 17, &quot;personas&quot;: 32231, &quot;poblacional_km2&quot;: 0.009526900246397603, &quot;robos_y_hurtos_por_1000hab&quot;: 5.18, &quot;robos_y_hurtos_por_1000hab_log&quot;: 1.8213182714695995, &quot;violencia_familiar_por_1000hab&quot;: 2.2, &quot;violencia_familiar_por_1000hab_log&quot;: 1.1631508098056809}, &quot;type&quot;: &quot;Feature&quot;}], &quot;type&quot;: &quot;FeatureCollection&quot;});\n",
              "\n",
              "        \n",
              "    \n",
              "    geo_json_2bcd478b1a1294ad456b483346cc7148.bindTooltip(\n",
              "    function(layer){\n",
              "    let div = L.DomUtil.create(&#x27;div&#x27;);\n",
              "    \n",
              "    let handleObject = feature=&gt;typeof(feature)==&#x27;object&#x27; ? JSON.stringify(feature) : feature;\n",
              "    let fields = [&quot;nombre_com&quot;, &quot;cluster&quot;];\n",
              "    let aliases = [&quot;Comuna:&quot;, &quot;Cluster:&quot;];\n",
              "    let table = &#x27;&lt;table&gt;&#x27; +\n",
              "        String(\n",
              "        fields.map(\n",
              "        (v,i)=&gt;\n",
              "        `&lt;tr&gt;\n",
              "            &lt;th&gt;${aliases[i]}&lt;/th&gt;\n",
              "            \n",
              "            &lt;td&gt;${handleObject(layer.feature.properties[v])}&lt;/td&gt;\n",
              "        &lt;/tr&gt;`).join(&#x27;&#x27;))\n",
              "    +&#x27;&lt;/table&gt;&#x27;;\n",
              "    div.innerHTML=table;\n",
              "    \n",
              "    return div\n",
              "    }\n",
              "    ,{\n",
              "  &quot;sticky&quot;: true,\n",
              "  &quot;className&quot;: &quot;foliumtooltip&quot;,\n",
              "});\n",
              "                     \n",
              "    \n",
              "            geo_json_2bcd478b1a1294ad456b483346cc7148.addTo(map_ce58880249004b52b4e2100ed72724df);\n",
              "        \n",
              "    \n",
              "            L.control.fullscreen(\n",
              "                {\n",
              "  &quot;position&quot;: &quot;topright&quot;,\n",
              "  &quot;title&quot;: &quot;Full Screen&quot;,\n",
              "  &quot;titleCancel&quot;: &quot;Exit Full Screen&quot;,\n",
              "  &quot;forceSeparateButton&quot;: false,\n",
              "}\n",
              "            ).addTo(map_ce58880249004b52b4e2100ed72724df);\n",
              "        \n",
              "&lt;/script&gt;\n",
              "&lt;/html&gt;\" width=\"360\" height=\"400\"style=\"border:none !important;\" \"allowfullscreen\" \"webkitallowfullscreen\" \"mozallowfullscreen\"></iframe>"
            ],
            "text/plain": [
              "<branca.element.Figure at 0x1e625089f50>"
            ]
          },
          "metadata": {},
          "output_type": "display_data"
        }
      ],
      "source": [
        "import folium\n",
        "from folium import Figure\n",
        "from folium.plugins import Fullscreen\n",
        "from IPython.display import display\n",
        "\n",
        "\n",
        "# 2. Crear figura y mapa centrado en Bucaramanga, Colombia\n",
        "fig = Figure(width=360, height=400)\n",
        "mapa = folium.Map(location=[7.1254, -73.1198],\n",
        "                  zoom_start=12,\n",
        "                  tiles=\"CartoDB positron\",  # Tipo de mapa (tema visual)\n",
        "                  attr=\"Map tiles by CartoDB\") # Atribución del mapa\n",
        "\n",
        "# Agregar el mapa dentro de la figura para controlar su tamaño\n",
        "fig.add_child(mapa)\n",
        "\n",
        "# 3. Definir la paleta de colores para los clusters\n",
        "palette = {\n",
        "    0: \"#1f77b4\",  # azul\n",
        "    1: \"#ff7f0e\",  # naranja\n",
        "    2: \"#2ca02c\",  # verde\n",
        "    3: \"#d62728\",  # rojo\n",
        "    4: \"#9467bd\",  # púrpura\n",
        "    5: \"#8c564b\",  # marrón\n",
        "    6: \"#e377c2\",  # rosa\n",
        "    7: \"#7f7f7f\",  # gris\n",
        "    8: \"#bcbd22\",  # oliva\n",
        "    9: \"#17becf\"   # cian\n",
        "}\n",
        "\n",
        "# 4. Definir la función de estilo para el GeoJson\n",
        "def style_function(feature):\n",
        "    cluster = feature[\"properties\"].get(\"cluster\")\n",
        "    return {\n",
        "        \"fillColor\": palette.get(cluster, \"gray\"),\n",
        "        \"color\": \"black\",\n",
        "        \"weight\": 1,\n",
        "        \"fillOpacity\": 0.6,\n",
        "    }\n",
        "\n",
        "# 5. Configurar el tooltip (informacion emergente al pasar el cursor)\n",
        "tooltip = folium.GeoJsonTooltip(\n",
        "    fields = [\"nombre_com\", \"cluster\"], # que atos se msotraran del GeoJSON\n",
        "    aliases=[\"Comuna:\", \"Cluster:\"]     # titulos personalizados\n",
        ")\n",
        "\n",
        "# 6. Agregar la capa GeoJson al mapa\n",
        "\n",
        "folium.GeoJson(\n",
        "    geojson_data,         # 📍 Datos en formato GeoJSON (diccionario o archivo)\n",
        "    name = \"Comunas de Bucaramanga\",  # 🏷️ Nombre de la capa (opcional)\n",
        "    style_function = style_function,  # 🎨 Función para personalizar estilos\n",
        "    tooltip = tooltip,  # ℹ️ Información emergente al pasar el cursor\n",
        "    popup = None,    # 📌 Información emergente al hacer clic\n",
        "    highlight_function = None,  # ✨ Efecto visual al pasar el cursor\n",
        ").add_to(mapa)  # Agregar la capa al mapa\n",
        "\n",
        "\n",
        "# 7. Agregar botón de pantalla completa\n",
        "Fullscreen(position=\"topright\").add_to(mapa)\n",
        "\n",
        "# Obtener los clusters únicos (ordenados)\n",
        "clusters = sorted(df_pivot_clusters_and_geo[\"cluster\"].unique())\n",
        "\n",
        "# Generar la leyenda de forma dinámica\n",
        "legend_html = \"\"\"\n",
        "<div style=\"\n",
        "    position: fixed;\n",
        "    top: 10px; right: 10px;\n",
        "    background-color: rgba(255, 255, 255, 0.8);\n",
        "    border: 2px solid grey;\n",
        "    z-index: 9999;\n",
        "    font-size: 14px;\n",
        "    padding: 10px;\">\n",
        "  <b>Clusters</b><br>\n",
        "\"\"\"\n",
        "\n",
        "# Recorrer cada cluster y agregar una línea a la leyenda\n",
        "for cluster in clusters:\n",
        "    color = palette.get(cluster, \"gray\")\n",
        "    legend_html += f'<i style=\"background: {color}; width: 12px; height: 12px; display: inline-block; margin-right: 8px;\"></i>Cluster {cluster}<br>'\n",
        "\n",
        "legend_html += \"</div>\"\n",
        "\n",
        "# Agregar la leyenda al mapa\n",
        "mapa.get_root().html.add_child(folium.Element(legend_html))\n",
        "\n",
        "# 9. Mostrar el mapa\n",
        "display(fig)\n"
      ]
    },
    {
      "cell_type": "markdown",
      "metadata": {
        "id": "Aegukvb9SD7M"
      },
      "source": [
        "----"
      ]
    }
  ],
  "metadata": {
    "colab": {
      "provenance": []
    },
    "kernelspec": {
      "display_name": "venv-app-crimes",
      "language": "python",
      "name": "python3"
    },
    "language_info": {
      "codemirror_mode": {
        "name": "ipython",
        "version": 3
      },
      "file_extension": ".py",
      "mimetype": "text/x-python",
      "name": "python",
      "nbconvert_exporter": "python",
      "pygments_lexer": "ipython3",
      "version": "3.13.1"
    }
  },
  "nbformat": 4,
  "nbformat_minor": 0
}
